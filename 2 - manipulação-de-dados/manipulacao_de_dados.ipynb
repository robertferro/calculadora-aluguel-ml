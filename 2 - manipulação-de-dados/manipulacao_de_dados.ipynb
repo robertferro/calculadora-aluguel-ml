{
 "cells": [
  {
   "cell_type": "markdown",
   "metadata": {},
   "source": [
    "# Tratando os dados."
   ]
  },
  {
   "cell_type": "code",
   "execution_count": 1,
   "metadata": {},
   "outputs": [],
   "source": [
    "#  Importando as bibliotecas\n",
    "import pandas as pd\n",
    "import numpy as np\n",
    "import re"
   ]
  },
  {
   "cell_type": "code",
   "execution_count": 2,
   "metadata": {},
   "outputs": [],
   "source": [
    "url = 'https://raw.githubusercontent.com/robertferro/calculadora-aluguel-ml/main/1%20-%20web-scraping/dados_aluguels_imoveis_ml_sao_paulo.csv'\n",
    "df = pd.read_csv(url ,thousands = '.', encoding = 'utf-8')"
   ]
  },
  {
   "cell_type": "code",
   "execution_count": 3,
   "metadata": {},
   "outputs": [
    {
     "data": {
      "text/plain": [
       "(1680, 4)"
      ]
     },
     "execution_count": 3,
     "metadata": {},
     "output_type": "execute_result"
    }
   ],
   "source": [
    "df.shape"
   ]
  },
  {
   "cell_type": "code",
   "execution_count": 4,
   "metadata": {},
   "outputs": [
    {
     "data": {
      "text/plain": [
       "['60 m² construídos2 quartos',\n",
       " '30 m² construídos1 quarto',\n",
       " '51 m² construídos2 quartos',\n",
       " '126 m² construídos3 quartos',\n",
       " '55 m² construídos1 quarto',\n",
       " '58 m² construídos2 quartos',\n",
       " '77 m² construídos3 quartos',\n",
       " '96 m² construídos2 quartos',\n",
       " '52 m² construídos2 quartos',\n",
       " '33 m² construídos1 quarto']"
      ]
     },
     "execution_count": 4,
     "metadata": {},
     "output_type": "execute_result"
    }
   ],
   "source": [
    "list(df.area_quartos)[0:10]"
   ]
  },
  {
   "cell_type": "code",
   "execution_count": 5,
   "metadata": {},
   "outputs": [
    {
     "data": {
      "text/html": [
       "<div>\n",
       "<style scoped>\n",
       "    .dataframe tbody tr th:only-of-type {\n",
       "        vertical-align: middle;\n",
       "    }\n",
       "\n",
       "    .dataframe tbody tr th {\n",
       "        vertical-align: top;\n",
       "    }\n",
       "\n",
       "    .dataframe thead th {\n",
       "        text-align: right;\n",
       "    }\n",
       "</style>\n",
       "<table border=\"1\" class=\"dataframe\">\n",
       "  <thead>\n",
       "    <tr style=\"text-align: right;\">\n",
       "      <th></th>\n",
       "      <th>zona</th>\n",
       "      <th>area_quartos</th>\n",
       "      <th>enderecos_lista</th>\n",
       "      <th>aluguel</th>\n",
       "    </tr>\n",
       "  </thead>\n",
       "  <tbody>\n",
       "    <tr>\n",
       "      <th>0</th>\n",
       "      <td>zona-norte</td>\n",
       "      <td>60 m² construídos2 quartos</td>\n",
       "      <td>Av Maestro Villa Lobos, Vila Gustavo, São Paul...</td>\n",
       "      <td>1600</td>\n",
       "    </tr>\n",
       "    <tr>\n",
       "      <th>1</th>\n",
       "      <td>zona-norte</td>\n",
       "      <td>30 m² construídos1 quarto</td>\n",
       "      <td>R Das Tâmaras, Vila Paulista, São Paulo Zona N...</td>\n",
       "      <td>900</td>\n",
       "    </tr>\n",
       "    <tr>\n",
       "      <th>2</th>\n",
       "      <td>zona-norte</td>\n",
       "      <td>51 m² construídos2 quartos</td>\n",
       "      <td>Rua José Timotheo Da Silva, Jardim Peri, São P...</td>\n",
       "      <td>950</td>\n",
       "    </tr>\n",
       "    <tr>\n",
       "      <th>3</th>\n",
       "      <td>zona-norte</td>\n",
       "      <td>126 m² construídos3 quartos</td>\n",
       "      <td>Rua Plinio Colás, Lauzane Paulista, São Paulo ...</td>\n",
       "      <td>2500</td>\n",
       "    </tr>\n",
       "    <tr>\n",
       "      <th>4</th>\n",
       "      <td>zona-norte</td>\n",
       "      <td>55 m² construídos1 quarto</td>\n",
       "      <td>Rua Doutor Gabriel Covelli, Parque Peruche, Sã...</td>\n",
       "      <td>900</td>\n",
       "    </tr>\n",
       "  </tbody>\n",
       "</table>\n",
       "</div>"
      ],
      "text/plain": [
       "         zona                 area_quartos  \\\n",
       "0  zona-norte   60 m² construídos2 quartos   \n",
       "1  zona-norte    30 m² construídos1 quarto   \n",
       "2  zona-norte   51 m² construídos2 quartos   \n",
       "3  zona-norte  126 m² construídos3 quartos   \n",
       "4  zona-norte    55 m² construídos1 quarto   \n",
       "\n",
       "                                     enderecos_lista  aluguel  \n",
       "0  Av Maestro Villa Lobos, Vila Gustavo, São Paul...     1600  \n",
       "1  R Das Tâmaras, Vila Paulista, São Paulo Zona N...      900  \n",
       "2  Rua José Timotheo Da Silva, Jardim Peri, São P...      950  \n",
       "3  Rua Plinio Colás, Lauzane Paulista, São Paulo ...     2500  \n",
       "4  Rua Doutor Gabriel Covelli, Parque Peruche, Sã...      900  "
      ]
     },
     "execution_count": 5,
     "metadata": {},
     "output_type": "execute_result"
    }
   ],
   "source": [
    "df.head()"
   ]
  },
  {
   "cell_type": "markdown",
   "metadata": {},
   "source": [
    "## Pegando a área dos quartos"
   ]
  },
  {
   "cell_type": "code",
   "execution_count": 6,
   "metadata": {},
   "outputs": [],
   "source": [
    "# Criei esse subset com algumas das situacoes que encontramos\n",
    "area_quartos_subset = ['1,360 m² totais',\n",
    "                       '2 quartos',\n",
    "                       '53 m² construídos2 quartos',\n",
    "                        '280 m² construídos',\n",
    "                        '2,600 m² construídos']"
   ]
  },
  {
   "cell_type": "code",
   "execution_count": 7,
   "metadata": {},
   "outputs": [],
   "source": [
    "entrada = '1,360 m² totais'"
   ]
  },
  {
   "cell_type": "code",
   "execution_count": 8,
   "metadata": {},
   "outputs": [],
   "source": [
    "def pegar_area(entrada):\n",
    "    if ' m²' in entrada:\n",
    "      area = entrada.split(' m²')[0]\n",
    "      area = area.replace(',', '')\n",
    "    else:\n",
    "      area = np.nan\n",
    "    return area"
   ]
  },
  {
   "cell_type": "code",
   "execution_count": 9,
   "metadata": {},
   "outputs": [],
   "source": [
    "df['area'] = df['area_quartos'].apply(pegar_area)"
   ]
  },
  {
   "cell_type": "code",
   "execution_count": 10,
   "metadata": {},
   "outputs": [
    {
     "data": {
      "text/html": [
       "<div>\n",
       "<style scoped>\n",
       "    .dataframe tbody tr th:only-of-type {\n",
       "        vertical-align: middle;\n",
       "    }\n",
       "\n",
       "    .dataframe tbody tr th {\n",
       "        vertical-align: top;\n",
       "    }\n",
       "\n",
       "    .dataframe thead th {\n",
       "        text-align: right;\n",
       "    }\n",
       "</style>\n",
       "<table border=\"1\" class=\"dataframe\">\n",
       "  <thead>\n",
       "    <tr style=\"text-align: right;\">\n",
       "      <th></th>\n",
       "      <th>zona</th>\n",
       "      <th>area_quartos</th>\n",
       "      <th>enderecos_lista</th>\n",
       "      <th>aluguel</th>\n",
       "      <th>area</th>\n",
       "    </tr>\n",
       "  </thead>\n",
       "  <tbody>\n",
       "    <tr>\n",
       "      <th>0</th>\n",
       "      <td>zona-norte</td>\n",
       "      <td>60 m² construídos2 quartos</td>\n",
       "      <td>Av Maestro Villa Lobos, Vila Gustavo, São Paul...</td>\n",
       "      <td>1600</td>\n",
       "      <td>60</td>\n",
       "    </tr>\n",
       "    <tr>\n",
       "      <th>1</th>\n",
       "      <td>zona-norte</td>\n",
       "      <td>30 m² construídos1 quarto</td>\n",
       "      <td>R Das Tâmaras, Vila Paulista, São Paulo Zona N...</td>\n",
       "      <td>900</td>\n",
       "      <td>30</td>\n",
       "    </tr>\n",
       "    <tr>\n",
       "      <th>2</th>\n",
       "      <td>zona-norte</td>\n",
       "      <td>51 m² construídos2 quartos</td>\n",
       "      <td>Rua José Timotheo Da Silva, Jardim Peri, São P...</td>\n",
       "      <td>950</td>\n",
       "      <td>51</td>\n",
       "    </tr>\n",
       "    <tr>\n",
       "      <th>3</th>\n",
       "      <td>zona-norte</td>\n",
       "      <td>126 m² construídos3 quartos</td>\n",
       "      <td>Rua Plinio Colás, Lauzane Paulista, São Paulo ...</td>\n",
       "      <td>2500</td>\n",
       "      <td>126</td>\n",
       "    </tr>\n",
       "    <tr>\n",
       "      <th>4</th>\n",
       "      <td>zona-norte</td>\n",
       "      <td>55 m² construídos1 quarto</td>\n",
       "      <td>Rua Doutor Gabriel Covelli, Parque Peruche, Sã...</td>\n",
       "      <td>900</td>\n",
       "      <td>55</td>\n",
       "    </tr>\n",
       "  </tbody>\n",
       "</table>\n",
       "</div>"
      ],
      "text/plain": [
       "         zona                 area_quartos  \\\n",
       "0  zona-norte   60 m² construídos2 quartos   \n",
       "1  zona-norte    30 m² construídos1 quarto   \n",
       "2  zona-norte   51 m² construídos2 quartos   \n",
       "3  zona-norte  126 m² construídos3 quartos   \n",
       "4  zona-norte    55 m² construídos1 quarto   \n",
       "\n",
       "                                     enderecos_lista  aluguel area  \n",
       "0  Av Maestro Villa Lobos, Vila Gustavo, São Paul...     1600   60  \n",
       "1  R Das Tâmaras, Vila Paulista, São Paulo Zona N...      900   30  \n",
       "2  Rua José Timotheo Da Silva, Jardim Peri, São P...      950   51  \n",
       "3  Rua Plinio Colás, Lauzane Paulista, São Paulo ...     2500  126  \n",
       "4  Rua Doutor Gabriel Covelli, Parque Peruche, Sã...      900   55  "
      ]
     },
     "execution_count": 10,
     "metadata": {},
     "output_type": "execute_result"
    }
   ],
   "source": [
    "df.head()"
   ]
  },
  {
   "cell_type": "markdown",
   "metadata": {},
   "source": [
    "## Pegando a quantidade de quartos"
   ]
  },
  {
   "cell_type": "code",
   "execution_count": 11,
   "metadata": {},
   "outputs": [],
   "source": [
    "entrada = '2 quartos'"
   ]
  },
  {
   "cell_type": "code",
   "execution_count": 12,
   "metadata": {},
   "outputs": [
    {
     "data": {
      "text/plain": [
       "'2'"
      ]
     },
     "execution_count": 12,
     "metadata": {},
     "output_type": "execute_result"
    }
   ],
   "source": [
    "re.findall('(.?) quarto', entrada)[0]"
   ]
  },
  {
   "cell_type": "code",
   "execution_count": 13,
   "metadata": {},
   "outputs": [],
   "source": [
    "area_quartos_subset = ['1,360 m² totais',\n",
    "                       '2 quartos',\n",
    "                       '53 m² construídos2 quartos',\n",
    "                        '280 m² construídos',\n",
    "                        '2,600 m² construídos']"
   ]
  },
  {
   "cell_type": "code",
   "execution_count": 14,
   "metadata": {},
   "outputs": [],
   "source": [
    "def extrair_quartos(entrada):\n",
    "    if 'quarto' in entrada:\n",
    "        n_quartos = re.findall('(\\d*) quarto', entrada)[0]\n",
    "    else:\n",
    "        n_quartos = np.nan\n",
    "    return n_quartos"
   ]
  },
  {
   "cell_type": "code",
   "execution_count": 15,
   "metadata": {},
   "outputs": [],
   "source": [
    "area_quartos_subset = ['1,360 m² totais',\n",
    "                       '2 quartos',\n",
    "                       '53 m² construídos2 quartos',\n",
    "                        '280 m² construídos',\n",
    "                        '2,600 m² construídos']"
   ]
  },
  {
   "cell_type": "code",
   "execution_count": 16,
   "metadata": {},
   "outputs": [
    {
     "name": "stdout",
     "output_type": "stream",
     "text": [
      "nan\n",
      "2\n",
      "2\n",
      "nan\n",
      "nan\n"
     ]
    }
   ],
   "source": [
    "for aq in area_quartos_subset:\n",
    "  print(extrair_quartos(aq))"
   ]
  },
  {
   "cell_type": "code",
   "execution_count": 17,
   "metadata": {},
   "outputs": [],
   "source": [
    "df['quartos'] = df['area_quartos'].apply(extrair_quartos)"
   ]
  },
  {
   "cell_type": "code",
   "execution_count": 18,
   "metadata": {},
   "outputs": [
    {
     "data": {
      "text/html": [
       "<div>\n",
       "<style scoped>\n",
       "    .dataframe tbody tr th:only-of-type {\n",
       "        vertical-align: middle;\n",
       "    }\n",
       "\n",
       "    .dataframe tbody tr th {\n",
       "        vertical-align: top;\n",
       "    }\n",
       "\n",
       "    .dataframe thead th {\n",
       "        text-align: right;\n",
       "    }\n",
       "</style>\n",
       "<table border=\"1\" class=\"dataframe\">\n",
       "  <thead>\n",
       "    <tr style=\"text-align: right;\">\n",
       "      <th></th>\n",
       "      <th>zona</th>\n",
       "      <th>area_quartos</th>\n",
       "      <th>enderecos_lista</th>\n",
       "      <th>aluguel</th>\n",
       "      <th>area</th>\n",
       "      <th>quartos</th>\n",
       "    </tr>\n",
       "  </thead>\n",
       "  <tbody>\n",
       "    <tr>\n",
       "      <th>0</th>\n",
       "      <td>zona-norte</td>\n",
       "      <td>60 m² construídos2 quartos</td>\n",
       "      <td>Av Maestro Villa Lobos, Vila Gustavo, São Paul...</td>\n",
       "      <td>1600</td>\n",
       "      <td>60</td>\n",
       "      <td>2</td>\n",
       "    </tr>\n",
       "    <tr>\n",
       "      <th>1</th>\n",
       "      <td>zona-norte</td>\n",
       "      <td>30 m² construídos1 quarto</td>\n",
       "      <td>R Das Tâmaras, Vila Paulista, São Paulo Zona N...</td>\n",
       "      <td>900</td>\n",
       "      <td>30</td>\n",
       "      <td>1</td>\n",
       "    </tr>\n",
       "    <tr>\n",
       "      <th>2</th>\n",
       "      <td>zona-norte</td>\n",
       "      <td>51 m² construídos2 quartos</td>\n",
       "      <td>Rua José Timotheo Da Silva, Jardim Peri, São P...</td>\n",
       "      <td>950</td>\n",
       "      <td>51</td>\n",
       "      <td>2</td>\n",
       "    </tr>\n",
       "    <tr>\n",
       "      <th>3</th>\n",
       "      <td>zona-norte</td>\n",
       "      <td>126 m² construídos3 quartos</td>\n",
       "      <td>Rua Plinio Colás, Lauzane Paulista, São Paulo ...</td>\n",
       "      <td>2500</td>\n",
       "      <td>126</td>\n",
       "      <td>3</td>\n",
       "    </tr>\n",
       "    <tr>\n",
       "      <th>4</th>\n",
       "      <td>zona-norte</td>\n",
       "      <td>55 m² construídos1 quarto</td>\n",
       "      <td>Rua Doutor Gabriel Covelli, Parque Peruche, Sã...</td>\n",
       "      <td>900</td>\n",
       "      <td>55</td>\n",
       "      <td>1</td>\n",
       "    </tr>\n",
       "  </tbody>\n",
       "</table>\n",
       "</div>"
      ],
      "text/plain": [
       "         zona                 area_quartos  \\\n",
       "0  zona-norte   60 m² construídos2 quartos   \n",
       "1  zona-norte    30 m² construídos1 quarto   \n",
       "2  zona-norte   51 m² construídos2 quartos   \n",
       "3  zona-norte  126 m² construídos3 quartos   \n",
       "4  zona-norte    55 m² construídos1 quarto   \n",
       "\n",
       "                                     enderecos_lista  aluguel area quartos  \n",
       "0  Av Maestro Villa Lobos, Vila Gustavo, São Paul...     1600   60       2  \n",
       "1  R Das Tâmaras, Vila Paulista, São Paulo Zona N...      900   30       1  \n",
       "2  Rua José Timotheo Da Silva, Jardim Peri, São P...      950   51       2  \n",
       "3  Rua Plinio Colás, Lauzane Paulista, São Paulo ...     2500  126       3  \n",
       "4  Rua Doutor Gabriel Covelli, Parque Peruche, Sã...      900   55       1  "
      ]
     },
     "execution_count": 18,
     "metadata": {},
     "output_type": "execute_result"
    }
   ],
   "source": [
    "df.head()"
   ]
  },
  {
   "cell_type": "code",
   "execution_count": 19,
   "metadata": {},
   "outputs": [],
   "source": [
    "df = df.drop('area_quartos', axis = 1)"
   ]
  },
  {
   "cell_type": "code",
   "execution_count": 20,
   "metadata": {},
   "outputs": [
    {
     "data": {
      "text/html": [
       "<div>\n",
       "<style scoped>\n",
       "    .dataframe tbody tr th:only-of-type {\n",
       "        vertical-align: middle;\n",
       "    }\n",
       "\n",
       "    .dataframe tbody tr th {\n",
       "        vertical-align: top;\n",
       "    }\n",
       "\n",
       "    .dataframe thead th {\n",
       "        text-align: right;\n",
       "    }\n",
       "</style>\n",
       "<table border=\"1\" class=\"dataframe\">\n",
       "  <thead>\n",
       "    <tr style=\"text-align: right;\">\n",
       "      <th></th>\n",
       "      <th>zona</th>\n",
       "      <th>enderecos_lista</th>\n",
       "      <th>aluguel</th>\n",
       "      <th>area</th>\n",
       "      <th>quartos</th>\n",
       "    </tr>\n",
       "  </thead>\n",
       "  <tbody>\n",
       "    <tr>\n",
       "      <th>0</th>\n",
       "      <td>zona-norte</td>\n",
       "      <td>Av Maestro Villa Lobos, Vila Gustavo, São Paul...</td>\n",
       "      <td>1600</td>\n",
       "      <td>60</td>\n",
       "      <td>2</td>\n",
       "    </tr>\n",
       "    <tr>\n",
       "      <th>1</th>\n",
       "      <td>zona-norte</td>\n",
       "      <td>R Das Tâmaras, Vila Paulista, São Paulo Zona N...</td>\n",
       "      <td>900</td>\n",
       "      <td>30</td>\n",
       "      <td>1</td>\n",
       "    </tr>\n",
       "    <tr>\n",
       "      <th>2</th>\n",
       "      <td>zona-norte</td>\n",
       "      <td>Rua José Timotheo Da Silva, Jardim Peri, São P...</td>\n",
       "      <td>950</td>\n",
       "      <td>51</td>\n",
       "      <td>2</td>\n",
       "    </tr>\n",
       "    <tr>\n",
       "      <th>3</th>\n",
       "      <td>zona-norte</td>\n",
       "      <td>Rua Plinio Colás, Lauzane Paulista, São Paulo ...</td>\n",
       "      <td>2500</td>\n",
       "      <td>126</td>\n",
       "      <td>3</td>\n",
       "    </tr>\n",
       "    <tr>\n",
       "      <th>4</th>\n",
       "      <td>zona-norte</td>\n",
       "      <td>Rua Doutor Gabriel Covelli, Parque Peruche, Sã...</td>\n",
       "      <td>900</td>\n",
       "      <td>55</td>\n",
       "      <td>1</td>\n",
       "    </tr>\n",
       "  </tbody>\n",
       "</table>\n",
       "</div>"
      ],
      "text/plain": [
       "         zona                                    enderecos_lista  aluguel  \\\n",
       "0  zona-norte  Av Maestro Villa Lobos, Vila Gustavo, São Paul...     1600   \n",
       "1  zona-norte  R Das Tâmaras, Vila Paulista, São Paulo Zona N...      900   \n",
       "2  zona-norte  Rua José Timotheo Da Silva, Jardim Peri, São P...      950   \n",
       "3  zona-norte  Rua Plinio Colás, Lauzane Paulista, São Paulo ...     2500   \n",
       "4  zona-norte  Rua Doutor Gabriel Covelli, Parque Peruche, Sã...      900   \n",
       "\n",
       "  area quartos  \n",
       "0   60       2  \n",
       "1   30       1  \n",
       "2   51       2  \n",
       "3  126       3  \n",
       "4   55       1  "
      ]
     },
     "execution_count": 20,
     "metadata": {},
     "output_type": "execute_result"
    }
   ],
   "source": [
    "df.head()"
   ]
  },
  {
   "cell_type": "code",
   "execution_count": 21,
   "metadata": {},
   "outputs": [
    {
     "data": {
      "text/plain": [
       "(1680, 5)"
      ]
     },
     "execution_count": 21,
     "metadata": {},
     "output_type": "execute_result"
    }
   ],
   "source": [
    "df.shape"
   ]
  },
  {
   "cell_type": "markdown",
   "metadata": {},
   "source": [
    "## Pegando a rua"
   ]
  },
  {
   "cell_type": "code",
   "execution_count": 22,
   "metadata": {},
   "outputs": [],
   "source": [
    "dados = df.copy()"
   ]
  },
  {
   "cell_type": "code",
   "execution_count": 23,
   "metadata": {},
   "outputs": [
    {
     "data": {
      "text/html": [
       "<div>\n",
       "<style scoped>\n",
       "    .dataframe tbody tr th:only-of-type {\n",
       "        vertical-align: middle;\n",
       "    }\n",
       "\n",
       "    .dataframe tbody tr th {\n",
       "        vertical-align: top;\n",
       "    }\n",
       "\n",
       "    .dataframe thead th {\n",
       "        text-align: right;\n",
       "    }\n",
       "</style>\n",
       "<table border=\"1\" class=\"dataframe\">\n",
       "  <thead>\n",
       "    <tr style=\"text-align: right;\">\n",
       "      <th></th>\n",
       "      <th>0</th>\n",
       "      <th>1</th>\n",
       "      <th>2</th>\n",
       "    </tr>\n",
       "  </thead>\n",
       "  <tbody>\n",
       "    <tr>\n",
       "      <th>0</th>\n",
       "      <td>Av Maestro Villa Lobos</td>\n",
       "      <td>Vila Gustavo</td>\n",
       "      <td>São Paulo Zona Norte, São Paulo</td>\n",
       "    </tr>\n",
       "    <tr>\n",
       "      <th>1</th>\n",
       "      <td>R Das Tâmaras</td>\n",
       "      <td>Vila Paulista</td>\n",
       "      <td>São Paulo Zona Norte, São Paulo</td>\n",
       "    </tr>\n",
       "    <tr>\n",
       "      <th>2</th>\n",
       "      <td>Rua José Timotheo Da Silva</td>\n",
       "      <td>Jardim Peri</td>\n",
       "      <td>São Paulo Zona Norte, São Paulo</td>\n",
       "    </tr>\n",
       "    <tr>\n",
       "      <th>3</th>\n",
       "      <td>Rua Plinio Colás</td>\n",
       "      <td>Lauzane Paulista</td>\n",
       "      <td>São Paulo Zona Norte, São Paulo</td>\n",
       "    </tr>\n",
       "    <tr>\n",
       "      <th>4</th>\n",
       "      <td>Rua Doutor Gabriel Covelli</td>\n",
       "      <td>Parque Peruche</td>\n",
       "      <td>São Paulo Zona Norte, São Paulo</td>\n",
       "    </tr>\n",
       "    <tr>\n",
       "      <th>...</th>\n",
       "      <td>...</td>\n",
       "      <td>...</td>\n",
       "      <td>...</td>\n",
       "    </tr>\n",
       "    <tr>\n",
       "      <th>1675</th>\n",
       "      <td>Rua Frei Caneca</td>\n",
       "      <td>Consolação</td>\n",
       "      <td>São Paulo Centro, São Paulo</td>\n",
       "    </tr>\n",
       "    <tr>\n",
       "      <th>1676</th>\n",
       "      <td>Rua Da Consolação</td>\n",
       "      <td>Cerqueira César</td>\n",
       "      <td>São Paulo Centro, São Paulo</td>\n",
       "    </tr>\n",
       "    <tr>\n",
       "      <th>1677</th>\n",
       "      <td>Rua Jaguaribe</td>\n",
       "      <td>Vila Buarque</td>\n",
       "      <td>São Paulo Centro, São Paulo</td>\n",
       "    </tr>\n",
       "    <tr>\n",
       "      <th>1678</th>\n",
       "      <td>Avenida São João</td>\n",
       "      <td>Santa Cecília</td>\n",
       "      <td>São Paulo Centro, São Paulo</td>\n",
       "    </tr>\n",
       "    <tr>\n",
       "      <th>1679</th>\n",
       "      <td>Rua Adolfo Gordo</td>\n",
       "      <td>Campos Elíseos</td>\n",
       "      <td>São Paulo Centro, São Paulo</td>\n",
       "    </tr>\n",
       "  </tbody>\n",
       "</table>\n",
       "<p>1680 rows × 3 columns</p>\n",
       "</div>"
      ],
      "text/plain": [
       "                               0                  1  \\\n",
       "0         Av Maestro Villa Lobos       Vila Gustavo   \n",
       "1                  R Das Tâmaras      Vila Paulista   \n",
       "2     Rua José Timotheo Da Silva        Jardim Peri   \n",
       "3               Rua Plinio Colás   Lauzane Paulista   \n",
       "4     Rua Doutor Gabriel Covelli     Parque Peruche   \n",
       "...                          ...                ...   \n",
       "1675             Rua Frei Caneca         Consolação   \n",
       "1676           Rua Da Consolação    Cerqueira César   \n",
       "1677               Rua Jaguaribe       Vila Buarque   \n",
       "1678            Avenida São João      Santa Cecília   \n",
       "1679            Rua Adolfo Gordo     Campos Elíseos   \n",
       "\n",
       "                                     2  \n",
       "0      São Paulo Zona Norte, São Paulo  \n",
       "1      São Paulo Zona Norte, São Paulo  \n",
       "2      São Paulo Zona Norte, São Paulo  \n",
       "3      São Paulo Zona Norte, São Paulo  \n",
       "4      São Paulo Zona Norte, São Paulo  \n",
       "...                                ...  \n",
       "1675       São Paulo Centro, São Paulo  \n",
       "1676       São Paulo Centro, São Paulo  \n",
       "1677       São Paulo Centro, São Paulo  \n",
       "1678       São Paulo Centro, São Paulo  \n",
       "1679       São Paulo Centro, São Paulo  \n",
       "\n",
       "[1680 rows x 3 columns]"
      ]
     },
     "execution_count": 23,
     "metadata": {},
     "output_type": "execute_result"
    }
   ],
   "source": [
    "informacoes = dados['enderecos_lista'].str.split(\",\", n = 2, expand = True)\n",
    "informacoes"
   ]
  },
  {
   "cell_type": "code",
   "execution_count": 24,
   "metadata": {},
   "outputs": [
    {
     "data": {
      "text/html": [
       "<div>\n",
       "<style scoped>\n",
       "    .dataframe tbody tr th:only-of-type {\n",
       "        vertical-align: middle;\n",
       "    }\n",
       "\n",
       "    .dataframe tbody tr th {\n",
       "        vertical-align: top;\n",
       "    }\n",
       "\n",
       "    .dataframe thead th {\n",
       "        text-align: right;\n",
       "    }\n",
       "</style>\n",
       "<table border=\"1\" class=\"dataframe\">\n",
       "  <thead>\n",
       "    <tr style=\"text-align: right;\">\n",
       "      <th></th>\n",
       "      <th>zona</th>\n",
       "      <th>enderecos_lista</th>\n",
       "      <th>aluguel</th>\n",
       "      <th>area</th>\n",
       "      <th>quartos</th>\n",
       "      <th>rua_av</th>\n",
       "      <th>bairro</th>\n",
       "    </tr>\n",
       "  </thead>\n",
       "  <tbody>\n",
       "    <tr>\n",
       "      <th>0</th>\n",
       "      <td>zona-norte</td>\n",
       "      <td>Av Maestro Villa Lobos, Vila Gustavo, São Paul...</td>\n",
       "      <td>1600</td>\n",
       "      <td>60</td>\n",
       "      <td>2</td>\n",
       "      <td>Av Maestro Villa Lobos</td>\n",
       "      <td>Vila Gustavo</td>\n",
       "    </tr>\n",
       "    <tr>\n",
       "      <th>1</th>\n",
       "      <td>zona-norte</td>\n",
       "      <td>R Das Tâmaras, Vila Paulista, São Paulo Zona N...</td>\n",
       "      <td>900</td>\n",
       "      <td>30</td>\n",
       "      <td>1</td>\n",
       "      <td>R Das Tâmaras</td>\n",
       "      <td>Vila Paulista</td>\n",
       "    </tr>\n",
       "    <tr>\n",
       "      <th>2</th>\n",
       "      <td>zona-norte</td>\n",
       "      <td>Rua José Timotheo Da Silva, Jardim Peri, São P...</td>\n",
       "      <td>950</td>\n",
       "      <td>51</td>\n",
       "      <td>2</td>\n",
       "      <td>Rua José Timotheo Da Silva</td>\n",
       "      <td>Jardim Peri</td>\n",
       "    </tr>\n",
       "    <tr>\n",
       "      <th>3</th>\n",
       "      <td>zona-norte</td>\n",
       "      <td>Rua Plinio Colás, Lauzane Paulista, São Paulo ...</td>\n",
       "      <td>2500</td>\n",
       "      <td>126</td>\n",
       "      <td>3</td>\n",
       "      <td>Rua Plinio Colás</td>\n",
       "      <td>Lauzane Paulista</td>\n",
       "    </tr>\n",
       "    <tr>\n",
       "      <th>4</th>\n",
       "      <td>zona-norte</td>\n",
       "      <td>Rua Doutor Gabriel Covelli, Parque Peruche, Sã...</td>\n",
       "      <td>900</td>\n",
       "      <td>55</td>\n",
       "      <td>1</td>\n",
       "      <td>Rua Doutor Gabriel Covelli</td>\n",
       "      <td>Parque Peruche</td>\n",
       "    </tr>\n",
       "  </tbody>\n",
       "</table>\n",
       "</div>"
      ],
      "text/plain": [
       "         zona                                    enderecos_lista  aluguel  \\\n",
       "0  zona-norte  Av Maestro Villa Lobos, Vila Gustavo, São Paul...     1600   \n",
       "1  zona-norte  R Das Tâmaras, Vila Paulista, São Paulo Zona N...      900   \n",
       "2  zona-norte  Rua José Timotheo Da Silva, Jardim Peri, São P...      950   \n",
       "3  zona-norte  Rua Plinio Colás, Lauzane Paulista, São Paulo ...     2500   \n",
       "4  zona-norte  Rua Doutor Gabriel Covelli, Parque Peruche, Sã...      900   \n",
       "\n",
       "  area quartos                      rua_av             bairro  \n",
       "0   60       2      Av Maestro Villa Lobos       Vila Gustavo  \n",
       "1   30       1               R Das Tâmaras      Vila Paulista  \n",
       "2   51       2  Rua José Timotheo Da Silva        Jardim Peri  \n",
       "3  126       3            Rua Plinio Colás   Lauzane Paulista  \n",
       "4   55       1  Rua Doutor Gabriel Covelli     Parque Peruche  "
      ]
     },
     "execution_count": 24,
     "metadata": {},
     "output_type": "execute_result"
    }
   ],
   "source": [
    "dados['rua_av'] = informacoes[0]\n",
    "dados['bairro'] = informacoes[1]\n",
    "dados.head()"
   ]
  },
  {
   "cell_type": "markdown",
   "metadata": {},
   "source": [
    " - Criando a coluna rua ou avenida"
   ]
  },
  {
   "cell_type": "code",
   "execution_count": 25,
   "metadata": {},
   "outputs": [],
   "source": [
    "rua_avenida = dados['rua_av'].str.split(' ', n=1 , expand=True)"
   ]
  },
  {
   "cell_type": "code",
   "execution_count": 26,
   "metadata": {},
   "outputs": [
    {
     "data": {
      "text/plain": [
       "Rua            1337\n",
       "Avenida         239\n",
       "Alameda          31\n",
       "Praça            14\n",
       "Largo             8\n",
       "Av.               6\n",
       "Travessa          4\n",
       "R.                3\n",
       "R                 3\n",
       "Av                2\n",
       "Viaduto           2\n",
       "Conceição         1\n",
       "Super             1\n",
       "Tatuapé           1\n",
       "Ataliba           1\n",
       "Rodovia           1\n",
       "Artur             1\n",
       "Lucerna           1\n",
       "Epaminondas       1\n",
       "Capitão           1\n",
       "Sebastião         1\n",
       "Enrico            1\n",
       "Estrada           1\n",
       "Parada            1\n",
       "Antônio           1\n",
       "Vila              1\n",
       "Guaicurus         1\n",
       "Nicolina          1\n",
       "Fazenda           1\n",
       "Pinheiros         1\n",
       "Sylvio            1\n",
       "Cardoso           1\n",
       "Soldado           1\n",
       "Voluntários       1\n",
       "Alto              1\n",
       "Oliveira          1\n",
       "Jorge             1\n",
       "Pç                1\n",
       "Willy             1\n",
       "Água              1\n",
       "Brandão           1\n",
       "Narita            1\n",
       "Name: 0, dtype: int64"
      ]
     },
     "execution_count": 26,
     "metadata": {},
     "output_type": "execute_result"
    }
   ],
   "source": [
    "rua_avenida[0].value_counts()"
   ]
  },
  {
   "cell_type": "code",
   "execution_count": 27,
   "metadata": {},
   "outputs": [],
   "source": [
    "dados['rua_av'] = rua_avenida[0]\n",
    "dados['nome'] = rua_avenida[1]"
   ]
  },
  {
   "cell_type": "code",
   "execution_count": 28,
   "metadata": {},
   "outputs": [
    {
     "data": {
      "text/plain": [
       "Rua            1337\n",
       "Avenida         239\n",
       "Alameda          31\n",
       "Praça            14\n",
       "Largo             8\n",
       "Av.               6\n",
       "Travessa          4\n",
       "R.                3\n",
       "R                 3\n",
       "Av                2\n",
       "Viaduto           2\n",
       "Conceição         1\n",
       "Super             1\n",
       "Tatuapé           1\n",
       "Ataliba           1\n",
       "Rodovia           1\n",
       "Artur             1\n",
       "Lucerna           1\n",
       "Epaminondas       1\n",
       "Capitão           1\n",
       "Sebastião         1\n",
       "Enrico            1\n",
       "Estrada           1\n",
       "Parada            1\n",
       "Antônio           1\n",
       "Vila              1\n",
       "Guaicurus         1\n",
       "Nicolina          1\n",
       "Fazenda           1\n",
       "Pinheiros         1\n",
       "Sylvio            1\n",
       "Cardoso           1\n",
       "Soldado           1\n",
       "Voluntários       1\n",
       "Alto              1\n",
       "Oliveira          1\n",
       "Jorge             1\n",
       "Pç                1\n",
       "Willy             1\n",
       "Água              1\n",
       "Brandão           1\n",
       "Narita            1\n",
       "Name: rua_av, dtype: int64"
      ]
     },
     "execution_count": 28,
     "metadata": {},
     "output_type": "execute_result"
    }
   ],
   "source": [
    "dados.rua_av.value_counts()"
   ]
  },
  {
   "cell_type": "markdown",
   "metadata": {},
   "source": [
    "Excluindo dados inconsistentes referentes a coluna rua_av."
   ]
  },
  {
   "cell_type": "code",
   "execution_count": 29,
   "metadata": {},
   "outputs": [
    {
     "data": {
      "text/plain": [
       "Rua         1337\n",
       "Avenida      239\n",
       "Alameda       31\n",
       "Praça         14\n",
       "Largo          8\n",
       "Av.            6\n",
       "Travessa       4\n",
       "R.             3\n",
       "R              3\n",
       "Av             2\n",
       "Viaduto        2\n",
       "Name: rua_av, dtype: int64"
      ]
     },
     "execution_count": 29,
     "metadata": {},
     "output_type": "execute_result"
    }
   ],
   "source": [
    "dados.rua_av.value_counts().head(11)"
   ]
  },
  {
   "cell_type": "code",
   "execution_count": 30,
   "metadata": {},
   "outputs": [],
   "source": [
    "dic = dict(dados.rua_av.value_counts().head(11))"
   ]
  },
  {
   "cell_type": "code",
   "execution_count": 31,
   "metadata": {},
   "outputs": [],
   "source": [
    "selecao_lista = list(dic.keys())"
   ]
  },
  {
   "cell_type": "code",
   "execution_count": 32,
   "metadata": {},
   "outputs": [],
   "source": [
    "dados = dados.set_index('rua_av')\n",
    "dados = dados.loc[selecao_lista]\n",
    "dados = dados.reset_index()"
   ]
  },
  {
   "cell_type": "code",
   "execution_count": 33,
   "metadata": {},
   "outputs": [
    {
     "data": {
      "text/plain": [
       "Rua         1337\n",
       "Avenida      239\n",
       "Alameda       31\n",
       "Praça         14\n",
       "Largo          8\n",
       "Av.            6\n",
       "Travessa       4\n",
       "R.             3\n",
       "R              3\n",
       "Viaduto        2\n",
       "Av             2\n",
       "Name: rua_av, dtype: int64"
      ]
     },
     "execution_count": 33,
     "metadata": {},
     "output_type": "execute_result"
    }
   ],
   "source": [
    "dados.rua_av.value_counts()"
   ]
  },
  {
   "cell_type": "code",
   "execution_count": 34,
   "metadata": {},
   "outputs": [],
   "source": [
    "dados = dados.query('rua_av != \"Largo\"')"
   ]
  },
  {
   "cell_type": "code",
   "execution_count": 35,
   "metadata": {},
   "outputs": [
    {
     "data": {
      "text/plain": [
       "Rua         1337\n",
       "Avenida      239\n",
       "Alameda       31\n",
       "Praça         14\n",
       "Av.            6\n",
       "Travessa       4\n",
       "R.             3\n",
       "R              3\n",
       "Viaduto        2\n",
       "Av             2\n",
       "Name: rua_av, dtype: int64"
      ]
     },
     "execution_count": 35,
     "metadata": {},
     "output_type": "execute_result"
    }
   ],
   "source": [
    "dados.rua_av.value_counts()"
   ]
  },
  {
   "cell_type": "code",
   "execution_count": 36,
   "metadata": {},
   "outputs": [],
   "source": [
    "dic_logradouro = {'Rua' : 'rua', 'Avenida':'avenida', 'Alameda': 'alameda',\n",
    "                 'Praça': 'praca', 'Av.':'avenida','Av':'avenida',\n",
    "                  'R.':'rua','R':'rua', 'Travessa':'travessa'}"
   ]
  },
  {
   "cell_type": "code",
   "execution_count": 37,
   "metadata": {},
   "outputs": [],
   "source": [
    "dados['rua_av'] = dados['rua_av'].map(dic_logradouro)"
   ]
  },
  {
   "cell_type": "code",
   "execution_count": 38,
   "metadata": {},
   "outputs": [
    {
     "data": {
      "text/plain": [
       "rua         1343\n",
       "avenida      247\n",
       "alameda       31\n",
       "praca         14\n",
       "travessa       4\n",
       "Name: rua_av, dtype: int64"
      ]
     },
     "execution_count": 38,
     "metadata": {},
     "output_type": "execute_result"
    }
   ],
   "source": [
    "dados.rua_av.value_counts()"
   ]
  },
  {
   "cell_type": "markdown",
   "metadata": {},
   "source": [
    " - Renomeando colunas e reordenando."
   ]
  },
  {
   "cell_type": "code",
   "execution_count": 39,
   "metadata": {},
   "outputs": [
    {
     "data": {
      "text/plain": [
       "Index(['rua_av', 'zona', 'enderecos_lista', 'aluguel', 'area', 'quartos',\n",
       "       'bairro', 'nome'],\n",
       "      dtype='object')"
      ]
     },
     "execution_count": 39,
     "metadata": {},
     "output_type": "execute_result"
    }
   ],
   "source": [
    "dados.columns"
   ]
  },
  {
   "cell_type": "code",
   "execution_count": 40,
   "metadata": {},
   "outputs": [],
   "source": [
    "dados.columns=['logradouro', 'zona', 'enderecos_lista', 'aluguel', 'area', 'quartos',\n",
    "       'bairro', 'nome_logradouro']"
   ]
  },
  {
   "cell_type": "code",
   "execution_count": 41,
   "metadata": {},
   "outputs": [],
   "source": [
    "dados = dados[['logradouro','nome_logradouro','bairro','zona', 'enderecos_lista', 'area', 'quartos','aluguel']]"
   ]
  },
  {
   "cell_type": "code",
   "execution_count": 42,
   "metadata": {},
   "outputs": [],
   "source": [
    "dados = dados.drop('enderecos_lista', axis=1)"
   ]
  },
  {
   "cell_type": "code",
   "execution_count": 43,
   "metadata": {},
   "outputs": [
    {
     "data": {
      "text/html": [
       "<div>\n",
       "<style scoped>\n",
       "    .dataframe tbody tr th:only-of-type {\n",
       "        vertical-align: middle;\n",
       "    }\n",
       "\n",
       "    .dataframe tbody tr th {\n",
       "        vertical-align: top;\n",
       "    }\n",
       "\n",
       "    .dataframe thead th {\n",
       "        text-align: right;\n",
       "    }\n",
       "</style>\n",
       "<table border=\"1\" class=\"dataframe\">\n",
       "  <thead>\n",
       "    <tr style=\"text-align: right;\">\n",
       "      <th></th>\n",
       "      <th>logradouro</th>\n",
       "      <th>nome_logradouro</th>\n",
       "      <th>bairro</th>\n",
       "      <th>zona</th>\n",
       "      <th>area</th>\n",
       "      <th>quartos</th>\n",
       "      <th>aluguel</th>\n",
       "    </tr>\n",
       "  </thead>\n",
       "  <tbody>\n",
       "    <tr>\n",
       "      <th>0</th>\n",
       "      <td>rua</td>\n",
       "      <td>José Timotheo Da Silva</td>\n",
       "      <td>Jardim Peri</td>\n",
       "      <td>zona-norte</td>\n",
       "      <td>51</td>\n",
       "      <td>2</td>\n",
       "      <td>950</td>\n",
       "    </tr>\n",
       "    <tr>\n",
       "      <th>1</th>\n",
       "      <td>rua</td>\n",
       "      <td>Plinio Colás</td>\n",
       "      <td>Lauzane Paulista</td>\n",
       "      <td>zona-norte</td>\n",
       "      <td>126</td>\n",
       "      <td>3</td>\n",
       "      <td>2500</td>\n",
       "    </tr>\n",
       "    <tr>\n",
       "      <th>2</th>\n",
       "      <td>rua</td>\n",
       "      <td>Doutor Gabriel Covelli</td>\n",
       "      <td>Parque Peruche</td>\n",
       "      <td>zona-norte</td>\n",
       "      <td>55</td>\n",
       "      <td>1</td>\n",
       "      <td>900</td>\n",
       "    </tr>\n",
       "    <tr>\n",
       "      <th>3</th>\n",
       "      <td>rua</td>\n",
       "      <td>Dos Camarés  150</td>\n",
       "      <td>Carandiru</td>\n",
       "      <td>zona-norte</td>\n",
       "      <td>58</td>\n",
       "      <td>2</td>\n",
       "      <td>1490</td>\n",
       "    </tr>\n",
       "    <tr>\n",
       "      <th>4</th>\n",
       "      <td>rua</td>\n",
       "      <td>Francisco Da Lira</td>\n",
       "      <td>Jardim Leonor Mendes De Barros</td>\n",
       "      <td>zona-norte</td>\n",
       "      <td>96</td>\n",
       "      <td>2</td>\n",
       "      <td>1211</td>\n",
       "    </tr>\n",
       "  </tbody>\n",
       "</table>\n",
       "</div>"
      ],
      "text/plain": [
       "  logradouro         nome_logradouro                           bairro  \\\n",
       "0        rua  José Timotheo Da Silva                      Jardim Peri   \n",
       "1        rua            Plinio Colás                 Lauzane Paulista   \n",
       "2        rua  Doutor Gabriel Covelli                   Parque Peruche   \n",
       "3        rua        Dos Camarés  150                        Carandiru   \n",
       "4        rua       Francisco Da Lira   Jardim Leonor Mendes De Barros   \n",
       "\n",
       "         zona area quartos  aluguel  \n",
       "0  zona-norte   51       2      950  \n",
       "1  zona-norte  126       3     2500  \n",
       "2  zona-norte   55       1      900  \n",
       "3  zona-norte   58       2     1490  \n",
       "4  zona-norte   96       2     1211  "
      ]
     },
     "execution_count": 43,
     "metadata": {},
     "output_type": "execute_result"
    }
   ],
   "source": [
    "dados.head()"
   ]
  },
  {
   "cell_type": "code",
   "execution_count": 44,
   "metadata": {},
   "outputs": [],
   "source": [
    "zona = dados['zona'].str.split('-', n=1, expand=True)"
   ]
  },
  {
   "cell_type": "code",
   "execution_count": 45,
   "metadata": {},
   "outputs": [
    {
     "data": {
      "text/html": [
       "<div>\n",
       "<style scoped>\n",
       "    .dataframe tbody tr th:only-of-type {\n",
       "        vertical-align: middle;\n",
       "    }\n",
       "\n",
       "    .dataframe tbody tr th {\n",
       "        vertical-align: top;\n",
       "    }\n",
       "\n",
       "    .dataframe thead th {\n",
       "        text-align: right;\n",
       "    }\n",
       "</style>\n",
       "<table border=\"1\" class=\"dataframe\">\n",
       "  <thead>\n",
       "    <tr style=\"text-align: right;\">\n",
       "      <th></th>\n",
       "      <th>0</th>\n",
       "      <th>1</th>\n",
       "    </tr>\n",
       "  </thead>\n",
       "  <tbody>\n",
       "    <tr>\n",
       "      <th>0</th>\n",
       "      <td>zona</td>\n",
       "      <td>norte</td>\n",
       "    </tr>\n",
       "    <tr>\n",
       "      <th>1</th>\n",
       "      <td>zona</td>\n",
       "      <td>norte</td>\n",
       "    </tr>\n",
       "    <tr>\n",
       "      <th>2</th>\n",
       "      <td>zona</td>\n",
       "      <td>norte</td>\n",
       "    </tr>\n",
       "    <tr>\n",
       "      <th>3</th>\n",
       "      <td>zona</td>\n",
       "      <td>norte</td>\n",
       "    </tr>\n",
       "    <tr>\n",
       "      <th>4</th>\n",
       "      <td>zona</td>\n",
       "      <td>norte</td>\n",
       "    </tr>\n",
       "    <tr>\n",
       "      <th>...</th>\n",
       "      <td>...</td>\n",
       "      <td>...</td>\n",
       "    </tr>\n",
       "    <tr>\n",
       "      <th>1644</th>\n",
       "      <td>centro</td>\n",
       "      <td>None</td>\n",
       "    </tr>\n",
       "    <tr>\n",
       "      <th>1645</th>\n",
       "      <td>zona</td>\n",
       "      <td>norte</td>\n",
       "    </tr>\n",
       "    <tr>\n",
       "      <th>1646</th>\n",
       "      <td>zona</td>\n",
       "      <td>norte</td>\n",
       "    </tr>\n",
       "    <tr>\n",
       "      <th>1647</th>\n",
       "      <td>centro</td>\n",
       "      <td>None</td>\n",
       "    </tr>\n",
       "    <tr>\n",
       "      <th>1648</th>\n",
       "      <td>centro</td>\n",
       "      <td>None</td>\n",
       "    </tr>\n",
       "  </tbody>\n",
       "</table>\n",
       "<p>1641 rows × 2 columns</p>\n",
       "</div>"
      ],
      "text/plain": [
       "           0      1\n",
       "0       zona  norte\n",
       "1       zona  norte\n",
       "2       zona  norte\n",
       "3       zona  norte\n",
       "4       zona  norte\n",
       "...      ...    ...\n",
       "1644  centro   None\n",
       "1645    zona  norte\n",
       "1646    zona  norte\n",
       "1647  centro   None\n",
       "1648  centro   None\n",
       "\n",
       "[1641 rows x 2 columns]"
      ]
     },
     "execution_count": 45,
     "metadata": {},
     "output_type": "execute_result"
    }
   ],
   "source": [
    "zona"
   ]
  },
  {
   "cell_type": "code",
   "execution_count": 46,
   "metadata": {},
   "outputs": [],
   "source": [
    "dados['zona'] = zona[1]"
   ]
  },
  {
   "cell_type": "code",
   "execution_count": 47,
   "metadata": {},
   "outputs": [
    {
     "data": {
      "text/plain": [
       "sul      335\n",
       "leste    331\n",
       "norte    324\n",
       "oeste    323\n",
       "Name: zona, dtype: int64"
      ]
     },
     "execution_count": 47,
     "metadata": {},
     "output_type": "execute_result"
    }
   ],
   "source": [
    "dados.zona.value_counts()"
   ]
  },
  {
   "cell_type": "code",
   "execution_count": 48,
   "metadata": {},
   "outputs": [
    {
     "data": {
      "text/plain": [
       "328"
      ]
     },
     "execution_count": 48,
     "metadata": {},
     "output_type": "execute_result"
    }
   ],
   "source": [
    "dados.zona.isna().sum()"
   ]
  },
  {
   "cell_type": "code",
   "execution_count": 51,
   "metadata": {},
   "outputs": [],
   "source": [
    "dados['zona'] = dados.zona.fillna('centro')"
   ]
  },
  {
   "cell_type": "code",
   "execution_count": 52,
   "metadata": {},
   "outputs": [
    {
     "data": {
      "text/plain": [
       "sul       335\n",
       "leste     331\n",
       "centro    328\n",
       "norte     324\n",
       "oeste     323\n",
       "Name: zona, dtype: int64"
      ]
     },
     "execution_count": 52,
     "metadata": {},
     "output_type": "execute_result"
    }
   ],
   "source": [
    "dados.zona.value_counts()"
   ]
  },
  {
   "cell_type": "code",
   "execution_count": 53,
   "metadata": {},
   "outputs": [
    {
     "data": {
      "text/plain": [
       "logradouro         2\n",
       "nome_logradouro    0\n",
       "bairro             0\n",
       "zona               0\n",
       "area               0\n",
       "quartos            9\n",
       "aluguel            0\n",
       "dtype: int64"
      ]
     },
     "execution_count": 53,
     "metadata": {},
     "output_type": "execute_result"
    }
   ],
   "source": [
    "dados.isna().sum()"
   ]
  },
  {
   "cell_type": "code",
   "execution_count": 57,
   "metadata": {},
   "outputs": [],
   "source": [
    "dados =dados.dropna()"
   ]
  },
  {
   "cell_type": "code",
   "execution_count": 58,
   "metadata": {},
   "outputs": [
    {
     "data": {
      "text/html": [
       "<div>\n",
       "<style scoped>\n",
       "    .dataframe tbody tr th:only-of-type {\n",
       "        vertical-align: middle;\n",
       "    }\n",
       "\n",
       "    .dataframe tbody tr th {\n",
       "        vertical-align: top;\n",
       "    }\n",
       "\n",
       "    .dataframe thead th {\n",
       "        text-align: right;\n",
       "    }\n",
       "</style>\n",
       "<table border=\"1\" class=\"dataframe\">\n",
       "  <thead>\n",
       "    <tr style=\"text-align: right;\">\n",
       "      <th></th>\n",
       "      <th>logradouro</th>\n",
       "      <th>nome_logradouro</th>\n",
       "      <th>bairro</th>\n",
       "      <th>zona</th>\n",
       "      <th>area</th>\n",
       "      <th>quartos</th>\n",
       "      <th>aluguel</th>\n",
       "    </tr>\n",
       "  </thead>\n",
       "  <tbody>\n",
       "    <tr>\n",
       "      <th>0</th>\n",
       "      <td>rua</td>\n",
       "      <td>José Timotheo Da Silva</td>\n",
       "      <td>Jardim Peri</td>\n",
       "      <td>norte</td>\n",
       "      <td>51</td>\n",
       "      <td>2</td>\n",
       "      <td>950</td>\n",
       "    </tr>\n",
       "    <tr>\n",
       "      <th>1</th>\n",
       "      <td>rua</td>\n",
       "      <td>Plinio Colás</td>\n",
       "      <td>Lauzane Paulista</td>\n",
       "      <td>norte</td>\n",
       "      <td>126</td>\n",
       "      <td>3</td>\n",
       "      <td>2500</td>\n",
       "    </tr>\n",
       "    <tr>\n",
       "      <th>2</th>\n",
       "      <td>rua</td>\n",
       "      <td>Doutor Gabriel Covelli</td>\n",
       "      <td>Parque Peruche</td>\n",
       "      <td>norte</td>\n",
       "      <td>55</td>\n",
       "      <td>1</td>\n",
       "      <td>900</td>\n",
       "    </tr>\n",
       "    <tr>\n",
       "      <th>3</th>\n",
       "      <td>rua</td>\n",
       "      <td>Dos Camarés  150</td>\n",
       "      <td>Carandiru</td>\n",
       "      <td>norte</td>\n",
       "      <td>58</td>\n",
       "      <td>2</td>\n",
       "      <td>1490</td>\n",
       "    </tr>\n",
       "    <tr>\n",
       "      <th>4</th>\n",
       "      <td>rua</td>\n",
       "      <td>Francisco Da Lira</td>\n",
       "      <td>Jardim Leonor Mendes De Barros</td>\n",
       "      <td>norte</td>\n",
       "      <td>96</td>\n",
       "      <td>2</td>\n",
       "      <td>1211</td>\n",
       "    </tr>\n",
       "  </tbody>\n",
       "</table>\n",
       "</div>"
      ],
      "text/plain": [
       "  logradouro         nome_logradouro                           bairro   zona  \\\n",
       "0        rua  José Timotheo Da Silva                      Jardim Peri  norte   \n",
       "1        rua            Plinio Colás                 Lauzane Paulista  norte   \n",
       "2        rua  Doutor Gabriel Covelli                   Parque Peruche  norte   \n",
       "3        rua        Dos Camarés  150                        Carandiru  norte   \n",
       "4        rua       Francisco Da Lira   Jardim Leonor Mendes De Barros  norte   \n",
       "\n",
       "  area quartos  aluguel  \n",
       "0   51       2      950  \n",
       "1  126       3     2500  \n",
       "2   55       1      900  \n",
       "3   58       2     1490  \n",
       "4   96       2     1211  "
      ]
     },
     "execution_count": 58,
     "metadata": {},
     "output_type": "execute_result"
    }
   ],
   "source": [
    "dados.head()"
   ]
  },
  {
   "cell_type": "code",
   "execution_count": 61,
   "metadata": {},
   "outputs": [],
   "source": [
    "dados.to_csv('dados_aluguel_manipulados.csv', index =False , encoding = 'utf-8')"
   ]
  },
  {
   "cell_type": "code",
   "execution_count": 62,
   "metadata": {},
   "outputs": [
    {
     "data": {
      "text/html": [
       "<div>\n",
       "<style scoped>\n",
       "    .dataframe tbody tr th:only-of-type {\n",
       "        vertical-align: middle;\n",
       "    }\n",
       "\n",
       "    .dataframe tbody tr th {\n",
       "        vertical-align: top;\n",
       "    }\n",
       "\n",
       "    .dataframe thead th {\n",
       "        text-align: right;\n",
       "    }\n",
       "</style>\n",
       "<table border=\"1\" class=\"dataframe\">\n",
       "  <thead>\n",
       "    <tr style=\"text-align: right;\">\n",
       "      <th></th>\n",
       "      <th>logradouro</th>\n",
       "      <th>nome_logradouro</th>\n",
       "      <th>bairro</th>\n",
       "      <th>zona</th>\n",
       "      <th>area</th>\n",
       "      <th>quartos</th>\n",
       "      <th>aluguel</th>\n",
       "    </tr>\n",
       "  </thead>\n",
       "  <tbody>\n",
       "    <tr>\n",
       "      <th>0</th>\n",
       "      <td>rua</td>\n",
       "      <td>José Timotheo Da Silva</td>\n",
       "      <td>Jardim Peri</td>\n",
       "      <td>norte</td>\n",
       "      <td>51</td>\n",
       "      <td>2</td>\n",
       "      <td>950</td>\n",
       "    </tr>\n",
       "    <tr>\n",
       "      <th>1</th>\n",
       "      <td>rua</td>\n",
       "      <td>Plinio Colás</td>\n",
       "      <td>Lauzane Paulista</td>\n",
       "      <td>norte</td>\n",
       "      <td>126</td>\n",
       "      <td>3</td>\n",
       "      <td>2500</td>\n",
       "    </tr>\n",
       "    <tr>\n",
       "      <th>2</th>\n",
       "      <td>rua</td>\n",
       "      <td>Doutor Gabriel Covelli</td>\n",
       "      <td>Parque Peruche</td>\n",
       "      <td>norte</td>\n",
       "      <td>55</td>\n",
       "      <td>1</td>\n",
       "      <td>900</td>\n",
       "    </tr>\n",
       "    <tr>\n",
       "      <th>3</th>\n",
       "      <td>rua</td>\n",
       "      <td>Dos Camarés  150</td>\n",
       "      <td>Carandiru</td>\n",
       "      <td>norte</td>\n",
       "      <td>58</td>\n",
       "      <td>2</td>\n",
       "      <td>1490</td>\n",
       "    </tr>\n",
       "    <tr>\n",
       "      <th>4</th>\n",
       "      <td>rua</td>\n",
       "      <td>Francisco Da Lira</td>\n",
       "      <td>Jardim Leonor Mendes De Barros</td>\n",
       "      <td>norte</td>\n",
       "      <td>96</td>\n",
       "      <td>2</td>\n",
       "      <td>1211</td>\n",
       "    </tr>\n",
       "    <tr>\n",
       "      <th>...</th>\n",
       "      <td>...</td>\n",
       "      <td>...</td>\n",
       "      <td>...</td>\n",
       "      <td>...</td>\n",
       "      <td>...</td>\n",
       "      <td>...</td>\n",
       "      <td>...</td>\n",
       "    </tr>\n",
       "    <tr>\n",
       "      <th>1625</th>\n",
       "      <td>rua</td>\n",
       "      <td>Álvaro De Carvalho</td>\n",
       "      <td>Centro</td>\n",
       "      <td>centro</td>\n",
       "      <td>48</td>\n",
       "      <td>1</td>\n",
       "      <td>2200</td>\n",
       "    </tr>\n",
       "    <tr>\n",
       "      <th>1626</th>\n",
       "      <td>rua</td>\n",
       "      <td>Das Tâmaras</td>\n",
       "      <td>Vila Paulista</td>\n",
       "      <td>norte</td>\n",
       "      <td>30</td>\n",
       "      <td>1</td>\n",
       "      <td>900</td>\n",
       "    </tr>\n",
       "    <tr>\n",
       "      <th>1627</th>\n",
       "      <td>rua</td>\n",
       "      <td>Sílvio De Moura</td>\n",
       "      <td>Vila Dom Pedro Ii</td>\n",
       "      <td>norte</td>\n",
       "      <td>87</td>\n",
       "      <td>3</td>\n",
       "      <td>2700</td>\n",
       "    </tr>\n",
       "    <tr>\n",
       "      <th>1628</th>\n",
       "      <td>rua</td>\n",
       "      <td>Major Quedinho</td>\n",
       "      <td>Centro</td>\n",
       "      <td>centro</td>\n",
       "      <td>27</td>\n",
       "      <td>1</td>\n",
       "      <td>1000</td>\n",
       "    </tr>\n",
       "    <tr>\n",
       "      <th>1629</th>\n",
       "      <td>avenida</td>\n",
       "      <td>Maestro Villa Lobos</td>\n",
       "      <td>Vila Gustavo</td>\n",
       "      <td>norte</td>\n",
       "      <td>60</td>\n",
       "      <td>2</td>\n",
       "      <td>1600</td>\n",
       "    </tr>\n",
       "  </tbody>\n",
       "</table>\n",
       "<p>1630 rows × 7 columns</p>\n",
       "</div>"
      ],
      "text/plain": [
       "     logradouro         nome_logradouro                           bairro  \\\n",
       "0           rua  José Timotheo Da Silva                      Jardim Peri   \n",
       "1           rua            Plinio Colás                 Lauzane Paulista   \n",
       "2           rua  Doutor Gabriel Covelli                   Parque Peruche   \n",
       "3           rua        Dos Camarés  150                        Carandiru   \n",
       "4           rua       Francisco Da Lira   Jardim Leonor Mendes De Barros   \n",
       "...         ...                     ...                              ...   \n",
       "1625        rua      Álvaro De Carvalho                           Centro   \n",
       "1626        rua             Das Tâmaras                    Vila Paulista   \n",
       "1627        rua         Sílvio De Moura                Vila Dom Pedro Ii   \n",
       "1628        rua          Major Quedinho                           Centro   \n",
       "1629    avenida     Maestro Villa Lobos                     Vila Gustavo   \n",
       "\n",
       "        zona  area  quartos  aluguel  \n",
       "0      norte    51        2      950  \n",
       "1      norte   126        3     2500  \n",
       "2      norte    55        1      900  \n",
       "3      norte    58        2     1490  \n",
       "4      norte    96        2     1211  \n",
       "...      ...   ...      ...      ...  \n",
       "1625  centro    48        1     2200  \n",
       "1626   norte    30        1      900  \n",
       "1627   norte    87        3     2700  \n",
       "1628  centro    27        1     1000  \n",
       "1629   norte    60        2     1600  \n",
       "\n",
       "[1630 rows x 7 columns]"
      ]
     },
     "execution_count": 62,
     "metadata": {},
     "output_type": "execute_result"
    }
   ],
   "source": [
    "pd.read_csv('dados_aluguel_manipulados.csv', encoding = 'utf-8')"
   ]
  },
  {
   "cell_type": "code",
   "execution_count": null,
   "metadata": {},
   "outputs": [],
   "source": []
  }
 ],
 "metadata": {
  "kernelspec": {
   "display_name": "Python 3",
   "language": "python",
   "name": "python3"
  },
  "language_info": {
   "codemirror_mode": {
    "name": "ipython",
    "version": 3
   },
   "file_extension": ".py",
   "mimetype": "text/x-python",
   "name": "python",
   "nbconvert_exporter": "python",
   "pygments_lexer": "ipython3",
   "version": "3.8.3"
  }
 },
 "nbformat": 4,
 "nbformat_minor": 4
}
