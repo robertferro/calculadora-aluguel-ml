{
 "cells": [
  {
   "cell_type": "markdown",
   "metadata": {},
   "source": [
    "# Tratando os dados."
   ]
  },
  {
   "cell_type": "code",
   "execution_count": 1,
   "metadata": {},
   "outputs": [],
   "source": [
    "#  Importando as bibliotecas\n",
    "import pandas as pd\n",
    "import numpy as np\n",
    "import re"
   ]
  },
  {
   "cell_type": "code",
   "execution_count": 2,
   "metadata": {},
   "outputs": [],
   "source": [
    "url = 'https://raw.githubusercontent.com/robertferro/calculadora-aluguel-ml/main/1%20-%20web-scraping/dados_imoveis_sao_paulo.csv'\n",
    "df = pd.read_csv(url ,thousands = '.', encoding = 'utf-8')"
   ]
  },
  {
   "cell_type": "code",
   "execution_count": 3,
   "metadata": {},
   "outputs": [
    {
     "data": {
      "text/plain": [
       "(2445, 4)"
      ]
     },
     "execution_count": 3,
     "metadata": {},
     "output_type": "execute_result"
    }
   ],
   "source": [
    "df.shape"
   ]
  },
  {
   "cell_type": "code",
   "execution_count": 4,
   "metadata": {},
   "outputs": [
    {
     "data": {
      "text/html": [
       "<div>\n",
       "<style scoped>\n",
       "    .dataframe tbody tr th:only-of-type {\n",
       "        vertical-align: middle;\n",
       "    }\n",
       "\n",
       "    .dataframe tbody tr th {\n",
       "        vertical-align: top;\n",
       "    }\n",
       "\n",
       "    .dataframe thead th {\n",
       "        text-align: right;\n",
       "    }\n",
       "</style>\n",
       "<table border=\"1\" class=\"dataframe\">\n",
       "  <thead>\n",
       "    <tr style=\"text-align: right;\">\n",
       "      <th></th>\n",
       "      <th>zona_bairro</th>\n",
       "      <th>area_quartos</th>\n",
       "      <th>enderecos_lista</th>\n",
       "      <th>aluguel</th>\n",
       "    </tr>\n",
       "  </thead>\n",
       "  <tbody>\n",
       "    <tr>\n",
       "      <th>0</th>\n",
       "      <td>Bela-Vista-centro</td>\n",
       "      <td>86 m² construídos2 quartos</td>\n",
       "      <td>Bela Vista, São Paulo Centro, São Paulo</td>\n",
       "      <td>2200</td>\n",
       "    </tr>\n",
       "    <tr>\n",
       "      <th>1</th>\n",
       "      <td>Bela-Vista-centro</td>\n",
       "      <td>35 m² construídos1 quarto</td>\n",
       "      <td>Rua Da Consolação, Consolação, São Paulo Centr...</td>\n",
       "      <td>3200</td>\n",
       "    </tr>\n",
       "    <tr>\n",
       "      <th>2</th>\n",
       "      <td>Bela-Vista-centro</td>\n",
       "      <td>35 m² construídos1 quarto</td>\n",
       "      <td>Rua Da Consolação, Consolação, São Paulo Centr...</td>\n",
       "      <td>3700</td>\n",
       "    </tr>\n",
       "    <tr>\n",
       "      <th>3</th>\n",
       "      <td>Bela-Vista-centro</td>\n",
       "      <td>35 m² construídos1 quarto</td>\n",
       "      <td>Rua Da Consolação, Consolação, São Paulo Centr...</td>\n",
       "      <td>3700</td>\n",
       "    </tr>\n",
       "    <tr>\n",
       "      <th>4</th>\n",
       "      <td>Bela-Vista-centro</td>\n",
       "      <td>25 m² construídos1 quarto</td>\n",
       "      <td>Rua Bela Cintra, Consolação, São Paulo Centro,...</td>\n",
       "      <td>1800</td>\n",
       "    </tr>\n",
       "  </tbody>\n",
       "</table>\n",
       "</div>"
      ],
      "text/plain": [
       "         zona_bairro                area_quartos  \\\n",
       "0  Bela-Vista-centro  86 m² construídos2 quartos   \n",
       "1  Bela-Vista-centro   35 m² construídos1 quarto   \n",
       "2  Bela-Vista-centro   35 m² construídos1 quarto   \n",
       "3  Bela-Vista-centro   35 m² construídos1 quarto   \n",
       "4  Bela-Vista-centro   25 m² construídos1 quarto   \n",
       "\n",
       "                                     enderecos_lista  aluguel  \n",
       "0            Bela Vista, São Paulo Centro, São Paulo     2200  \n",
       "1  Rua Da Consolação, Consolação, São Paulo Centr...     3200  \n",
       "2  Rua Da Consolação, Consolação, São Paulo Centr...     3700  \n",
       "3  Rua Da Consolação, Consolação, São Paulo Centr...     3700  \n",
       "4  Rua Bela Cintra, Consolação, São Paulo Centro,...     1800  "
      ]
     },
     "execution_count": 4,
     "metadata": {},
     "output_type": "execute_result"
    }
   ],
   "source": [
    "df.head()"
   ]
  },
  {
   "cell_type": "code",
   "execution_count": 5,
   "metadata": {},
   "outputs": [
    {
     "data": {
      "text/plain": [
       "['86 m² construídos2 quartos',\n",
       " '35 m² construídos1 quarto',\n",
       " '35 m² construídos1 quarto',\n",
       " '35 m² construídos1 quarto',\n",
       " '25 m² construídos1 quarto',\n",
       " '25 m² construídos1 quarto',\n",
       " '511 m² construídos1 quarto',\n",
       " '170 m² construídos3 quartos',\n",
       " '800 m² construídos',\n",
       " '400 m² construídos']"
      ]
     },
     "execution_count": 5,
     "metadata": {},
     "output_type": "execute_result"
    }
   ],
   "source": [
    "list(df.area_quartos)[0:10]"
   ]
  },
  {
   "cell_type": "markdown",
   "metadata": {},
   "source": [
    "## Pegando a área dos quartos"
   ]
  },
  {
   "cell_type": "code",
   "execution_count": 6,
   "metadata": {},
   "outputs": [],
   "source": [
    "# Criei esse subset com algumas das situacoes que encontramos\n",
    "area_quartos_subset = ['1,360 m² totais',\n",
    "                       '2 quartos',\n",
    "                       '53 m² construídos2 quartos',\n",
    "                        '280 m² construídos',\n",
    "                        '2,600 m² construídos']"
   ]
  },
  {
   "cell_type": "code",
   "execution_count": 7,
   "metadata": {},
   "outputs": [],
   "source": [
    "entrada = '1,360 m² totais'"
   ]
  },
  {
   "cell_type": "code",
   "execution_count": 8,
   "metadata": {},
   "outputs": [],
   "source": [
    "def pegar_area(entrada):\n",
    "    if ' m²' in entrada:\n",
    "      area = entrada.split(' m²')[0]\n",
    "      area = area.replace(',', '')\n",
    "    else:\n",
    "      area = np.nan\n",
    "    return area"
   ]
  },
  {
   "cell_type": "code",
   "execution_count": 9,
   "metadata": {},
   "outputs": [],
   "source": [
    "df['area'] = df['area_quartos'].apply(pegar_area)"
   ]
  },
  {
   "cell_type": "code",
   "execution_count": 10,
   "metadata": {},
   "outputs": [
    {
     "data": {
      "text/html": [
       "<div>\n",
       "<style scoped>\n",
       "    .dataframe tbody tr th:only-of-type {\n",
       "        vertical-align: middle;\n",
       "    }\n",
       "\n",
       "    .dataframe tbody tr th {\n",
       "        vertical-align: top;\n",
       "    }\n",
       "\n",
       "    .dataframe thead th {\n",
       "        text-align: right;\n",
       "    }\n",
       "</style>\n",
       "<table border=\"1\" class=\"dataframe\">\n",
       "  <thead>\n",
       "    <tr style=\"text-align: right;\">\n",
       "      <th></th>\n",
       "      <th>zona_bairro</th>\n",
       "      <th>area_quartos</th>\n",
       "      <th>enderecos_lista</th>\n",
       "      <th>aluguel</th>\n",
       "      <th>area</th>\n",
       "    </tr>\n",
       "  </thead>\n",
       "  <tbody>\n",
       "    <tr>\n",
       "      <th>0</th>\n",
       "      <td>Bela-Vista-centro</td>\n",
       "      <td>86 m² construídos2 quartos</td>\n",
       "      <td>Bela Vista, São Paulo Centro, São Paulo</td>\n",
       "      <td>2200</td>\n",
       "      <td>86</td>\n",
       "    </tr>\n",
       "    <tr>\n",
       "      <th>1</th>\n",
       "      <td>Bela-Vista-centro</td>\n",
       "      <td>35 m² construídos1 quarto</td>\n",
       "      <td>Rua Da Consolação, Consolação, São Paulo Centr...</td>\n",
       "      <td>3200</td>\n",
       "      <td>35</td>\n",
       "    </tr>\n",
       "    <tr>\n",
       "      <th>2</th>\n",
       "      <td>Bela-Vista-centro</td>\n",
       "      <td>35 m² construídos1 quarto</td>\n",
       "      <td>Rua Da Consolação, Consolação, São Paulo Centr...</td>\n",
       "      <td>3700</td>\n",
       "      <td>35</td>\n",
       "    </tr>\n",
       "    <tr>\n",
       "      <th>3</th>\n",
       "      <td>Bela-Vista-centro</td>\n",
       "      <td>35 m² construídos1 quarto</td>\n",
       "      <td>Rua Da Consolação, Consolação, São Paulo Centr...</td>\n",
       "      <td>3700</td>\n",
       "      <td>35</td>\n",
       "    </tr>\n",
       "    <tr>\n",
       "      <th>4</th>\n",
       "      <td>Bela-Vista-centro</td>\n",
       "      <td>25 m² construídos1 quarto</td>\n",
       "      <td>Rua Bela Cintra, Consolação, São Paulo Centro,...</td>\n",
       "      <td>1800</td>\n",
       "      <td>25</td>\n",
       "    </tr>\n",
       "  </tbody>\n",
       "</table>\n",
       "</div>"
      ],
      "text/plain": [
       "         zona_bairro                area_quartos  \\\n",
       "0  Bela-Vista-centro  86 m² construídos2 quartos   \n",
       "1  Bela-Vista-centro   35 m² construídos1 quarto   \n",
       "2  Bela-Vista-centro   35 m² construídos1 quarto   \n",
       "3  Bela-Vista-centro   35 m² construídos1 quarto   \n",
       "4  Bela-Vista-centro   25 m² construídos1 quarto   \n",
       "\n",
       "                                     enderecos_lista  aluguel area  \n",
       "0            Bela Vista, São Paulo Centro, São Paulo     2200   86  \n",
       "1  Rua Da Consolação, Consolação, São Paulo Centr...     3200   35  \n",
       "2  Rua Da Consolação, Consolação, São Paulo Centr...     3700   35  \n",
       "3  Rua Da Consolação, Consolação, São Paulo Centr...     3700   35  \n",
       "4  Rua Bela Cintra, Consolação, São Paulo Centro,...     1800   25  "
      ]
     },
     "execution_count": 10,
     "metadata": {},
     "output_type": "execute_result"
    }
   ],
   "source": [
    "df.head()"
   ]
  },
  {
   "cell_type": "markdown",
   "metadata": {},
   "source": [
    "## Pegando a quantidade de quartos"
   ]
  },
  {
   "cell_type": "code",
   "execution_count": 11,
   "metadata": {},
   "outputs": [],
   "source": [
    "entrada = '2 quartos'"
   ]
  },
  {
   "cell_type": "code",
   "execution_count": 12,
   "metadata": {},
   "outputs": [
    {
     "data": {
      "text/plain": [
       "'2'"
      ]
     },
     "execution_count": 12,
     "metadata": {},
     "output_type": "execute_result"
    }
   ],
   "source": [
    "re.findall('(.?) quarto', entrada)[0]"
   ]
  },
  {
   "cell_type": "code",
   "execution_count": 13,
   "metadata": {},
   "outputs": [],
   "source": [
    "area_quartos_subset = ['1,360 m² totais',\n",
    "                       '2 quartos',\n",
    "                       '53 m² construídos2 quartos',\n",
    "                        '280 m² construídos',\n",
    "                        '2,600 m² construídos']"
   ]
  },
  {
   "cell_type": "code",
   "execution_count": 14,
   "metadata": {},
   "outputs": [],
   "source": [
    "def extrair_quartos(entrada):\n",
    "    if 'quarto' in entrada:\n",
    "        n_quartos = re.findall('(\\d*) quarto', entrada)[0]\n",
    "    else:\n",
    "        n_quartos = np.nan\n",
    "    return n_quartos"
   ]
  },
  {
   "cell_type": "code",
   "execution_count": 15,
   "metadata": {},
   "outputs": [],
   "source": [
    "area_quartos_subset = ['1,360 m² totais',\n",
    "                       '2 quartos',\n",
    "                       '53 m² construídos2 quartos',\n",
    "                        '280 m² construídos',\n",
    "                        '2,600 m² construídos']"
   ]
  },
  {
   "cell_type": "code",
   "execution_count": 16,
   "metadata": {},
   "outputs": [
    {
     "name": "stdout",
     "output_type": "stream",
     "text": [
      "nan\n",
      "2\n",
      "2\n",
      "nan\n",
      "nan\n"
     ]
    }
   ],
   "source": [
    "for aq in area_quartos_subset:\n",
    "  print(extrair_quartos(aq))"
   ]
  },
  {
   "cell_type": "code",
   "execution_count": 17,
   "metadata": {},
   "outputs": [],
   "source": [
    "df['quartos'] = df['area_quartos'].apply(extrair_quartos)"
   ]
  },
  {
   "cell_type": "code",
   "execution_count": 18,
   "metadata": {},
   "outputs": [
    {
     "data": {
      "text/html": [
       "<div>\n",
       "<style scoped>\n",
       "    .dataframe tbody tr th:only-of-type {\n",
       "        vertical-align: middle;\n",
       "    }\n",
       "\n",
       "    .dataframe tbody tr th {\n",
       "        vertical-align: top;\n",
       "    }\n",
       "\n",
       "    .dataframe thead th {\n",
       "        text-align: right;\n",
       "    }\n",
       "</style>\n",
       "<table border=\"1\" class=\"dataframe\">\n",
       "  <thead>\n",
       "    <tr style=\"text-align: right;\">\n",
       "      <th></th>\n",
       "      <th>zona_bairro</th>\n",
       "      <th>area_quartos</th>\n",
       "      <th>enderecos_lista</th>\n",
       "      <th>aluguel</th>\n",
       "      <th>area</th>\n",
       "      <th>quartos</th>\n",
       "    </tr>\n",
       "  </thead>\n",
       "  <tbody>\n",
       "    <tr>\n",
       "      <th>0</th>\n",
       "      <td>Bela-Vista-centro</td>\n",
       "      <td>86 m² construídos2 quartos</td>\n",
       "      <td>Bela Vista, São Paulo Centro, São Paulo</td>\n",
       "      <td>2200</td>\n",
       "      <td>86</td>\n",
       "      <td>2</td>\n",
       "    </tr>\n",
       "    <tr>\n",
       "      <th>1</th>\n",
       "      <td>Bela-Vista-centro</td>\n",
       "      <td>35 m² construídos1 quarto</td>\n",
       "      <td>Rua Da Consolação, Consolação, São Paulo Centr...</td>\n",
       "      <td>3200</td>\n",
       "      <td>35</td>\n",
       "      <td>1</td>\n",
       "    </tr>\n",
       "    <tr>\n",
       "      <th>2</th>\n",
       "      <td>Bela-Vista-centro</td>\n",
       "      <td>35 m² construídos1 quarto</td>\n",
       "      <td>Rua Da Consolação, Consolação, São Paulo Centr...</td>\n",
       "      <td>3700</td>\n",
       "      <td>35</td>\n",
       "      <td>1</td>\n",
       "    </tr>\n",
       "    <tr>\n",
       "      <th>3</th>\n",
       "      <td>Bela-Vista-centro</td>\n",
       "      <td>35 m² construídos1 quarto</td>\n",
       "      <td>Rua Da Consolação, Consolação, São Paulo Centr...</td>\n",
       "      <td>3700</td>\n",
       "      <td>35</td>\n",
       "      <td>1</td>\n",
       "    </tr>\n",
       "    <tr>\n",
       "      <th>4</th>\n",
       "      <td>Bela-Vista-centro</td>\n",
       "      <td>25 m² construídos1 quarto</td>\n",
       "      <td>Rua Bela Cintra, Consolação, São Paulo Centro,...</td>\n",
       "      <td>1800</td>\n",
       "      <td>25</td>\n",
       "      <td>1</td>\n",
       "    </tr>\n",
       "  </tbody>\n",
       "</table>\n",
       "</div>"
      ],
      "text/plain": [
       "         zona_bairro                area_quartos  \\\n",
       "0  Bela-Vista-centro  86 m² construídos2 quartos   \n",
       "1  Bela-Vista-centro   35 m² construídos1 quarto   \n",
       "2  Bela-Vista-centro   35 m² construídos1 quarto   \n",
       "3  Bela-Vista-centro   35 m² construídos1 quarto   \n",
       "4  Bela-Vista-centro   25 m² construídos1 quarto   \n",
       "\n",
       "                                     enderecos_lista  aluguel area quartos  \n",
       "0            Bela Vista, São Paulo Centro, São Paulo     2200   86       2  \n",
       "1  Rua Da Consolação, Consolação, São Paulo Centr...     3200   35       1  \n",
       "2  Rua Da Consolação, Consolação, São Paulo Centr...     3700   35       1  \n",
       "3  Rua Da Consolação, Consolação, São Paulo Centr...     3700   35       1  \n",
       "4  Rua Bela Cintra, Consolação, São Paulo Centro,...     1800   25       1  "
      ]
     },
     "execution_count": 18,
     "metadata": {},
     "output_type": "execute_result"
    }
   ],
   "source": [
    "df.head()"
   ]
  },
  {
   "cell_type": "code",
   "execution_count": 19,
   "metadata": {},
   "outputs": [],
   "source": [
    "df = df.drop('area_quartos', axis = 1)"
   ]
  },
  {
   "cell_type": "code",
   "execution_count": 20,
   "metadata": {},
   "outputs": [
    {
     "data": {
      "text/html": [
       "<div>\n",
       "<style scoped>\n",
       "    .dataframe tbody tr th:only-of-type {\n",
       "        vertical-align: middle;\n",
       "    }\n",
       "\n",
       "    .dataframe tbody tr th {\n",
       "        vertical-align: top;\n",
       "    }\n",
       "\n",
       "    .dataframe thead th {\n",
       "        text-align: right;\n",
       "    }\n",
       "</style>\n",
       "<table border=\"1\" class=\"dataframe\">\n",
       "  <thead>\n",
       "    <tr style=\"text-align: right;\">\n",
       "      <th></th>\n",
       "      <th>zona_bairro</th>\n",
       "      <th>enderecos_lista</th>\n",
       "      <th>aluguel</th>\n",
       "      <th>area</th>\n",
       "      <th>quartos</th>\n",
       "    </tr>\n",
       "  </thead>\n",
       "  <tbody>\n",
       "    <tr>\n",
       "      <th>0</th>\n",
       "      <td>Bela-Vista-centro</td>\n",
       "      <td>Bela Vista, São Paulo Centro, São Paulo</td>\n",
       "      <td>2200</td>\n",
       "      <td>86</td>\n",
       "      <td>2</td>\n",
       "    </tr>\n",
       "    <tr>\n",
       "      <th>1</th>\n",
       "      <td>Bela-Vista-centro</td>\n",
       "      <td>Rua Da Consolação, Consolação, São Paulo Centr...</td>\n",
       "      <td>3200</td>\n",
       "      <td>35</td>\n",
       "      <td>1</td>\n",
       "    </tr>\n",
       "    <tr>\n",
       "      <th>2</th>\n",
       "      <td>Bela-Vista-centro</td>\n",
       "      <td>Rua Da Consolação, Consolação, São Paulo Centr...</td>\n",
       "      <td>3700</td>\n",
       "      <td>35</td>\n",
       "      <td>1</td>\n",
       "    </tr>\n",
       "    <tr>\n",
       "      <th>3</th>\n",
       "      <td>Bela-Vista-centro</td>\n",
       "      <td>Rua Da Consolação, Consolação, São Paulo Centr...</td>\n",
       "      <td>3700</td>\n",
       "      <td>35</td>\n",
       "      <td>1</td>\n",
       "    </tr>\n",
       "    <tr>\n",
       "      <th>4</th>\n",
       "      <td>Bela-Vista-centro</td>\n",
       "      <td>Rua Bela Cintra, Consolação, São Paulo Centro,...</td>\n",
       "      <td>1800</td>\n",
       "      <td>25</td>\n",
       "      <td>1</td>\n",
       "    </tr>\n",
       "  </tbody>\n",
       "</table>\n",
       "</div>"
      ],
      "text/plain": [
       "         zona_bairro                                    enderecos_lista  \\\n",
       "0  Bela-Vista-centro            Bela Vista, São Paulo Centro, São Paulo   \n",
       "1  Bela-Vista-centro  Rua Da Consolação, Consolação, São Paulo Centr...   \n",
       "2  Bela-Vista-centro  Rua Da Consolação, Consolação, São Paulo Centr...   \n",
       "3  Bela-Vista-centro  Rua Da Consolação, Consolação, São Paulo Centr...   \n",
       "4  Bela-Vista-centro  Rua Bela Cintra, Consolação, São Paulo Centro,...   \n",
       "\n",
       "   aluguel area quartos  \n",
       "0     2200   86       2  \n",
       "1     3200   35       1  \n",
       "2     3700   35       1  \n",
       "3     3700   35       1  \n",
       "4     1800   25       1  "
      ]
     },
     "execution_count": 20,
     "metadata": {},
     "output_type": "execute_result"
    }
   ],
   "source": [
    "df.head()"
   ]
  },
  {
   "cell_type": "markdown",
   "metadata": {},
   "source": [
    "## Pegando a zona e o bairro."
   ]
  },
  {
   "cell_type": "code",
   "execution_count": 21,
   "metadata": {},
   "outputs": [],
   "source": [
    "zona_bairro = df['zona_bairro'].str.split('zona', n=1, expand=True)"
   ]
  },
  {
   "cell_type": "code",
   "execution_count": 22,
   "metadata": {},
   "outputs": [
    {
     "data": {
      "text/html": [
       "<div>\n",
       "<style scoped>\n",
       "    .dataframe tbody tr th:only-of-type {\n",
       "        vertical-align: middle;\n",
       "    }\n",
       "\n",
       "    .dataframe tbody tr th {\n",
       "        vertical-align: top;\n",
       "    }\n",
       "\n",
       "    .dataframe thead th {\n",
       "        text-align: right;\n",
       "    }\n",
       "</style>\n",
       "<table border=\"1\" class=\"dataframe\">\n",
       "  <thead>\n",
       "    <tr style=\"text-align: right;\">\n",
       "      <th></th>\n",
       "      <th>0</th>\n",
       "      <th>1</th>\n",
       "    </tr>\n",
       "  </thead>\n",
       "  <tbody>\n",
       "    <tr>\n",
       "      <th>0</th>\n",
       "      <td>Bela-Vista-centro</td>\n",
       "      <td>None</td>\n",
       "    </tr>\n",
       "    <tr>\n",
       "      <th>1</th>\n",
       "      <td>Bela-Vista-centro</td>\n",
       "      <td>None</td>\n",
       "    </tr>\n",
       "    <tr>\n",
       "      <th>2</th>\n",
       "      <td>Bela-Vista-centro</td>\n",
       "      <td>None</td>\n",
       "    </tr>\n",
       "    <tr>\n",
       "      <th>3</th>\n",
       "      <td>Bela-Vista-centro</td>\n",
       "      <td>None</td>\n",
       "    </tr>\n",
       "    <tr>\n",
       "      <th>4</th>\n",
       "      <td>Bela-Vista-centro</td>\n",
       "      <td>None</td>\n",
       "    </tr>\n",
       "    <tr>\n",
       "      <th>...</th>\n",
       "      <td>...</td>\n",
       "      <td>...</td>\n",
       "    </tr>\n",
       "    <tr>\n",
       "      <th>2440</th>\n",
       "      <td>Carandiru-</td>\n",
       "      <td>-norte</td>\n",
       "    </tr>\n",
       "    <tr>\n",
       "      <th>2441</th>\n",
       "      <td>Carandiru-</td>\n",
       "      <td>-norte</td>\n",
       "    </tr>\n",
       "    <tr>\n",
       "      <th>2442</th>\n",
       "      <td>Vila-Cruz-Das-Almas-</td>\n",
       "      <td>-norte</td>\n",
       "    </tr>\n",
       "    <tr>\n",
       "      <th>2443</th>\n",
       "      <td>Vila-Cruz-Das-Almas-</td>\n",
       "      <td>-norte</td>\n",
       "    </tr>\n",
       "    <tr>\n",
       "      <th>2444</th>\n",
       "      <td>Jardim-Brasil-</td>\n",
       "      <td>-norte</td>\n",
       "    </tr>\n",
       "  </tbody>\n",
       "</table>\n",
       "<p>2445 rows × 2 columns</p>\n",
       "</div>"
      ],
      "text/plain": [
       "                         0       1\n",
       "0        Bela-Vista-centro    None\n",
       "1        Bela-Vista-centro    None\n",
       "2        Bela-Vista-centro    None\n",
       "3        Bela-Vista-centro    None\n",
       "4        Bela-Vista-centro    None\n",
       "...                    ...     ...\n",
       "2440            Carandiru-  -norte\n",
       "2441            Carandiru-  -norte\n",
       "2442  Vila-Cruz-Das-Almas-  -norte\n",
       "2443  Vila-Cruz-Das-Almas-  -norte\n",
       "2444        Jardim-Brasil-  -norte\n",
       "\n",
       "[2445 rows x 2 columns]"
      ]
     },
     "execution_count": 22,
     "metadata": {},
     "output_type": "execute_result"
    }
   ],
   "source": [
    "zona_bairro"
   ]
  },
  {
   "cell_type": "code",
   "execution_count": 23,
   "metadata": {},
   "outputs": [],
   "source": [
    "df['zona'] = zona_bairro[1]"
   ]
  },
  {
   "cell_type": "code",
   "execution_count": 24,
   "metadata": {},
   "outputs": [],
   "source": [
    "df['bairro'] = zona_bairro[0]"
   ]
  },
  {
   "cell_type": "markdown",
   "metadata": {},
   "source": [
    " - Tratando a coluna zona."
   ]
  },
  {
   "cell_type": "code",
   "execution_count": 25,
   "metadata": {},
   "outputs": [
    {
     "data": {
      "text/plain": [
       "-sul      626\n",
       "-norte    574\n",
       "-leste    545\n",
       "-oeste    529\n",
       "Name: zona, dtype: int64"
      ]
     },
     "execution_count": 25,
     "metadata": {},
     "output_type": "execute_result"
    }
   ],
   "source": [
    "df['zona'].value_counts()"
   ]
  },
  {
   "cell_type": "code",
   "execution_count": 26,
   "metadata": {},
   "outputs": [
    {
     "data": {
      "text/plain": [
       "171"
      ]
     },
     "execution_count": 26,
     "metadata": {},
     "output_type": "execute_result"
    }
   ],
   "source": [
    "df['zona'].isna().sum()"
   ]
  },
  {
   "cell_type": "markdown",
   "metadata": {},
   "source": [
    "- Os dados ausentes da coluna zona, correspondem ao centro."
   ]
  },
  {
   "cell_type": "code",
   "execution_count": 27,
   "metadata": {},
   "outputs": [],
   "source": [
    "df['zona'] = df['zona'].fillna('centro')"
   ]
  },
  {
   "cell_type": "code",
   "execution_count": 28,
   "metadata": {},
   "outputs": [
    {
     "data": {
      "text/plain": [
       "-sul      626\n",
       "-norte    574\n",
       "-leste    545\n",
       "-oeste    529\n",
       "centro    171\n",
       "Name: zona, dtype: int64"
      ]
     },
     "execution_count": 28,
     "metadata": {},
     "output_type": "execute_result"
    }
   ],
   "source": [
    "df.zona.value_counts()"
   ]
  },
  {
   "cell_type": "markdown",
   "metadata": {},
   "source": [
    " - Tratando a coluna bairro."
   ]
  },
  {
   "cell_type": "code",
   "execution_count": 29,
   "metadata": {},
   "outputs": [],
   "source": [
    "df['bairro'] = df['bairro'].str.replace('-centro','')"
   ]
  },
  {
   "cell_type": "code",
   "execution_count": 30,
   "metadata": {},
   "outputs": [],
   "source": [
    "df['bairro'] = df['bairro'].str.replace('-', ' ')"
   ]
  },
  {
   "cell_type": "code",
   "execution_count": 35,
   "metadata": {},
   "outputs": [
    {
     "data": {
      "text/plain": [
       "Vila Pompéia                            21\n",
       "Água Branca                             21\n",
       "City América                            21\n",
       "Vila Prudente                           21\n",
       "Fazenda Morumbi                         21\n",
       "Vila Buenos Aires                       21\n",
       "Jabaquara                               21\n",
       "Vila Madalena                           21\n",
       "Freguesia Do Ó                          21\n",
       "Cidade Moncoes                          21\n",
       "Paraíso                                 21\n",
       "Chácara Califórnia                      20\n",
       "Jardim Leonor Mendes De Barros          19\n",
       "Vila Monte Alegre                       19\n",
       "Vila Amália                             19\n",
       "Vila Medeiros                           17\n",
       "Vila Ipojuca                            17\n",
       "Vila Anglo Brasileira                   17\n",
       "Jardim Penha                            17\n",
       "Vila Antonieta                          17\n",
       "Liberdade                               16\n",
       "Vila Palmeiras                          16\n",
       "Parque Novo Mundo                       15\n",
       "Nossa Senhora Do Ó                      15\n",
       "Vila Gustavo                            15\n",
       "Vila Ester                              15\n",
       "Vila Guilherme                          14\n",
       "Nova Piraju                             13\n",
       "Lar São Paulo                           13\n",
       "Parada Xv De Novembro                   12\n",
       "Brás                                    12\n",
       "Vila Dom Pedro Ii                       12\n",
       "Carandiru                               11\n",
       "Quinta Da Paineira                      10\n",
       "Jardim Ampliação                        10\n",
       "Jardim Das Laranjeiras                   9\n",
       "Vila Aurora                              9\n",
       "Jaçanã                                   9\n",
       "Luz                                      8\n",
       "Parque Císper                            8\n",
       "Lajeado                                  7\n",
       "Conjunto Residencial José Bonifácio      6\n",
       "Jardim Celeste                           6\n",
       "Piqueri                                  6\n",
       "Parque Edu Chaves                        6\n",
       "Vila Basileia                            6\n",
       "Bom Retiro                               4\n",
       "Vila União                               4\n",
       "Vila Paulista                            4\n",
       "Vila Paiva                               3\n",
       "Vila Cruz Das Almas                      2\n",
       "Sítio Pinheirinho                        2\n",
       "Morro Dos Ingleses                       2\n",
       "Vila Suzana                              2\n",
       "Vila Deodoro                             2\n",
       "Jardim Brasil                            1\n",
       "Jardim Íris                              1\n",
       "Santa Efigênia                           1\n",
       "Parque Rebouças                          1\n",
       "Jardim América Da Penha                  1\n",
       "Name: bairro, dtype: int64"
      ]
     },
     "execution_count": 35,
     "metadata": {},
     "output_type": "execute_result"
    }
   ],
   "source": [
    "df['bairro'].value_counts().tail(60)"
   ]
  },
  {
   "cell_type": "markdown",
   "metadata": {},
   "source": [
    " - Excluindo os bairros com menos de 10 registros. "
   ]
  },
  {
   "cell_type": "code",
   "execution_count": 39,
   "metadata": {},
   "outputs": [
    {
     "data": {
      "text/plain": [
       "Jardim Das Laranjeiras                  9\n",
       "Vila Aurora                             9\n",
       "Jaçanã                                  9\n",
       "Luz                                     8\n",
       "Parque Císper                           8\n",
       "Lajeado                                 7\n",
       "Conjunto Residencial José Bonifácio     6\n",
       "Jardim Celeste                          6\n",
       "Piqueri                                 6\n",
       "Parque Edu Chaves                       6\n",
       "Vila Basileia                           6\n",
       "Bom Retiro                              4\n",
       "Vila União                              4\n",
       "Vila Paulista                           4\n",
       "Vila Paiva                              3\n",
       "Vila Cruz Das Almas                     2\n",
       "Sítio Pinheirinho                       2\n",
       "Morro Dos Ingleses                      2\n",
       "Vila Suzana                             2\n",
       "Vila Deodoro                            2\n",
       "Jardim Brasil                           1\n",
       "Jardim Íris                             1\n",
       "Santa Efigênia                          1\n",
       "Parque Rebouças                         1\n",
       "Jardim América Da Penha                 1\n",
       "Name: bairro, dtype: int64"
      ]
     },
     "execution_count": 39,
     "metadata": {},
     "output_type": "execute_result"
    }
   ],
   "source": [
    "df['bairro'].value_counts().tail(25)"
   ]
  },
  {
   "cell_type": "code",
   "execution_count": 40,
   "metadata": {},
   "outputs": [],
   "source": [
    "drop_list = dict(df['bairro'].value_counts().tail(25))"
   ]
  },
  {
   "cell_type": "code",
   "execution_count": 41,
   "metadata": {},
   "outputs": [],
   "source": [
    "drop_list = list(drop_list.keys())"
   ]
  },
  {
   "cell_type": "code",
   "execution_count": 42,
   "metadata": {},
   "outputs": [],
   "source": [
    "df = df.set_index('bairro')"
   ]
  },
  {
   "cell_type": "code",
   "execution_count": 43,
   "metadata": {},
   "outputs": [],
   "source": [
    "df = df.drop(drop_list)"
   ]
  },
  {
   "cell_type": "code",
   "execution_count": 46,
   "metadata": {},
   "outputs": [],
   "source": [
    "df = df.reset_index()"
   ]
  },
  {
   "cell_type": "code",
   "execution_count": 48,
   "metadata": {},
   "outputs": [
    {
     "data": {
      "text/plain": [
       "Brás                   12\n",
       "Vila Dom Pedro Ii      12\n",
       "Carandiru              11\n",
       "Quinta Da Paineira     10\n",
       "Jardim Ampliação       10\n",
       "Name: bairro, dtype: int64"
      ]
     },
     "execution_count": 48,
     "metadata": {},
     "output_type": "execute_result"
    }
   ],
   "source": [
    "df.bairro.value_counts().tail()"
   ]
  },
  {
   "cell_type": "markdown",
   "metadata": {},
   "source": [
    " - Renomeando colunas e reordenando."
   ]
  },
  {
   "cell_type": "code",
   "execution_count": 60,
   "metadata": {},
   "outputs": [
    {
     "data": {
      "text/plain": [
       "Index(['bairro', 'zona_bairro', 'enderecos_lista', 'aluguel', 'area',\n",
       "       'quartos', 'zona'],\n",
       "      dtype='object')"
      ]
     },
     "execution_count": 60,
     "metadata": {},
     "output_type": "execute_result"
    }
   ],
   "source": [
    "df.columns"
   ]
  },
  {
   "cell_type": "code",
   "execution_count": 61,
   "metadata": {},
   "outputs": [],
   "source": [
    "df = df.drop('zona_bairro', axis =1)"
   ]
  },
  {
   "cell_type": "code",
   "execution_count": 64,
   "metadata": {},
   "outputs": [],
   "source": [
    "df = df.drop('enderecos_lista', axis=1)"
   ]
  },
  {
   "cell_type": "code",
   "execution_count": 65,
   "metadata": {},
   "outputs": [],
   "source": [
    "df = df[['bairro','zona', 'area', 'quartos','aluguel']]"
   ]
  },
  {
   "cell_type": "code",
   "execution_count": 66,
   "metadata": {},
   "outputs": [
    {
     "data": {
      "text/html": [
       "<div>\n",
       "<style scoped>\n",
       "    .dataframe tbody tr th:only-of-type {\n",
       "        vertical-align: middle;\n",
       "    }\n",
       "\n",
       "    .dataframe tbody tr th {\n",
       "        vertical-align: top;\n",
       "    }\n",
       "\n",
       "    .dataframe thead th {\n",
       "        text-align: right;\n",
       "    }\n",
       "</style>\n",
       "<table border=\"1\" class=\"dataframe\">\n",
       "  <thead>\n",
       "    <tr style=\"text-align: right;\">\n",
       "      <th></th>\n",
       "      <th>bairro</th>\n",
       "      <th>zona</th>\n",
       "      <th>area</th>\n",
       "      <th>quartos</th>\n",
       "      <th>aluguel</th>\n",
       "    </tr>\n",
       "  </thead>\n",
       "  <tbody>\n",
       "    <tr>\n",
       "      <th>0</th>\n",
       "      <td>Bela Vista</td>\n",
       "      <td>centro</td>\n",
       "      <td>86</td>\n",
       "      <td>2</td>\n",
       "      <td>2200</td>\n",
       "    </tr>\n",
       "    <tr>\n",
       "      <th>1</th>\n",
       "      <td>Bela Vista</td>\n",
       "      <td>centro</td>\n",
       "      <td>35</td>\n",
       "      <td>1</td>\n",
       "      <td>3200</td>\n",
       "    </tr>\n",
       "    <tr>\n",
       "      <th>2</th>\n",
       "      <td>Bela Vista</td>\n",
       "      <td>centro</td>\n",
       "      <td>35</td>\n",
       "      <td>1</td>\n",
       "      <td>3700</td>\n",
       "    </tr>\n",
       "    <tr>\n",
       "      <th>3</th>\n",
       "      <td>Bela Vista</td>\n",
       "      <td>centro</td>\n",
       "      <td>35</td>\n",
       "      <td>1</td>\n",
       "      <td>3700</td>\n",
       "    </tr>\n",
       "    <tr>\n",
       "      <th>4</th>\n",
       "      <td>Bela Vista</td>\n",
       "      <td>centro</td>\n",
       "      <td>25</td>\n",
       "      <td>1</td>\n",
       "      <td>1800</td>\n",
       "    </tr>\n",
       "  </tbody>\n",
       "</table>\n",
       "</div>"
      ],
      "text/plain": [
       "       bairro    zona area quartos  aluguel\n",
       "0  Bela Vista  centro   86       2     2200\n",
       "1  Bela Vista  centro   35       1     3200\n",
       "2  Bela Vista  centro   35       1     3700\n",
       "3  Bela Vista  centro   35       1     3700\n",
       "4  Bela Vista  centro   25       1     1800"
      ]
     },
     "execution_count": 66,
     "metadata": {},
     "output_type": "execute_result"
    }
   ],
   "source": [
    "df.head()"
   ]
  },
  {
   "cell_type": "code",
   "execution_count": 67,
   "metadata": {},
   "outputs": [],
   "source": [
    "df.to_csv('dados_aluguel_manipulados.csv', index =False , encoding = 'utf-8')"
   ]
  },
  {
   "cell_type": "code",
   "execution_count": 68,
   "metadata": {},
   "outputs": [
    {
     "data": {
      "text/html": [
       "<div>\n",
       "<style scoped>\n",
       "    .dataframe tbody tr th:only-of-type {\n",
       "        vertical-align: middle;\n",
       "    }\n",
       "\n",
       "    .dataframe tbody tr th {\n",
       "        vertical-align: top;\n",
       "    }\n",
       "\n",
       "    .dataframe thead th {\n",
       "        text-align: right;\n",
       "    }\n",
       "</style>\n",
       "<table border=\"1\" class=\"dataframe\">\n",
       "  <thead>\n",
       "    <tr style=\"text-align: right;\">\n",
       "      <th></th>\n",
       "      <th>bairro</th>\n",
       "      <th>zona</th>\n",
       "      <th>area</th>\n",
       "      <th>quartos</th>\n",
       "      <th>aluguel</th>\n",
       "    </tr>\n",
       "  </thead>\n",
       "  <tbody>\n",
       "    <tr>\n",
       "      <th>0</th>\n",
       "      <td>Bela Vista</td>\n",
       "      <td>centro</td>\n",
       "      <td>86.0</td>\n",
       "      <td>2.0</td>\n",
       "      <td>2200</td>\n",
       "    </tr>\n",
       "    <tr>\n",
       "      <th>1</th>\n",
       "      <td>Bela Vista</td>\n",
       "      <td>centro</td>\n",
       "      <td>35.0</td>\n",
       "      <td>1.0</td>\n",
       "      <td>3200</td>\n",
       "    </tr>\n",
       "    <tr>\n",
       "      <th>2</th>\n",
       "      <td>Bela Vista</td>\n",
       "      <td>centro</td>\n",
       "      <td>35.0</td>\n",
       "      <td>1.0</td>\n",
       "      <td>3700</td>\n",
       "    </tr>\n",
       "    <tr>\n",
       "      <th>3</th>\n",
       "      <td>Bela Vista</td>\n",
       "      <td>centro</td>\n",
       "      <td>35.0</td>\n",
       "      <td>1.0</td>\n",
       "      <td>3700</td>\n",
       "    </tr>\n",
       "    <tr>\n",
       "      <th>4</th>\n",
       "      <td>Bela Vista</td>\n",
       "      <td>centro</td>\n",
       "      <td>25.0</td>\n",
       "      <td>1.0</td>\n",
       "      <td>1800</td>\n",
       "    </tr>\n",
       "    <tr>\n",
       "      <th>...</th>\n",
       "      <td>...</td>\n",
       "      <td>...</td>\n",
       "      <td>...</td>\n",
       "      <td>...</td>\n",
       "      <td>...</td>\n",
       "    </tr>\n",
       "    <tr>\n",
       "      <th>2330</th>\n",
       "      <td>Carandiru</td>\n",
       "      <td>-norte</td>\n",
       "      <td>180.0</td>\n",
       "      <td>3.0</td>\n",
       "      <td>3500</td>\n",
       "    </tr>\n",
       "    <tr>\n",
       "      <th>2331</th>\n",
       "      <td>Carandiru</td>\n",
       "      <td>-norte</td>\n",
       "      <td>150.0</td>\n",
       "      <td>1.0</td>\n",
       "      <td>1550</td>\n",
       "    </tr>\n",
       "    <tr>\n",
       "      <th>2332</th>\n",
       "      <td>Carandiru</td>\n",
       "      <td>-norte</td>\n",
       "      <td>120.0</td>\n",
       "      <td>2.0</td>\n",
       "      <td>1700</td>\n",
       "    </tr>\n",
       "    <tr>\n",
       "      <th>2333</th>\n",
       "      <td>Carandiru</td>\n",
       "      <td>-norte</td>\n",
       "      <td>125.0</td>\n",
       "      <td>2.0</td>\n",
       "      <td>2500</td>\n",
       "    </tr>\n",
       "    <tr>\n",
       "      <th>2334</th>\n",
       "      <td>Carandiru</td>\n",
       "      <td>-norte</td>\n",
       "      <td>50.0</td>\n",
       "      <td>2.0</td>\n",
       "      <td>1300</td>\n",
       "    </tr>\n",
       "  </tbody>\n",
       "</table>\n",
       "<p>2335 rows × 5 columns</p>\n",
       "</div>"
      ],
      "text/plain": [
       "          bairro    zona   area  quartos  aluguel\n",
       "0     Bela Vista  centro   86.0      2.0     2200\n",
       "1     Bela Vista  centro   35.0      1.0     3200\n",
       "2     Bela Vista  centro   35.0      1.0     3700\n",
       "3     Bela Vista  centro   35.0      1.0     3700\n",
       "4     Bela Vista  centro   25.0      1.0     1800\n",
       "...          ...     ...    ...      ...      ...\n",
       "2330  Carandiru   -norte  180.0      3.0     3500\n",
       "2331  Carandiru   -norte  150.0      1.0     1550\n",
       "2332  Carandiru   -norte  120.0      2.0     1700\n",
       "2333  Carandiru   -norte  125.0      2.0     2500\n",
       "2334  Carandiru   -norte   50.0      2.0     1300\n",
       "\n",
       "[2335 rows x 5 columns]"
      ]
     },
     "execution_count": 68,
     "metadata": {},
     "output_type": "execute_result"
    }
   ],
   "source": [
    "pd.read_csv('dados_aluguel_manipulados.csv', encoding = 'utf-8')"
   ]
  },
  {
   "cell_type": "code",
   "execution_count": null,
   "metadata": {},
   "outputs": [],
   "source": []
  }
 ],
 "metadata": {
  "kernelspec": {
   "display_name": "Python 3",
   "language": "python",
   "name": "python3"
  },
  "language_info": {
   "codemirror_mode": {
    "name": "ipython",
    "version": 3
   },
   "file_extension": ".py",
   "mimetype": "text/x-python",
   "name": "python",
   "nbconvert_exporter": "python",
   "pygments_lexer": "ipython3",
   "version": "3.8.3"
  }
 },
 "nbformat": 4,
 "nbformat_minor": 4
}
