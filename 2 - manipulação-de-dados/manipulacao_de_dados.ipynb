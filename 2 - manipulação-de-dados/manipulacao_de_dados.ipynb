{
 "cells": [
  {
   "cell_type": "markdown",
   "metadata": {},
   "source": []
  },
  {
   "cell_type": "code",
   "execution_count": 1,
   "metadata": {},
   "outputs": [],
   "source": [
    "#  Importando as bibliotecas\n",
    "import pandas as pd\n",
    "import numpy as np\n",
    "import re"
   ]
  },
  {
   "cell_type": "code",
   "execution_count": 2,
   "metadata": {},
   "outputs": [],
   "source": [
    "url = 'https://raw.githubusercontent.com/robertferro/calculadora-aluguel-ml/main/1%20-%20web-scraping/dados_aluguels_imoveis_ml_sao_paulo.csv'\n",
    "df = pd.read_csv(url ,thousands = '.', encoding = 'latin')"
   ]
  },
  {
   "cell_type": "code",
   "execution_count": 3,
   "metadata": {},
   "outputs": [
    {
     "data": {
      "text/plain": [
       "['82 m² construídos3 quartos',\n",
       " '48 m² construídos1 quarto',\n",
       " '105 m² construídos3 quartos',\n",
       " '95 m² construídos3 quartos',\n",
       " '50 m² construídos2 quartos',\n",
       " '50 m² construídos2 quartos',\n",
       " '60 m² construídos2 quartos',\n",
       " '51 m² construídos2 quartos',\n",
       " '58 m² construídos2 quartos',\n",
       " '65 m² construídos3 quartos']"
      ]
     },
     "execution_count": 3,
     "metadata": {},
     "output_type": "execute_result"
    }
   ],
   "source": [
    "list(df.area_quartos)[0:10]"
   ]
  },
  {
   "cell_type": "code",
   "execution_count": 4,
   "metadata": {},
   "outputs": [
    {
     "data": {
      "text/html": [
       "<div>\n",
       "<style scoped>\n",
       "    .dataframe tbody tr th:only-of-type {\n",
       "        vertical-align: middle;\n",
       "    }\n",
       "\n",
       "    .dataframe tbody tr th {\n",
       "        vertical-align: top;\n",
       "    }\n",
       "\n",
       "    .dataframe thead th {\n",
       "        text-align: right;\n",
       "    }\n",
       "</style>\n",
       "<table border=\"1\" class=\"dataframe\">\n",
       "  <thead>\n",
       "    <tr style=\"text-align: right;\">\n",
       "      <th></th>\n",
       "      <th>zona</th>\n",
       "      <th>area_quartos</th>\n",
       "      <th>enderecos_lista</th>\n",
       "      <th>aluguel</th>\n",
       "    </tr>\n",
       "  </thead>\n",
       "  <tbody>\n",
       "    <tr>\n",
       "      <th>0</th>\n",
       "      <td>norte</td>\n",
       "      <td>82 m² construídos3 quartos</td>\n",
       "      <td>Rua Dona Maria Quedas, Jardim Andaraí, São Pau...</td>\n",
       "      <td>1098</td>\n",
       "    </tr>\n",
       "    <tr>\n",
       "      <th>1</th>\n",
       "      <td>norte</td>\n",
       "      <td>48 m² construídos1 quarto</td>\n",
       "      <td>R Desembargador Euclides Da Silveira, Casa Ver...</td>\n",
       "      <td>2000</td>\n",
       "    </tr>\n",
       "    <tr>\n",
       "      <th>2</th>\n",
       "      <td>norte</td>\n",
       "      <td>105 m² construídos3 quartos</td>\n",
       "      <td>Av Braz Leme, Santana, São Paulo Zona Norte, S...</td>\n",
       "      <td>3000</td>\n",
       "    </tr>\n",
       "    <tr>\n",
       "      <th>3</th>\n",
       "      <td>norte</td>\n",
       "      <td>95 m² construídos3 quartos</td>\n",
       "      <td>Avenida Nova Cantareira, Tucuruvi, São Paulo Z...</td>\n",
       "      <td>1814</td>\n",
       "    </tr>\n",
       "    <tr>\n",
       "      <th>4</th>\n",
       "      <td>norte</td>\n",
       "      <td>50 m² construídos2 quartos</td>\n",
       "      <td>Parada Pinto, Vila Nova Cachoeirinha, São Paul...</td>\n",
       "      <td>1100</td>\n",
       "    </tr>\n",
       "  </tbody>\n",
       "</table>\n",
       "</div>"
      ],
      "text/plain": [
       "    zona                 area_quartos  \\\n",
       "0  norte   82 m² construídos3 quartos   \n",
       "1  norte    48 m² construídos1 quarto   \n",
       "2  norte  105 m² construídos3 quartos   \n",
       "3  norte   95 m² construídos3 quartos   \n",
       "4  norte   50 m² construídos2 quartos   \n",
       "\n",
       "                                     enderecos_lista  aluguel  \n",
       "0  Rua Dona Maria Quedas, Jardim Andaraí, São Pau...     1098  \n",
       "1  R Desembargador Euclides Da Silveira, Casa Ver...     2000  \n",
       "2  Av Braz Leme, Santana, São Paulo Zona Norte, S...     3000  \n",
       "3  Avenida Nova Cantareira, Tucuruvi, São Paulo Z...     1814  \n",
       "4  Parada Pinto, Vila Nova Cachoeirinha, São Paul...     1100  "
      ]
     },
     "execution_count": 4,
     "metadata": {},
     "output_type": "execute_result"
    }
   ],
   "source": [
    "df.head()"
   ]
  },
  {
   "cell_type": "markdown",
   "metadata": {},
   "source": [
    "## Pegando a área dos quartos"
   ]
  },
  {
   "cell_type": "code",
   "execution_count": 5,
   "metadata": {},
   "outputs": [],
   "source": [
    "# Criei esse subset com algumas das situacoes que encontramos\n",
    "area_quartos_subset = ['1,360 m² totais',\n",
    "                       '2 quartos',\n",
    "                       '53 m² construídos2 quartos',\n",
    "                        '280 m² construídos',\n",
    "                        '2,600 m² construídos']"
   ]
  },
  {
   "cell_type": "code",
   "execution_count": 6,
   "metadata": {},
   "outputs": [],
   "source": [
    "entrada = '1,360 m² totais'"
   ]
  },
  {
   "cell_type": "code",
   "execution_count": 7,
   "metadata": {},
   "outputs": [],
   "source": [
    "def pegar_area(entrada):\n",
    "    if ' m²' in entrada:\n",
    "      area = entrada.split(' m²')[0]\n",
    "      area = area.replace(',', '')\n",
    "    else:\n",
    "      area = np.nan\n",
    "    return area"
   ]
  },
  {
   "cell_type": "code",
   "execution_count": 8,
   "metadata": {},
   "outputs": [],
   "source": [
    "df['area'] = df['area_quartos'].apply(pegar_area)"
   ]
  },
  {
   "cell_type": "code",
   "execution_count": 9,
   "metadata": {},
   "outputs": [
    {
     "data": {
      "text/html": [
       "<div>\n",
       "<style scoped>\n",
       "    .dataframe tbody tr th:only-of-type {\n",
       "        vertical-align: middle;\n",
       "    }\n",
       "\n",
       "    .dataframe tbody tr th {\n",
       "        vertical-align: top;\n",
       "    }\n",
       "\n",
       "    .dataframe thead th {\n",
       "        text-align: right;\n",
       "    }\n",
       "</style>\n",
       "<table border=\"1\" class=\"dataframe\">\n",
       "  <thead>\n",
       "    <tr style=\"text-align: right;\">\n",
       "      <th></th>\n",
       "      <th>zona</th>\n",
       "      <th>area_quartos</th>\n",
       "      <th>enderecos_lista</th>\n",
       "      <th>aluguel</th>\n",
       "      <th>area</th>\n",
       "    </tr>\n",
       "  </thead>\n",
       "  <tbody>\n",
       "    <tr>\n",
       "      <th>0</th>\n",
       "      <td>norte</td>\n",
       "      <td>82 m² construídos3 quartos</td>\n",
       "      <td>Rua Dona Maria Quedas, Jardim Andaraí, São Pau...</td>\n",
       "      <td>1098</td>\n",
       "      <td>82</td>\n",
       "    </tr>\n",
       "    <tr>\n",
       "      <th>1</th>\n",
       "      <td>norte</td>\n",
       "      <td>48 m² construídos1 quarto</td>\n",
       "      <td>R Desembargador Euclides Da Silveira, Casa Ver...</td>\n",
       "      <td>2000</td>\n",
       "      <td>48</td>\n",
       "    </tr>\n",
       "    <tr>\n",
       "      <th>2</th>\n",
       "      <td>norte</td>\n",
       "      <td>105 m² construídos3 quartos</td>\n",
       "      <td>Av Braz Leme, Santana, São Paulo Zona Norte, S...</td>\n",
       "      <td>3000</td>\n",
       "      <td>105</td>\n",
       "    </tr>\n",
       "    <tr>\n",
       "      <th>3</th>\n",
       "      <td>norte</td>\n",
       "      <td>95 m² construídos3 quartos</td>\n",
       "      <td>Avenida Nova Cantareira, Tucuruvi, São Paulo Z...</td>\n",
       "      <td>1814</td>\n",
       "      <td>95</td>\n",
       "    </tr>\n",
       "    <tr>\n",
       "      <th>4</th>\n",
       "      <td>norte</td>\n",
       "      <td>50 m² construídos2 quartos</td>\n",
       "      <td>Parada Pinto, Vila Nova Cachoeirinha, São Paul...</td>\n",
       "      <td>1100</td>\n",
       "      <td>50</td>\n",
       "    </tr>\n",
       "  </tbody>\n",
       "</table>\n",
       "</div>"
      ],
      "text/plain": [
       "    zona                 area_quartos  \\\n",
       "0  norte   82 m² construídos3 quartos   \n",
       "1  norte    48 m² construídos1 quarto   \n",
       "2  norte  105 m² construídos3 quartos   \n",
       "3  norte   95 m² construídos3 quartos   \n",
       "4  norte   50 m² construídos2 quartos   \n",
       "\n",
       "                                     enderecos_lista  aluguel area  \n",
       "0  Rua Dona Maria Quedas, Jardim Andaraí, São Pau...     1098   82  \n",
       "1  R Desembargador Euclides Da Silveira, Casa Ver...     2000   48  \n",
       "2  Av Braz Leme, Santana, São Paulo Zona Norte, S...     3000  105  \n",
       "3  Avenida Nova Cantareira, Tucuruvi, São Paulo Z...     1814   95  \n",
       "4  Parada Pinto, Vila Nova Cachoeirinha, São Paul...     1100   50  "
      ]
     },
     "execution_count": 9,
     "metadata": {},
     "output_type": "execute_result"
    }
   ],
   "source": [
    "df.head()"
   ]
  },
  {
   "cell_type": "markdown",
   "metadata": {},
   "source": [
    "## Pegando a quantidade de quartos"
   ]
  },
  {
   "cell_type": "code",
   "execution_count": 10,
   "metadata": {},
   "outputs": [],
   "source": [
    "entrada = '2 quartos'"
   ]
  },
  {
   "cell_type": "code",
   "execution_count": 11,
   "metadata": {},
   "outputs": [
    {
     "data": {
      "text/plain": [
       "'2'"
      ]
     },
     "execution_count": 11,
     "metadata": {},
     "output_type": "execute_result"
    }
   ],
   "source": [
    "re.findall('(.?) quarto', entrada)[0]"
   ]
  },
  {
   "cell_type": "code",
   "execution_count": 12,
   "metadata": {},
   "outputs": [],
   "source": [
    "area_quartos_subset = ['1,360 m² totais',\n",
    "                       '2 quartos',\n",
    "                       '53 m² construídos2 quartos',\n",
    "                        '280 m² construídos',\n",
    "                        '2,600 m² construídos']"
   ]
  },
  {
   "cell_type": "code",
   "execution_count": 13,
   "metadata": {},
   "outputs": [],
   "source": [
    "def extrair_quartos(entrada):\n",
    "    if 'quarto' in entrada:\n",
    "        n_quartos = re.findall('(\\d*) quarto', entrada)[0]\n",
    "    else:\n",
    "        n_quartos = np.nan\n",
    "    return n_quartos"
   ]
  },
  {
   "cell_type": "code",
   "execution_count": 14,
   "metadata": {},
   "outputs": [],
   "source": [
    "area_quartos_subset = ['1,360 m² totais',\n",
    "                       '2 quartos',\n",
    "                       '53 m² construídos2 quartos',\n",
    "                        '280 m² construídos',\n",
    "                        '2,600 m² construídos']"
   ]
  },
  {
   "cell_type": "code",
   "execution_count": 15,
   "metadata": {},
   "outputs": [
    {
     "name": "stdout",
     "output_type": "stream",
     "text": [
      "nan\n",
      "2\n",
      "2\n",
      "nan\n",
      "nan\n"
     ]
    }
   ],
   "source": [
    "for aq in area_quartos_subset:\n",
    "  print(extrair_quartos(aq))"
   ]
  },
  {
   "cell_type": "code",
   "execution_count": 16,
   "metadata": {},
   "outputs": [],
   "source": [
    "df['quartos'] = df['area_quartos'].apply(extrair_quartos)"
   ]
  },
  {
   "cell_type": "code",
   "execution_count": 17,
   "metadata": {},
   "outputs": [
    {
     "data": {
      "text/html": [
       "<div>\n",
       "<style scoped>\n",
       "    .dataframe tbody tr th:only-of-type {\n",
       "        vertical-align: middle;\n",
       "    }\n",
       "\n",
       "    .dataframe tbody tr th {\n",
       "        vertical-align: top;\n",
       "    }\n",
       "\n",
       "    .dataframe thead th {\n",
       "        text-align: right;\n",
       "    }\n",
       "</style>\n",
       "<table border=\"1\" class=\"dataframe\">\n",
       "  <thead>\n",
       "    <tr style=\"text-align: right;\">\n",
       "      <th></th>\n",
       "      <th>zona</th>\n",
       "      <th>area_quartos</th>\n",
       "      <th>enderecos_lista</th>\n",
       "      <th>aluguel</th>\n",
       "      <th>area</th>\n",
       "      <th>quartos</th>\n",
       "    </tr>\n",
       "  </thead>\n",
       "  <tbody>\n",
       "    <tr>\n",
       "      <th>0</th>\n",
       "      <td>norte</td>\n",
       "      <td>82 m² construídos3 quartos</td>\n",
       "      <td>Rua Dona Maria Quedas, Jardim Andaraí, São Pau...</td>\n",
       "      <td>1098</td>\n",
       "      <td>82</td>\n",
       "      <td>3</td>\n",
       "    </tr>\n",
       "    <tr>\n",
       "      <th>1</th>\n",
       "      <td>norte</td>\n",
       "      <td>48 m² construídos1 quarto</td>\n",
       "      <td>R Desembargador Euclides Da Silveira, Casa Ver...</td>\n",
       "      <td>2000</td>\n",
       "      <td>48</td>\n",
       "      <td>1</td>\n",
       "    </tr>\n",
       "    <tr>\n",
       "      <th>2</th>\n",
       "      <td>norte</td>\n",
       "      <td>105 m² construídos3 quartos</td>\n",
       "      <td>Av Braz Leme, Santana, São Paulo Zona Norte, S...</td>\n",
       "      <td>3000</td>\n",
       "      <td>105</td>\n",
       "      <td>3</td>\n",
       "    </tr>\n",
       "    <tr>\n",
       "      <th>3</th>\n",
       "      <td>norte</td>\n",
       "      <td>95 m² construídos3 quartos</td>\n",
       "      <td>Avenida Nova Cantareira, Tucuruvi, São Paulo Z...</td>\n",
       "      <td>1814</td>\n",
       "      <td>95</td>\n",
       "      <td>3</td>\n",
       "    </tr>\n",
       "    <tr>\n",
       "      <th>4</th>\n",
       "      <td>norte</td>\n",
       "      <td>50 m² construídos2 quartos</td>\n",
       "      <td>Parada Pinto, Vila Nova Cachoeirinha, São Paul...</td>\n",
       "      <td>1100</td>\n",
       "      <td>50</td>\n",
       "      <td>2</td>\n",
       "    </tr>\n",
       "  </tbody>\n",
       "</table>\n",
       "</div>"
      ],
      "text/plain": [
       "    zona                 area_quartos  \\\n",
       "0  norte   82 m² construídos3 quartos   \n",
       "1  norte    48 m² construídos1 quarto   \n",
       "2  norte  105 m² construídos3 quartos   \n",
       "3  norte   95 m² construídos3 quartos   \n",
       "4  norte   50 m² construídos2 quartos   \n",
       "\n",
       "                                     enderecos_lista  aluguel area quartos  \n",
       "0  Rua Dona Maria Quedas, Jardim Andaraí, São Pau...     1098   82       3  \n",
       "1  R Desembargador Euclides Da Silveira, Casa Ver...     2000   48       1  \n",
       "2  Av Braz Leme, Santana, São Paulo Zona Norte, S...     3000  105       3  \n",
       "3  Avenida Nova Cantareira, Tucuruvi, São Paulo Z...     1814   95       3  \n",
       "4  Parada Pinto, Vila Nova Cachoeirinha, São Paul...     1100   50       2  "
      ]
     },
     "execution_count": 17,
     "metadata": {},
     "output_type": "execute_result"
    }
   ],
   "source": [
    "df.head()"
   ]
  },
  {
   "cell_type": "code",
   "execution_count": 18,
   "metadata": {},
   "outputs": [],
   "source": [
    "df = df.drop('area_quartos', axis = 1)"
   ]
  },
  {
   "cell_type": "code",
   "execution_count": 19,
   "metadata": {},
   "outputs": [
    {
     "data": {
      "text/html": [
       "<div>\n",
       "<style scoped>\n",
       "    .dataframe tbody tr th:only-of-type {\n",
       "        vertical-align: middle;\n",
       "    }\n",
       "\n",
       "    .dataframe tbody tr th {\n",
       "        vertical-align: top;\n",
       "    }\n",
       "\n",
       "    .dataframe thead th {\n",
       "        text-align: right;\n",
       "    }\n",
       "</style>\n",
       "<table border=\"1\" class=\"dataframe\">\n",
       "  <thead>\n",
       "    <tr style=\"text-align: right;\">\n",
       "      <th></th>\n",
       "      <th>zona</th>\n",
       "      <th>enderecos_lista</th>\n",
       "      <th>aluguel</th>\n",
       "      <th>area</th>\n",
       "      <th>quartos</th>\n",
       "    </tr>\n",
       "  </thead>\n",
       "  <tbody>\n",
       "    <tr>\n",
       "      <th>0</th>\n",
       "      <td>norte</td>\n",
       "      <td>Rua Dona Maria Quedas, Jardim Andaraí, São Pau...</td>\n",
       "      <td>1098</td>\n",
       "      <td>82</td>\n",
       "      <td>3</td>\n",
       "    </tr>\n",
       "    <tr>\n",
       "      <th>1</th>\n",
       "      <td>norte</td>\n",
       "      <td>R Desembargador Euclides Da Silveira, Casa Ver...</td>\n",
       "      <td>2000</td>\n",
       "      <td>48</td>\n",
       "      <td>1</td>\n",
       "    </tr>\n",
       "    <tr>\n",
       "      <th>2</th>\n",
       "      <td>norte</td>\n",
       "      <td>Av Braz Leme, Santana, São Paulo Zona Norte, S...</td>\n",
       "      <td>3000</td>\n",
       "      <td>105</td>\n",
       "      <td>3</td>\n",
       "    </tr>\n",
       "    <tr>\n",
       "      <th>3</th>\n",
       "      <td>norte</td>\n",
       "      <td>Avenida Nova Cantareira, Tucuruvi, São Paulo Z...</td>\n",
       "      <td>1814</td>\n",
       "      <td>95</td>\n",
       "      <td>3</td>\n",
       "    </tr>\n",
       "    <tr>\n",
       "      <th>4</th>\n",
       "      <td>norte</td>\n",
       "      <td>Parada Pinto, Vila Nova Cachoeirinha, São Paul...</td>\n",
       "      <td>1100</td>\n",
       "      <td>50</td>\n",
       "      <td>2</td>\n",
       "    </tr>\n",
       "  </tbody>\n",
       "</table>\n",
       "</div>"
      ],
      "text/plain": [
       "    zona                                    enderecos_lista  aluguel area  \\\n",
       "0  norte  Rua Dona Maria Quedas, Jardim Andaraí, São Pau...     1098   82   \n",
       "1  norte  R Desembargador Euclides Da Silveira, Casa Ver...     2000   48   \n",
       "2  norte  Av Braz Leme, Santana, São Paulo Zona Norte, S...     3000  105   \n",
       "3  norte  Avenida Nova Cantareira, Tucuruvi, São Paulo Z...     1814   95   \n",
       "4  norte  Parada Pinto, Vila Nova Cachoeirinha, São Paul...     1100   50   \n",
       "\n",
       "  quartos  \n",
       "0       3  \n",
       "1       1  \n",
       "2       3  \n",
       "3       3  \n",
       "4       2  "
      ]
     },
     "execution_count": 19,
     "metadata": {},
     "output_type": "execute_result"
    }
   ],
   "source": [
    "df.head()"
   ]
  },
  {
   "cell_type": "code",
   "execution_count": 20,
   "metadata": {},
   "outputs": [
    {
     "data": {
      "text/plain": [
       "(1536, 5)"
      ]
     },
     "execution_count": 20,
     "metadata": {},
     "output_type": "execute_result"
    }
   ],
   "source": [
    "df.shape"
   ]
  },
  {
   "cell_type": "markdown",
   "metadata": {},
   "source": [
    "## Pegando a rua"
   ]
  },
  {
   "cell_type": "code",
   "execution_count": 21,
   "metadata": {},
   "outputs": [],
   "source": [
    "dados = df.copy()"
   ]
  },
  {
   "cell_type": "code",
   "execution_count": 22,
   "metadata": {},
   "outputs": [
    {
     "data": {
      "text/html": [
       "<div>\n",
       "<style scoped>\n",
       "    .dataframe tbody tr th:only-of-type {\n",
       "        vertical-align: middle;\n",
       "    }\n",
       "\n",
       "    .dataframe tbody tr th {\n",
       "        vertical-align: top;\n",
       "    }\n",
       "\n",
       "    .dataframe thead th {\n",
       "        text-align: right;\n",
       "    }\n",
       "</style>\n",
       "<table border=\"1\" class=\"dataframe\">\n",
       "  <thead>\n",
       "    <tr style=\"text-align: right;\">\n",
       "      <th></th>\n",
       "      <th>0</th>\n",
       "      <th>1</th>\n",
       "      <th>2</th>\n",
       "    </tr>\n",
       "  </thead>\n",
       "  <tbody>\n",
       "    <tr>\n",
       "      <th>0</th>\n",
       "      <td>Rua Dona Maria Quedas</td>\n",
       "      <td>Jardim Andaraí</td>\n",
       "      <td>São Paulo Zona Norte, São Paulo</td>\n",
       "    </tr>\n",
       "    <tr>\n",
       "      <th>1</th>\n",
       "      <td>R Desembargador Euclides Da Silveira</td>\n",
       "      <td>Casa Verde</td>\n",
       "      <td>São Paulo Zona Norte, São Paulo</td>\n",
       "    </tr>\n",
       "    <tr>\n",
       "      <th>2</th>\n",
       "      <td>Av Braz Leme</td>\n",
       "      <td>Santana</td>\n",
       "      <td>São Paulo Zona Norte, São Paulo</td>\n",
       "    </tr>\n",
       "    <tr>\n",
       "      <th>3</th>\n",
       "      <td>Avenida Nova Cantareira</td>\n",
       "      <td>Tucuruvi</td>\n",
       "      <td>São Paulo Zona Norte, São Paulo</td>\n",
       "    </tr>\n",
       "    <tr>\n",
       "      <th>4</th>\n",
       "      <td>Parada Pinto</td>\n",
       "      <td>Vila Nova Cachoeirinha</td>\n",
       "      <td>São Paulo Zona Norte, São Paulo</td>\n",
       "    </tr>\n",
       "    <tr>\n",
       "      <th>...</th>\n",
       "      <td>...</td>\n",
       "      <td>...</td>\n",
       "      <td>...</td>\n",
       "    </tr>\n",
       "    <tr>\n",
       "      <th>1531</th>\n",
       "      <td>Rua Torres Da Barra</td>\n",
       "      <td>Água Branca</td>\n",
       "      <td>São Paulo Zona Oeste, São Paulo</td>\n",
       "    </tr>\n",
       "    <tr>\n",
       "      <th>1532</th>\n",
       "      <td>Rua M.m.d.c</td>\n",
       "      <td>Butantã</td>\n",
       "      <td>São Paulo Zona Oeste, São Paulo</td>\n",
       "    </tr>\n",
       "    <tr>\n",
       "      <th>1533</th>\n",
       "      <td>Av.dona Helena Pereira De Moraes</td>\n",
       "      <td>Parque Do Morumbi</td>\n",
       "      <td>São Paulo Zona Oeste, São Paulo</td>\n",
       "    </tr>\n",
       "    <tr>\n",
       "      <th>1534</th>\n",
       "      <td>Rua Acuruá</td>\n",
       "      <td>Vila Romana</td>\n",
       "      <td>São Paulo Zona Oeste, São Paulo</td>\n",
       "    </tr>\n",
       "    <tr>\n",
       "      <th>1535</th>\n",
       "      <td>Rua Caraíbas</td>\n",
       "      <td>Perdizes</td>\n",
       "      <td>São Paulo Zona Oeste, São Paulo</td>\n",
       "    </tr>\n",
       "  </tbody>\n",
       "</table>\n",
       "<p>1536 rows × 3 columns</p>\n",
       "</div>"
      ],
      "text/plain": [
       "                                         0                        1  \\\n",
       "0                    Rua Dona Maria Quedas           Jardim Andaraí   \n",
       "1     R Desembargador Euclides Da Silveira               Casa Verde   \n",
       "2                             Av Braz Leme                  Santana   \n",
       "3                  Avenida Nova Cantareira                 Tucuruvi   \n",
       "4                             Parada Pinto   Vila Nova Cachoeirinha   \n",
       "...                                    ...                      ...   \n",
       "1531                   Rua Torres Da Barra              Água Branca   \n",
       "1532                           Rua M.m.d.c                  Butantã   \n",
       "1533      Av.dona Helena Pereira De Moraes        Parque Do Morumbi   \n",
       "1534                            Rua Acuruá              Vila Romana   \n",
       "1535                          Rua Caraíbas                 Perdizes   \n",
       "\n",
       "                                     2  \n",
       "0      São Paulo Zona Norte, São Paulo  \n",
       "1      São Paulo Zona Norte, São Paulo  \n",
       "2      São Paulo Zona Norte, São Paulo  \n",
       "3      São Paulo Zona Norte, São Paulo  \n",
       "4      São Paulo Zona Norte, São Paulo  \n",
       "...                                ...  \n",
       "1531   São Paulo Zona Oeste, São Paulo  \n",
       "1532   São Paulo Zona Oeste, São Paulo  \n",
       "1533   São Paulo Zona Oeste, São Paulo  \n",
       "1534   São Paulo Zona Oeste, São Paulo  \n",
       "1535   São Paulo Zona Oeste, São Paulo  \n",
       "\n",
       "[1536 rows x 3 columns]"
      ]
     },
     "execution_count": 22,
     "metadata": {},
     "output_type": "execute_result"
    }
   ],
   "source": [
    "informacoes = dados['enderecos_lista'].str.split(\",\", n = 2, expand = True)\n",
    "informacoes"
   ]
  },
  {
   "cell_type": "code",
   "execution_count": 23,
   "metadata": {},
   "outputs": [
    {
     "data": {
      "text/html": [
       "<div>\n",
       "<style scoped>\n",
       "    .dataframe tbody tr th:only-of-type {\n",
       "        vertical-align: middle;\n",
       "    }\n",
       "\n",
       "    .dataframe tbody tr th {\n",
       "        vertical-align: top;\n",
       "    }\n",
       "\n",
       "    .dataframe thead th {\n",
       "        text-align: right;\n",
       "    }\n",
       "</style>\n",
       "<table border=\"1\" class=\"dataframe\">\n",
       "  <thead>\n",
       "    <tr style=\"text-align: right;\">\n",
       "      <th></th>\n",
       "      <th>zona</th>\n",
       "      <th>enderecos_lista</th>\n",
       "      <th>aluguel</th>\n",
       "      <th>area</th>\n",
       "      <th>quartos</th>\n",
       "      <th>rua_av</th>\n",
       "      <th>bairro</th>\n",
       "    </tr>\n",
       "  </thead>\n",
       "  <tbody>\n",
       "    <tr>\n",
       "      <th>0</th>\n",
       "      <td>norte</td>\n",
       "      <td>Rua Dona Maria Quedas, Jardim Andaraí, São Pau...</td>\n",
       "      <td>1098</td>\n",
       "      <td>82</td>\n",
       "      <td>3</td>\n",
       "      <td>Rua Dona Maria Quedas</td>\n",
       "      <td>Jardim Andaraí</td>\n",
       "    </tr>\n",
       "    <tr>\n",
       "      <th>1</th>\n",
       "      <td>norte</td>\n",
       "      <td>R Desembargador Euclides Da Silveira, Casa Ver...</td>\n",
       "      <td>2000</td>\n",
       "      <td>48</td>\n",
       "      <td>1</td>\n",
       "      <td>R Desembargador Euclides Da Silveira</td>\n",
       "      <td>Casa Verde</td>\n",
       "    </tr>\n",
       "    <tr>\n",
       "      <th>2</th>\n",
       "      <td>norte</td>\n",
       "      <td>Av Braz Leme, Santana, São Paulo Zona Norte, S...</td>\n",
       "      <td>3000</td>\n",
       "      <td>105</td>\n",
       "      <td>3</td>\n",
       "      <td>Av Braz Leme</td>\n",
       "      <td>Santana</td>\n",
       "    </tr>\n",
       "    <tr>\n",
       "      <th>3</th>\n",
       "      <td>norte</td>\n",
       "      <td>Avenida Nova Cantareira, Tucuruvi, São Paulo Z...</td>\n",
       "      <td>1814</td>\n",
       "      <td>95</td>\n",
       "      <td>3</td>\n",
       "      <td>Avenida Nova Cantareira</td>\n",
       "      <td>Tucuruvi</td>\n",
       "    </tr>\n",
       "    <tr>\n",
       "      <th>4</th>\n",
       "      <td>norte</td>\n",
       "      <td>Parada Pinto, Vila Nova Cachoeirinha, São Paul...</td>\n",
       "      <td>1100</td>\n",
       "      <td>50</td>\n",
       "      <td>2</td>\n",
       "      <td>Parada Pinto</td>\n",
       "      <td>Vila Nova Cachoeirinha</td>\n",
       "    </tr>\n",
       "  </tbody>\n",
       "</table>\n",
       "</div>"
      ],
      "text/plain": [
       "    zona                                    enderecos_lista  aluguel area  \\\n",
       "0  norte  Rua Dona Maria Quedas, Jardim Andaraí, São Pau...     1098   82   \n",
       "1  norte  R Desembargador Euclides Da Silveira, Casa Ver...     2000   48   \n",
       "2  norte  Av Braz Leme, Santana, São Paulo Zona Norte, S...     3000  105   \n",
       "3  norte  Avenida Nova Cantareira, Tucuruvi, São Paulo Z...     1814   95   \n",
       "4  norte  Parada Pinto, Vila Nova Cachoeirinha, São Paul...     1100   50   \n",
       "\n",
       "  quartos                                rua_av                   bairro  \n",
       "0       3                 Rua Dona Maria Quedas           Jardim Andaraí  \n",
       "1       1  R Desembargador Euclides Da Silveira               Casa Verde  \n",
       "2       3                          Av Braz Leme                  Santana  \n",
       "3       3               Avenida Nova Cantareira                 Tucuruvi  \n",
       "4       2                          Parada Pinto   Vila Nova Cachoeirinha  "
      ]
     },
     "execution_count": 23,
     "metadata": {},
     "output_type": "execute_result"
    }
   ],
   "source": [
    "dados['rua_av'] = informacoes[0]\n",
    "dados['bairro'] = informacoes[1]\n",
    "dados.head()"
   ]
  },
  {
   "cell_type": "markdown",
   "metadata": {},
   "source": [
    " - Criando a coluna rua ou avenida"
   ]
  },
  {
   "cell_type": "code",
   "execution_count": 24,
   "metadata": {},
   "outputs": [],
   "source": [
    "rua_avenida = dados['rua_av'].str.split(' ', n=1 , expand=True)"
   ]
  },
  {
   "cell_type": "code",
   "execution_count": 25,
   "metadata": {},
   "outputs": [
    {
     "data": {
      "text/plain": [
       "Rua            1203\n",
       "Avenida         206\n",
       "Alameda          17\n",
       "Praça            13\n",
       "Vila             11\n",
       "Av.              11\n",
       "R.                6\n",
       "Av                4\n",
       "Travessa          4\n",
       "Jardim            4\n",
       "R                 3\n",
       "Pinheiros         3\n",
       "Alto              3\n",
       "Amador            2\n",
       "Apucarana         2\n",
       "Capitão           2\n",
       "Penha             2\n",
       "Ataliba           1\n",
       "Cardoso           1\n",
       "Água              1\n",
       "Tv.               1\n",
       "Jorge             1\n",
       "Conceição         1\n",
       "Artur             1\n",
       "Das               1\n",
       "Josino            1\n",
       "Lucerna           1\n",
       "Rodovia           1\n",
       "Dr                1\n",
       "Sítio             1\n",
       "Largo             1\n",
       "General           1\n",
       "Doutor            1\n",
       "Parada            1\n",
       "Guaicurus         1\n",
       "Estrada           1\n",
       "Enrico            1\n",
       "Eça               1\n",
       "Antônio           1\n",
       "Brandão           1\n",
       "City              1\n",
       "Principe          1\n",
       "Belenzinho        1\n",
       "Pereira           1\n",
       "Voluntários       1\n",
       "Av.dona           1\n",
       "Acalanto          1\n",
       "Viaduto           1\n",
       "Nao               1\n",
       "Conjunto          1\n",
       "Epaminondas       1\n",
       "Lapa              1\n",
       "Narita            1\n",
       "Fagundes          1\n",
       "Garção            1\n",
       "9                 1\n",
       "Soldado           1\n",
       "Name: 0, dtype: int64"
      ]
     },
     "execution_count": 25,
     "metadata": {},
     "output_type": "execute_result"
    }
   ],
   "source": [
    "rua_avenida[0].value_counts()"
   ]
  },
  {
   "cell_type": "code",
   "execution_count": 26,
   "metadata": {},
   "outputs": [],
   "source": [
    "dados['rua_av'] = rua_avenida[0]\n",
    "dados['nome'] = rua_avenida[1]"
   ]
  },
  {
   "cell_type": "code",
   "execution_count": 27,
   "metadata": {},
   "outputs": [
    {
     "data": {
      "text/plain": [
       "Rua            1203\n",
       "Avenida         206\n",
       "Alameda          17\n",
       "Praça            13\n",
       "Vila             11\n",
       "Av.              11\n",
       "R.                6\n",
       "Av                4\n",
       "Travessa          4\n",
       "Jardim            4\n",
       "R                 3\n",
       "Pinheiros         3\n",
       "Alto              3\n",
       "Amador            2\n",
       "Apucarana         2\n",
       "Capitão           2\n",
       "Penha             2\n",
       "Ataliba           1\n",
       "Cardoso           1\n",
       "Água              1\n",
       "Tv.               1\n",
       "Jorge             1\n",
       "Conceição         1\n",
       "Artur             1\n",
       "Das               1\n",
       "Josino            1\n",
       "Lucerna           1\n",
       "Rodovia           1\n",
       "Dr                1\n",
       "Sítio             1\n",
       "Largo             1\n",
       "General           1\n",
       "Doutor            1\n",
       "Parada            1\n",
       "Guaicurus         1\n",
       "Estrada           1\n",
       "Enrico            1\n",
       "Eça               1\n",
       "Antônio           1\n",
       "Brandão           1\n",
       "City              1\n",
       "Principe          1\n",
       "Belenzinho        1\n",
       "Pereira           1\n",
       "Voluntários       1\n",
       "Av.dona           1\n",
       "Acalanto          1\n",
       "Viaduto           1\n",
       "Nao               1\n",
       "Conjunto          1\n",
       "Epaminondas       1\n",
       "Lapa              1\n",
       "Narita            1\n",
       "Fagundes          1\n",
       "Garção            1\n",
       "9                 1\n",
       "Soldado           1\n",
       "Name: rua_av, dtype: int64"
      ]
     },
     "execution_count": 27,
     "metadata": {},
     "output_type": "execute_result"
    }
   ],
   "source": [
    "dados.rua_av.value_counts()"
   ]
  },
  {
   "cell_type": "markdown",
   "metadata": {},
   "source": [
    "Excluindo dados inconsistentes referentes a coluna rua_av."
   ]
  },
  {
   "cell_type": "code",
   "execution_count": 28,
   "metadata": {},
   "outputs": [],
   "source": [
    "selecao_lista = list(dict(dados.rua_av.value_counts().head(9)).keys())"
   ]
  },
  {
   "cell_type": "code",
   "execution_count": 29,
   "metadata": {},
   "outputs": [],
   "source": [
    "dados = dados.set_index('rua_av')\n",
    "dados = dados.loc[selecao_lista]\n",
    "dados = dados.reset_index()"
   ]
  },
  {
   "cell_type": "code",
   "execution_count": 30,
   "metadata": {},
   "outputs": [
    {
     "data": {
      "text/plain": [
       "Rua         1203\n",
       "Avenida      206\n",
       "Alameda       17\n",
       "Praça         13\n",
       "Vila          11\n",
       "Av.           11\n",
       "R.             6\n",
       "Travessa       4\n",
       "Av             4\n",
       "Name: rua_av, dtype: int64"
      ]
     },
     "execution_count": 30,
     "metadata": {},
     "output_type": "execute_result"
    }
   ],
   "source": [
    "dados.rua_av.value_counts()"
   ]
  },
  {
   "cell_type": "code",
   "execution_count": null,
   "metadata": {},
   "outputs": [],
   "source": [
    "dados = dados.set_index('rua_av')"
   ]
  },
  {
   "cell_type": "code",
   "execution_count": 35,
   "metadata": {},
   "outputs": [
    {
     "data": {
      "text/html": [
       "<div>\n",
       "<style scoped>\n",
       "    .dataframe tbody tr th:only-of-type {\n",
       "        vertical-align: middle;\n",
       "    }\n",
       "\n",
       "    .dataframe tbody tr th {\n",
       "        vertical-align: top;\n",
       "    }\n",
       "\n",
       "    .dataframe thead th {\n",
       "        text-align: right;\n",
       "    }\n",
       "</style>\n",
       "<table border=\"1\" class=\"dataframe\">\n",
       "  <thead>\n",
       "    <tr style=\"text-align: right;\">\n",
       "      <th></th>\n",
       "      <th>zona</th>\n",
       "      <th>enderecos_lista</th>\n",
       "      <th>aluguel</th>\n",
       "      <th>area</th>\n",
       "      <th>quartos</th>\n",
       "      <th>bairro</th>\n",
       "      <th>nome</th>\n",
       "    </tr>\n",
       "    <tr>\n",
       "      <th>rua_av</th>\n",
       "      <th></th>\n",
       "      <th></th>\n",
       "      <th></th>\n",
       "      <th></th>\n",
       "      <th></th>\n",
       "      <th></th>\n",
       "      <th></th>\n",
       "    </tr>\n",
       "  </thead>\n",
       "  <tbody>\n",
       "    <tr>\n",
       "      <th>Rua</th>\n",
       "      <td>norte</td>\n",
       "      <td>Rua Dona Maria Quedas, Jardim Andaraí, São Pau...</td>\n",
       "      <td>1098</td>\n",
       "      <td>82</td>\n",
       "      <td>3</td>\n",
       "      <td>Jardim Andaraí</td>\n",
       "      <td>Dona Maria Quedas</td>\n",
       "    </tr>\n",
       "    <tr>\n",
       "      <th>Rua</th>\n",
       "      <td>norte</td>\n",
       "      <td>Rua Vitalina Moura, Vila Roque, São Paulo Zona...</td>\n",
       "      <td>1400</td>\n",
       "      <td>50</td>\n",
       "      <td>2</td>\n",
       "      <td>Vila Roque</td>\n",
       "      <td>Vitalina Moura</td>\n",
       "    </tr>\n",
       "    <tr>\n",
       "      <th>Rua</th>\n",
       "      <td>norte</td>\n",
       "      <td>Rua Alcindo Bueno De Assis, Barro Branco, São ...</td>\n",
       "      <td>1500</td>\n",
       "      <td>60</td>\n",
       "      <td>2</td>\n",
       "      <td>Barro Branco</td>\n",
       "      <td>Alcindo Bueno De Assis</td>\n",
       "    </tr>\n",
       "    <tr>\n",
       "      <th>Rua</th>\n",
       "      <td>norte</td>\n",
       "      <td>Rua Artur De Oliveira, Parque Peruche, São Pau...</td>\n",
       "      <td>2500</td>\n",
       "      <td>51</td>\n",
       "      <td>2</td>\n",
       "      <td>Parque Peruche</td>\n",
       "      <td>Artur De Oliveira</td>\n",
       "    </tr>\n",
       "    <tr>\n",
       "      <th>Rua</th>\n",
       "      <td>norte</td>\n",
       "      <td>Rua Maria Bandini Savoy, Parque Mandaqui, São ...</td>\n",
       "      <td>1300</td>\n",
       "      <td>58</td>\n",
       "      <td>2</td>\n",
       "      <td>Parque Mandaqui</td>\n",
       "      <td>Maria Bandini Savoy</td>\n",
       "    </tr>\n",
       "  </tbody>\n",
       "</table>\n",
       "</div>"
      ],
      "text/plain": [
       "         zona                                    enderecos_lista  aluguel  \\\n",
       "rua_av                                                                      \n",
       "Rua     norte  Rua Dona Maria Quedas, Jardim Andaraí, São Pau...     1098   \n",
       "Rua     norte  Rua Vitalina Moura, Vila Roque, São Paulo Zona...     1400   \n",
       "Rua     norte  Rua Alcindo Bueno De Assis, Barro Branco, São ...     1500   \n",
       "Rua     norte  Rua Artur De Oliveira, Parque Peruche, São Pau...     2500   \n",
       "Rua     norte  Rua Maria Bandini Savoy, Parque Mandaqui, São ...     1300   \n",
       "\n",
       "       area quartos            bairro                    nome  \n",
       "rua_av                                                         \n",
       "Rua      82       3    Jardim Andaraí       Dona Maria Quedas  \n",
       "Rua      50       2        Vila Roque          Vitalina Moura  \n",
       "Rua      60       2      Barro Branco  Alcindo Bueno De Assis  \n",
       "Rua      51       2    Parque Peruche       Artur De Oliveira  \n",
       "Rua      58       2   Parque Mandaqui     Maria Bandini Savoy  "
      ]
     },
     "execution_count": 35,
     "metadata": {},
     "output_type": "execute_result"
    }
   ],
   "source": [
    "dados.head()"
   ]
  },
  {
   "cell_type": "code",
   "execution_count": 38,
   "metadata": {},
   "outputs": [],
   "source": [
    "dados = dados.drop('Vila')\n",
    "dados = dados.reset_index()"
   ]
  },
  {
   "cell_type": "code",
   "execution_count": 39,
   "metadata": {},
   "outputs": [
    {
     "data": {
      "text/plain": [
       "Rua         1203\n",
       "Avenida      206\n",
       "Alameda       17\n",
       "Praça         13\n",
       "Av.           11\n",
       "R.             6\n",
       "Travessa       4\n",
       "Av             4\n",
       "Name: rua_av, dtype: int64"
      ]
     },
     "execution_count": 39,
     "metadata": {},
     "output_type": "execute_result"
    }
   ],
   "source": [
    "dados.rua_av.value_counts()"
   ]
  },
  {
   "cell_type": "code",
   "execution_count": 40,
   "metadata": {},
   "outputs": [],
   "source": [
    "dic_logradouro = {'Rua' : 'rua', 'Avenida':'avenida', 'Alameda': 'alameda',\n",
    "                 'Praça': 'praca', 'Av.':'avenida', 'R.':'rua', 'Travessa':'travessa'}"
   ]
  },
  {
   "cell_type": "code",
   "execution_count": 41,
   "metadata": {},
   "outputs": [],
   "source": [
    "dados['rua_av'] = dados['rua_av'].map(dic_logradouro)"
   ]
  },
  {
   "cell_type": "code",
   "execution_count": 42,
   "metadata": {},
   "outputs": [
    {
     "data": {
      "text/plain": [
       "rua         1209\n",
       "avenida      217\n",
       "alameda       17\n",
       "praca         13\n",
       "travessa       4\n",
       "Name: rua_av, dtype: int64"
      ]
     },
     "execution_count": 42,
     "metadata": {},
     "output_type": "execute_result"
    }
   ],
   "source": [
    "dados.rua_av.value_counts()"
   ]
  },
  {
   "cell_type": "markdown",
   "metadata": {},
   "source": [
    " - Renomeando colunas e reordenando."
   ]
  },
  {
   "cell_type": "code",
   "execution_count": 43,
   "metadata": {},
   "outputs": [
    {
     "data": {
      "text/plain": [
       "Index(['rua_av', 'zona', 'enderecos_lista', 'aluguel', 'area', 'quartos',\n",
       "       'bairro', 'nome'],\n",
       "      dtype='object')"
      ]
     },
     "execution_count": 43,
     "metadata": {},
     "output_type": "execute_result"
    }
   ],
   "source": [
    "dados.columns"
   ]
  },
  {
   "cell_type": "code",
   "execution_count": 44,
   "metadata": {},
   "outputs": [],
   "source": [
    "dados.columns=['logradouro', 'zona', 'enderecos_lista', 'aluguel', 'area', 'quartos',\n",
    "       'bairro', 'nome_logradouro']"
   ]
  },
  {
   "cell_type": "code",
   "execution_count": 45,
   "metadata": {},
   "outputs": [],
   "source": [
    "dados = dados[['logradouro','nome_logradouro','bairro','zona', 'enderecos_lista', 'area', 'quartos','aluguel']]"
   ]
  },
  {
   "cell_type": "code",
   "execution_count": 46,
   "metadata": {},
   "outputs": [],
   "source": [
    "dados = dados.drop('enderecos_lista', axis=1)"
   ]
  },
  {
   "cell_type": "code",
   "execution_count": 47,
   "metadata": {},
   "outputs": [
    {
     "data": {
      "text/html": [
       "<div>\n",
       "<style scoped>\n",
       "    .dataframe tbody tr th:only-of-type {\n",
       "        vertical-align: middle;\n",
       "    }\n",
       "\n",
       "    .dataframe tbody tr th {\n",
       "        vertical-align: top;\n",
       "    }\n",
       "\n",
       "    .dataframe thead th {\n",
       "        text-align: right;\n",
       "    }\n",
       "</style>\n",
       "<table border=\"1\" class=\"dataframe\">\n",
       "  <thead>\n",
       "    <tr style=\"text-align: right;\">\n",
       "      <th></th>\n",
       "      <th>logradouro</th>\n",
       "      <th>nome_logradouro</th>\n",
       "      <th>bairro</th>\n",
       "      <th>zona</th>\n",
       "      <th>area</th>\n",
       "      <th>quartos</th>\n",
       "      <th>aluguel</th>\n",
       "    </tr>\n",
       "  </thead>\n",
       "  <tbody>\n",
       "    <tr>\n",
       "      <th>0</th>\n",
       "      <td>rua</td>\n",
       "      <td>Dona Maria Quedas</td>\n",
       "      <td>Jardim Andaraí</td>\n",
       "      <td>norte</td>\n",
       "      <td>82</td>\n",
       "      <td>3</td>\n",
       "      <td>1098</td>\n",
       "    </tr>\n",
       "    <tr>\n",
       "      <th>1</th>\n",
       "      <td>rua</td>\n",
       "      <td>Vitalina Moura</td>\n",
       "      <td>Vila Roque</td>\n",
       "      <td>norte</td>\n",
       "      <td>50</td>\n",
       "      <td>2</td>\n",
       "      <td>1400</td>\n",
       "    </tr>\n",
       "    <tr>\n",
       "      <th>2</th>\n",
       "      <td>rua</td>\n",
       "      <td>Alcindo Bueno De Assis</td>\n",
       "      <td>Barro Branco</td>\n",
       "      <td>norte</td>\n",
       "      <td>60</td>\n",
       "      <td>2</td>\n",
       "      <td>1500</td>\n",
       "    </tr>\n",
       "    <tr>\n",
       "      <th>3</th>\n",
       "      <td>rua</td>\n",
       "      <td>Artur De Oliveira</td>\n",
       "      <td>Parque Peruche</td>\n",
       "      <td>norte</td>\n",
       "      <td>51</td>\n",
       "      <td>2</td>\n",
       "      <td>2500</td>\n",
       "    </tr>\n",
       "    <tr>\n",
       "      <th>4</th>\n",
       "      <td>rua</td>\n",
       "      <td>Maria Bandini Savoy</td>\n",
       "      <td>Parque Mandaqui</td>\n",
       "      <td>norte</td>\n",
       "      <td>58</td>\n",
       "      <td>2</td>\n",
       "      <td>1300</td>\n",
       "    </tr>\n",
       "  </tbody>\n",
       "</table>\n",
       "</div>"
      ],
      "text/plain": [
       "  logradouro         nome_logradouro            bairro   zona area quartos  \\\n",
       "0        rua       Dona Maria Quedas    Jardim Andaraí  norte   82       3   \n",
       "1        rua          Vitalina Moura        Vila Roque  norte   50       2   \n",
       "2        rua  Alcindo Bueno De Assis      Barro Branco  norte   60       2   \n",
       "3        rua       Artur De Oliveira    Parque Peruche  norte   51       2   \n",
       "4        rua     Maria Bandini Savoy   Parque Mandaqui  norte   58       2   \n",
       "\n",
       "   aluguel  \n",
       "0     1098  \n",
       "1     1400  \n",
       "2     1500  \n",
       "3     2500  \n",
       "4     1300  "
      ]
     },
     "execution_count": 47,
     "metadata": {},
     "output_type": "execute_result"
    }
   ],
   "source": [
    "dados.head()"
   ]
  },
  {
   "cell_type": "code",
   "execution_count": 48,
   "metadata": {},
   "outputs": [
    {
     "data": {
      "text/plain": [
       "(1464, 7)"
      ]
     },
     "execution_count": 48,
     "metadata": {},
     "output_type": "execute_result"
    }
   ],
   "source": [
    "dados.shape"
   ]
  },
  {
   "cell_type": "code",
   "execution_count": 49,
   "metadata": {},
   "outputs": [
    {
     "data": {
      "text/plain": [
       "logradouro          4\n",
       "nome_logradouro     0\n",
       "bairro              0\n",
       "zona                0\n",
       "area                0\n",
       "quartos            24\n",
       "aluguel             0\n",
       "dtype: int64"
      ]
     },
     "execution_count": 49,
     "metadata": {},
     "output_type": "execute_result"
    }
   ],
   "source": [
    "dados.isna().sum()"
   ]
  },
  {
   "cell_type": "code",
   "execution_count": 53,
   "metadata": {},
   "outputs": [],
   "source": [
    "df.to_csv('dados_aluguel_manipulados_ml_sao_paulo.csv', index =False , encoding = 'latin-1')"
   ]
  },
  {
   "cell_type": "code",
   "execution_count": null,
   "metadata": {},
   "outputs": [],
   "source": []
  }
 ],
 "metadata": {
  "kernelspec": {
   "display_name": "Python 3",
   "language": "python",
   "name": "python3"
  },
  "language_info": {
   "codemirror_mode": {
    "name": "ipython",
    "version": 3
   },
   "file_extension": ".py",
   "mimetype": "text/x-python",
   "name": "python",
   "nbconvert_exporter": "python",
   "pygments_lexer": "ipython3",
   "version": "3.8.3"
  }
 },
 "nbformat": 4,
 "nbformat_minor": 4
}
