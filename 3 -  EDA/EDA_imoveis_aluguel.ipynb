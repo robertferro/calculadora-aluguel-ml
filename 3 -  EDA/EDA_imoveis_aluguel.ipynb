{
 "cells": [
  {
   "cell_type": "code",
   "execution_count": 1,
   "metadata": {},
   "outputs": [],
   "source": [
    "import pandas as pd\n",
    "import numpy as np\n",
    "import matplotlib.pyplot as plt\n",
    "import seaborn as sns"
   ]
  },
  {
   "cell_type": "code",
   "execution_count": 2,
   "metadata": {},
   "outputs": [],
   "source": [
    "url = 'https://raw.githubusercontent.com/robertferro/calculadora-aluguel-ml/main/2%20-%20manipula%C3%A7%C3%A3o-de-dados/dados_aluguel_manipulados.csv'"
   ]
  },
  {
   "cell_type": "code",
   "execution_count": 21,
   "metadata": {},
   "outputs": [],
   "source": [
    "df = pd.read_csv(url, encoding='utf-8')"
   ]
  },
  {
   "cell_type": "code",
   "execution_count": 22,
   "metadata": {},
   "outputs": [
    {
     "data": {
      "text/html": [
       "<div>\n",
       "<style scoped>\n",
       "    .dataframe tbody tr th:only-of-type {\n",
       "        vertical-align: middle;\n",
       "    }\n",
       "\n",
       "    .dataframe tbody tr th {\n",
       "        vertical-align: top;\n",
       "    }\n",
       "\n",
       "    .dataframe thead th {\n",
       "        text-align: right;\n",
       "    }\n",
       "</style>\n",
       "<table border=\"1\" class=\"dataframe\">\n",
       "  <thead>\n",
       "    <tr style=\"text-align: right;\">\n",
       "      <th></th>\n",
       "      <th>logradouro</th>\n",
       "      <th>nome_logradouro</th>\n",
       "      <th>bairro</th>\n",
       "      <th>zona</th>\n",
       "      <th>area</th>\n",
       "      <th>quartos</th>\n",
       "      <th>aluguel</th>\n",
       "    </tr>\n",
       "  </thead>\n",
       "  <tbody>\n",
       "    <tr>\n",
       "      <th>0</th>\n",
       "      <td>rua</td>\n",
       "      <td>José Timotheo Da Silva</td>\n",
       "      <td>Jardim Peri</td>\n",
       "      <td>norte</td>\n",
       "      <td>51</td>\n",
       "      <td>2</td>\n",
       "      <td>950</td>\n",
       "    </tr>\n",
       "    <tr>\n",
       "      <th>1</th>\n",
       "      <td>rua</td>\n",
       "      <td>Plinio Colás</td>\n",
       "      <td>Lauzane Paulista</td>\n",
       "      <td>norte</td>\n",
       "      <td>126</td>\n",
       "      <td>3</td>\n",
       "      <td>2500</td>\n",
       "    </tr>\n",
       "    <tr>\n",
       "      <th>2</th>\n",
       "      <td>rua</td>\n",
       "      <td>Doutor Gabriel Covelli</td>\n",
       "      <td>Parque Peruche</td>\n",
       "      <td>norte</td>\n",
       "      <td>55</td>\n",
       "      <td>1</td>\n",
       "      <td>900</td>\n",
       "    </tr>\n",
       "    <tr>\n",
       "      <th>3</th>\n",
       "      <td>rua</td>\n",
       "      <td>Dos Camarés  150</td>\n",
       "      <td>Carandiru</td>\n",
       "      <td>norte</td>\n",
       "      <td>58</td>\n",
       "      <td>2</td>\n",
       "      <td>1490</td>\n",
       "    </tr>\n",
       "    <tr>\n",
       "      <th>4</th>\n",
       "      <td>rua</td>\n",
       "      <td>Francisco Da Lira</td>\n",
       "      <td>Jardim Leonor Mendes De Barros</td>\n",
       "      <td>norte</td>\n",
       "      <td>96</td>\n",
       "      <td>2</td>\n",
       "      <td>1211</td>\n",
       "    </tr>\n",
       "  </tbody>\n",
       "</table>\n",
       "</div>"
      ],
      "text/plain": [
       "  logradouro         nome_logradouro                           bairro   zona  \\\n",
       "0        rua  José Timotheo Da Silva                      Jardim Peri  norte   \n",
       "1        rua            Plinio Colás                 Lauzane Paulista  norte   \n",
       "2        rua  Doutor Gabriel Covelli                   Parque Peruche  norte   \n",
       "3        rua        Dos Camarés  150                        Carandiru  norte   \n",
       "4        rua       Francisco Da Lira   Jardim Leonor Mendes De Barros  norte   \n",
       "\n",
       "   area  quartos  aluguel  \n",
       "0    51        2      950  \n",
       "1   126        3     2500  \n",
       "2    55        1      900  \n",
       "3    58        2     1490  \n",
       "4    96        2     1211  "
      ]
     },
     "execution_count": 22,
     "metadata": {},
     "output_type": "execute_result"
    }
   ],
   "source": [
    "df.head()"
   ]
  },
  {
   "cell_type": "code",
   "execution_count": 5,
   "metadata": {},
   "outputs": [
    {
     "name": "stdout",
     "output_type": "stream",
     "text": [
      "<class 'pandas.core.frame.DataFrame'>\n",
      "RangeIndex: 1630 entries, 0 to 1629\n",
      "Data columns (total 7 columns):\n",
      " #   Column           Non-Null Count  Dtype \n",
      "---  ------           --------------  ----- \n",
      " 0   logradouro       1630 non-null   object\n",
      " 1   nome_logradouro  1630 non-null   object\n",
      " 2   bairro           1630 non-null   object\n",
      " 3   zona             1630 non-null   object\n",
      " 4   area             1630 non-null   int64 \n",
      " 5   quartos          1630 non-null   int64 \n",
      " 6   aluguel          1630 non-null   int64 \n",
      "dtypes: int64(3), object(4)\n",
      "memory usage: 89.3+ KB\n"
     ]
    }
   ],
   "source": [
    "df.info()"
   ]
  },
  {
   "cell_type": "markdown",
   "metadata": {},
   "source": [
    " - Verificando a existência de valores nulos."
   ]
  },
  {
   "cell_type": "code",
   "execution_count": 6,
   "metadata": {},
   "outputs": [
    {
     "data": {
      "text/plain": [
       "logradouro         0\n",
       "nome_logradouro    0\n",
       "bairro             0\n",
       "zona               0\n",
       "area               0\n",
       "quartos            0\n",
       "aluguel            0\n",
       "dtype: int64"
      ]
     },
     "execution_count": 6,
     "metadata": {},
     "output_type": "execute_result"
    }
   ],
   "source": [
    "df.isna().sum()"
   ]
  },
  {
   "cell_type": "code",
   "execution_count": 7,
   "metadata": {},
   "outputs": [
    {
     "data": {
      "text/plain": [
       "(1630, 7)"
      ]
     },
     "execution_count": 7,
     "metadata": {},
     "output_type": "execute_result"
    }
   ],
   "source": [
    "df.shape"
   ]
  },
  {
   "cell_type": "code",
   "execution_count": 8,
   "metadata": {},
   "outputs": [
    {
     "data": {
      "text/html": [
       "<div>\n",
       "<style scoped>\n",
       "    .dataframe tbody tr th:only-of-type {\n",
       "        vertical-align: middle;\n",
       "    }\n",
       "\n",
       "    .dataframe tbody tr th {\n",
       "        vertical-align: top;\n",
       "    }\n",
       "\n",
       "    .dataframe thead th {\n",
       "        text-align: right;\n",
       "    }\n",
       "</style>\n",
       "<table border=\"1\" class=\"dataframe\">\n",
       "  <thead>\n",
       "    <tr style=\"text-align: right;\">\n",
       "      <th></th>\n",
       "      <th>count</th>\n",
       "      <th>mean</th>\n",
       "      <th>std</th>\n",
       "      <th>min</th>\n",
       "      <th>25%</th>\n",
       "      <th>50%</th>\n",
       "      <th>75%</th>\n",
       "      <th>max</th>\n",
       "    </tr>\n",
       "  </thead>\n",
       "  <tbody>\n",
       "    <tr>\n",
       "      <th>area</th>\n",
       "      <td>1630.0</td>\n",
       "      <td>146.435583</td>\n",
       "      <td>2774.295109</td>\n",
       "      <td>10.0</td>\n",
       "      <td>44.0</td>\n",
       "      <td>60.0</td>\n",
       "      <td>87.0</td>\n",
       "      <td>112055.0</td>\n",
       "    </tr>\n",
       "    <tr>\n",
       "      <th>quartos</th>\n",
       "      <td>1630.0</td>\n",
       "      <td>1.925153</td>\n",
       "      <td>0.858593</td>\n",
       "      <td>1.0</td>\n",
       "      <td>1.0</td>\n",
       "      <td>2.0</td>\n",
       "      <td>2.0</td>\n",
       "      <td>6.0</td>\n",
       "    </tr>\n",
       "    <tr>\n",
       "      <th>aluguel</th>\n",
       "      <td>1630.0</td>\n",
       "      <td>2612.619632</td>\n",
       "      <td>1945.032670</td>\n",
       "      <td>500.0</td>\n",
       "      <td>1500.0</td>\n",
       "      <td>2100.0</td>\n",
       "      <td>3000.0</td>\n",
       "      <td>15000.0</td>\n",
       "    </tr>\n",
       "  </tbody>\n",
       "</table>\n",
       "</div>"
      ],
      "text/plain": [
       "          count         mean          std    min     25%     50%     75%  \\\n",
       "area     1630.0   146.435583  2774.295109   10.0    44.0    60.0    87.0   \n",
       "quartos  1630.0     1.925153     0.858593    1.0     1.0     2.0     2.0   \n",
       "aluguel  1630.0  2612.619632  1945.032670  500.0  1500.0  2100.0  3000.0   \n",
       "\n",
       "              max  \n",
       "area     112055.0  \n",
       "quartos       6.0  \n",
       "aluguel   15000.0  "
      ]
     },
     "execution_count": 8,
     "metadata": {},
     "output_type": "execute_result"
    }
   ],
   "source": [
    "df.describe().T"
   ]
  },
  {
   "cell_type": "code",
   "execution_count": 9,
   "metadata": {},
   "outputs": [
    {
     "data": {
      "text/plain": [
       "<AxesSubplot:>"
      ]
     },
     "execution_count": 9,
     "metadata": {},
     "output_type": "execute_result"
    },
    {
     "data": {
      "image/png": "[encoded data removed]",
      "text/plain": [
       "<Figure size 1008x720 with 2 Axes>"
      ]
     },
     "metadata": {
      "needs_background": "light"
     },
     "output_type": "display_data"
    }
   ],
   "source": [
    "plt.figure(figsize=(14,10))\n",
    "\n",
    "corr = df.corr().abs()\n",
    "mask = np.triu(np.ones_like(corr, dtype=np.bool))\n",
    "\n",
    "\n",
    "sns.heatmap(corr, mask=mask, annot=True, center=0, cmap=\"YlGnBu\")"
   ]
  },
  {
   "cell_type": "markdown",
   "metadata": {},
   "source": [
    "- Gerando algumas visualizações."
   ]
  },
  {
   "cell_type": "code",
   "execution_count": 11,
   "metadata": {},
   "outputs": [
    {
     "data": {
      "image/png": "[encoded data removed]",
      "text/plain": [
       "<Figure size 1800x1080 with 4 Axes>"
      ]
     },
     "metadata": {
      "needs_background": "light"
     },
     "output_type": "display_data"
    }
   ],
   "source": [
    "df.hist(figsize=(25,15))\n",
    "plt.show()"
   ]
  },
  {
   "cell_type": "code",
   "execution_count": 12,
   "metadata": {},
   "outputs": [
    {
     "data": {
      "text/plain": [
       "<seaborn.axisgrid.PairGrid at 0x15f7b6b3610>"
      ]
     },
     "execution_count": 12,
     "metadata": {},
     "output_type": "execute_result"
    },
    {
     "data": {
      "image/png": "[encoded data removed]",
      "text/plain": [
       "<Figure size 607.75x540 with 12 Axes>"
      ]
     },
     "metadata": {
      "needs_background": "light"
     },
     "output_type": "display_data"
    }
   ],
   "source": [
    "sns.pairplot(data = df, hue = 'zona', kind='hist')"
   ]
  },
  {
   "cell_type": "code",
   "execution_count": 13,
   "metadata": {},
   "outputs": [
    {
     "data": {
      "text/plain": [
       "<AxesSubplot:xlabel='area', ylabel='aluguel'>"
      ]
     },
     "execution_count": 13,
     "metadata": {},
     "output_type": "execute_result"
    },
    {
     "data": {
      "image/png": "[encoded data removed]",
      "text/plain": [
       "<Figure size 432x288 with 1 Axes>"
      ]
     },
     "metadata": {
      "needs_background": "light"
     },
     "output_type": "display_data"
    }
   ],
   "source": [
    "sns.regplot('area','aluguel', data=df)"
   ]
  },
  {
   "cell_type": "code",
   "execution_count": 14,
   "metadata": {},
   "outputs": [
    {
     "data": {
      "text/plain": [
       "<AxesSubplot:xlabel='zona', ylabel='aluguel'>"
      ]
     },
     "execution_count": 14,
     "metadata": {},
     "output_type": "execute_result"
    },
    {
     "data": {
      "image/png": "[encoded data removed]",
      "text/plain": [
       "<Figure size 432x288 with 1 Axes>"
      ]
     },
     "metadata": {
      "needs_background": "light"
     },
     "output_type": "display_data"
    }
   ],
   "source": [
    "sns.boxplot(x='zona', y='aluguel', data=df)"
   ]
  },
  {
   "cell_type": "code",
   "execution_count": 15,
   "metadata": {},
   "outputs": [
    {
     "data": {
      "text/plain": [
       "<AxesSubplot:xlabel='aluguel'>"
      ]
     },
     "execution_count": 15,
     "metadata": {},
     "output_type": "execute_result"
    },
    {
     "data": {
      "image/png": "[encoded data removed]",
      "text/plain": [
       "<Figure size 432x288 with 1 Axes>"
      ]
     },
     "metadata": {
      "needs_background": "light"
     },
     "output_type": "display_data"
    }
   ],
   "source": [
    "sns.boxplot(df['aluguel'])"
   ]
  },
  {
   "cell_type": "code",
   "execution_count": 16,
   "metadata": {},
   "outputs": [
    {
     "data": {
      "text/plain": [
       "<AxesSubplot:xlabel='area'>"
      ]
     },
     "execution_count": 16,
     "metadata": {},
     "output_type": "execute_result"
    },
    {
     "data": {
      "image/png": "[encoded data removed]",
      "text/plain": [
       "<Figure size 432x288 with 1 Axes>"
      ]
     },
     "metadata": {
      "needs_background": "light"
     },
     "output_type": "display_data"
    }
   ],
   "source": [
    "sns.boxplot(df['area'])"
   ]
  },
  {
   "cell_type": "markdown",
   "metadata": {},
   "source": [
    " - Tratando outliers"
   ]
  },
  {
   "cell_type": "code",
   "execution_count": 24,
   "metadata": {},
   "outputs": [
    {
     "data": {
      "text/plain": [
       "(1630, 7)"
      ]
     },
     "execution_count": 24,
     "metadata": {},
     "output_type": "execute_result"
    }
   ],
   "source": [
    "df.shape"
   ]
  },
  {
   "cell_type": "code",
   "execution_count": 31,
   "metadata": {},
   "outputs": [],
   "source": [
    "df = df.query('area <= 1000 ')"
   ]
  },
  {
   "cell_type": "code",
   "execution_count": 32,
   "metadata": {},
   "outputs": [
    {
     "data": {
      "text/plain": [
       "<AxesSubplot:xlabel='area'>"
      ]
     },
     "execution_count": 32,
     "metadata": {},
     "output_type": "execute_result"
    },
    {
     "data": {
      "image/png": "[encoded data removed]",
      "text/plain": [
       "<Figure size 432x288 with 1 Axes>"
      ]
     },
     "metadata": {
      "needs_background": "light"
     },
     "output_type": "display_data"
    }
   ],
   "source": [
    "sns.boxplot(df['area'])"
   ]
  },
  {
   "cell_type": "code",
   "execution_count": 33,
   "metadata": {},
   "outputs": [],
   "source": [
    "df = df.query('area <= 300 ')"
   ]
  },
  {
   "cell_type": "code",
   "execution_count": 34,
   "metadata": {},
   "outputs": [
    {
     "data": {
      "text/plain": [
       "<AxesSubplot:xlabel='area'>"
      ]
     },
     "execution_count": 34,
     "metadata": {},
     "output_type": "execute_result"
    },
    {
     "data": {
      "image/png": "[encoded data removed]",
      "text/plain": [
       "<Figure size 432x288 with 1 Axes>"
      ]
     },
     "metadata": {
      "needs_background": "light"
     },
     "output_type": "display_data"
    }
   ],
   "source": [
    "sns.boxplot(df['area'])"
   ]
  },
  {
   "cell_type": "code",
   "execution_count": 35,
   "metadata": {},
   "outputs": [
    {
     "data": {
      "text/plain": [
       "<AxesSubplot:xlabel='aluguel'>"
      ]
     },
     "execution_count": 35,
     "metadata": {},
     "output_type": "execute_result"
    },
    {
     "data": {
      "image/png": "[encoded data removed]",
      "text/plain": [
       "<Figure size 432x288 with 1 Axes>"
      ]
     },
     "metadata": {
      "needs_background": "light"
     },
     "output_type": "display_data"
    }
   ],
   "source": [
    "sns.boxplot(df['aluguel'])"
   ]
  },
  {
   "cell_type": "code",
   "execution_count": 36,
   "metadata": {},
   "outputs": [
    {
     "data": {
      "text/plain": [
       "array([[<AxesSubplot:title={'center':'aluguel'}>,\n",
       "        <AxesSubplot:title={'center':'area'}>],\n",
       "       [<AxesSubplot:title={'center':'quartos'}>, <AxesSubplot:>]],\n",
       "      dtype=object)"
      ]
     },
     "execution_count": 36,
     "metadata": {},
     "output_type": "execute_result"
    },
    {
     "data": {
      "image/png": "[encoded data removed]",
      "text/plain": [
       "<Figure size 432x288 with 4 Axes>"
      ]
     },
     "metadata": {
      "needs_background": "light"
     },
     "output_type": "display_data"
    }
   ],
   "source": [
    "df.hist()"
   ]
  },
  {
   "cell_type": "code",
   "execution_count": 52,
   "metadata": {},
   "outputs": [
    {
     "data": {
      "text/plain": [
       " Bela Vista                             75\n",
       " Pinheiros                              55\n",
       " Consolação                             51\n",
       " Santana                                46\n",
       " Perdizes                               33\n",
       " Vila Buarque                           29\n",
       " Vila Mariana                           29\n",
       " Santa Cecília                          28\n",
       " Moóca                                  26\n",
       " Jardim Paulista                        24\n",
       " Penha De Franca                        22\n",
       " Cerqueira César                        20\n",
       " Campos Elíseos                         19\n",
       " Vila Regente Feijó                     19\n",
       " Barra Funda                            19\n",
       " Liberdade                              17\n",
       " Cidade Moncoes                         16\n",
       " Vila Andrade                           15\n",
       " Vila Olímpia                           15\n",
       " Centro                                 14\n",
       " Água Branca                            14\n",
       " Jardim Peri                            14\n",
       " Santa Teresinha                        13\n",
       " Ipiranga                               12\n",
       " Vila Mazzei                            12\n",
       " Brooklin Paulista                      12\n",
       " Tatuapé                                11\n",
       " Vila Guilherme                         11\n",
       " Campo Belo                             11\n",
       " Vila Carrão                            11\n",
       " Cambuci                                11\n",
       " Brás                                   10\n",
       " Vila Gomes Cardim                      10\n",
       " Indianópolis                           10\n",
       " Vila Gustavo                           10\n",
       " Higienópolis                            9\n",
       " Itaim Bibi                              9\n",
       " Vila Leopoldina                         9\n",
       " Chácara Santo Antônio (zona Leste)      9\n",
       " Parque Mandaqui                         9\n",
       " Parada Inglesa                          9\n",
       " Vila Nova Conceição                     9\n",
       " Vila Prudente                           9\n",
       " Vila Antonieta                          8\n",
       " Aclimação                               8\n",
       " Vila Formosa                            8\n",
       " Bom Retiro                              8\n",
       " República                               8\n",
       " Vila Guarani (z Sul)                    7\n",
       " Moema                                   7\n",
       " Vila Monumento                          7\n",
       " Itaquera                                7\n",
       " Alto Da Lapa                            7\n",
       " Chácara Califórnia                      7\n",
       " Sacomã                                  7\n",
       " Jardim Ampliação                        7\n",
       " Vila Medeiros                           7\n",
       " Santo Amaro                             7\n",
       " Vila Suzana                             6\n",
       " Vila Clementino                         6\n",
       " Vila Cordeiro                           6\n",
       " Jardim São Paulo                        6\n",
       " Vila Ré                                 6\n",
       " Casa Verde                              6\n",
       " Vila Guilhermina                        6\n",
       " Vila Dom Pedro Ii                       6\n",
       " Jardim Bonfiglioli                      6\n",
       " Santa Efigênia                          6\n",
       " Vila Bertioga                           6\n",
       " Vila Madalena                           6\n",
       " Sumarezinho                             6\n",
       " Jardim Penha                            6\n",
       " Imirim                                  5\n",
       " Maranhão                                5\n",
       " Luz                                     5\n",
       " Freguesia Do Ó                          5\n",
       " Vila Dom Pedro I                        5\n",
       " Vila Ipojuca                            5\n",
       " Vila Matilde                            5\n",
       " Jaguaré                                 5\n",
       " Vila Monte Alegre                       5\n",
       " Parque Císper                           5\n",
       " Alto Da Mooca                           5\n",
       " Chácara Santo Antônio                   5\n",
       " Vila Amália                             5\n",
       " Jardim Das Vertentes                    5\n",
       " Vila Nova Mazzei                        5\n",
       " Lauzane Paulista                        5\n",
       " Jardim Celeste                          5\n",
       " Jardim Brasília (zona Norte)            5\n",
       " Nossa Senhora Do Ó                      5\n",
       " Vila Paiva                              5\n",
       " Vila Ester (zona Norte)                 5\n",
       " Vila Pompéia                            4\n",
       " Vila Paulista                           4\n",
       " Jardim São Savério                      4\n",
       " Vila Aricanduva                         4\n",
       " Vila Buenos Aires                       4\n",
       " Quarta Parada                           4\n",
       " Lapa                                    4\n",
       " Butantã                                 4\n",
       " Jardim Pinheiros                        4\n",
       " Paraíso                                 4\n",
       " Vila Albertina                          4\n",
       " Vila Gomes                              4\n",
       " Bosque Da Saúde                         4\n",
       " Lajeado                                 4\n",
       " Vila Maria                              4\n",
       " Parque Peruche                          4\n",
       " Tucuruvi                                4\n",
       " Parada Xv De Novembro                   4\n",
       " Vila Mascote                            3\n",
       " Sítio Pinheirinho                       3\n",
       " Vila Basileia                           3\n",
       " Nova Piraju                             3\n",
       " Vila Sônia                              3\n",
       " Vila Palmeiras                          3\n",
       " Conjunto Residencial José Bonifácio     3\n",
       " Vila Parque Jabaquara                   3\n",
       " Parque Edu Chaves                       3\n",
       " Vila União (zona Leste)                 3\n",
       " Sé                                      3\n",
       " Lar São Paulo                           3\n",
       " Parque Novo Mundo                       3\n",
       " Vila Anglo Brasileira                   3\n",
       " City América                            3\n",
       " Jardim Das Laranjeiras                  3\n",
       " Parque Rebouças                         3\n",
       " Jardim Íris                             3\n",
       " Quinta Da Paineira                      3\n",
       " Vila Maria Alta                         3\n",
       " Vila Das Mercês                         3\n",
       " Vila Hamburguesa                        3\n",
       " Fazenda Morumbi                         3\n",
       " Vila Cruz Das Almas                     3\n",
       " Jardim América Da Penha                 3\n",
       " Carandiru                               3\n",
       " Jardim Aeroporto                        3\n",
       " Vila Cruzeiro                           3\n",
       " Parque Jabaquara                        3\n",
       " Jaçanã                                  3\n",
       " Vila Romana                             3\n",
       " Vila Uberabinha                         3\n",
       " Jardim Brasil                           3\n",
       " Vila Ema                                3\n",
       " Jardim Monte Kemel                      3\n",
       " Vila Aurora                             3\n",
       " Vila Deodoro                            3\n",
       " Vila Gumercindo                         3\n",
       " Jardim Leonor Mendes De Barros          3\n",
       "Name: bairro, dtype: int64"
      ]
     },
     "execution_count": 52,
     "metadata": {},
     "output_type": "execute_result"
    }
   ],
   "source": [
    "pd.set_option('display.max_rows', 250)\n",
    "df.bairro.value_counts().head(150)"
   ]
  },
  {
   "cell_type": "markdown",
   "metadata": {},
   "source": [
    " - Selecionando apenas os bairros com no mínimo 3 registros."
   ]
  },
  {
   "cell_type": "code",
   "execution_count": 57,
   "metadata": {},
   "outputs": [],
   "source": [
    "dic_select = dict(df.bairro.value_counts().head(150))"
   ]
  },
  {
   "cell_type": "code",
   "execution_count": 58,
   "metadata": {},
   "outputs": [],
   "source": [
    "lista_select = list(dic_select.keys())"
   ]
  },
  {
   "cell_type": "code",
   "execution_count": 60,
   "metadata": {},
   "outputs": [],
   "source": [
    "df = df.set_index('bairro')"
   ]
  },
  {
   "cell_type": "code",
   "execution_count": 61,
   "metadata": {},
   "outputs": [],
   "source": [
    "df = df.loc[lista_select]"
   ]
  },
  {
   "cell_type": "code",
   "execution_count": 62,
   "metadata": {},
   "outputs": [],
   "source": [
    "df = df.reset_index()"
   ]
  },
  {
   "cell_type": "markdown",
   "metadata": {},
   "source": [
    " - Salvando em arquivo csv."
   ]
  },
  {
   "cell_type": "code",
   "execution_count": 63,
   "metadata": {},
   "outputs": [],
   "source": [
    "df.to_csv('dados_filtrados.csv', encoding='utf-8')"
   ]
  },
  {
   "cell_type": "code",
   "execution_count": null,
   "metadata": {},
   "outputs": [],
   "source": []
  }
 ],
 "metadata": {
  "kernelspec": {
   "display_name": "Python 3",
   "language": "python",
   "name": "python3"
  },
  "language_info": {
   "codemirror_mode": {
    "name": "ipython",
    "version": 3
   },
   "file_extension": ".py",
   "mimetype": "text/x-python",
   "name": "python",
   "nbconvert_exporter": "python",
   "pygments_lexer": "ipython3",
   "version": "3.8.3"
  }
 },
 "nbformat": 4,
 "nbformat_minor": 4
}
