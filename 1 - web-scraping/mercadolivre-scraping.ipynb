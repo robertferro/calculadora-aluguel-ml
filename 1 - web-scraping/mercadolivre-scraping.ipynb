{
 "cells": [
  {
   "cell_type": "code",
   "execution_count": 1,
   "metadata": {},
   "outputs": [],
   "source": [
    "import requests\n",
    "from bs4 import BeautifulSoup\n",
    "import pandas as pd\n",
    "from time import sleep"
   ]
  },
  {
   "cell_type": "code",
   "execution_count": 2,
   "metadata": {},
   "outputs": [],
   "source": [
    "url = 'https://imoveis.mercadolivre.com.br/casas/aluguel/sao-paulo-zona-norte/'\n",
    "c = requests.get(url).content"
   ]
  },
  {
   "cell_type": "code",
   "execution_count": 3,
   "metadata": {},
   "outputs": [],
   "source": [
    "soup = BeautifulSoup(c)"
   ]
  },
  {
   "cell_type": "markdown",
   "metadata": {},
   "source": [
    "## Criando uma lista com os preços dos alugueis"
   ]
  },
  {
   "cell_type": "code",
   "execution_count": 4,
   "metadata": {},
   "outputs": [],
   "source": [
    "lista_precos_tags = soup.find_all('span', {'class':'price-tag-fraction'})"
   ]
  },
  {
   "cell_type": "markdown",
   "metadata": {},
   "source": [
    "- For loop para obter a lista de preços"
   ]
  },
  {
   "cell_type": "code",
   "execution_count": 5,
   "metadata": {},
   "outputs": [
    {
     "data": {
      "text/plain": [
       "['1.000', '1.299', '620', '799', '2.200']"
      ]
     },
     "execution_count": 5,
     "metadata": {},
     "output_type": "execute_result"
    }
   ],
   "source": [
    "lista_precos = []\n",
    "for tag in lista_precos_tags:\n",
    "    lista_precos.append(tag.text)\n",
    "lista_precos[0:5]"
   ]
  },
  {
   "cell_type": "markdown",
   "metadata": {},
   "source": [
    " - List comprehension"
   ]
  },
  {
   "cell_type": "code",
   "execution_count": 6,
   "metadata": {},
   "outputs": [
    {
     "data": {
      "text/plain": [
       "['1.000', '1.299', '620', '799', '2.200']"
      ]
     },
     "execution_count": 6,
     "metadata": {},
     "output_type": "execute_result"
    }
   ],
   "source": [
    "# for loop utilizando list compreehension\n",
    "lista_precos  = [tag.text for tag in lista_precos_tags]\n",
    "lista_precos[0:5]"
   ]
  },
  {
   "cell_type": "markdown",
   "metadata": {},
   "source": [
    "## Criando uma lista com a área e quantidade de quartos"
   ]
  },
  {
   "cell_type": "code",
   "execution_count": 7,
   "metadata": {},
   "outputs": [],
   "source": [
    "lista_area_quartos_tags = soup.find_all('ul', {'class':'ui-search-card-attributes'})"
   ]
  },
  {
   "cell_type": "code",
   "execution_count": 8,
   "metadata": {},
   "outputs": [
    {
     "data": {
      "text/plain": [
       "['50 m² construídos1 quarto',\n",
       " '80 m² construídos2 quartos',\n",
       " '30 m² construídos1 quarto',\n",
       " '50 m² construídos1 quarto',\n",
       " '110 m² construídos2 quartos']"
      ]
     },
     "execution_count": 8,
     "metadata": {},
     "output_type": "execute_result"
    }
   ],
   "source": [
    "lista_area_quartos = [info.text for info in lista_area_quartos_tags ]\n",
    "lista_area_quartos[0:5]"
   ]
  },
  {
   "cell_type": "markdown",
   "metadata": {},
   "source": [
    "## Criando uma lista com os endereços"
   ]
  },
  {
   "cell_type": "code",
   "execution_count": 9,
   "metadata": {},
   "outputs": [],
   "source": [
    "lista_enderecos_tags = soup.find_all('span' , {'class':'ui-search-item__group__element'})"
   ]
  },
  {
   "cell_type": "code",
   "execution_count": 10,
   "metadata": {},
   "outputs": [
    {
     "data": {
      "text/plain": [
       "['Rua Campo Belo Do Sul 113, Parque Vitória, São Paulo Zona Norte, São Paulo',\n",
       " 'Rua José Eduardo Raduan 5, Parque Edu Chaves, São Paulo Zona Norte, São Paulo',\n",
       " 'Rua Rodolfo Bardela 335, Brasilândia, São Paulo Zona Norte, São Paulo',\n",
       " 'Brandão Agrões 176, Jardim Peri, São Paulo Zona Norte, São Paulo',\n",
       " 'Conceição, Jardim Japão, São Paulo Zona Norte, São Paulo']"
      ]
     },
     "execution_count": 10,
     "metadata": {},
     "output_type": "execute_result"
    }
   ],
   "source": [
    "lista_enderecos = [end.text for end in lista_enderecos_tags]\n",
    "lista_enderecos = lista_enderecos[1::2]\n",
    "lista_enderecos[:5]"
   ]
  },
  {
   "cell_type": "markdown",
   "metadata": {},
   "source": [
    "## Criando  função que retorna um DataFrame com as informaçoes obtidas anteriormente"
   ]
  },
  {
   "cell_type": "code",
   "execution_count": 11,
   "metadata": {},
   "outputs": [],
   "source": [
    "lista_pag = []\n",
    "for i in range(1,1537):\n",
    "    num_1 ='_Desde_'\n",
    "    num_2 = i\n",
    "    num = '{}{}'.format(num_1,num_2)\n",
    "    lista_pag.append(num)\n",
    "\n",
    "\n",
    "lista_pag_1 = lista_pag[::48]\n",
    "lista_pag_1[0] = ''"
   ]
  },
  {
   "cell_type": "code",
   "execution_count": 15,
   "metadata": {},
   "outputs": [],
   "source": [
    "zonas = ['norte', 'sul', 'leste', 'oeste']\n",
    "URL='https://imoveis.mercadolivre.com.br/casas/aluguel/sao-paulo/sao-paulo-zona-{}/{}'\n",
    "paginas = lista_pag_1[0:8]"
   ]
  },
  {
   "cell_type": "code",
   "execution_count": 16,
   "metadata": {},
   "outputs": [],
   "source": [
    "def scrap(url):\n",
    "    c = requests.get(url).content\n",
    "    soup = BeautifulSoup(c)\n",
    "    lista_precos_tags = soup.find_all('span', {'class':'price-tag-fraction'})\n",
    "    lista_precos  = [tag.text for tag in lista_precos_tags]\n",
    "    lista_area_quartos_tags = soup.find_all('ul', {'class':'ui-search-card-attributes'})\n",
    "    lista_area_quartos = [info.text for info in lista_area_quartos_tags ]\n",
    "    lista_enderecos_tags = soup.find_all('span' , {'class':'ui-search-item__group__element'})\n",
    "    lista_enderecos = [end.text for end in lista_enderecos_tags]\n",
    "    lista_enderecos = lista_enderecos[1::2]\n",
    "    df=convert_df(zona, lista_area_quartos, lista_enderecos, lista_precos)\n",
    "    return df\n",
    "\n",
    "\n",
    "def convert_df(zona, lista_area_quartos, lista_enderecos, lista_precos):\n",
    "    zonas_lista = [zona]*len(lista_precos)\n",
    "    data = {'zona': zonas_lista,\n",
    "            'area_quartos': lista_area_quartos,\n",
    "            'enderecos_lista':lista_enderecos,\n",
    "            'aluguel': lista_precos}\n",
    "    df = pd.DataFrame(data)\n",
    "    return df"
   ]
  },
  {
   "cell_type": "code",
   "execution_count": 17,
   "metadata": {},
   "outputs": [
    {
     "name": "stdout",
     "output_type": "stream",
     "text": [
      "https://imoveis.mercadolivre.com.br/aluguel/sao-paulo/sao-paulo-zona-norte/\n",
      "https://imoveis.mercadolivre.com.br/aluguel/sao-paulo/sao-paulo-zona-norte/_Desde_49\n",
      "https://imoveis.mercadolivre.com.br/aluguel/sao-paulo/sao-paulo-zona-norte/_Desde_97\n",
      "https://imoveis.mercadolivre.com.br/aluguel/sao-paulo/sao-paulo-zona-norte/_Desde_145\n",
      "https://imoveis.mercadolivre.com.br/aluguel/sao-paulo/sao-paulo-zona-norte/_Desde_193\n",
      "https://imoveis.mercadolivre.com.br/aluguel/sao-paulo/sao-paulo-zona-norte/_Desde_241\n",
      "https://imoveis.mercadolivre.com.br/aluguel/sao-paulo/sao-paulo-zona-norte/_Desde_289\n",
      "https://imoveis.mercadolivre.com.br/aluguel/sao-paulo/sao-paulo-zona-norte/_Desde_337\n",
      "https://imoveis.mercadolivre.com.br/aluguel/sao-paulo/sao-paulo-zona-sul/\n",
      "https://imoveis.mercadolivre.com.br/aluguel/sao-paulo/sao-paulo-zona-sul/_Desde_49\n",
      "https://imoveis.mercadolivre.com.br/aluguel/sao-paulo/sao-paulo-zona-sul/_Desde_97\n",
      "https://imoveis.mercadolivre.com.br/aluguel/sao-paulo/sao-paulo-zona-sul/_Desde_145\n",
      "https://imoveis.mercadolivre.com.br/aluguel/sao-paulo/sao-paulo-zona-sul/_Desde_193\n",
      "https://imoveis.mercadolivre.com.br/aluguel/sao-paulo/sao-paulo-zona-sul/_Desde_241\n",
      "https://imoveis.mercadolivre.com.br/aluguel/sao-paulo/sao-paulo-zona-sul/_Desde_289\n",
      "https://imoveis.mercadolivre.com.br/aluguel/sao-paulo/sao-paulo-zona-sul/_Desde_337\n",
      "https://imoveis.mercadolivre.com.br/aluguel/sao-paulo/sao-paulo-zona-leste/\n",
      "https://imoveis.mercadolivre.com.br/aluguel/sao-paulo/sao-paulo-zona-leste/_Desde_49\n",
      "https://imoveis.mercadolivre.com.br/aluguel/sao-paulo/sao-paulo-zona-leste/_Desde_97\n",
      "https://imoveis.mercadolivre.com.br/aluguel/sao-paulo/sao-paulo-zona-leste/_Desde_145\n",
      "https://imoveis.mercadolivre.com.br/aluguel/sao-paulo/sao-paulo-zona-leste/_Desde_193\n",
      "https://imoveis.mercadolivre.com.br/aluguel/sao-paulo/sao-paulo-zona-leste/_Desde_241\n",
      "https://imoveis.mercadolivre.com.br/aluguel/sao-paulo/sao-paulo-zona-leste/_Desde_289\n",
      "https://imoveis.mercadolivre.com.br/aluguel/sao-paulo/sao-paulo-zona-leste/_Desde_337\n",
      "https://imoveis.mercadolivre.com.br/aluguel/sao-paulo/sao-paulo-zona-oeste/\n",
      "https://imoveis.mercadolivre.com.br/aluguel/sao-paulo/sao-paulo-zona-oeste/_Desde_49\n",
      "https://imoveis.mercadolivre.com.br/aluguel/sao-paulo/sao-paulo-zona-oeste/_Desde_97\n",
      "https://imoveis.mercadolivre.com.br/aluguel/sao-paulo/sao-paulo-zona-oeste/_Desde_145\n",
      "https://imoveis.mercadolivre.com.br/aluguel/sao-paulo/sao-paulo-zona-oeste/_Desde_193\n",
      "https://imoveis.mercadolivre.com.br/aluguel/sao-paulo/sao-paulo-zona-oeste/_Desde_241\n",
      "https://imoveis.mercadolivre.com.br/aluguel/sao-paulo/sao-paulo-zona-oeste/_Desde_289\n",
      "https://imoveis.mercadolivre.com.br/aluguel/sao-paulo/sao-paulo-zona-oeste/_Desde_337\n"
     ]
    }
   ],
   "source": [
    "lista_dfs = []\n",
    "for zona in zonas:\n",
    "    for pag in paginas:\n",
    "        url='https://imoveis.mercadolivre.com.br/aluguel/sao-paulo/sao-paulo-zona-{}/{}'.format(zona,pag)\n",
    "        print(url)\n",
    "        df=scrap(url)\n",
    "        lista_dfs.append(df)\n",
    "        sleep(1)"
   ]
  },
  {
   "cell_type": "code",
   "execution_count": 18,
   "metadata": {},
   "outputs": [],
   "source": [
    "df = pd.concat(lista_dfs)"
   ]
  },
  {
   "cell_type": "code",
   "execution_count": 19,
   "metadata": {},
   "outputs": [
    {
     "data": {
      "text/html": [
       "<div>\n",
       "<style scoped>\n",
       "    .dataframe tbody tr th:only-of-type {\n",
       "        vertical-align: middle;\n",
       "    }\n",
       "\n",
       "    .dataframe tbody tr th {\n",
       "        vertical-align: top;\n",
       "    }\n",
       "\n",
       "    .dataframe thead th {\n",
       "        text-align: right;\n",
       "    }\n",
       "</style>\n",
       "<table border=\"1\" class=\"dataframe\">\n",
       "  <thead>\n",
       "    <tr style=\"text-align: right;\">\n",
       "      <th></th>\n",
       "      <th>zona</th>\n",
       "      <th>area_quartos</th>\n",
       "      <th>enderecos_lista</th>\n",
       "      <th>aluguel</th>\n",
       "    </tr>\n",
       "  </thead>\n",
       "  <tbody>\n",
       "    <tr>\n",
       "      <th>0</th>\n",
       "      <td>norte</td>\n",
       "      <td>82 m² construídos3 quartos</td>\n",
       "      <td>Rua Dona Maria Quedas, Jardim Andaraí, São Pau...</td>\n",
       "      <td>1.098</td>\n",
       "    </tr>\n",
       "    <tr>\n",
       "      <th>1</th>\n",
       "      <td>norte</td>\n",
       "      <td>48 m² construídos1 quarto</td>\n",
       "      <td>R Desembargador Euclides Da Silveira, Casa Ver...</td>\n",
       "      <td>2.000</td>\n",
       "    </tr>\n",
       "    <tr>\n",
       "      <th>2</th>\n",
       "      <td>norte</td>\n",
       "      <td>105 m² construídos3 quartos</td>\n",
       "      <td>Av Braz Leme, Santana, São Paulo Zona Norte, S...</td>\n",
       "      <td>3.000</td>\n",
       "    </tr>\n",
       "    <tr>\n",
       "      <th>3</th>\n",
       "      <td>norte</td>\n",
       "      <td>95 m² construídos3 quartos</td>\n",
       "      <td>Avenida Nova Cantareira, Tucuruvi, São Paulo Z...</td>\n",
       "      <td>1.814</td>\n",
       "    </tr>\n",
       "    <tr>\n",
       "      <th>4</th>\n",
       "      <td>norte</td>\n",
       "      <td>50 m² construídos2 quartos</td>\n",
       "      <td>Parada Pinto, Vila Nova Cachoeirinha, São Paul...</td>\n",
       "      <td>1.100</td>\n",
       "    </tr>\n",
       "  </tbody>\n",
       "</table>\n",
       "</div>"
      ],
      "text/plain": [
       "    zona                 area_quartos  \\\n",
       "0  norte   82 m² construídos3 quartos   \n",
       "1  norte    48 m² construídos1 quarto   \n",
       "2  norte  105 m² construídos3 quartos   \n",
       "3  norte   95 m² construídos3 quartos   \n",
       "4  norte   50 m² construídos2 quartos   \n",
       "\n",
       "                                     enderecos_lista aluguel  \n",
       "0  Rua Dona Maria Quedas, Jardim Andaraí, São Pau...   1.098  \n",
       "1  R Desembargador Euclides Da Silveira, Casa Ver...   2.000  \n",
       "2  Av Braz Leme, Santana, São Paulo Zona Norte, S...   3.000  \n",
       "3  Avenida Nova Cantareira, Tucuruvi, São Paulo Z...   1.814  \n",
       "4  Parada Pinto, Vila Nova Cachoeirinha, São Paul...   1.100  "
      ]
     },
     "execution_count": 19,
     "metadata": {},
     "output_type": "execute_result"
    }
   ],
   "source": [
    "df.head()"
   ]
  },
  {
   "cell_type": "code",
   "execution_count": 20,
   "metadata": {},
   "outputs": [],
   "source": [
    "df.to_csv('dados_aluguels_imoveis_ml_sao_paulo.csv', index =False , encoding = 'latin-1')"
   ]
  },
  {
   "cell_type": "code",
   "execution_count": null,
   "metadata": {},
   "outputs": [],
   "source": []
  }
 ],
 "metadata": {
  "kernelspec": {
   "display_name": "Python 3",
   "language": "python",
   "name": "python3"
  },
  "language_info": {
   "codemirror_mode": {
    "name": "ipython",
    "version": 3
   },
   "file_extension": ".py",
   "mimetype": "text/x-python",
   "name": "python",
   "nbconvert_exporter": "python",
   "pygments_lexer": "ipython3",
   "version": "3.8.3"
  },
  "widgets": {
   "application/vnd.jupyter.widget-state+json": {
    "state": {},
    "version_major": 2,
    "version_minor": 0
   }
  }
 },
 "nbformat": 4,
 "nbformat_minor": 4
}
