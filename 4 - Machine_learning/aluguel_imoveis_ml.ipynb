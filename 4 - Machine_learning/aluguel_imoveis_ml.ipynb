{
 "cells": [
  {
   "cell_type": "code",
   "execution_count": 1,
   "metadata": {
    "executionInfo": {
     "elapsed": 1871,
     "status": "ok",
     "timestamp": 1615483217880,
     "user": {
      "displayName": "Sara Malvar",
      "photoUrl": "https://lh3.googleusercontent.com/a-/AOh14GgxTkSI2iE_GXu9t05RJ3OjnDFBKADlycq_jvhc=s64",
      "userId": "12181001413475496115"
     },
     "user_tz": 180
    },
    "id": "PLIctO3EpCOH"
   },
   "outputs": [],
   "source": [
    "import pandas as pd\n",
    "import matplotlib.pyplot as plt\n",
    "import seaborn as sns\n",
    "import numpy as np"
   ]
  },
  {
   "cell_type": "markdown",
   "metadata": {
    "id": "_gbgFLeapU4r"
   },
   "source": [
    "### 1. Importar e Preparar os Dados"
   ]
  },
  {
   "cell_type": "code",
   "execution_count": 2,
   "metadata": {
    "executionInfo": {
     "elapsed": 1864,
     "status": "ok",
     "timestamp": 1615483217882,
     "user": {
      "displayName": "Sara Malvar",
      "photoUrl": "https://lh3.googleusercontent.com/a-/AOh14GgxTkSI2iE_GXu9t05RJ3OjnDFBKADlycq_jvhc=s64",
      "userId": "12181001413475496115"
     },
     "user_tz": 180
    },
    "id": "vVciMNHfoZ2y"
   },
   "outputs": [],
   "source": [
    "url = 'https://raw.githubusercontent.com/robertferro/calculadora-aluguel-ml/main/2%20-%20manipula%C3%A7%C3%A3o-de-dados/dados_aluguel_manipulados_ml_sao_paulo.csv'"
   ]
  },
  {
   "cell_type": "code",
   "execution_count": 13,
   "metadata": {
    "colab": {
     "base_uri": "https://localhost:8080/",
     "height": 206
    },
    "executionInfo": {
     "elapsed": 1854,
     "status": "ok",
     "timestamp": 1615483217884,
     "user": {
      "displayName": "Sara Malvar",
      "photoUrl": "https://lh3.googleusercontent.com/a-/AOh14GgxTkSI2iE_GXu9t05RJ3OjnDFBKADlycq_jvhc=s64",
      "userId": "12181001413475496115"
     },
     "user_tz": 180
    },
    "id": "bns8xjIWpRxL",
    "outputId": "c333a30f-8d2b-461d-8091-3ba8c70ff386"
   },
   "outputs": [
    {
     "data": {
      "text/html": [
       "<div>\n",
       "<style scoped>\n",
       "    .dataframe tbody tr th:only-of-type {\n",
       "        vertical-align: middle;\n",
       "    }\n",
       "\n",
       "    .dataframe tbody tr th {\n",
       "        vertical-align: top;\n",
       "    }\n",
       "\n",
       "    .dataframe thead th {\n",
       "        text-align: right;\n",
       "    }\n",
       "</style>\n",
       "<table border=\"1\" class=\"dataframe\">\n",
       "  <thead>\n",
       "    <tr style=\"text-align: right;\">\n",
       "      <th></th>\n",
       "      <th>logradouro</th>\n",
       "      <th>nome_logradouro</th>\n",
       "      <th>bairro</th>\n",
       "      <th>zona</th>\n",
       "      <th>area</th>\n",
       "      <th>quartos</th>\n",
       "      <th>aluguel</th>\n",
       "    </tr>\n",
       "  </thead>\n",
       "  <tbody>\n",
       "    <tr>\n",
       "      <th>0</th>\n",
       "      <td>rua</td>\n",
       "      <td>Dona Maria Quedas</td>\n",
       "      <td>Jardim Andaraí</td>\n",
       "      <td>norte</td>\n",
       "      <td>82</td>\n",
       "      <td>3.0</td>\n",
       "      <td>1098</td>\n",
       "    </tr>\n",
       "    <tr>\n",
       "      <th>1</th>\n",
       "      <td>rua</td>\n",
       "      <td>Vitalina Moura</td>\n",
       "      <td>Vila Roque</td>\n",
       "      <td>norte</td>\n",
       "      <td>50</td>\n",
       "      <td>2.0</td>\n",
       "      <td>1400</td>\n",
       "    </tr>\n",
       "    <tr>\n",
       "      <th>2</th>\n",
       "      <td>rua</td>\n",
       "      <td>Alcindo Bueno De Assis</td>\n",
       "      <td>Barro Branco</td>\n",
       "      <td>norte</td>\n",
       "      <td>60</td>\n",
       "      <td>2.0</td>\n",
       "      <td>1500</td>\n",
       "    </tr>\n",
       "    <tr>\n",
       "      <th>3</th>\n",
       "      <td>rua</td>\n",
       "      <td>Artur De Oliveira</td>\n",
       "      <td>Parque Peruche</td>\n",
       "      <td>norte</td>\n",
       "      <td>51</td>\n",
       "      <td>2.0</td>\n",
       "      <td>2500</td>\n",
       "    </tr>\n",
       "    <tr>\n",
       "      <th>4</th>\n",
       "      <td>rua</td>\n",
       "      <td>Maria Bandini Savoy</td>\n",
       "      <td>Parque Mandaqui</td>\n",
       "      <td>norte</td>\n",
       "      <td>58</td>\n",
       "      <td>2.0</td>\n",
       "      <td>1300</td>\n",
       "    </tr>\n",
       "  </tbody>\n",
       "</table>\n",
       "</div>"
      ],
      "text/plain": [
       "  logradouro         nome_logradouro            bairro   zona  area  quartos  \\\n",
       "0        rua       Dona Maria Quedas    Jardim Andaraí  norte    82      3.0   \n",
       "1        rua          Vitalina Moura        Vila Roque  norte    50      2.0   \n",
       "2        rua  Alcindo Bueno De Assis      Barro Branco  norte    60      2.0   \n",
       "3        rua       Artur De Oliveira    Parque Peruche  norte    51      2.0   \n",
       "4        rua     Maria Bandini Savoy   Parque Mandaqui  norte    58      2.0   \n",
       "\n",
       "   aluguel  \n",
       "0     1098  \n",
       "1     1400  \n",
       "2     1500  \n",
       "3     2500  \n",
       "4     1300  "
      ]
     },
     "execution_count": 13,
     "metadata": {},
     "output_type": "execute_result"
    }
   ],
   "source": [
    "dados = pd.read_csv(url, encoding='latin')\n",
    "dados.head()"
   ]
  },
  {
   "cell_type": "code",
   "execution_count": 14,
   "metadata": {
    "colab": {
     "base_uri": "https://localhost:8080/",
     "height": 143
    },
    "executionInfo": {
     "elapsed": 916,
     "status": "ok",
     "timestamp": 1615483219006,
     "user": {
      "displayName": "Sara Malvar",
      "photoUrl": "https://lh3.googleusercontent.com/a-/AOh14GgxTkSI2iE_GXu9t05RJ3OjnDFBKADlycq_jvhc=s64",
      "userId": "12181001413475496115"
     },
     "user_tz": 180
    },
    "id": "NpMybVXKqavI",
    "outputId": "38cae7b4-bac7-4436-b3b0-921cbd13355d"
   },
   "outputs": [
    {
     "data": {
      "text/html": [
       "<div>\n",
       "<style scoped>\n",
       "    .dataframe tbody tr th:only-of-type {\n",
       "        vertical-align: middle;\n",
       "    }\n",
       "\n",
       "    .dataframe tbody tr th {\n",
       "        vertical-align: top;\n",
       "    }\n",
       "\n",
       "    .dataframe thead th {\n",
       "        text-align: right;\n",
       "    }\n",
       "</style>\n",
       "<table border=\"1\" class=\"dataframe\">\n",
       "  <thead>\n",
       "    <tr style=\"text-align: right;\">\n",
       "      <th></th>\n",
       "      <th>count</th>\n",
       "      <th>mean</th>\n",
       "      <th>std</th>\n",
       "      <th>min</th>\n",
       "      <th>25%</th>\n",
       "      <th>50%</th>\n",
       "      <th>75%</th>\n",
       "      <th>max</th>\n",
       "    </tr>\n",
       "  </thead>\n",
       "  <tbody>\n",
       "    <tr>\n",
       "      <th>area</th>\n",
       "      <td>1464.0</td>\n",
       "      <td>103.375683</td>\n",
       "      <td>702.189177</td>\n",
       "      <td>10.0</td>\n",
       "      <td>45.0</td>\n",
       "      <td>62.0</td>\n",
       "      <td>90.0</td>\n",
       "      <td>26745.0</td>\n",
       "    </tr>\n",
       "    <tr>\n",
       "      <th>quartos</th>\n",
       "      <td>1437.0</td>\n",
       "      <td>1.993041</td>\n",
       "      <td>0.862371</td>\n",
       "      <td>1.0</td>\n",
       "      <td>1.0</td>\n",
       "      <td>2.0</td>\n",
       "      <td>3.0</td>\n",
       "      <td>6.0</td>\n",
       "    </tr>\n",
       "    <tr>\n",
       "      <th>aluguel</th>\n",
       "      <td>1464.0</td>\n",
       "      <td>2858.527322</td>\n",
       "      <td>4719.852631</td>\n",
       "      <td>550.0</td>\n",
       "      <td>1500.0</td>\n",
       "      <td>2129.5</td>\n",
       "      <td>3200.0</td>\n",
       "      <td>160000.0</td>\n",
       "    </tr>\n",
       "  </tbody>\n",
       "</table>\n",
       "</div>"
      ],
      "text/plain": [
       "          count         mean          std    min     25%     50%     75%  \\\n",
       "area     1464.0   103.375683   702.189177   10.0    45.0    62.0    90.0   \n",
       "quartos  1437.0     1.993041     0.862371    1.0     1.0     2.0     3.0   \n",
       "aluguel  1464.0  2858.527322  4719.852631  550.0  1500.0  2129.5  3200.0   \n",
       "\n",
       "              max  \n",
       "area      26745.0  \n",
       "quartos       6.0  \n",
       "aluguel  160000.0  "
      ]
     },
     "execution_count": 14,
     "metadata": {},
     "output_type": "execute_result"
    }
   ],
   "source": [
    "dados.describe().T"
   ]
  },
  {
   "cell_type": "code",
   "execution_count": 15,
   "metadata": {
    "colab": {
     "base_uri": "https://localhost:8080/"
    },
    "executionInfo": {
     "elapsed": 697,
     "status": "ok",
     "timestamp": 1615483220149,
     "user": {
      "displayName": "Sara Malvar",
      "photoUrl": "https://lh3.googleusercontent.com/a-/AOh14GgxTkSI2iE_GXu9t05RJ3OjnDFBKADlycq_jvhc=s64",
      "userId": "12181001413475496115"
     },
     "user_tz": 180
    },
    "id": "iQzcTPxpqgCQ",
    "outputId": "bb5959ad-5d30-47c5-e862-7ca4eae89fdd"
   },
   "outputs": [
    {
     "name": "stdout",
     "output_type": "stream",
     "text": [
      "<class 'pandas.core.frame.DataFrame'>\n",
      "RangeIndex: 1464 entries, 0 to 1463\n",
      "Data columns (total 7 columns):\n",
      " #   Column           Non-Null Count  Dtype  \n",
      "---  ------           --------------  -----  \n",
      " 0   logradouro       1456 non-null   object \n",
      " 1   nome_logradouro  1464 non-null   object \n",
      " 2   bairro           1462 non-null   object \n",
      " 3   zona             1464 non-null   object \n",
      " 4   area             1464 non-null   int64  \n",
      " 5   quartos          1437 non-null   float64\n",
      " 6   aluguel          1464 non-null   int64  \n",
      "dtypes: float64(1), int64(2), object(4)\n",
      "memory usage: 80.2+ KB\n"
     ]
    }
   ],
   "source": [
    "dados.info()"
   ]
  },
  {
   "cell_type": "markdown",
   "metadata": {},
   "source": [
    " - Tratando variáveis categóricas."
   ]
  },
  {
   "cell_type": "code",
   "execution_count": 16,
   "metadata": {},
   "outputs": [],
   "source": [
    "from sklearn.preprocessing import LabelEncoder"
   ]
  },
  {
   "cell_type": "code",
   "execution_count": 17,
   "metadata": {},
   "outputs": [],
   "source": [
    "enconder = LabelEncoder()"
   ]
  },
  {
   "cell_type": "code",
   "execution_count": 31,
   "metadata": {},
   "outputs": [
    {
     "ename": "TypeError",
     "evalue": "Encoders require their input to be uniformly strings or numbers. Got ['float', 'str']",
     "output_type": "error",
     "traceback": [
      "\u001b[1;31m---------------------------------------------------------------------------\u001b[0m",
      "\u001b[1;31mTypeError\u001b[0m                                 Traceback (most recent call last)",
      "\u001b[1;32m~\\anaconda3\\lib\\site-packages\\sklearn\\preprocessing\\_label.py\u001b[0m in \u001b[0;36m_encode\u001b[1;34m(values, uniques, encode, check_unknown)\u001b[0m\n\u001b[0;32m    112\u001b[0m         \u001b[1;32mtry\u001b[0m\u001b[1;33m:\u001b[0m\u001b[1;33m\u001b[0m\u001b[1;33m\u001b[0m\u001b[0m\n\u001b[1;32m--> 113\u001b[1;33m             \u001b[0mres\u001b[0m \u001b[1;33m=\u001b[0m \u001b[0m_encode_python\u001b[0m\u001b[1;33m(\u001b[0m\u001b[0mvalues\u001b[0m\u001b[1;33m,\u001b[0m \u001b[0muniques\u001b[0m\u001b[1;33m,\u001b[0m \u001b[0mencode\u001b[0m\u001b[1;33m)\u001b[0m\u001b[1;33m\u001b[0m\u001b[1;33m\u001b[0m\u001b[0m\n\u001b[0m\u001b[0;32m    114\u001b[0m         \u001b[1;32mexcept\u001b[0m \u001b[0mTypeError\u001b[0m\u001b[1;33m:\u001b[0m\u001b[1;33m\u001b[0m\u001b[1;33m\u001b[0m\u001b[0m\n",
      "\u001b[1;32m~\\anaconda3\\lib\\site-packages\\sklearn\\preprocessing\\_label.py\u001b[0m in \u001b[0;36m_encode_python\u001b[1;34m(values, uniques, encode)\u001b[0m\n\u001b[0;32m     60\u001b[0m     \u001b[1;32mif\u001b[0m \u001b[0muniques\u001b[0m \u001b[1;32mis\u001b[0m \u001b[1;32mNone\u001b[0m\u001b[1;33m:\u001b[0m\u001b[1;33m\u001b[0m\u001b[1;33m\u001b[0m\u001b[0m\n\u001b[1;32m---> 61\u001b[1;33m         \u001b[0muniques\u001b[0m \u001b[1;33m=\u001b[0m \u001b[0msorted\u001b[0m\u001b[1;33m(\u001b[0m\u001b[0mset\u001b[0m\u001b[1;33m(\u001b[0m\u001b[0mvalues\u001b[0m\u001b[1;33m)\u001b[0m\u001b[1;33m)\u001b[0m\u001b[1;33m\u001b[0m\u001b[1;33m\u001b[0m\u001b[0m\n\u001b[0m\u001b[0;32m     62\u001b[0m         \u001b[0muniques\u001b[0m \u001b[1;33m=\u001b[0m \u001b[0mnp\u001b[0m\u001b[1;33m.\u001b[0m\u001b[0marray\u001b[0m\u001b[1;33m(\u001b[0m\u001b[0muniques\u001b[0m\u001b[1;33m,\u001b[0m \u001b[0mdtype\u001b[0m\u001b[1;33m=\u001b[0m\u001b[0mvalues\u001b[0m\u001b[1;33m.\u001b[0m\u001b[0mdtype\u001b[0m\u001b[1;33m)\u001b[0m\u001b[1;33m\u001b[0m\u001b[1;33m\u001b[0m\u001b[0m\n",
      "\u001b[1;31mTypeError\u001b[0m: '<' not supported between instances of 'str' and 'float'",
      "\nDuring handling of the above exception, another exception occurred:\n",
      "\u001b[1;31mTypeError\u001b[0m                                 Traceback (most recent call last)",
      "\u001b[1;32m<ipython-input-31-05c877ae4711>\u001b[0m in \u001b[0;36m<module>\u001b[1;34m\u001b[0m\n\u001b[1;32m----> 1\u001b[1;33m \u001b[0mdados\u001b[0m\u001b[1;33m[\u001b[0m\u001b[1;34m'bairro'\u001b[0m\u001b[1;33m]\u001b[0m \u001b[1;33m=\u001b[0m \u001b[0menconder\u001b[0m\u001b[1;33m.\u001b[0m\u001b[0mfit_transform\u001b[0m\u001b[1;33m(\u001b[0m\u001b[0mdados\u001b[0m\u001b[1;33m[\u001b[0m\u001b[1;34m'bairro'\u001b[0m\u001b[1;33m]\u001b[0m\u001b[1;33m)\u001b[0m\u001b[1;33m\u001b[0m\u001b[1;33m\u001b[0m\u001b[0m\n\u001b[0m\u001b[0;32m      2\u001b[0m \u001b[0mdados\u001b[0m\u001b[1;33m[\u001b[0m\u001b[1;34m'logradouro'\u001b[0m\u001b[1;33m]\u001b[0m \u001b[1;33m=\u001b[0m \u001b[0menconder\u001b[0m\u001b[1;33m.\u001b[0m\u001b[0mfit_transform\u001b[0m\u001b[1;33m(\u001b[0m\u001b[0mdados\u001b[0m\u001b[1;33m[\u001b[0m\u001b[1;34m'logradouro'\u001b[0m\u001b[1;33m]\u001b[0m\u001b[1;33m)\u001b[0m\u001b[1;33m\u001b[0m\u001b[1;33m\u001b[0m\u001b[0m\n\u001b[0;32m      3\u001b[0m \u001b[0mdados\u001b[0m\u001b[1;33m[\u001b[0m\u001b[1;34m'nome_logradouro'\u001b[0m\u001b[1;33m]\u001b[0m \u001b[1;33m=\u001b[0m \u001b[0menconder\u001b[0m\u001b[1;33m.\u001b[0m\u001b[0mfit_transform\u001b[0m\u001b[1;33m(\u001b[0m\u001b[0mdados\u001b[0m\u001b[1;33m[\u001b[0m\u001b[1;34m'nome_logradouro'\u001b[0m\u001b[1;33m]\u001b[0m\u001b[1;33m)\u001b[0m\u001b[1;33m\u001b[0m\u001b[1;33m\u001b[0m\u001b[0m\n\u001b[0;32m      4\u001b[0m \u001b[0mdados\u001b[0m\u001b[1;33m[\u001b[0m\u001b[1;34m'zona'\u001b[0m\u001b[1;33m]\u001b[0m \u001b[1;33m=\u001b[0m \u001b[0menconder\u001b[0m\u001b[1;33m.\u001b[0m\u001b[0mfit_transform\u001b[0m\u001b[1;33m(\u001b[0m\u001b[0mdados\u001b[0m\u001b[1;33m[\u001b[0m\u001b[1;34m'zona'\u001b[0m\u001b[1;33m]\u001b[0m\u001b[1;33m)\u001b[0m\u001b[1;33m\u001b[0m\u001b[1;33m\u001b[0m\u001b[0m\n",
      "\u001b[1;32m~\\anaconda3\\lib\\site-packages\\sklearn\\preprocessing\\_label.py\u001b[0m in \u001b[0;36mfit_transform\u001b[1;34m(self, y)\u001b[0m\n\u001b[0;32m    254\u001b[0m         \"\"\"\n\u001b[0;32m    255\u001b[0m         \u001b[0my\u001b[0m \u001b[1;33m=\u001b[0m \u001b[0mcolumn_or_1d\u001b[0m\u001b[1;33m(\u001b[0m\u001b[0my\u001b[0m\u001b[1;33m,\u001b[0m \u001b[0mwarn\u001b[0m\u001b[1;33m=\u001b[0m\u001b[1;32mTrue\u001b[0m\u001b[1;33m)\u001b[0m\u001b[1;33m\u001b[0m\u001b[1;33m\u001b[0m\u001b[0m\n\u001b[1;32m--> 256\u001b[1;33m         \u001b[0mself\u001b[0m\u001b[1;33m.\u001b[0m\u001b[0mclasses_\u001b[0m\u001b[1;33m,\u001b[0m \u001b[0my\u001b[0m \u001b[1;33m=\u001b[0m \u001b[0m_encode\u001b[0m\u001b[1;33m(\u001b[0m\u001b[0my\u001b[0m\u001b[1;33m,\u001b[0m \u001b[0mencode\u001b[0m\u001b[1;33m=\u001b[0m\u001b[1;32mTrue\u001b[0m\u001b[1;33m)\u001b[0m\u001b[1;33m\u001b[0m\u001b[1;33m\u001b[0m\u001b[0m\n\u001b[0m\u001b[0;32m    257\u001b[0m         \u001b[1;32mreturn\u001b[0m \u001b[0my\u001b[0m\u001b[1;33m\u001b[0m\u001b[1;33m\u001b[0m\u001b[0m\n\u001b[0;32m    258\u001b[0m \u001b[1;33m\u001b[0m\u001b[0m\n",
      "\u001b[1;32m~\\anaconda3\\lib\\site-packages\\sklearn\\preprocessing\\_label.py\u001b[0m in \u001b[0;36m_encode\u001b[1;34m(values, uniques, encode, check_unknown)\u001b[0m\n\u001b[0;32m    115\u001b[0m             types = sorted(t.__qualname__\n\u001b[0;32m    116\u001b[0m                            for t in set(type(v) for v in values))\n\u001b[1;32m--> 117\u001b[1;33m             raise TypeError(\"Encoders require their input to be uniformly \"\n\u001b[0m\u001b[0;32m    118\u001b[0m                             f\"strings or numbers. Got {types}\")\n\u001b[0;32m    119\u001b[0m         \u001b[1;32mreturn\u001b[0m \u001b[0mres\u001b[0m\u001b[1;33m\u001b[0m\u001b[1;33m\u001b[0m\u001b[0m\n",
      "\u001b[1;31mTypeError\u001b[0m: Encoders require their input to be uniformly strings or numbers. Got ['float', 'str']"
     ]
    }
   ],
   "source": [
    "dados['bairro'] = enconder.fit_transform(dados['bairro'])\n",
    "dados['logradouro'] = enconder.fit_transform(dados['logradouro'])\n",
    "dados['nome_logradouro'] = enconder.fit_transform(dados['nome_logradouro'])\n",
    "dados['zona'] = enconder.fit_transform(dados['zona'])"
   ]
  },
  {
   "cell_type": "code",
   "execution_count": 33,
   "metadata": {},
   "outputs": [
    {
     "data": {
      "text/plain": [
       " Vila Libanesa                     1\n",
       " Vila Vasconcelos                  1\n",
       " Vila Nova Savoia                  1\n",
       " Vila Campanela                    1\n",
       " 756 - Jaguare                     1\n",
       " Jardim Ester                      1\n",
       " Parque Edu Chaves                 1\n",
       " Vila Constança                    1\n",
       " Parque São Luís                   1\n",
       " Jardim Andaraí                    1\n",
       " Vila Bandeirantes                 1\n",
       " Vila Santa Maria                  1\n",
       " Jardim Ângela (zona Leste)        1\n",
       " Jardim Parque Morumbi             1\n",
       "\\n                291              1\n",
       " Vila Paulicéia                    1\n",
       " Jardim Melo                       1\n",
       " Vila Celeste                      1\n",
       " 142                               1\n",
       " Jardim Popular                    1\n",
       " Jardim Monte Alegre               1\n",
       " Vila Ponte Rasa                   1\n",
       " Jardim Guedala                    1\n",
       " Vila Rui Barbosa                  1\n",
       " Jardim Ana Rosa                   1\n",
       " Chácara Mafalda                   1\n",
       " Vila Bela                         1\n",
       " Jardim Santa Emília               1\n",
       " Brasilândia                       1\n",
       " Jardim Paulistano (zona Norte)    1\n",
       " Vila Monumento                    1\n",
       " 433                               1\n",
       " Jardim Iracema                    1\n",
       " Parque Guarani                    1\n",
       " Vila Dos Andradas                 1\n",
       " 1471 - Campo Belo                 1\n",
       " Vila Paranaguá                    1\n",
       " Parque Vitória                    1\n",
       " Parque São Domingos               1\n",
       "  439                              1\n",
       " Vila Canero                       1\n",
       "\\n                3744             1\n",
       " Jardim Amaralina                  1\n",
       "\\n                296              1\n",
       " Parque Bairro Morumbi             1\n",
       " Jardim Rossin                     1\n",
       " Jardim Três Marias                1\n",
       " Vila Cunha Bueno                  1\n",
       " Vila Diva (zona Norte)            1\n",
       " Vila Jacuí                        1\n",
       " Vila Nair                         1\n",
       " Vila São Paulo                    1\n",
       " Jardim Santos Dumont              1\n",
       " Vila Prel                         1\n",
       " Jardim Das Bandeiras              1\n",
       " Jardim Irapiranga                 1\n",
       " Vila Maria Baixa                  1\n",
       " Vila Siqueira (zona Norte)        1\n",
       " Vila Campestre                    1\n",
       " Vila Portugal                     1\n",
       "Name: bairro, dtype: int64"
      ]
     },
     "execution_count": 33,
     "metadata": {},
     "output_type": "execute_result"
    }
   ],
   "source": [
    "dados.bairro.value_counts().tail(60)"
   ]
  },
  {
   "cell_type": "code",
   "execution_count": 30,
   "metadata": {},
   "outputs": [
    {
     "data": {
      "text/plain": [
       "744"
      ]
     },
     "execution_count": 30,
     "metadata": {},
     "output_type": "execute_result"
    }
   ],
   "source": [
    "dados.bairro.value_counts().head(50).sum()"
   ]
  },
  {
   "cell_type": "code",
   "execution_count": null,
   "metadata": {},
   "outputs": [],
   "source": []
  },
  {
   "cell_type": "code",
   "execution_count": null,
   "metadata": {},
   "outputs": [],
   "source": []
  },
  {
   "cell_type": "code",
   "execution_count": null,
   "metadata": {
    "executionInfo": {
     "elapsed": 748,
     "status": "ok",
     "timestamp": 1615483222571,
     "user": {
      "displayName": "Sara Malvar",
      "photoUrl": "https://lh3.googleusercontent.com/a-/AOh14GgxTkSI2iE_GXu9t05RJ3OjnDFBKADlycq_jvhc=s64",
      "userId": "12181001413475496115"
     },
     "user_tz": 180
    },
    "id": "S2k5atEirRi9"
   },
   "outputs": [],
   "source": [
    "from sklearn.model_selection import train_test_split"
   ]
  },
  {
   "cell_type": "code",
   "execution_count": null,
   "metadata": {
    "executionInfo": {
     "elapsed": 805,
     "status": "ok",
     "timestamp": 1615483446052,
     "user": {
      "displayName": "Sara Malvar",
      "photoUrl": "https://lh3.googleusercontent.com/a-/AOh14GgxTkSI2iE_GXu9t05RJ3OjnDFBKADlycq_jvhc=s64",
      "userId": "12181001413475496115"
     },
     "user_tz": 180
    },
    "id": "0OmfqIDlrkDd"
   },
   "outputs": [],
   "source": [
    "train, test = train_test_split(data, test_size=0.25, random_state=123, stratify=data['zona'])"
   ]
  },
  {
   "cell_type": "code",
   "execution_count": null,
   "metadata": {
    "colab": {
     "base_uri": "https://localhost:8080/"
    },
    "executionInfo": {
     "elapsed": 1149,
     "status": "ok",
     "timestamp": 1615483225433,
     "user": {
      "displayName": "Sara Malvar",
      "photoUrl": "https://lh3.googleusercontent.com/a-/AOh14GgxTkSI2iE_GXu9t05RJ3OjnDFBKADlycq_jvhc=s64",
      "userId": "12181001413475496115"
     },
     "user_tz": 180
    },
    "id": "ba7SwRCXrj26",
    "outputId": "2204f17d-c2cf-49c6-b92a-110594a88b79"
   },
   "outputs": [],
   "source": [
    "train.info()"
   ]
  },
  {
   "cell_type": "code",
   "execution_count": null,
   "metadata": {
    "colab": {
     "base_uri": "https://localhost:8080/"
    },
    "executionInfo": {
     "elapsed": 857,
     "status": "ok",
     "timestamp": 1615483227056,
     "user": {
      "displayName": "Sara Malvar",
      "photoUrl": "https://lh3.googleusercontent.com/a-/AOh14GgxTkSI2iE_GXu9t05RJ3OjnDFBKADlycq_jvhc=s64",
      "userId": "12181001413475496115"
     },
     "user_tz": 180
    },
    "id": "_Od488TvtnBy",
    "outputId": "0415605b-20a3-4162-c8ff-a07ce176dcbf"
   },
   "outputs": [],
   "source": [
    "train['zona'].value_counts()"
   ]
  },
  {
   "cell_type": "code",
   "execution_count": null,
   "metadata": {
    "colab": {
     "base_uri": "https://localhost:8080/"
    },
    "executionInfo": {
     "elapsed": 653,
     "status": "ok",
     "timestamp": 1615483228342,
     "user": {
      "displayName": "Sara Malvar",
      "photoUrl": "https://lh3.googleusercontent.com/a-/AOh14GgxTkSI2iE_GXu9t05RJ3OjnDFBKADlycq_jvhc=s64",
      "userId": "12181001413475496115"
     },
     "user_tz": 180
    },
    "id": "vB91DdkxrjzW",
    "outputId": "8bf971e5-e80f-4c27-9421-516c3aea40bc"
   },
   "outputs": [],
   "source": [
    "test.info()"
   ]
  },
  {
   "cell_type": "code",
   "execution_count": null,
   "metadata": {
    "colab": {
     "base_uri": "https://localhost:8080/"
    },
    "executionInfo": {
     "elapsed": 880,
     "status": "ok",
     "timestamp": 1615483230751,
     "user": {
      "displayName": "Sara Malvar",
      "photoUrl": "https://lh3.googleusercontent.com/a-/AOh14GgxTkSI2iE_GXu9t05RJ3OjnDFBKADlycq_jvhc=s64",
      "userId": "12181001413475496115"
     },
     "user_tz": 180
    },
    "id": "aR6A92QuuAh8",
    "outputId": "18d130ba-037c-48cc-8e1e-e259243a2e32"
   },
   "outputs": [],
   "source": [
    "test['zona'].value_counts()"
   ]
  },
  {
   "cell_type": "code",
   "execution_count": null,
   "metadata": {
    "colab": {
     "base_uri": "https://localhost:8080/",
     "height": 206
    },
    "executionInfo": {
     "elapsed": 1029,
     "status": "ok",
     "timestamp": 1615483232202,
     "user": {
      "displayName": "Sara Malvar",
      "photoUrl": "https://lh3.googleusercontent.com/a-/AOh14GgxTkSI2iE_GXu9t05RJ3OjnDFBKADlycq_jvhc=s64",
      "userId": "12181001413475496115"
     },
     "user_tz": 180
    },
    "id": "LEnYFd2asHsw",
    "outputId": "70bbbc3c-1911-48ee-fdb1-65e63aa267b6"
   },
   "outputs": [],
   "source": [
    "test.head()"
   ]
  },
  {
   "cell_type": "code",
   "execution_count": null,
   "metadata": {
    "colab": {
     "base_uri": "https://localhost:8080/",
     "height": 568
    },
    "executionInfo": {
     "elapsed": 11482,
     "status": "ok",
     "timestamp": 1615483245734,
     "user": {
      "displayName": "Sara Malvar",
      "photoUrl": "https://lh3.googleusercontent.com/a-/AOh14GgxTkSI2iE_GXu9t05RJ3OjnDFBKADlycq_jvhc=s64",
      "userId": "12181001413475496115"
     },
     "user_tz": 180
    },
    "id": "PeWHoTTitWQT",
    "outputId": "dd5c8491-bcd8-4621-cd4f-e91d24c9cf68"
   },
   "outputs": [],
   "source": [
    "sns.pairplot(train, kind='reg')"
   ]
  },
  {
   "cell_type": "code",
   "execution_count": null,
   "metadata": {
    "colab": {
     "base_uri": "https://localhost:8080/"
    },
    "executionInfo": {
     "elapsed": 993,
     "status": "ok",
     "timestamp": 1615483256126,
     "user": {
      "displayName": "Sara Malvar",
      "photoUrl": "https://lh3.googleusercontent.com/a-/AOh14GgxTkSI2iE_GXu9t05RJ3OjnDFBKADlycq_jvhc=s64",
      "userId": "12181001413475496115"
     },
     "user_tz": 180
    },
    "id": "s2eMyF8x0f3i",
    "outputId": "3d954aee-22e0-44c4-c8e8-9f053fe76f20"
   },
   "outputs": [],
   "source": [
    "train['aluguel']=train['aluguel'].apply(np.log1p)\n",
    "train['area']=train['area'].apply(np.log1p)"
   ]
  },
  {
   "cell_type": "code",
   "execution_count": null,
   "metadata": {
    "colab": {
     "base_uri": "https://localhost:8080/"
    },
    "executionInfo": {
     "elapsed": 666,
     "status": "ok",
     "timestamp": 1615483266180,
     "user": {
      "displayName": "Sara Malvar",
      "photoUrl": "https://lh3.googleusercontent.com/a-/AOh14GgxTkSI2iE_GXu9t05RJ3OjnDFBKADlycq_jvhc=s64",
      "userId": "12181001413475496115"
     },
     "user_tz": 180
    },
    "id": "x-lKVXRi01ua",
    "outputId": "02ed2d19-fbec-407f-85ac-64a8bfb76d60"
   },
   "outputs": [],
   "source": [
    "test['aluguel']=test['aluguel'].apply(np.log1p)\n",
    "test['area']=test['area'].apply(np.log1p)"
   ]
  },
  {
   "cell_type": "code",
   "execution_count": null,
   "metadata": {
    "colab": {
     "base_uri": "https://localhost:8080/",
     "height": 568
    },
    "executionInfo": {
     "elapsed": 5981,
     "status": "ok",
     "timestamp": 1615483274054,
     "user": {
      "displayName": "Sara Malvar",
      "photoUrl": "https://lh3.googleusercontent.com/a-/AOh14GgxTkSI2iE_GXu9t05RJ3OjnDFBKADlycq_jvhc=s64",
      "userId": "12181001413475496115"
     },
     "user_tz": 180
    },
    "id": "1q5KZCcE0fLJ",
    "outputId": "e7c0e3f1-edbe-42aa-d546-d937eacb7c31"
   },
   "outputs": [],
   "source": [
    "sns.pairplot(train, kind='reg')"
   ]
  },
  {
   "cell_type": "code",
   "execution_count": null,
   "metadata": {
    "executionInfo": {
     "elapsed": 681,
     "status": "ok",
     "timestamp": 1615483281318,
     "user": {
      "displayName": "Sara Malvar",
      "photoUrl": "https://lh3.googleusercontent.com/a-/AOh14GgxTkSI2iE_GXu9t05RJ3OjnDFBKADlycq_jvhc=s64",
      "userId": "12181001413475496115"
     },
     "user_tz": 180
    },
    "id": "0RU7izgVpcT_"
   },
   "outputs": [],
   "source": [
    "X_cols = ['zona', 'area', 'quartos']\n",
    "y_col = ['aluguel']"
   ]
  },
  {
   "cell_type": "code",
   "execution_count": null,
   "metadata": {
    "executionInfo": {
     "elapsed": 467,
     "status": "ok",
     "timestamp": 1615483282056,
     "user": {
      "displayName": "Sara Malvar",
      "photoUrl": "https://lh3.googleusercontent.com/a-/AOh14GgxTkSI2iE_GXu9t05RJ3OjnDFBKADlycq_jvhc=s64",
      "userId": "12181001413475496115"
     },
     "user_tz": 180
    },
    "id": "sg_PHw2XtVc8"
   },
   "outputs": [],
   "source": [
    "X_train = train[X_cols]\n",
    "X_test = test[X_cols]\n",
    "y_train = train[y_col]\n",
    "y_test = test[y_col]"
   ]
  },
  {
   "cell_type": "code",
   "execution_count": null,
   "metadata": {
    "colab": {
     "base_uri": "https://localhost:8080/",
     "height": 206
    },
    "executionInfo": {
     "elapsed": 628,
     "status": "ok",
     "timestamp": 1615483286832,
     "user": {
      "displayName": "Sara Malvar",
      "photoUrl": "https://lh3.googleusercontent.com/a-/AOh14GgxTkSI2iE_GXu9t05RJ3OjnDFBKADlycq_jvhc=s64",
      "userId": "12181001413475496115"
     },
     "user_tz": 180
    },
    "id": "TqKo5pQhu3EQ",
    "outputId": "257e6f04-ffae-4455-cad5-597e93693bd9"
   },
   "outputs": [],
   "source": [
    "X_train.head()"
   ]
  },
  {
   "cell_type": "code",
   "execution_count": null,
   "metadata": {
    "executionInfo": {
     "elapsed": 622,
     "status": "ok",
     "timestamp": 1615483289684,
     "user": {
      "displayName": "Sara Malvar",
      "photoUrl": "https://lh3.googleusercontent.com/a-/AOh14GgxTkSI2iE_GXu9t05RJ3OjnDFBKADlycq_jvhc=s64",
      "userId": "12181001413475496115"
     },
     "user_tz": 180
    },
    "id": "Xrtclk3xtVSu"
   },
   "outputs": [],
   "source": [
    "# Tratar colunas categoricas\n",
    "X_train = pd.get_dummies(X_train)\n",
    "X_test = pd.get_dummies(X_test)"
   ]
  },
  {
   "cell_type": "code",
   "execution_count": null,
   "metadata": {
    "colab": {
     "base_uri": "https://localhost:8080/",
     "height": 206
    },
    "executionInfo": {
     "elapsed": 2002,
     "status": "ok",
     "timestamp": 1615483293450,
     "user": {
      "displayName": "Sara Malvar",
      "photoUrl": "https://lh3.googleusercontent.com/a-/AOh14GgxTkSI2iE_GXu9t05RJ3OjnDFBKADlycq_jvhc=s64",
      "userId": "12181001413475496115"
     },
     "user_tz": 180
    },
    "id": "lhuxKPXbtVG6",
    "outputId": "11862fc9-e5ec-405c-e375-b64f4d466c2b"
   },
   "outputs": [],
   "source": [
    "X_train.head()"
   ]
  },
  {
   "cell_type": "code",
   "execution_count": null,
   "metadata": {
    "executionInfo": {
     "elapsed": 676,
     "status": "ok",
     "timestamp": 1615483296446,
     "user": {
      "displayName": "Sara Malvar",
      "photoUrl": "https://lh3.googleusercontent.com/a-/AOh14GgxTkSI2iE_GXu9t05RJ3OjnDFBKADlycq_jvhc=s64",
      "userId": "12181001413475496115"
     },
     "user_tz": 180
    },
    "id": "Smqf3X3jvhJw"
   },
   "outputs": [],
   "source": [
    "# Tratar valores ausente\n",
    "# Importante: Usar informações do conjunto de treino\n",
    "train_medians = X_train.median()\n",
    "X_train=X_train.fillna(train_medians)\n",
    "X_test=X_test.fillna(train_medians)"
   ]
  },
  {
   "cell_type": "code",
   "execution_count": null,
   "metadata": {
    "colab": {
     "base_uri": "https://localhost:8080/",
     "height": 206
    },
    "executionInfo": {
     "elapsed": 719,
     "status": "ok",
     "timestamp": 1615483298423,
     "user": {
      "displayName": "Sara Malvar",
      "photoUrl": "https://lh3.googleusercontent.com/a-/AOh14GgxTkSI2iE_GXu9t05RJ3OjnDFBKADlycq_jvhc=s64",
      "userId": "12181001413475496115"
     },
     "user_tz": 180
    },
    "id": "HDUDC5tGw131",
    "outputId": "e423c259-a4a0-472f-a019-0e6ca84e6005"
   },
   "outputs": [],
   "source": [
    "X_train.head()"
   ]
  },
  {
   "cell_type": "markdown",
   "metadata": {
    "id": "QcRo6LAkxPS-"
   },
   "source": [
    "## 2. Machine Learning\n",
    "### 2.1 Definição de Métrica\n",
    "Métricas para regressão:\n",
    "- Mean Absolute Error\n",
    "- Mean Squared Error\n",
    "- R2 Score\n",
    "- Root Mean Squared Error\n",
    "\n",
    "\n",
    "\n",
    "### 2.2 Modelo Base"
   ]
  },
  {
   "cell_type": "code",
   "execution_count": null,
   "metadata": {
    "colab": {
     "base_uri": "https://localhost:8080/"
    },
    "executionInfo": {
     "elapsed": 1728,
     "status": "ok",
     "timestamp": 1615483303425,
     "user": {
      "displayName": "Sara Malvar",
      "photoUrl": "https://lh3.googleusercontent.com/a-/AOh14GgxTkSI2iE_GXu9t05RJ3OjnDFBKADlycq_jvhc=s64",
      "userId": "12181001413475496115"
     },
     "user_tz": 180
    },
    "id": "0rDSw0i6xMrZ",
    "outputId": "c36f115c-975d-4a46-968e-dd0b6822f11d"
   },
   "outputs": [],
   "source": [
    "from sklearn.neighbors import KNeighborsRegressor\n",
    "neigh = KNeighborsRegressor()\n",
    "neigh.fit(X_train, y_train)"
   ]
  },
  {
   "cell_type": "code",
   "execution_count": null,
   "metadata": {
    "executionInfo": {
     "elapsed": 1089,
     "status": "ok",
     "timestamp": 1615483306320,
     "user": {
      "displayName": "Sara Malvar",
      "photoUrl": "https://lh3.googleusercontent.com/a-/AOh14GgxTkSI2iE_GXu9t05RJ3OjnDFBKADlycq_jvhc=s64",
      "userId": "12181001413475496115"
     },
     "user_tz": 180
    },
    "id": "zUGJI2Eeyk-_"
   },
   "outputs": [],
   "source": [
    "y_pred = neigh.predict(X_test)"
   ]
  },
  {
   "cell_type": "code",
   "execution_count": null,
   "metadata": {
    "colab": {
     "base_uri": "https://localhost:8080/"
    },
    "executionInfo": {
     "elapsed": 624,
     "status": "ok",
     "timestamp": 1615483308420,
     "user": {
      "displayName": "Sara Malvar",
      "photoUrl": "https://lh3.googleusercontent.com/a-/AOh14GgxTkSI2iE_GXu9t05RJ3OjnDFBKADlycq_jvhc=s64",
      "userId": "12181001413475496115"
     },
     "user_tz": 180
    },
    "id": "WRi-wbbLzRNz",
    "outputId": "73158aea-0cc8-44f6-cd2e-3827bb1cb533"
   },
   "outputs": [],
   "source": [
    "# Root Mean Squared Error\n",
    "np.sqrt(np.mean((y_pred-y_test.values)**2))"
   ]
  },
  {
   "cell_type": "code",
   "execution_count": null,
   "metadata": {
    "colab": {
     "base_uri": "https://localhost:8080/"
    },
    "executionInfo": {
     "elapsed": 827,
     "status": "ok",
     "timestamp": 1608244268008,
     "user": {
      "displayName": "Fernando Wittmann",
      "photoUrl": "https://lh3.googleusercontent.com/a-/AOh14GhNorYBXS94RhQoZfDlpCZQpyZF7VKfQ8Jra6kU3hsvY5q8QtEXe0YoxTQJvd1t1cP1TXf5nWjp_MDg5d5FMld-Hj2HMEuM2YeoPkELBH72cY5HI5KxSIPGKGGuU1V51FJvnroVy4ykg0yIegxtYNk3cHx0uLYcThENRex52QQBTlJhndcejpvKCPWMfJrNgsvrmWB3gDUZcrsiJFsoTpRrI8ysAM8-9FVE4h92p_i18-H1zkAkjFpxvV8JKuEDDN6OriReItkoasRPv9NVKARyG4apWuwodPnPpRMb7ZvJeB-52DXZuzsN56MQcxG_lQibwSGftaYEs-S8-2b_9cJwsSDPv_NWcqwRIxgeB8TDntdpGhEm_PXVXGhNLQ8RnXZfqEvU_K75bpr_H1dZWtWwbjDqQqqxCNqvwvHk7CI3DSduKrG0hIkm6frSrpuGteYuguRJ2ZAd4PfaVWwvKKT94i4EZi8J_9uVe1Lbw61ezsqr7R4y9lsDkkP4-t-1D3amrQr3hONmDDqvwTnAkkWMdUqPNhc4iKbh29CStMZkIo-F4sNJ6rfisD7xaEvQvQWHgpLShqHUl8qeYe6Oq3VORNzCSsmAt7LyUDMg9XQCDSgdzCw2Rv6UFvG0V22Np4Jk0WoI85QzgvCjjfkaIME0B4fEt_s8EH6jhx2d1kQvWY3i6xxcTB9TwHSIBvP0Sv0aRGSF_e9_SpKjSwRvCfin4UEsKvKfJC1XjMmyaGGsuyz1Vzfok4YgQZP-gNzi-HnN1Q=s64",
      "userId": "04384401167989785014"
     },
     "user_tz": 180
    },
    "id": "ajm4T-Ajyxxe",
    "outputId": "eb0b5102-ba13-4dbb-d052-278269311ae0"
   },
   "outputs": [],
   "source": [
    "# Mean Squared Error\n",
    "np.mean((y_pred-y_test.values)**2)"
   ]
  },
  {
   "cell_type": "code",
   "execution_count": null,
   "metadata": {
    "colab": {
     "base_uri": "https://localhost:8080/"
    },
    "executionInfo": {
     "elapsed": 737,
     "status": "ok",
     "timestamp": 1608244270039,
     "user": {
      "displayName": "Fernando Wittmann",
      "photoUrl": "https://lh3.googleusercontent.com/a-/AOh14GhNorYBXS94RhQoZfDlpCZQpyZF7VKfQ8Jra6kU3hsvY5q8QtEXe0YoxTQJvd1t1cP1TXf5nWjp_MDg5d5FMld-Hj2HMEuM2YeoPkELBH72cY5HI5KxSIPGKGGuU1V51FJvnroVy4ykg0yIegxtYNk3cHx0uLYcThENRex52QQBTlJhndcejpvKCPWMfJrNgsvrmWB3gDUZcrsiJFsoTpRrI8ysAM8-9FVE4h92p_i18-H1zkAkjFpxvV8JKuEDDN6OriReItkoasRPv9NVKARyG4apWuwodPnPpRMb7ZvJeB-52DXZuzsN56MQcxG_lQibwSGftaYEs-S8-2b_9cJwsSDPv_NWcqwRIxgeB8TDntdpGhEm_PXVXGhNLQ8RnXZfqEvU_K75bpr_H1dZWtWwbjDqQqqxCNqvwvHk7CI3DSduKrG0hIkm6frSrpuGteYuguRJ2ZAd4PfaVWwvKKT94i4EZi8J_9uVe1Lbw61ezsqr7R4y9lsDkkP4-t-1D3amrQr3hONmDDqvwTnAkkWMdUqPNhc4iKbh29CStMZkIo-F4sNJ6rfisD7xaEvQvQWHgpLShqHUl8qeYe6Oq3VORNzCSsmAt7LyUDMg9XQCDSgdzCw2Rv6UFvG0V22Np4Jk0WoI85QzgvCjjfkaIME0B4fEt_s8EH6jhx2d1kQvWY3i6xxcTB9TwHSIBvP0Sv0aRGSF_e9_SpKjSwRvCfin4UEsKvKfJC1XjMmyaGGsuyz1Vzfok4YgQZP-gNzi-HnN1Q=s64",
      "userId": "04384401167989785014"
     },
     "user_tz": 180
    },
    "id": "G_YZEZPUyhJ9",
    "outputId": "accdca08-3f6b-48f1-b9f6-578a07bdecc9"
   },
   "outputs": [],
   "source": [
    "# Mean Absolute Error\n",
    "np.mean(np.abs(y_pred-y_test.values))"
   ]
  },
  {
   "cell_type": "code",
   "execution_count": null,
   "metadata": {
    "colab": {
     "base_uri": "https://localhost:8080/"
    },
    "executionInfo": {
     "elapsed": 707,
     "status": "ok",
     "timestamp": 1615483311883,
     "user": {
      "displayName": "Sara Malvar",
      "photoUrl": "https://lh3.googleusercontent.com/a-/AOh14GgxTkSI2iE_GXu9t05RJ3OjnDFBKADlycq_jvhc=s64",
      "userId": "12181001413475496115"
     },
     "user_tz": 180
    },
    "id": "-d1AcRE3zcjH",
    "outputId": "293066c0-6114-42a1-d9e3-7cbf3f20d73f"
   },
   "outputs": [],
   "source": [
    "# R2 Score\n",
    "from sklearn.metrics import r2_score\n",
    "r2_score(y_test, y_pred)"
   ]
  },
  {
   "cell_type": "code",
   "execution_count": null,
   "metadata": {
    "id": "DJ7bMBrc2Smf"
   },
   "outputs": [],
   "source": []
  },
  {
   "cell_type": "markdown",
   "metadata": {
    "id": "33qA7PaX1egL"
   },
   "source": [
    "## 3. Triagem com Outros Modelos"
   ]
  },
  {
   "cell_type": "code",
   "execution_count": null,
   "metadata": {
    "colab": {
     "base_uri": "https://localhost:8080/"
    },
    "executionInfo": {
     "elapsed": 795,
     "status": "ok",
     "timestamp": 1608244495906,
     "user": {
      "displayName": "Fernando Wittmann",
      "photoUrl": "https://lh3.googleusercontent.com/a-/AOh14GhNorYBXS94RhQoZfDlpCZQpyZF7VKfQ8Jra6kU3hsvY5q8QtEXe0YoxTQJvd1t1cP1TXf5nWjp_MDg5d5FMld-Hj2HMEuM2YeoPkELBH72cY5HI5KxSIPGKGGuU1V51FJvnroVy4ykg0yIegxtYNk3cHx0uLYcThENRex52QQBTlJhndcejpvKCPWMfJrNgsvrmWB3gDUZcrsiJFsoTpRrI8ysAM8-9FVE4h92p_i18-H1zkAkjFpxvV8JKuEDDN6OriReItkoasRPv9NVKARyG4apWuwodPnPpRMb7ZvJeB-52DXZuzsN56MQcxG_lQibwSGftaYEs-S8-2b_9cJwsSDPv_NWcqwRIxgeB8TDntdpGhEm_PXVXGhNLQ8RnXZfqEvU_K75bpr_H1dZWtWwbjDqQqqxCNqvwvHk7CI3DSduKrG0hIkm6frSrpuGteYuguRJ2ZAd4PfaVWwvKKT94i4EZi8J_9uVe1Lbw61ezsqr7R4y9lsDkkP4-t-1D3amrQr3hONmDDqvwTnAkkWMdUqPNhc4iKbh29CStMZkIo-F4sNJ6rfisD7xaEvQvQWHgpLShqHUl8qeYe6Oq3VORNzCSsmAt7LyUDMg9XQCDSgdzCw2Rv6UFvG0V22Np4Jk0WoI85QzgvCjjfkaIME0B4fEt_s8EH6jhx2d1kQvWY3i6xxcTB9TwHSIBvP0Sv0aRGSF_e9_SpKjSwRvCfin4UEsKvKfJC1XjMmyaGGsuyz1Vzfok4YgQZP-gNzi-HnN1Q=s64",
      "userId": "04384401167989785014"
     },
     "user_tz": 180
    },
    "id": "FuZbmao8x68i",
    "outputId": "50973549-b647-471e-aef5-c5f3e58f9e05"
   },
   "outputs": [],
   "source": [
    "from sklearn.linear_model import LinearRegression\n",
    "reg = LinearRegression()\n",
    "reg.fit(X_train, y_train)\n",
    "\n",
    "reg.score(X_test, y_test)"
   ]
  },
  {
   "cell_type": "code",
   "execution_count": null,
   "metadata": {
    "colab": {
     "base_uri": "https://localhost:8080/"
    },
    "executionInfo": {
     "elapsed": 2176,
     "status": "ok",
     "timestamp": 1608244855754,
     "user": {
      "displayName": "Fernando Wittmann",
      "photoUrl": "https://lh3.googleusercontent.com/a-/AOh14GhNorYBXS94RhQoZfDlpCZQpyZF7VKfQ8Jra6kU3hsvY5q8QtEXe0YoxTQJvd1t1cP1TXf5nWjp_MDg5d5FMld-Hj2HMEuM2YeoPkELBH72cY5HI5KxSIPGKGGuU1V51FJvnroVy4ykg0yIegxtYNk3cHx0uLYcThENRex52QQBTlJhndcejpvKCPWMfJrNgsvrmWB3gDUZcrsiJFsoTpRrI8ysAM8-9FVE4h92p_i18-H1zkAkjFpxvV8JKuEDDN6OriReItkoasRPv9NVKARyG4apWuwodPnPpRMb7ZvJeB-52DXZuzsN56MQcxG_lQibwSGftaYEs-S8-2b_9cJwsSDPv_NWcqwRIxgeB8TDntdpGhEm_PXVXGhNLQ8RnXZfqEvU_K75bpr_H1dZWtWwbjDqQqqxCNqvwvHk7CI3DSduKrG0hIkm6frSrpuGteYuguRJ2ZAd4PfaVWwvKKT94i4EZi8J_9uVe1Lbw61ezsqr7R4y9lsDkkP4-t-1D3amrQr3hONmDDqvwTnAkkWMdUqPNhc4iKbh29CStMZkIo-F4sNJ6rfisD7xaEvQvQWHgpLShqHUl8qeYe6Oq3VORNzCSsmAt7LyUDMg9XQCDSgdzCw2Rv6UFvG0V22Np4Jk0WoI85QzgvCjjfkaIME0B4fEt_s8EH6jhx2d1kQvWY3i6xxcTB9TwHSIBvP0Sv0aRGSF_e9_SpKjSwRvCfin4UEsKvKfJC1XjMmyaGGsuyz1Vzfok4YgQZP-gNzi-HnN1Q=s64",
      "userId": "04384401167989785014"
     },
     "user_tz": 180
    },
    "id": "6UfiC4Kc14Cd",
    "outputId": "550a1656-590b-4829-8ce2-bf85f4aed941"
   },
   "outputs": [],
   "source": [
    "from sklearn.tree import DecisionTreeRegressor\n",
    "from sklearn.ensemble import RandomForestRegressor\n",
    "from sklearn.neural_network import MLPRegressor\n",
    "from xgboost import XGBRegressor\n",
    "\n",
    "regressor_list = [DecisionTreeRegressor(),\n",
    "                  RandomForestRegressor(),\n",
    "                  MLPRegressor(),\n",
    "                  XGBRegressor(),\n",
    "                  ]\n",
    "\n",
    "for reg in regressor_list:\n",
    "  print('Treinando', reg.__class__.__name__)\n",
    "  reg.fit(X_train, y_train)\n",
    "  train_score = reg.score(X_train, y_train)\n",
    "  test_score = reg.score(X_test, y_test)\n",
    "  print('Train score', train_score)\n",
    "  print('Test score', test_score)\n",
    "  print('='*80)"
   ]
  },
  {
   "cell_type": "code",
   "execution_count": null,
   "metadata": {
    "colab": {
     "base_uri": "https://localhost:8080/"
    },
    "executionInfo": {
     "elapsed": 721,
     "status": "ok",
     "timestamp": 1608245007993,
     "user": {
      "displayName": "Fernando Wittmann",
      "photoUrl": "https://lh3.googleusercontent.com/a-/AOh14GhNorYBXS94RhQoZfDlpCZQpyZF7VKfQ8Jra6kU3hsvY5q8QtEXe0YoxTQJvd1t1cP1TXf5nWjp_MDg5d5FMld-Hj2HMEuM2YeoPkELBH72cY5HI5KxSIPGKGGuU1V51FJvnroVy4ykg0yIegxtYNk3cHx0uLYcThENRex52QQBTlJhndcejpvKCPWMfJrNgsvrmWB3gDUZcrsiJFsoTpRrI8ysAM8-9FVE4h92p_i18-H1zkAkjFpxvV8JKuEDDN6OriReItkoasRPv9NVKARyG4apWuwodPnPpRMb7ZvJeB-52DXZuzsN56MQcxG_lQibwSGftaYEs-S8-2b_9cJwsSDPv_NWcqwRIxgeB8TDntdpGhEm_PXVXGhNLQ8RnXZfqEvU_K75bpr_H1dZWtWwbjDqQqqxCNqvwvHk7CI3DSduKrG0hIkm6frSrpuGteYuguRJ2ZAd4PfaVWwvKKT94i4EZi8J_9uVe1Lbw61ezsqr7R4y9lsDkkP4-t-1D3amrQr3hONmDDqvwTnAkkWMdUqPNhc4iKbh29CStMZkIo-F4sNJ6rfisD7xaEvQvQWHgpLShqHUl8qeYe6Oq3VORNzCSsmAt7LyUDMg9XQCDSgdzCw2Rv6UFvG0V22Np4Jk0WoI85QzgvCjjfkaIME0B4fEt_s8EH6jhx2d1kQvWY3i6xxcTB9TwHSIBvP0Sv0aRGSF_e9_SpKjSwRvCfin4UEsKvKfJC1XjMmyaGGsuyz1Vzfok4YgQZP-gNzi-HnN1Q=s64",
      "userId": "04384401167989785014"
     },
     "user_tz": 180
    },
    "id": "8ZwplyJF3GMr",
    "outputId": "b0676783-9a14-4202-9bd5-53f4dfb43a8d"
   },
   "outputs": [],
   "source": [
    "len(X_train)//3"
   ]
  },
  {
   "cell_type": "code",
   "execution_count": null,
   "metadata": {
    "id": "TCdPUxKm3yTY"
   },
   "outputs": [],
   "source": [
    "X1=X_train[:336]\n",
    "X2=X_train[336:2*336]\n",
    "X3=X_train[2*336:]"
   ]
  },
  {
   "cell_type": "code",
   "execution_count": null,
   "metadata": {
    "colab": {
     "base_uri": "https://localhost:8080/"
    },
    "executionInfo": {
     "elapsed": 4937,
     "status": "ok",
     "timestamp": 1608245316015,
     "user": {
      "displayName": "Fernando Wittmann",
      "photoUrl": "https://lh3.googleusercontent.com/a-/AOh14GhNorYBXS94RhQoZfDlpCZQpyZF7VKfQ8Jra6kU3hsvY5q8QtEXe0YoxTQJvd1t1cP1TXf5nWjp_MDg5d5FMld-Hj2HMEuM2YeoPkELBH72cY5HI5KxSIPGKGGuU1V51FJvnroVy4ykg0yIegxtYNk3cHx0uLYcThENRex52QQBTlJhndcejpvKCPWMfJrNgsvrmWB3gDUZcrsiJFsoTpRrI8ysAM8-9FVE4h92p_i18-H1zkAkjFpxvV8JKuEDDN6OriReItkoasRPv9NVKARyG4apWuwodPnPpRMb7ZvJeB-52DXZuzsN56MQcxG_lQibwSGftaYEs-S8-2b_9cJwsSDPv_NWcqwRIxgeB8TDntdpGhEm_PXVXGhNLQ8RnXZfqEvU_K75bpr_H1dZWtWwbjDqQqqxCNqvwvHk7CI3DSduKrG0hIkm6frSrpuGteYuguRJ2ZAd4PfaVWwvKKT94i4EZi8J_9uVe1Lbw61ezsqr7R4y9lsDkkP4-t-1D3amrQr3hONmDDqvwTnAkkWMdUqPNhc4iKbh29CStMZkIo-F4sNJ6rfisD7xaEvQvQWHgpLShqHUl8qeYe6Oq3VORNzCSsmAt7LyUDMg9XQCDSgdzCw2Rv6UFvG0V22Np4Jk0WoI85QzgvCjjfkaIME0B4fEt_s8EH6jhx2d1kQvWY3i6xxcTB9TwHSIBvP0Sv0aRGSF_e9_SpKjSwRvCfin4UEsKvKfJC1XjMmyaGGsuyz1Vzfok4YgQZP-gNzi-HnN1Q=s64",
      "userId": "04384401167989785014"
     },
     "user_tz": 180
    },
    "id": "crCgGxhr37gG",
    "outputId": "fd22db2a-1109-4999-9870-baa1db925107"
   },
   "outputs": [],
   "source": [
    "# Repetindo com validação cruzada\n",
    "import warnings\n",
    "warnings.filterwarnings(\"ignore\")\n",
    "from sklearn.tree import DecisionTreeRegressor\n",
    "from sklearn.ensemble import RandomForestRegressor\n",
    "from sklearn.neural_network import MLPRegressor\n",
    "from xgboost import XGBRegressor\n",
    "from sklearn.model_selection import cross_val_score\n",
    "\n",
    "\n",
    "regressor_list = [DecisionTreeRegressor(),\n",
    "                  RandomForestRegressor(),\n",
    "                  MLPRegressor(),\n",
    "                  XGBRegressor(),\n",
    "                  ]\n",
    "\n",
    "for reg in regressor_list:\n",
    "  print('Treinando', reg.__class__.__name__)\n",
    "  reg.fit(X_train, y_train)\n",
    "  train_score = reg.score(X_train, y_train)\n",
    "  val_score = cross_val_score(reg, X_train, y_train, cv=3)\n",
    "  test_score = reg.score(X_test, y_test)\n",
    "  print('Train score', train_score)\n",
    "  print('Validation score', val_score)\n",
    "  print('Test score', test_score)\n",
    "  print('='*80)"
   ]
  },
  {
   "cell_type": "code",
   "execution_count": null,
   "metadata": {
    "colab": {
     "base_uri": "https://localhost:8080/"
    },
    "executionInfo": {
     "elapsed": 11540,
     "status": "ok",
     "timestamp": 1608245887167,
     "user": {
      "displayName": "Fernando Wittmann",
      "photoUrl": "https://lh3.googleusercontent.com/a-/AOh14GhNorYBXS94RhQoZfDlpCZQpyZF7VKfQ8Jra6kU3hsvY5q8QtEXe0YoxTQJvd1t1cP1TXf5nWjp_MDg5d5FMld-Hj2HMEuM2YeoPkELBH72cY5HI5KxSIPGKGGuU1V51FJvnroVy4ykg0yIegxtYNk3cHx0uLYcThENRex52QQBTlJhndcejpvKCPWMfJrNgsvrmWB3gDUZcrsiJFsoTpRrI8ysAM8-9FVE4h92p_i18-H1zkAkjFpxvV8JKuEDDN6OriReItkoasRPv9NVKARyG4apWuwodPnPpRMb7ZvJeB-52DXZuzsN56MQcxG_lQibwSGftaYEs-S8-2b_9cJwsSDPv_NWcqwRIxgeB8TDntdpGhEm_PXVXGhNLQ8RnXZfqEvU_K75bpr_H1dZWtWwbjDqQqqxCNqvwvHk7CI3DSduKrG0hIkm6frSrpuGteYuguRJ2ZAd4PfaVWwvKKT94i4EZi8J_9uVe1Lbw61ezsqr7R4y9lsDkkP4-t-1D3amrQr3hONmDDqvwTnAkkWMdUqPNhc4iKbh29CStMZkIo-F4sNJ6rfisD7xaEvQvQWHgpLShqHUl8qeYe6Oq3VORNzCSsmAt7LyUDMg9XQCDSgdzCw2Rv6UFvG0V22Np4Jk0WoI85QzgvCjjfkaIME0B4fEt_s8EH6jhx2d1kQvWY3i6xxcTB9TwHSIBvP0Sv0aRGSF_e9_SpKjSwRvCfin4UEsKvKfJC1XjMmyaGGsuyz1Vzfok4YgQZP-gNzi-HnN1Q=s64",
      "userId": "04384401167989785014"
     },
     "user_tz": 180
    },
    "id": "Gko6R35j4z0P",
    "outputId": "925bb5f7-bb3f-4755-efe1-a0898386333e"
   },
   "outputs": [],
   "source": [
    "# TODO: Calibração de modelo\n",
    "from sklearn.model_selection import GridSearchCV\n",
    "parameters=[{'learning_rate':[0.1,0.2,0.3,0.4],\n",
    "             'max_depth':[3,4,5,6,7,8],\n",
    "             'n_estimators':[50, 100, 200]}]\n",
    "            \n",
    "xgb = XGBRegressor(n_estimators=100, max_depth=1)\n",
    "gs = GridSearchCV(xgb,parameters,scoring='r2',n_jobs=-1,cv=3)\n",
    "gs.fit(X_train, y_train)"
   ]
  },
  {
   "cell_type": "code",
   "execution_count": null,
   "metadata": {
    "colab": {
     "base_uri": "https://localhost:8080/"
    },
    "executionInfo": {
     "elapsed": 776,
     "status": "ok",
     "timestamp": 1608245893091,
     "user": {
      "displayName": "Fernando Wittmann",
      "photoUrl": "https://lh3.googleusercontent.com/a-/AOh14GhNorYBXS94RhQoZfDlpCZQpyZF7VKfQ8Jra6kU3hsvY5q8QtEXe0YoxTQJvd1t1cP1TXf5nWjp_MDg5d5FMld-Hj2HMEuM2YeoPkELBH72cY5HI5KxSIPGKGGuU1V51FJvnroVy4ykg0yIegxtYNk3cHx0uLYcThENRex52QQBTlJhndcejpvKCPWMfJrNgsvrmWB3gDUZcrsiJFsoTpRrI8ysAM8-9FVE4h92p_i18-H1zkAkjFpxvV8JKuEDDN6OriReItkoasRPv9NVKARyG4apWuwodPnPpRMb7ZvJeB-52DXZuzsN56MQcxG_lQibwSGftaYEs-S8-2b_9cJwsSDPv_NWcqwRIxgeB8TDntdpGhEm_PXVXGhNLQ8RnXZfqEvU_K75bpr_H1dZWtWwbjDqQqqxCNqvwvHk7CI3DSduKrG0hIkm6frSrpuGteYuguRJ2ZAd4PfaVWwvKKT94i4EZi8J_9uVe1Lbw61ezsqr7R4y9lsDkkP4-t-1D3amrQr3hONmDDqvwTnAkkWMdUqPNhc4iKbh29CStMZkIo-F4sNJ6rfisD7xaEvQvQWHgpLShqHUl8qeYe6Oq3VORNzCSsmAt7LyUDMg9XQCDSgdzCw2Rv6UFvG0V22Np4Jk0WoI85QzgvCjjfkaIME0B4fEt_s8EH6jhx2d1kQvWY3i6xxcTB9TwHSIBvP0Sv0aRGSF_e9_SpKjSwRvCfin4UEsKvKfJC1XjMmyaGGsuyz1Vzfok4YgQZP-gNzi-HnN1Q=s64",
      "userId": "04384401167989785014"
     },
     "user_tz": 180
    },
    "id": "xpBPXnlO7J0w",
    "outputId": "6372eb49-380d-43e9-b9b6-3c741c5dc4c8"
   },
   "outputs": [],
   "source": [
    "gs.best_params_"
   ]
  },
  {
   "cell_type": "code",
   "execution_count": null,
   "metadata": {
    "id": "V4Ftl8qW7Ppe"
   },
   "outputs": [],
   "source": [
    "reg = gs.best_estimator_"
   ]
  },
  {
   "cell_type": "code",
   "execution_count": null,
   "metadata": {
    "colab": {
     "base_uri": "https://localhost:8080/"
    },
    "executionInfo": {
     "elapsed": 721,
     "status": "ok",
     "timestamp": 1608245915683,
     "user": {
      "displayName": "Fernando Wittmann",
      "photoUrl": "https://lh3.googleusercontent.com/a-/AOh14GhNorYBXS94RhQoZfDlpCZQpyZF7VKfQ8Jra6kU3hsvY5q8QtEXe0YoxTQJvd1t1cP1TXf5nWjp_MDg5d5FMld-Hj2HMEuM2YeoPkELBH72cY5HI5KxSIPGKGGuU1V51FJvnroVy4ykg0yIegxtYNk3cHx0uLYcThENRex52QQBTlJhndcejpvKCPWMfJrNgsvrmWB3gDUZcrsiJFsoTpRrI8ysAM8-9FVE4h92p_i18-H1zkAkjFpxvV8JKuEDDN6OriReItkoasRPv9NVKARyG4apWuwodPnPpRMb7ZvJeB-52DXZuzsN56MQcxG_lQibwSGftaYEs-S8-2b_9cJwsSDPv_NWcqwRIxgeB8TDntdpGhEm_PXVXGhNLQ8RnXZfqEvU_K75bpr_H1dZWtWwbjDqQqqxCNqvwvHk7CI3DSduKrG0hIkm6frSrpuGteYuguRJ2ZAd4PfaVWwvKKT94i4EZi8J_9uVe1Lbw61ezsqr7R4y9lsDkkP4-t-1D3amrQr3hONmDDqvwTnAkkWMdUqPNhc4iKbh29CStMZkIo-F4sNJ6rfisD7xaEvQvQWHgpLShqHUl8qeYe6Oq3VORNzCSsmAt7LyUDMg9XQCDSgdzCw2Rv6UFvG0V22Np4Jk0WoI85QzgvCjjfkaIME0B4fEt_s8EH6jhx2d1kQvWY3i6xxcTB9TwHSIBvP0Sv0aRGSF_e9_SpKjSwRvCfin4UEsKvKfJC1XjMmyaGGsuyz1Vzfok4YgQZP-gNzi-HnN1Q=s64",
      "userId": "04384401167989785014"
     },
     "user_tz": 180
    },
    "id": "OZQ49V27556p",
    "outputId": "e837c1f4-78d7-4390-b64d-95b8417ad548"
   },
   "outputs": [],
   "source": [
    "train_score = reg.score(X_train, y_train)\n",
    "val_score = cross_val_score(reg, X_train, y_train, cv=3)\n",
    "test_score = reg.score(X_test, y_test)\n",
    "print('Train score', train_score)\n",
    "print('Validation score', val_score)\n",
    "print('Test score', test_score)"
   ]
  },
  {
   "cell_type": "code",
   "execution_count": null,
   "metadata": {
    "id": "P21NNI2n7S0B"
   },
   "outputs": [],
   "source": [
    "import pickle\n",
    "# now you can save it to a file\n",
    "with open('xgboost_regression.pkl', 'wb') as f:\n",
    "    pickle.dump(reg, f)\n",
    "\n",
    "## and later you can load it\n",
    "#with open('filename.pkl', 'rb') as f:\n",
    "#    clf = pickle.load(f)"
   ]
  },
  {
   "cell_type": "markdown",
   "metadata": {
    "id": "Kwt7GLm6JjGj"
   },
   "source": [
    "### Bonus: Testando todos os regressores do sklearn:"
   ]
  },
  {
   "cell_type": "code",
   "execution_count": null,
   "metadata": {
    "colab": {
     "base_uri": "https://localhost:8080/"
    },
    "executionInfo": {
     "elapsed": 1742,
     "status": "ok",
     "timestamp": 1608249664485,
     "user": {
      "displayName": "Fernando Wittmann",
      "photoUrl": "https://lh3.googleusercontent.com/a-/AOh14GhNorYBXS94RhQoZfDlpCZQpyZF7VKfQ8Jra6kU3hsvY5q8QtEXe0YoxTQJvd1t1cP1TXf5nWjp_MDg5d5FMld-Hj2HMEuM2YeoPkELBH72cY5HI5KxSIPGKGGuU1V51FJvnroVy4ykg0yIegxtYNk3cHx0uLYcThENRex52QQBTlJhndcejpvKCPWMfJrNgsvrmWB3gDUZcrsiJFsoTpRrI8ysAM8-9FVE4h92p_i18-H1zkAkjFpxvV8JKuEDDN6OriReItkoasRPv9NVKARyG4apWuwodPnPpRMb7ZvJeB-52DXZuzsN56MQcxG_lQibwSGftaYEs-S8-2b_9cJwsSDPv_NWcqwRIxgeB8TDntdpGhEm_PXVXGhNLQ8RnXZfqEvU_K75bpr_H1dZWtWwbjDqQqqxCNqvwvHk7CI3DSduKrG0hIkm6frSrpuGteYuguRJ2ZAd4PfaVWwvKKT94i4EZi8J_9uVe1Lbw61ezsqr7R4y9lsDkkP4-t-1D3amrQr3hONmDDqvwTnAkkWMdUqPNhc4iKbh29CStMZkIo-F4sNJ6rfisD7xaEvQvQWHgpLShqHUl8qeYe6Oq3VORNzCSsmAt7LyUDMg9XQCDSgdzCw2Rv6UFvG0V22Np4Jk0WoI85QzgvCjjfkaIME0B4fEt_s8EH6jhx2d1kQvWY3i6xxcTB9TwHSIBvP0Sv0aRGSF_e9_SpKjSwRvCfin4UEsKvKfJC1XjMmyaGGsuyz1Vzfok4YgQZP-gNzi-HnN1Q=s64",
      "userId": "04384401167989785014"
     },
     "user_tz": 180
    },
    "id": "urn0sNEd77SI",
    "outputId": "3339d171-efe1-4d09-c7a8-b3e856a08e18"
   },
   "outputs": [],
   "source": [
    "from sklearn.utils import all_estimators\n",
    "\n",
    "estimators = all_estimators(type_filter='regressor')\n",
    "\n",
    "all_regs = []\n",
    "for name, RegressorClass in estimators:\n",
    "    try:\n",
    "        print('Appending', name)\n",
    "        reg = RegressorClass()\n",
    "        all_regs.append(reg)\n",
    "    except Exception as e:\n",
    "        print(e)"
   ]
  },
  {
   "cell_type": "code",
   "execution_count": null,
   "metadata": {
    "colab": {
     "base_uri": "https://localhost:8080/"
    },
    "executionInfo": {
     "elapsed": 33986,
     "status": "ok",
     "timestamp": 1608249784388,
     "user": {
      "displayName": "Fernando Wittmann",
      "photoUrl": "https://lh3.googleusercontent.com/a-/AOh14GhNorYBXS94RhQoZfDlpCZQpyZF7VKfQ8Jra6kU3hsvY5q8QtEXe0YoxTQJvd1t1cP1TXf5nWjp_MDg5d5FMld-Hj2HMEuM2YeoPkELBH72cY5HI5KxSIPGKGGuU1V51FJvnroVy4ykg0yIegxtYNk3cHx0uLYcThENRex52QQBTlJhndcejpvKCPWMfJrNgsvrmWB3gDUZcrsiJFsoTpRrI8ysAM8-9FVE4h92p_i18-H1zkAkjFpxvV8JKuEDDN6OriReItkoasRPv9NVKARyG4apWuwodPnPpRMb7ZvJeB-52DXZuzsN56MQcxG_lQibwSGftaYEs-S8-2b_9cJwsSDPv_NWcqwRIxgeB8TDntdpGhEm_PXVXGhNLQ8RnXZfqEvU_K75bpr_H1dZWtWwbjDqQqqxCNqvwvHk7CI3DSduKrG0hIkm6frSrpuGteYuguRJ2ZAd4PfaVWwvKKT94i4EZi8J_9uVe1Lbw61ezsqr7R4y9lsDkkP4-t-1D3amrQr3hONmDDqvwTnAkkWMdUqPNhc4iKbh29CStMZkIo-F4sNJ6rfisD7xaEvQvQWHgpLShqHUl8qeYe6Oq3VORNzCSsmAt7LyUDMg9XQCDSgdzCw2Rv6UFvG0V22Np4Jk0WoI85QzgvCjjfkaIME0B4fEt_s8EH6jhx2d1kQvWY3i6xxcTB9TwHSIBvP0Sv0aRGSF_e9_SpKjSwRvCfin4UEsKvKfJC1XjMmyaGGsuyz1Vzfok4YgQZP-gNzi-HnN1Q=s64",
      "userId": "04384401167989785014"
     },
     "user_tz": 180
    },
    "id": "MoXgi0xvJlzK",
    "outputId": "8bbe49e7-f401-4e1c-85d9-5b927820d8c2"
   },
   "outputs": [],
   "source": [
    "for reg in all_regs:\n",
    "  try:\n",
    "    print('Treinando', reg.__class__.__name__)\n",
    "    reg.fit(X_train, y_train)\n",
    "    train_score = reg.score(X_train, y_train)\n",
    "    val_score = cross_val_score(reg, X_train, y_train, cv=3)\n",
    "    test_score = reg.score(X_test, y_test)\n",
    "    print('Train score', train_score)\n",
    "    print('Validation score', val_score)\n",
    "    print('Test score', test_score)\n",
    "    print('='*80)\n",
    "  except Exception as e:\n",
    "    print(e)"
   ]
  },
  {
   "cell_type": "code",
   "execution_count": null,
   "metadata": {
    "id": "QDUGU_boJtTe"
   },
   "outputs": [],
   "source": []
  }
 ],
 "metadata": {
  "colab": {
   "collapsed_sections": [],
   "name": "aula-12-triagem-ML.ipynb",
   "provenance": []
  },
  "kernelspec": {
   "display_name": "Python 3",
   "language": "python",
   "name": "python3"
  },
  "language_info": {
   "codemirror_mode": {
    "name": "ipython",
    "version": 3
   },
   "file_extension": ".py",
   "mimetype": "text/x-python",
   "name": "python",
   "nbconvert_exporter": "python",
   "pygments_lexer": "ipython3",
   "version": "3.8.3"
  }
 },
 "nbformat": 4,
 "nbformat_minor": 1
}
