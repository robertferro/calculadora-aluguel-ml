{
 "cells": [
  {
   "cell_type": "code",
   "execution_count": 1,
   "metadata": {},
   "outputs": [],
   "source": [
    "import requests\n",
    "from bs4 import BeautifulSoup\n",
    "import pandas as pd\n",
    "from time import sleep"
   ]
  },
  {
   "cell_type": "code",
   "execution_count": 2,
   "metadata": {},
   "outputs": [],
   "source": [
    "url = 'https://imoveis.mercadolivre.com.br/casas/aluguel/sao-paulo-zona-norte/'\n",
    "c = requests.get(url).content"
   ]
  },
  {
   "cell_type": "code",
   "execution_count": 3,
   "metadata": {},
   "outputs": [],
   "source": [
    "soup = BeautifulSoup(c)"
   ]
  },
  {
   "cell_type": "markdown",
   "metadata": {},
   "source": [
    "## Criando uma lista com os preços dos alugueis"
   ]
  },
  {
   "cell_type": "code",
   "execution_count": 4,
   "metadata": {},
   "outputs": [],
   "source": [
    "lista_precos_tags = soup.find_all('span', {'class':'price-tag-fraction'})"
   ]
  },
  {
   "cell_type": "markdown",
   "metadata": {},
   "source": [
    "- For loop para obter a lista de preços"
   ]
  },
  {
   "cell_type": "code",
   "execution_count": 5,
   "metadata": {},
   "outputs": [
    {
     "data": {
      "text/plain": [
       "['900', '1.000', '1.299', '620', '799']"
      ]
     },
     "execution_count": 5,
     "metadata": {},
     "output_type": "execute_result"
    }
   ],
   "source": [
    "lista_precos = []\n",
    "for tag in lista_precos_tags:\n",
    "    lista_precos.append(tag.text)\n",
    "lista_precos[0:5]"
   ]
  },
  {
   "cell_type": "markdown",
   "metadata": {},
   "source": [
    " - List comprehension"
   ]
  },
  {
   "cell_type": "code",
   "execution_count": 6,
   "metadata": {},
   "outputs": [
    {
     "data": {
      "text/plain": [
       "['900', '1.000', '1.299', '620', '799']"
      ]
     },
     "execution_count": 6,
     "metadata": {},
     "output_type": "execute_result"
    }
   ],
   "source": [
    "# for loop utilizando list compreehension\n",
    "lista_precos  = [tag.text for tag in lista_precos_tags]\n",
    "lista_precos[0:5]"
   ]
  },
  {
   "cell_type": "code",
   "execution_count": 7,
   "metadata": {},
   "outputs": [
    {
     "data": {
      "text/plain": [
       "48"
      ]
     },
     "execution_count": 7,
     "metadata": {},
     "output_type": "execute_result"
    }
   ],
   "source": [
    "len(lista_precos)"
   ]
  },
  {
   "cell_type": "markdown",
   "metadata": {},
   "source": [
    "## Criando uma lista com a área e quantidade de quartos"
   ]
  },
  {
   "cell_type": "code",
   "execution_count": 8,
   "metadata": {},
   "outputs": [],
   "source": [
    "lista_area_quartos_tags = soup.find_all('ul', {'class':'ui-search-card-attributes'})"
   ]
  },
  {
   "cell_type": "code",
   "execution_count": 9,
   "metadata": {},
   "outputs": [
    {
     "data": {
      "text/plain": [
       "['30 m² construídos1 quarto',\n",
       " '50 m² construídos1 quarto',\n",
       " '80 m² construídos2 quartos',\n",
       " '30 m² construídos1 quarto',\n",
       " '50 m² construídos1 quarto']"
      ]
     },
     "execution_count": 9,
     "metadata": {},
     "output_type": "execute_result"
    }
   ],
   "source": [
    "lista_area_quartos = [info.text for info in lista_area_quartos_tags ]\n",
    "lista_area_quartos[0:5]"
   ]
  },
  {
   "cell_type": "code",
   "execution_count": 10,
   "metadata": {},
   "outputs": [
    {
     "data": {
      "text/plain": [
       "48"
      ]
     },
     "execution_count": 10,
     "metadata": {},
     "output_type": "execute_result"
    }
   ],
   "source": [
    "len(lista_area_quartos)"
   ]
  },
  {
   "cell_type": "markdown",
   "metadata": {},
   "source": [
    "## Criando uma lista com os endereços"
   ]
  },
  {
   "cell_type": "code",
   "execution_count": 11,
   "metadata": {},
   "outputs": [],
   "source": [
    "lista_enderecos_tags = soup.find_all('span' , {'class':'ui-search-item__group__element'})"
   ]
  },
  {
   "cell_type": "code",
   "execution_count": 12,
   "metadata": {},
   "outputs": [
    {
     "data": {
      "text/plain": [
       "['R Das Tâmaras, Vila Paulista, São Paulo Zona Norte, São Paulo',\n",
       " 'Rua Campo Belo Do Sul 113, Parque Vitória, São Paulo Zona Norte, São Paulo',\n",
       " 'Rua José Eduardo Raduan 5, Parque Edu Chaves, São Paulo Zona Norte, São Paulo',\n",
       " 'Rua Rodolfo Bardela 335, Brasilândia, São Paulo Zona Norte, São Paulo',\n",
       " 'Brandão Agrões 176, Jardim Peri, São Paulo Zona Norte, São Paulo']"
      ]
     },
     "execution_count": 12,
     "metadata": {},
     "output_type": "execute_result"
    }
   ],
   "source": [
    "lista_enderecos = [end.text for end in lista_enderecos_tags]\n",
    "lista_enderecos = lista_enderecos[1::2]\n",
    "lista_enderecos[:5]"
   ]
  },
  {
   "cell_type": "code",
   "execution_count": 13,
   "metadata": {},
   "outputs": [
    {
     "data": {
      "text/plain": [
       "48"
      ]
     },
     "execution_count": 13,
     "metadata": {},
     "output_type": "execute_result"
    }
   ],
   "source": [
    "len(lista_enderecos)"
   ]
  },
  {
   "cell_type": "markdown",
   "metadata": {},
   "source": [
    "## Criando  função que retorna um DataFrame com as informaçoes obtidas anteriormente"
   ]
  },
  {
   "cell_type": "code",
   "execution_count": 136,
   "metadata": {},
   "outputs": [],
   "source": [
    "#  CENTRO\n",
    "\n",
    "# centro = [ 'Bela-Vista-centro', 'Consolação-centro', 'Santa-Cecília-centro',\n",
    "#             'Campos-Elíseos-centro', 'Cerqueira-César-centro', 'Liberdade-centro',\n",
    "#             'Brás-centro', 'República-centro', 'Bom-Retiro-centro', \n",
    "#             'Santa-Efigênia-centro', 'Luz-centro', 'Vila-Deodoro-centro','Morro-Dos-Ingleses-centro']\n",
    "\n",
    "\n",
    "# zona_oeste = ['Pinheiros-zona-oeste', 'Perdizes-zona-oeste', 'Água-Branca-zona-oeste', 'Cidade-Moncoes-zona-oeste', \n",
    "#               'Vila-Leopoldina-zona-oeste', 'Higienópolis-zona-oeste', 'Alto-Da-Lapa-zona-oeste', 'Jardim-Ampliação-zona-oeste', \n",
    "#              'Vila-Cordeiro-zona-oeste', 'Vila-Madalena-zona-oeste', 'Vila-Suzana-zona-oeste', 'Sumarezinho-zona-oeste',\n",
    "#              'Jardim-Bonfiglioli-zona-oeste', 'Jaguaré-zona-oeste', 'Vila-Ipojuca-zona-oeste', 'Jardim-Das-Vertentes-zona-oeste',\n",
    "#              'Butantã-zona-oeste', 'Jardim-Pinheiros-zona-oeste', 'Vila-Gomes-zona-oeste', 'Vila-Pompéia-zona-oeste',\n",
    "#              'Lapa-zona-oeste', 'Fazenda-Morumbi-zona-oeste', 'Vila-Anglo-Brasileira-zona-oeste', 'Vila-Hamburguesa-zona-oeste',\n",
    "#              'Parque-Rebouças-zona-oeste', 'Jardim-Íris-zona-oeste', 'Lar-São-Paulo-zona-oeste', 'Jardim-Monte-Kemel-zona-oeste',\n",
    "#              'City-América-zona-oeste', 'Piqueri-zona-oeste']\n",
    "\n",
    "# zona_leste = ['Moóca-zona-leste', 'Penha-De-Franca-zona-leste','Vila-Regente-Feijó-zona-leste',\n",
    "#  'Tatuapé-zona-leste', 'Vila-Carrão-zona-leste', 'Vila-Gomes-Cardim-zona-leste', \n",
    "#  'Chácara-Santo-Antônio-zona-leste', 'Vila-Prudente-zona-leste', \n",
    "#  'Vila-Antonieta-zona-leste', 'Vila-Formosa-zona-leste', 'Itaquera-zona-leste', \n",
    "#  'Vila-Guilhermina-zona-leste', 'Chácara-Califórnia-zona-leste', 'Jardim-Penha-zona-leste', \n",
    "#  'Vila-Bertioga-zona-leste', 'Vila-Ré-zona-leste', 'Maranhão-zona-leste', 'Vila-Matilde-zona-leste', \n",
    "#  'Alto-Da-Mooca-zona-leste', 'Parque-Císper-zona-leste', 'Vila-Aricanduva-zona-leste', 'Lajeado-zona-leste',\n",
    "#  'Parada-Xv-De-Novembro-zona-leste', 'Vila-Buenos-Aires-zona-leste', 'Quarta-Parada-zona-leste', \n",
    "#  'Quinta-Da-Paineira-zona-leste', 'Sítio-Pinheirinho-zona-leste', 'Vila-União-zona-leste', \n",
    "#  'Jardim-América-Da-Penha-zona-leste', \n",
    "#  'Conjunto-Residencial-José-Bonifácio-zona-leste', 'Vila-Ema-zona-leste', 'Vila-Esperança-zona-leste']\n",
    "\n",
    "\n",
    "zona_sul = ['Vila-Mariana-zona-sul', 'Jardim-Paulista-zona-sul', 'Vila-Olímpia-zona-sul', \n",
    " 'Ipiranga-zona-sul', 'Brooklin-Paulista-zona-sul', 'Cambuci-zona-sul', 'Campo-Belo-zona-sul',\n",
    " 'Indianópolis-zona-sul', 'Aclimação-zona-sul', 'Itaim-Bibi-zona-sul', 'Vila-Nova-Conceição-zona-sul',\n",
    " 'Vila-Monumento-zona-sul', 'Sacomã-zona-sul', 'Vila-Guarani-(z-Sul)-zona-sul', 'Santo-Amaro-zona-sul', \n",
    " 'Moema-zona-sul', 'Vila-Monte-Alegre-zona-sul', 'Chácara-Santo-Antônio-zona-sul', 'Jardim-Celeste-zona-sul',\n",
    " 'Vila-Dom-Pedro-I-zona-sul', 'Vila-Clementino-zona-sul', 'Jardim-São-Savério-zona-sul', 'Vila-Uberabinha-zona-sul',\n",
    " 'Parque-Jabaquara-zona-sul', 'Paraíso-zona-sul', 'Vila-Mascote-zona-sul', 'Vila-Das-Mercês-zona-sul',\n",
    " 'Jardim-Aeroporto-zona-sul','Nova-Piraju-zona-sul', 'Vila-Gumercindo-zona-sul', \n",
    "    'Bosque-Da-Saúde-zona-sul', 'Jabaquara-zona-sul']\n",
    "\n",
    "\n",
    "zona_norte = ['Santana-zona-norte', 'Jardim-Peri-zona-norte', 'Santa-Teresinha-zona-norte', 'Vila-Mazzei-zona-norte',\n",
    " 'Vila-Guilherme-zona-norte', 'Vila-Gustavo-zona-norte', 'Parque-Mandaqui-zona-norte',\n",
    " 'Parada-Inglesa-zona-norte', 'Vila-Medeiros-zona-norte', 'Vila-Dom-Pedro-Ii-zona-norte', \n",
    " 'Casa-Verde-zona-norte', 'Jardim-São-Paulo-zona-norte', 'Jardim-Brasília-zona-norte',\n",
    " 'Lauzane-Paulista-zona-norte', 'Nossa-Senhora-Do-Ó-zona-norte', 'Vila-Nova-Mazzei-zona-norte',\n",
    " 'Vila-Paiva-zona-norte', 'Vila-Ester-zona-norte', 'Imirim-zona-norte',\n",
    " 'Vila-Amália-zona-norte', 'Freguesia-Do-Ó-zona-norte', 'Tucuruvi-zona-norte', 'Vila-Albertina-zona-norte',\n",
    " 'Vila-Paulista-zona-norte', 'Parque-Peruche-zona-norte', 'Vila-Maria-zona-norte', \n",
    " 'Parque-Edu-Chaves-zona-norte', 'Vila-Palmeiras-zona-norte', 'Jardim-Das-Laranjeiras-zona-norte',\n",
    " 'Vila-Maria-Alta-zona-norte', 'Jardim-Leonor-Mendes-De-Barros-zona-norte', 'Parque-Novo-Mundo-zona-norte',\n",
    " 'Vila-Aurora-zona-norte', 'Jaçanã-zona-norte', 'Vila-Basileia-zona-norte', 'Carandiru-zona-norte', \n",
    " 'Vila-Cruz-Das-Almas-zona-norte','Jardim-Brasil-zona-norte']"
   ]
  },
  {
   "cell_type": "code",
   "execution_count": 144,
   "metadata": {},
   "outputs": [],
   "source": [
    "zona_bairros = [ 'Bela-Vista-centro', 'Consolação-centro', 'Santa-Cecília-centro',\n",
    "    'Campos-Elíseos-centro', 'Cerqueira-César-centro', 'Liberdade-centro',\n",
    "    'Brás-centro', 'República-centro', 'Bom-Retiro-centro', \n",
    "     'Santa-Efigênia-centro', 'Luz-centro', 'Vila-Deodoro-centro','Morro-Dos-Ingleses-centro',\n",
    "    'Pinheiros-zona-oeste', 'Perdizes-zona-oeste', 'Água-Branca-zona-oeste', 'Cidade-Moncoes-zona-oeste', \n",
    "    'Vila-Leopoldina-zona-oeste', 'Higienópolis-zona-oeste', 'Alto-Da-Lapa-zona-oeste', 'Jardim-Ampliação-zona-oeste', \n",
    "    'Vila-Cordeiro-zona-oeste', 'Vila-Madalena-zona-oeste', 'Vila-Suzana-zona-oeste', 'Sumarezinho-zona-oeste',\n",
    "    'Jardim-Bonfiglioli-zona-oeste', 'Jaguaré-zona-oeste', 'Vila-Ipojuca-zona-oeste', 'Jardim-Das-Vertentes-zona-oeste',\n",
    "    'Butantã-zona-oeste', 'Jardim-Pinheiros-zona-oeste', 'Vila-Gomes-zona-oeste', 'Vila-Pompéia-zona-oeste',\n",
    "    'Lapa-zona-oeste', 'Fazenda-Morumbi-zona-oeste', 'Vila-Anglo-Brasileira-zona-oeste', 'Vila-Hamburguesa-zona-oeste',\n",
    "    'Parque-Rebouças-zona-oeste', 'Jardim-Íris-zona-oeste', 'Lar-São-Paulo-zona-oeste', 'Jardim-Monte-Kemel-zona-oeste',\n",
    "    'City-América-zona-oeste', 'Piqueri-zona-oeste',\n",
    "    'Moóca-zona-leste', 'Penha-De-Franca-zona-leste','Vila-Regente-Feijó-zona-leste',\n",
    "    'Tatuapé-zona-leste', 'Vila-Carrão-zona-leste', 'Vila-Gomes-Cardim-zona-leste', \n",
    "     'Chácara-Santo-Antônio-zona-leste', 'Vila-Prudente-zona-leste', \n",
    "     'Vila-Antonieta-zona-leste', 'Vila-Formosa-zona-leste', 'Itaquera-zona-leste', \n",
    "     'Vila-Guilhermina-zona-leste', 'Chácara-Califórnia-zona-leste', 'Jardim-Penha-zona-leste', \n",
    "     'Vila-Bertioga-zona-leste', 'Vila-Ré-zona-leste', 'Maranhão-zona-leste', 'Vila-Matilde-zona-leste', \n",
    "     'Alto-Da-Mooca-zona-leste', 'Parque-Císper-zona-leste', 'Vila-Aricanduva-zona-leste', 'Lajeado-zona-leste',\n",
    "     'Parada-Xv-De-Novembro-zona-leste', 'Vila-Buenos-Aires-zona-leste', 'Quarta-Parada-zona-leste', \n",
    "     'Quinta-Da-Paineira-zona-leste', 'Sítio-Pinheirinho-zona-leste', 'Vila-União-zona-leste', \n",
    "     'Jardim-América-Da-Penha-zona-leste', \n",
    "     'Conjunto-Residencial-José-Bonifácio-zona-leste', 'Vila-Ema-zona-leste', 'Vila-Esperança-zona-leste',\n",
    "    'Vila-Mariana-zona-sul', 'Jardim-Paulista-zona-sul', 'Vila-Olímpia-zona-sul', \n",
    "    'Ipiranga-zona-sul', 'Brooklin-Paulista-zona-sul', 'Cambuci-zona-sul', 'Campo-Belo-zona-sul',\n",
    "    'Indianópolis-zona-sul', 'Aclimação-zona-sul', 'Itaim-Bibi-zona-sul', 'Vila-Nova-Conceição-zona-sul',\n",
    "    'Vila-Monumento-zona-sul', 'Sacomã-zona-sul', 'Vila-Guarani-(z-Sul)-zona-sul', 'Santo-Amaro-zona-sul', \n",
    "    'Moema-zona-sul', 'Vila-Monte-Alegre-zona-sul', 'Chácara-Santo-Antônio-zona-sul', 'Jardim-Celeste-zona-sul',\n",
    "    'Vila-Dom-Pedro-I-zona-sul', 'Vila-Clementino-zona-sul', 'Jardim-São-Savério-zona-sul', 'Vila-Uberabinha-zona-sul',\n",
    "    'Parque-Jabaquara-zona-sul', 'Paraíso-zona-sul', 'Vila-Mascote-zona-sul', 'Vila-Das-Mercês-zona-sul',\n",
    "    'Jardim-Aeroporto-zona-sul','Nova-Piraju-zona-sul', 'Vila-Gumercindo-zona-sul', \n",
    "    'Bosque-Da-Saúde-zona-sul', 'Jabaquara-zona-sul',\n",
    "    'Santana-zona-norte', 'Jardim-Peri-zona-norte', 'Santa-Teresinha-zona-norte', 'Vila-Mazzei-zona-norte',\n",
    "     'Vila-Guilherme-zona-norte', 'Vila-Gustavo-zona-norte', 'Parque-Mandaqui-zona-norte',\n",
    "     'Parada-Inglesa-zona-norte', 'Vila-Medeiros-zona-norte', 'Vila-Dom-Pedro-Ii-zona-norte', \n",
    "     'Casa-Verde-zona-norte', 'Jardim-São-Paulo-zona-norte', 'Jardim-Brasília-zona-norte',\n",
    "     'Lauzane-Paulista-zona-norte', 'Nossa-Senhora-Do-Ó-zona-norte', 'Vila-Nova-Mazzei-zona-norte',\n",
    "     'Vila-Paiva-zona-norte', 'Vila-Ester-zona-norte', 'Imirim-zona-norte',\n",
    "     'Vila-Amália-zona-norte', 'Freguesia-Do-Ó-zona-norte', 'Tucuruvi-zona-norte', 'Vila-Albertina-zona-norte',\n",
    "     'Vila-Paulista-zona-norte', 'Parque-Peruche-zona-norte', 'Vila-Maria-zona-norte', \n",
    "     'Parque-Edu-Chaves-zona-norte', 'Vila-Palmeiras-zona-norte', 'Jardim-Das-Laranjeiras-zona-norte',\n",
    "     'Vila-Maria-Alta-zona-norte', 'Jardim-Leonor-Mendes-De-Barros-zona-norte', 'Parque-Novo-Mundo-zona-norte',\n",
    "     'Vila-Aurora-zona-norte', 'Jaçanã-zona-norte', 'Vila-Basileia-zona-norte', 'Carandiru-zona-norte', \n",
    "     'Vila-Cruz-Das-Almas-zona-norte','Jardim-Brasil-zona-norte']\n",
    "    "
   ]
  },
  {
   "cell_type": "code",
   "execution_count": 145,
   "metadata": {},
   "outputs": [],
   "source": [
    "def scrap(url):\n",
    "    c = requests.get(url).content\n",
    "    soup = BeautifulSoup(c)\n",
    "    lista_precos_tags = soup.find_all('span', {'class':'price-tag-fraction'})\n",
    "    lista_precos = [tag.text for tag in lista_precos_tags]\n",
    "    lista_precos = lista_precos[:21]\n",
    "    lista_area_quartos_tags = soup.find_all('ul', {'class':'ui-search-card-attributes'})\n",
    "    lista_area_quartos = [info.text for info in lista_area_quartos_tags ]\n",
    "    lista_area_quartos = lista_area_quartos[:21]\n",
    "    lista_enderecos_tags = soup.find_all('span' , {'class':'ui-search-item__group__element'})\n",
    "    lista_enderecos = [end.text for end in lista_enderecos_tags]\n",
    "    lista_enderecos = lista_enderecos[1::2]\n",
    "    lista_enderecos = lista_enderecos[:21]\n",
    "    df=convert_df(zona_bairro, lista_area_quartos, lista_enderecos, lista_precos)\n",
    "    return df\n",
    "\n",
    "\n",
    "def convert_df(zona_bairro, lista_area_quartos, lista_enderecos, lista_precos):\n",
    "    zonas_bairros_lista = [bairro]*len(lista_precos)\n",
    "    data = {'zona_bairro': zonas_bairros_lista,\n",
    "            'area_quartos': lista_area_quartos,\n",
    "            'enderecos_lista':lista_enderecos,\n",
    "            'aluguel': lista_precos}\n",
    "    df = pd.DataFrame(data)\n",
    "    return df"
   ]
  },
  {
   "cell_type": "code",
   "execution_count": 146,
   "metadata": {},
   "outputs": [
    {
     "name": "stdout",
     "output_type": "stream",
     "text": [
      "https://imoveis.mercadolivre.com.br/casas/aluguel/sao-paulo/sao-paulo-Bela-Vista-centro\n",
      "https://imoveis.mercadolivre.com.br/casas/aluguel/sao-paulo/sao-paulo-Consolação-centro\n",
      "https://imoveis.mercadolivre.com.br/casas/aluguel/sao-paulo/sao-paulo-Santa-Cecília-centro\n",
      "https://imoveis.mercadolivre.com.br/casas/aluguel/sao-paulo/sao-paulo-Campos-Elíseos-centro\n",
      "https://imoveis.mercadolivre.com.br/casas/aluguel/sao-paulo/sao-paulo-Cerqueira-César-centro\n",
      "https://imoveis.mercadolivre.com.br/casas/aluguel/sao-paulo/sao-paulo-Liberdade-centro\n",
      "https://imoveis.mercadolivre.com.br/casas/aluguel/sao-paulo/sao-paulo-Brás-centro\n",
      "https://imoveis.mercadolivre.com.br/casas/aluguel/sao-paulo/sao-paulo-República-centro\n",
      "https://imoveis.mercadolivre.com.br/casas/aluguel/sao-paulo/sao-paulo-Bom-Retiro-centro\n",
      "https://imoveis.mercadolivre.com.br/casas/aluguel/sao-paulo/sao-paulo-Santa-Efigênia-centro\n",
      "https://imoveis.mercadolivre.com.br/casas/aluguel/sao-paulo/sao-paulo-Luz-centro\n",
      "https://imoveis.mercadolivre.com.br/casas/aluguel/sao-paulo/sao-paulo-Vila-Deodoro-centro\n",
      "https://imoveis.mercadolivre.com.br/casas/aluguel/sao-paulo/sao-paulo-Morro-Dos-Ingleses-centro\n",
      "https://imoveis.mercadolivre.com.br/casas/aluguel/sao-paulo/sao-paulo-Pinheiros-zona-oeste\n",
      "https://imoveis.mercadolivre.com.br/casas/aluguel/sao-paulo/sao-paulo-Perdizes-zona-oeste\n",
      "https://imoveis.mercadolivre.com.br/casas/aluguel/sao-paulo/sao-paulo-Água-Branca-zona-oeste\n",
      "https://imoveis.mercadolivre.com.br/casas/aluguel/sao-paulo/sao-paulo-Cidade-Moncoes-zona-oeste\n",
      "https://imoveis.mercadolivre.com.br/casas/aluguel/sao-paulo/sao-paulo-Vila-Leopoldina-zona-oeste\n",
      "https://imoveis.mercadolivre.com.br/casas/aluguel/sao-paulo/sao-paulo-Higienópolis-zona-oeste\n",
      "https://imoveis.mercadolivre.com.br/casas/aluguel/sao-paulo/sao-paulo-Alto-Da-Lapa-zona-oeste\n",
      "https://imoveis.mercadolivre.com.br/casas/aluguel/sao-paulo/sao-paulo-Jardim-Ampliação-zona-oeste\n",
      "https://imoveis.mercadolivre.com.br/casas/aluguel/sao-paulo/sao-paulo-Vila-Cordeiro-zona-oeste\n",
      "https://imoveis.mercadolivre.com.br/casas/aluguel/sao-paulo/sao-paulo-Vila-Madalena-zona-oeste\n",
      "https://imoveis.mercadolivre.com.br/casas/aluguel/sao-paulo/sao-paulo-Vila-Suzana-zona-oeste\n",
      "https://imoveis.mercadolivre.com.br/casas/aluguel/sao-paulo/sao-paulo-Sumarezinho-zona-oeste\n",
      "https://imoveis.mercadolivre.com.br/casas/aluguel/sao-paulo/sao-paulo-Jardim-Bonfiglioli-zona-oeste\n",
      "https://imoveis.mercadolivre.com.br/casas/aluguel/sao-paulo/sao-paulo-Jaguaré-zona-oeste\n",
      "https://imoveis.mercadolivre.com.br/casas/aluguel/sao-paulo/sao-paulo-Vila-Ipojuca-zona-oeste\n",
      "https://imoveis.mercadolivre.com.br/casas/aluguel/sao-paulo/sao-paulo-Jardim-Das-Vertentes-zona-oeste\n",
      "https://imoveis.mercadolivre.com.br/casas/aluguel/sao-paulo/sao-paulo-Butantã-zona-oeste\n",
      "https://imoveis.mercadolivre.com.br/casas/aluguel/sao-paulo/sao-paulo-Jardim-Pinheiros-zona-oeste\n",
      "https://imoveis.mercadolivre.com.br/casas/aluguel/sao-paulo/sao-paulo-Vila-Gomes-zona-oeste\n",
      "https://imoveis.mercadolivre.com.br/casas/aluguel/sao-paulo/sao-paulo-Vila-Pompéia-zona-oeste\n",
      "https://imoveis.mercadolivre.com.br/casas/aluguel/sao-paulo/sao-paulo-Lapa-zona-oeste\n",
      "https://imoveis.mercadolivre.com.br/casas/aluguel/sao-paulo/sao-paulo-Fazenda-Morumbi-zona-oeste\n",
      "https://imoveis.mercadolivre.com.br/casas/aluguel/sao-paulo/sao-paulo-Vila-Anglo-Brasileira-zona-oeste\n",
      "https://imoveis.mercadolivre.com.br/casas/aluguel/sao-paulo/sao-paulo-Vila-Hamburguesa-zona-oeste\n",
      "https://imoveis.mercadolivre.com.br/casas/aluguel/sao-paulo/sao-paulo-Parque-Rebouças-zona-oeste\n",
      "https://imoveis.mercadolivre.com.br/casas/aluguel/sao-paulo/sao-paulo-Jardim-Íris-zona-oeste\n",
      "https://imoveis.mercadolivre.com.br/casas/aluguel/sao-paulo/sao-paulo-Lar-São-Paulo-zona-oeste\n",
      "https://imoveis.mercadolivre.com.br/casas/aluguel/sao-paulo/sao-paulo-Jardim-Monte-Kemel-zona-oeste\n",
      "https://imoveis.mercadolivre.com.br/casas/aluguel/sao-paulo/sao-paulo-City-América-zona-oeste\n",
      "https://imoveis.mercadolivre.com.br/casas/aluguel/sao-paulo/sao-paulo-Piqueri-zona-oeste\n",
      "https://imoveis.mercadolivre.com.br/casas/aluguel/sao-paulo/sao-paulo-Moóca-zona-leste\n",
      "https://imoveis.mercadolivre.com.br/casas/aluguel/sao-paulo/sao-paulo-Penha-De-Franca-zona-leste\n",
      "https://imoveis.mercadolivre.com.br/casas/aluguel/sao-paulo/sao-paulo-Vila-Regente-Feijó-zona-leste\n",
      "https://imoveis.mercadolivre.com.br/casas/aluguel/sao-paulo/sao-paulo-Tatuapé-zona-leste\n",
      "https://imoveis.mercadolivre.com.br/casas/aluguel/sao-paulo/sao-paulo-Vila-Carrão-zona-leste\n",
      "https://imoveis.mercadolivre.com.br/casas/aluguel/sao-paulo/sao-paulo-Vila-Gomes-Cardim-zona-leste\n",
      "https://imoveis.mercadolivre.com.br/casas/aluguel/sao-paulo/sao-paulo-Chácara-Santo-Antônio-zona-leste\n",
      "https://imoveis.mercadolivre.com.br/casas/aluguel/sao-paulo/sao-paulo-Vila-Prudente-zona-leste\n",
      "https://imoveis.mercadolivre.com.br/casas/aluguel/sao-paulo/sao-paulo-Vila-Antonieta-zona-leste\n",
      "https://imoveis.mercadolivre.com.br/casas/aluguel/sao-paulo/sao-paulo-Vila-Formosa-zona-leste\n",
      "https://imoveis.mercadolivre.com.br/casas/aluguel/sao-paulo/sao-paulo-Itaquera-zona-leste\n",
      "https://imoveis.mercadolivre.com.br/casas/aluguel/sao-paulo/sao-paulo-Vila-Guilhermina-zona-leste\n",
      "https://imoveis.mercadolivre.com.br/casas/aluguel/sao-paulo/sao-paulo-Chácara-Califórnia-zona-leste\n",
      "https://imoveis.mercadolivre.com.br/casas/aluguel/sao-paulo/sao-paulo-Jardim-Penha-zona-leste\n",
      "https://imoveis.mercadolivre.com.br/casas/aluguel/sao-paulo/sao-paulo-Vila-Bertioga-zona-leste\n",
      "https://imoveis.mercadolivre.com.br/casas/aluguel/sao-paulo/sao-paulo-Vila-Ré-zona-leste\n",
      "https://imoveis.mercadolivre.com.br/casas/aluguel/sao-paulo/sao-paulo-Maranhão-zona-leste\n",
      "https://imoveis.mercadolivre.com.br/casas/aluguel/sao-paulo/sao-paulo-Vila-Matilde-zona-leste\n",
      "https://imoveis.mercadolivre.com.br/casas/aluguel/sao-paulo/sao-paulo-Alto-Da-Mooca-zona-leste\n",
      "https://imoveis.mercadolivre.com.br/casas/aluguel/sao-paulo/sao-paulo-Parque-Císper-zona-leste\n",
      "https://imoveis.mercadolivre.com.br/casas/aluguel/sao-paulo/sao-paulo-Vila-Aricanduva-zona-leste\n",
      "https://imoveis.mercadolivre.com.br/casas/aluguel/sao-paulo/sao-paulo-Lajeado-zona-leste\n",
      "https://imoveis.mercadolivre.com.br/casas/aluguel/sao-paulo/sao-paulo-Parada-Xv-De-Novembro-zona-leste\n",
      "https://imoveis.mercadolivre.com.br/casas/aluguel/sao-paulo/sao-paulo-Vila-Buenos-Aires-zona-leste\n",
      "https://imoveis.mercadolivre.com.br/casas/aluguel/sao-paulo/sao-paulo-Quarta-Parada-zona-leste\n",
      "https://imoveis.mercadolivre.com.br/casas/aluguel/sao-paulo/sao-paulo-Quinta-Da-Paineira-zona-leste\n",
      "https://imoveis.mercadolivre.com.br/casas/aluguel/sao-paulo/sao-paulo-Sítio-Pinheirinho-zona-leste\n",
      "https://imoveis.mercadolivre.com.br/casas/aluguel/sao-paulo/sao-paulo-Vila-União-zona-leste\n",
      "https://imoveis.mercadolivre.com.br/casas/aluguel/sao-paulo/sao-paulo-Jardim-América-Da-Penha-zona-leste\n",
      "https://imoveis.mercadolivre.com.br/casas/aluguel/sao-paulo/sao-paulo-Conjunto-Residencial-José-Bonifácio-zona-leste\n",
      "https://imoveis.mercadolivre.com.br/casas/aluguel/sao-paulo/sao-paulo-Vila-Ema-zona-leste\n",
      "https://imoveis.mercadolivre.com.br/casas/aluguel/sao-paulo/sao-paulo-Vila-Esperança-zona-leste\n",
      "https://imoveis.mercadolivre.com.br/casas/aluguel/sao-paulo/sao-paulo-Vila-Mariana-zona-sul\n",
      "https://imoveis.mercadolivre.com.br/casas/aluguel/sao-paulo/sao-paulo-Jardim-Paulista-zona-sul\n",
      "https://imoveis.mercadolivre.com.br/casas/aluguel/sao-paulo/sao-paulo-Vila-Olímpia-zona-sul\n",
      "https://imoveis.mercadolivre.com.br/casas/aluguel/sao-paulo/sao-paulo-Ipiranga-zona-sul\n",
      "https://imoveis.mercadolivre.com.br/casas/aluguel/sao-paulo/sao-paulo-Brooklin-Paulista-zona-sul\n",
      "https://imoveis.mercadolivre.com.br/casas/aluguel/sao-paulo/sao-paulo-Cambuci-zona-sul\n",
      "https://imoveis.mercadolivre.com.br/casas/aluguel/sao-paulo/sao-paulo-Campo-Belo-zona-sul\n",
      "https://imoveis.mercadolivre.com.br/casas/aluguel/sao-paulo/sao-paulo-Indianópolis-zona-sul\n",
      "https://imoveis.mercadolivre.com.br/casas/aluguel/sao-paulo/sao-paulo-Aclimação-zona-sul\n",
      "https://imoveis.mercadolivre.com.br/casas/aluguel/sao-paulo/sao-paulo-Itaim-Bibi-zona-sul\n",
      "https://imoveis.mercadolivre.com.br/casas/aluguel/sao-paulo/sao-paulo-Vila-Nova-Conceição-zona-sul\n",
      "https://imoveis.mercadolivre.com.br/casas/aluguel/sao-paulo/sao-paulo-Vila-Monumento-zona-sul\n",
      "https://imoveis.mercadolivre.com.br/casas/aluguel/sao-paulo/sao-paulo-Sacomã-zona-sul\n"
     ]
    },
    {
     "name": "stdout",
     "output_type": "stream",
     "text": [
      "https://imoveis.mercadolivre.com.br/casas/aluguel/sao-paulo/sao-paulo-Vila-Guarani-(z-Sul)-zona-sul\n",
      "https://imoveis.mercadolivre.com.br/casas/aluguel/sao-paulo/sao-paulo-Santo-Amaro-zona-sul\n",
      "https://imoveis.mercadolivre.com.br/casas/aluguel/sao-paulo/sao-paulo-Moema-zona-sul\n",
      "https://imoveis.mercadolivre.com.br/casas/aluguel/sao-paulo/sao-paulo-Vila-Monte-Alegre-zona-sul\n",
      "https://imoveis.mercadolivre.com.br/casas/aluguel/sao-paulo/sao-paulo-Chácara-Santo-Antônio-zona-sul\n",
      "https://imoveis.mercadolivre.com.br/casas/aluguel/sao-paulo/sao-paulo-Jardim-Celeste-zona-sul\n",
      "https://imoveis.mercadolivre.com.br/casas/aluguel/sao-paulo/sao-paulo-Vila-Dom-Pedro-I-zona-sul\n",
      "https://imoveis.mercadolivre.com.br/casas/aluguel/sao-paulo/sao-paulo-Vila-Clementino-zona-sul\n",
      "https://imoveis.mercadolivre.com.br/casas/aluguel/sao-paulo/sao-paulo-Jardim-São-Savério-zona-sul\n",
      "https://imoveis.mercadolivre.com.br/casas/aluguel/sao-paulo/sao-paulo-Vila-Uberabinha-zona-sul\n",
      "https://imoveis.mercadolivre.com.br/casas/aluguel/sao-paulo/sao-paulo-Parque-Jabaquara-zona-sul\n",
      "https://imoveis.mercadolivre.com.br/casas/aluguel/sao-paulo/sao-paulo-Paraíso-zona-sul\n",
      "https://imoveis.mercadolivre.com.br/casas/aluguel/sao-paulo/sao-paulo-Vila-Mascote-zona-sul\n",
      "https://imoveis.mercadolivre.com.br/casas/aluguel/sao-paulo/sao-paulo-Vila-Das-Mercês-zona-sul\n",
      "https://imoveis.mercadolivre.com.br/casas/aluguel/sao-paulo/sao-paulo-Jardim-Aeroporto-zona-sul\n",
      "https://imoveis.mercadolivre.com.br/casas/aluguel/sao-paulo/sao-paulo-Nova-Piraju-zona-sul\n",
      "https://imoveis.mercadolivre.com.br/casas/aluguel/sao-paulo/sao-paulo-Vila-Gumercindo-zona-sul\n",
      "https://imoveis.mercadolivre.com.br/casas/aluguel/sao-paulo/sao-paulo-Bosque-Da-Saúde-zona-sul\n",
      "https://imoveis.mercadolivre.com.br/casas/aluguel/sao-paulo/sao-paulo-Jabaquara-zona-sul\n",
      "https://imoveis.mercadolivre.com.br/casas/aluguel/sao-paulo/sao-paulo-Santana-zona-norte\n",
      "https://imoveis.mercadolivre.com.br/casas/aluguel/sao-paulo/sao-paulo-Jardim-Peri-zona-norte\n",
      "https://imoveis.mercadolivre.com.br/casas/aluguel/sao-paulo/sao-paulo-Santa-Teresinha-zona-norte\n",
      "https://imoveis.mercadolivre.com.br/casas/aluguel/sao-paulo/sao-paulo-Vila-Mazzei-zona-norte\n",
      "https://imoveis.mercadolivre.com.br/casas/aluguel/sao-paulo/sao-paulo-Vila-Guilherme-zona-norte\n",
      "https://imoveis.mercadolivre.com.br/casas/aluguel/sao-paulo/sao-paulo-Vila-Gustavo-zona-norte\n",
      "https://imoveis.mercadolivre.com.br/casas/aluguel/sao-paulo/sao-paulo-Parque-Mandaqui-zona-norte\n",
      "https://imoveis.mercadolivre.com.br/casas/aluguel/sao-paulo/sao-paulo-Parada-Inglesa-zona-norte\n",
      "https://imoveis.mercadolivre.com.br/casas/aluguel/sao-paulo/sao-paulo-Vila-Medeiros-zona-norte\n",
      "https://imoveis.mercadolivre.com.br/casas/aluguel/sao-paulo/sao-paulo-Vila-Dom-Pedro-Ii-zona-norte\n",
      "https://imoveis.mercadolivre.com.br/casas/aluguel/sao-paulo/sao-paulo-Casa-Verde-zona-norte\n",
      "https://imoveis.mercadolivre.com.br/casas/aluguel/sao-paulo/sao-paulo-Jardim-São-Paulo-zona-norte\n",
      "https://imoveis.mercadolivre.com.br/casas/aluguel/sao-paulo/sao-paulo-Jardim-Brasília-zona-norte\n",
      "https://imoveis.mercadolivre.com.br/casas/aluguel/sao-paulo/sao-paulo-Lauzane-Paulista-zona-norte\n",
      "https://imoveis.mercadolivre.com.br/casas/aluguel/sao-paulo/sao-paulo-Nossa-Senhora-Do-Ó-zona-norte\n",
      "https://imoveis.mercadolivre.com.br/casas/aluguel/sao-paulo/sao-paulo-Vila-Nova-Mazzei-zona-norte\n",
      "https://imoveis.mercadolivre.com.br/casas/aluguel/sao-paulo/sao-paulo-Vila-Paiva-zona-norte\n",
      "https://imoveis.mercadolivre.com.br/casas/aluguel/sao-paulo/sao-paulo-Vila-Ester-zona-norte\n",
      "https://imoveis.mercadolivre.com.br/casas/aluguel/sao-paulo/sao-paulo-Imirim-zona-norte\n",
      "https://imoveis.mercadolivre.com.br/casas/aluguel/sao-paulo/sao-paulo-Vila-Amália-zona-norte\n",
      "https://imoveis.mercadolivre.com.br/casas/aluguel/sao-paulo/sao-paulo-Freguesia-Do-Ó-zona-norte\n",
      "https://imoveis.mercadolivre.com.br/casas/aluguel/sao-paulo/sao-paulo-Tucuruvi-zona-norte\n",
      "https://imoveis.mercadolivre.com.br/casas/aluguel/sao-paulo/sao-paulo-Vila-Albertina-zona-norte\n",
      "https://imoveis.mercadolivre.com.br/casas/aluguel/sao-paulo/sao-paulo-Vila-Paulista-zona-norte\n",
      "https://imoveis.mercadolivre.com.br/casas/aluguel/sao-paulo/sao-paulo-Parque-Peruche-zona-norte\n",
      "https://imoveis.mercadolivre.com.br/casas/aluguel/sao-paulo/sao-paulo-Vila-Maria-zona-norte\n",
      "https://imoveis.mercadolivre.com.br/casas/aluguel/sao-paulo/sao-paulo-Parque-Edu-Chaves-zona-norte\n",
      "https://imoveis.mercadolivre.com.br/casas/aluguel/sao-paulo/sao-paulo-Vila-Palmeiras-zona-norte\n",
      "https://imoveis.mercadolivre.com.br/casas/aluguel/sao-paulo/sao-paulo-Jardim-Das-Laranjeiras-zona-norte\n",
      "https://imoveis.mercadolivre.com.br/casas/aluguel/sao-paulo/sao-paulo-Vila-Maria-Alta-zona-norte\n",
      "https://imoveis.mercadolivre.com.br/casas/aluguel/sao-paulo/sao-paulo-Jardim-Leonor-Mendes-De-Barros-zona-norte\n",
      "https://imoveis.mercadolivre.com.br/casas/aluguel/sao-paulo/sao-paulo-Parque-Novo-Mundo-zona-norte\n",
      "https://imoveis.mercadolivre.com.br/casas/aluguel/sao-paulo/sao-paulo-Vila-Aurora-zona-norte\n",
      "https://imoveis.mercadolivre.com.br/casas/aluguel/sao-paulo/sao-paulo-Jaçanã-zona-norte\n",
      "https://imoveis.mercadolivre.com.br/casas/aluguel/sao-paulo/sao-paulo-Vila-Basileia-zona-norte\n",
      "https://imoveis.mercadolivre.com.br/casas/aluguel/sao-paulo/sao-paulo-Carandiru-zona-norte\n",
      "https://imoveis.mercadolivre.com.br/casas/aluguel/sao-paulo/sao-paulo-Vila-Cruz-Das-Almas-zona-norte\n",
      "https://imoveis.mercadolivre.com.br/casas/aluguel/sao-paulo/sao-paulo-Jardim-Brasil-zona-norte\n"
     ]
    }
   ],
   "source": [
    "lista_dfs = []\n",
    "for bairro in zona_bairros:\n",
    "    url='https://imoveis.mercadolivre.com.br/casas/aluguel/sao-paulo/sao-paulo-{}'.format(bairro)\n",
    "    print(url)\n",
    "    df=scrap(url)\n",
    "    lista_dfs.append(df)\n",
    "    sleep(1)"
   ]
  },
  {
   "cell_type": "code",
   "execution_count": 147,
   "metadata": {},
   "outputs": [],
   "source": [
    "df = pd.concat(lista_dfs)"
   ]
  },
  {
   "cell_type": "code",
   "execution_count": 148,
   "metadata": {},
   "outputs": [
    {
     "data": {
      "text/html": [
       "<div>\n",
       "<style scoped>\n",
       "    .dataframe tbody tr th:only-of-type {\n",
       "        vertical-align: middle;\n",
       "    }\n",
       "\n",
       "    .dataframe tbody tr th {\n",
       "        vertical-align: top;\n",
       "    }\n",
       "\n",
       "    .dataframe thead th {\n",
       "        text-align: right;\n",
       "    }\n",
       "</style>\n",
       "<table border=\"1\" class=\"dataframe\">\n",
       "  <thead>\n",
       "    <tr style=\"text-align: right;\">\n",
       "      <th></th>\n",
       "      <th>zona_bairro</th>\n",
       "      <th>area_quartos</th>\n",
       "      <th>enderecos_lista</th>\n",
       "      <th>aluguel</th>\n",
       "    </tr>\n",
       "  </thead>\n",
       "  <tbody>\n",
       "    <tr>\n",
       "      <th>0</th>\n",
       "      <td>Bela-Vista-centro</td>\n",
       "      <td>86 m² construídos2 quartos</td>\n",
       "      <td>Bela Vista, São Paulo Centro, São Paulo</td>\n",
       "      <td>2.200</td>\n",
       "    </tr>\n",
       "    <tr>\n",
       "      <th>1</th>\n",
       "      <td>Bela-Vista-centro</td>\n",
       "      <td>35 m² construídos1 quarto</td>\n",
       "      <td>Rua Da Consolação, Consolação, São Paulo Centr...</td>\n",
       "      <td>3.200</td>\n",
       "    </tr>\n",
       "    <tr>\n",
       "      <th>2</th>\n",
       "      <td>Bela-Vista-centro</td>\n",
       "      <td>35 m² construídos1 quarto</td>\n",
       "      <td>Rua Da Consolação, Consolação, São Paulo Centr...</td>\n",
       "      <td>3.700</td>\n",
       "    </tr>\n",
       "    <tr>\n",
       "      <th>3</th>\n",
       "      <td>Bela-Vista-centro</td>\n",
       "      <td>35 m² construídos1 quarto</td>\n",
       "      <td>Rua Da Consolação, Consolação, São Paulo Centr...</td>\n",
       "      <td>3.700</td>\n",
       "    </tr>\n",
       "    <tr>\n",
       "      <th>4</th>\n",
       "      <td>Bela-Vista-centro</td>\n",
       "      <td>25 m² construídos1 quarto</td>\n",
       "      <td>Rua Bela Cintra, Consolação, São Paulo Centro,...</td>\n",
       "      <td>1.800</td>\n",
       "    </tr>\n",
       "  </tbody>\n",
       "</table>\n",
       "</div>"
      ],
      "text/plain": [
       "         zona_bairro                area_quartos  \\\n",
       "0  Bela-Vista-centro  86 m² construídos2 quartos   \n",
       "1  Bela-Vista-centro   35 m² construídos1 quarto   \n",
       "2  Bela-Vista-centro   35 m² construídos1 quarto   \n",
       "3  Bela-Vista-centro   35 m² construídos1 quarto   \n",
       "4  Bela-Vista-centro   25 m² construídos1 quarto   \n",
       "\n",
       "                                     enderecos_lista aluguel  \n",
       "0            Bela Vista, São Paulo Centro, São Paulo   2.200  \n",
       "1  Rua Da Consolação, Consolação, São Paulo Centr...   3.200  \n",
       "2  Rua Da Consolação, Consolação, São Paulo Centr...   3.700  \n",
       "3  Rua Da Consolação, Consolação, São Paulo Centr...   3.700  \n",
       "4  Rua Bela Cintra, Consolação, São Paulo Centro,...   1.800  "
      ]
     },
     "execution_count": 148,
     "metadata": {},
     "output_type": "execute_result"
    }
   ],
   "source": [
    "df.head()"
   ]
  },
  {
   "cell_type": "code",
   "execution_count": 149,
   "metadata": {},
   "outputs": [],
   "source": [
    "df.to_csv('dados_imoveis_sao_paulo.csv', index =False , encoding = 'utf-8')"
   ]
  },
  {
   "cell_type": "code",
   "execution_count": 150,
   "metadata": {},
   "outputs": [
    {
     "data": {
      "text/plain": [
       "(2445, 4)"
      ]
     },
     "execution_count": 150,
     "metadata": {},
     "output_type": "execute_result"
    }
   ],
   "source": [
    "pd.read_csv('dados_imoveis_sao_paulo.csv').shape"
   ]
  },
  {
   "cell_type": "code",
   "execution_count": null,
   "metadata": {},
   "outputs": [],
   "source": []
  }
 ],
 "metadata": {
  "kernelspec": {
   "display_name": "Python 3",
   "language": "python",
   "name": "python3"
  },
  "language_info": {
   "codemirror_mode": {
    "name": "ipython",
    "version": 3
   },
   "file_extension": ".py",
   "mimetype": "text/x-python",
   "name": "python",
   "nbconvert_exporter": "python",
   "pygments_lexer": "ipython3",
   "version": "3.8.3"
  },
  "widgets": {
   "application/vnd.jupyter.widget-state+json": {
    "state": {},
    "version_major": 2,
    "version_minor": 0
   }
  }
 },
 "nbformat": 4,
 "nbformat_minor": 4
}
