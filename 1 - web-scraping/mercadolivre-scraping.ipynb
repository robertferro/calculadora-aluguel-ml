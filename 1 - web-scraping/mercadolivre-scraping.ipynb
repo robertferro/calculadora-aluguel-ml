{
 "cells": [
  {
   "cell_type": "code",
   "execution_count": 1,
   "metadata": {},
   "outputs": [],
   "source": [
    "import requests\n",
    "from bs4 import BeautifulSoup\n",
    "import pandas as pd\n",
    "from time import sleep"
   ]
  },
  {
   "cell_type": "code",
   "execution_count": 2,
   "metadata": {},
   "outputs": [],
   "source": [
    "url = 'https://imoveis.mercadolivre.com.br/casas/aluguel/sao-paulo-zona-norte/'\n",
    "c = requests.get(url).content"
   ]
  },
  {
   "cell_type": "code",
   "execution_count": 3,
   "metadata": {},
   "outputs": [],
   "source": [
    "soup = BeautifulSoup(c)"
   ]
  },
  {
   "cell_type": "markdown",
   "metadata": {},
   "source": [
    "## Criando uma lista com os preços dos alugueis"
   ]
  },
  {
   "cell_type": "code",
   "execution_count": 4,
   "metadata": {},
   "outputs": [],
   "source": [
    "lista_precos_tags = soup.find_all('span', {'class':'price-tag-fraction'})"
   ]
  },
  {
   "cell_type": "markdown",
   "metadata": {},
   "source": [
    "- For loop para obter a lista de preços"
   ]
  },
  {
   "cell_type": "code",
   "execution_count": 5,
   "metadata": {},
   "outputs": [
    {
     "data": {
      "text/plain": [
       "['900', '1.000', '1.299', '620', '799']"
      ]
     },
     "execution_count": 5,
     "metadata": {},
     "output_type": "execute_result"
    }
   ],
   "source": [
    "lista_precos = []\n",
    "for tag in lista_precos_tags:\n",
    "    lista_precos.append(tag.text)\n",
    "lista_precos[0:5]"
   ]
  },
  {
   "cell_type": "markdown",
   "metadata": {},
   "source": [
    " - List comprehension"
   ]
  },
  {
   "cell_type": "code",
   "execution_count": 6,
   "metadata": {},
   "outputs": [
    {
     "data": {
      "text/plain": [
       "['900', '1.000', '1.299', '620', '799']"
      ]
     },
     "execution_count": 6,
     "metadata": {},
     "output_type": "execute_result"
    }
   ],
   "source": [
    "# for loop utilizando list compreehension\n",
    "lista_precos  = [tag.text for tag in lista_precos_tags]\n",
    "lista_precos[0:5]"
   ]
  },
  {
   "cell_type": "code",
   "execution_count": 17,
   "metadata": {},
   "outputs": [
    {
     "data": {
      "text/plain": [
       "48"
      ]
     },
     "execution_count": 17,
     "metadata": {},
     "output_type": "execute_result"
    }
   ],
   "source": [
    "len(lista_precos)"
   ]
  },
  {
   "cell_type": "markdown",
   "metadata": {},
   "source": [
    "## Criando uma lista com a área e quantidade de quartos"
   ]
  },
  {
   "cell_type": "code",
   "execution_count": 7,
   "metadata": {},
   "outputs": [],
   "source": [
    "lista_area_quartos_tags = soup.find_all('ul', {'class':'ui-search-card-attributes'})"
   ]
  },
  {
   "cell_type": "code",
   "execution_count": 8,
   "metadata": {},
   "outputs": [
    {
     "data": {
      "text/plain": [
       "['30 m² construídos1 quarto',\n",
       " '50 m² construídos1 quarto',\n",
       " '80 m² construídos2 quartos',\n",
       " '30 m² construídos1 quarto',\n",
       " '50 m² construídos1 quarto']"
      ]
     },
     "execution_count": 8,
     "metadata": {},
     "output_type": "execute_result"
    }
   ],
   "source": [
    "lista_area_quartos = [info.text for info in lista_area_quartos_tags ]\n",
    "lista_area_quartos[0:5]"
   ]
  },
  {
   "cell_type": "code",
   "execution_count": 16,
   "metadata": {},
   "outputs": [
    {
     "data": {
      "text/plain": [
       "48"
      ]
     },
     "execution_count": 16,
     "metadata": {},
     "output_type": "execute_result"
    }
   ],
   "source": [
    "len(lista_area_quartos)"
   ]
  },
  {
   "cell_type": "markdown",
   "metadata": {},
   "source": [
    "## Criando uma lista com os endereços"
   ]
  },
  {
   "cell_type": "code",
   "execution_count": 9,
   "metadata": {},
   "outputs": [],
   "source": [
    "lista_enderecos_tags = soup.find_all('span' , {'class':'ui-search-item__group__element'})"
   ]
  },
  {
   "cell_type": "code",
   "execution_count": 10,
   "metadata": {},
   "outputs": [
    {
     "data": {
      "text/plain": [
       "['R Das Tâmaras, Vila Paulista, São Paulo Zona Norte, São Paulo',\n",
       " 'Rua Campo Belo Do Sul 113, Parque Vitória, São Paulo Zona Norte, São Paulo',\n",
       " 'Rua José Eduardo Raduan 5, Parque Edu Chaves, São Paulo Zona Norte, São Paulo',\n",
       " 'Rua Rodolfo Bardela 335, Brasilândia, São Paulo Zona Norte, São Paulo',\n",
       " 'Brandão Agrões 176, Jardim Peri, São Paulo Zona Norte, São Paulo']"
      ]
     },
     "execution_count": 10,
     "metadata": {},
     "output_type": "execute_result"
    }
   ],
   "source": [
    "lista_enderecos = [end.text for end in lista_enderecos_tags]\n",
    "lista_enderecos = lista_enderecos[1::2]\n",
    "lista_enderecos[:5]"
   ]
  },
  {
   "cell_type": "code",
   "execution_count": 15,
   "metadata": {},
   "outputs": [
    {
     "data": {
      "text/plain": [
       "48"
      ]
     },
     "execution_count": 15,
     "metadata": {},
     "output_type": "execute_result"
    }
   ],
   "source": [
    "len(lista_enderecos)"
   ]
  },
  {
   "cell_type": "markdown",
   "metadata": {},
   "source": [
    "## Criando  função que retorna um DataFrame com as informaçoes obtidas anteriormente"
   ]
  },
  {
   "cell_type": "code",
   "execution_count": 21,
   "metadata": {},
   "outputs": [],
   "source": [
    "lista_pag = []\n",
    "for i in range(1,1537):\n",
    "    num_1 ='_Desde_'\n",
    "    num_2 = i\n",
    "    num = '{}{}'.format(num_1,num_2)\n",
    "    lista_pag.append(num)\n",
    "\n",
    "\n",
    "lista_pag_1 = lista_pag[::48]\n",
    "lista_pag_1[0] = ''"
   ]
  },
  {
   "cell_type": "code",
   "execution_count": 25,
   "metadata": {},
   "outputs": [],
   "source": [
    "zonas = ['zona-norte', 'zona-sul', 'zona-leste', 'zona-oeste', 'centro']\n",
    "URL='https://imoveis.mercadolivre.com.br/casas/aluguel/sao-paulo/sao-paulo-{}/{}'\n",
    "paginas = lista_pag_1[0:7]"
   ]
  },
  {
   "cell_type": "code",
   "execution_count": 26,
   "metadata": {},
   "outputs": [],
   "source": [
    "def scrap(url):\n",
    "    c = requests.get(url).content\n",
    "    soup = BeautifulSoup(c)\n",
    "    lista_precos_tags = soup.find_all('span', {'class':'price-tag-fraction'})\n",
    "    lista_precos  = [tag.text for tag in lista_precos_tags]\n",
    "    lista_area_quartos_tags = soup.find_all('ul', {'class':'ui-search-card-attributes'})\n",
    "    lista_area_quartos = [info.text for info in lista_area_quartos_tags ]\n",
    "    lista_enderecos_tags = soup.find_all('span' , {'class':'ui-search-item__group__element'})\n",
    "    lista_enderecos = [end.text for end in lista_enderecos_tags]\n",
    "    lista_enderecos = lista_enderecos[1::2]\n",
    "    df=convert_df(zona, lista_area_quartos, lista_enderecos, lista_precos)\n",
    "    return df\n",
    "\n",
    "\n",
    "def convert_df(zona, lista_area_quartos, lista_enderecos, lista_precos):\n",
    "    zonas_lista = [zona]*len(lista_precos)\n",
    "    data = {'zona': zonas_lista,\n",
    "            'area_quartos': lista_area_quartos,\n",
    "            'enderecos_lista':lista_enderecos,\n",
    "            'aluguel': lista_precos}\n",
    "    df = pd.DataFrame(data)\n",
    "    return df"
   ]
  },
  {
   "cell_type": "code",
   "execution_count": 27,
   "metadata": {},
   "outputs": [
    {
     "name": "stdout",
     "output_type": "stream",
     "text": [
      "https://imoveis.mercadolivre.com.br/aluguel/sao-paulo/sao-paulo-zona-norte/\n",
      "https://imoveis.mercadolivre.com.br/aluguel/sao-paulo/sao-paulo-zona-norte/_Desde_49\n",
      "https://imoveis.mercadolivre.com.br/aluguel/sao-paulo/sao-paulo-zona-norte/_Desde_97\n",
      "https://imoveis.mercadolivre.com.br/aluguel/sao-paulo/sao-paulo-zona-norte/_Desde_145\n",
      "https://imoveis.mercadolivre.com.br/aluguel/sao-paulo/sao-paulo-zona-norte/_Desde_193\n",
      "https://imoveis.mercadolivre.com.br/aluguel/sao-paulo/sao-paulo-zona-norte/_Desde_241\n",
      "https://imoveis.mercadolivre.com.br/aluguel/sao-paulo/sao-paulo-zona-norte/_Desde_289\n",
      "https://imoveis.mercadolivre.com.br/aluguel/sao-paulo/sao-paulo-zona-sul/\n",
      "https://imoveis.mercadolivre.com.br/aluguel/sao-paulo/sao-paulo-zona-sul/_Desde_49\n",
      "https://imoveis.mercadolivre.com.br/aluguel/sao-paulo/sao-paulo-zona-sul/_Desde_97\n",
      "https://imoveis.mercadolivre.com.br/aluguel/sao-paulo/sao-paulo-zona-sul/_Desde_145\n",
      "https://imoveis.mercadolivre.com.br/aluguel/sao-paulo/sao-paulo-zona-sul/_Desde_193\n",
      "https://imoveis.mercadolivre.com.br/aluguel/sao-paulo/sao-paulo-zona-sul/_Desde_241\n",
      "https://imoveis.mercadolivre.com.br/aluguel/sao-paulo/sao-paulo-zona-sul/_Desde_289\n",
      "https://imoveis.mercadolivre.com.br/aluguel/sao-paulo/sao-paulo-zona-leste/\n",
      "https://imoveis.mercadolivre.com.br/aluguel/sao-paulo/sao-paulo-zona-leste/_Desde_49\n",
      "https://imoveis.mercadolivre.com.br/aluguel/sao-paulo/sao-paulo-zona-leste/_Desde_97\n",
      "https://imoveis.mercadolivre.com.br/aluguel/sao-paulo/sao-paulo-zona-leste/_Desde_145\n",
      "https://imoveis.mercadolivre.com.br/aluguel/sao-paulo/sao-paulo-zona-leste/_Desde_193\n",
      "https://imoveis.mercadolivre.com.br/aluguel/sao-paulo/sao-paulo-zona-leste/_Desde_241\n",
      "https://imoveis.mercadolivre.com.br/aluguel/sao-paulo/sao-paulo-zona-leste/_Desde_289\n",
      "https://imoveis.mercadolivre.com.br/aluguel/sao-paulo/sao-paulo-zona-oeste/\n",
      "https://imoveis.mercadolivre.com.br/aluguel/sao-paulo/sao-paulo-zona-oeste/_Desde_49\n",
      "https://imoveis.mercadolivre.com.br/aluguel/sao-paulo/sao-paulo-zona-oeste/_Desde_97\n",
      "https://imoveis.mercadolivre.com.br/aluguel/sao-paulo/sao-paulo-zona-oeste/_Desde_145\n",
      "https://imoveis.mercadolivre.com.br/aluguel/sao-paulo/sao-paulo-zona-oeste/_Desde_193\n",
      "https://imoveis.mercadolivre.com.br/aluguel/sao-paulo/sao-paulo-zona-oeste/_Desde_241\n",
      "https://imoveis.mercadolivre.com.br/aluguel/sao-paulo/sao-paulo-zona-oeste/_Desde_289\n",
      "https://imoveis.mercadolivre.com.br/aluguel/sao-paulo/sao-paulo-centro/\n",
      "https://imoveis.mercadolivre.com.br/aluguel/sao-paulo/sao-paulo-centro/_Desde_49\n",
      "https://imoveis.mercadolivre.com.br/aluguel/sao-paulo/sao-paulo-centro/_Desde_97\n",
      "https://imoveis.mercadolivre.com.br/aluguel/sao-paulo/sao-paulo-centro/_Desde_145\n",
      "https://imoveis.mercadolivre.com.br/aluguel/sao-paulo/sao-paulo-centro/_Desde_193\n",
      "https://imoveis.mercadolivre.com.br/aluguel/sao-paulo/sao-paulo-centro/_Desde_241\n",
      "https://imoveis.mercadolivre.com.br/aluguel/sao-paulo/sao-paulo-centro/_Desde_289\n"
     ]
    }
   ],
   "source": [
    "lista_dfs = []\n",
    "for zona in zonas:\n",
    "    for pag in paginas:\n",
    "        url='https://imoveis.mercadolivre.com.br/aluguel/sao-paulo/sao-paulo-{}/{}'.format(zona,pag)\n",
    "        print(url)\n",
    "        df=scrap(url)\n",
    "        lista_dfs.append(df)\n",
    "        sleep(1)"
   ]
  },
  {
   "cell_type": "code",
   "execution_count": 28,
   "metadata": {},
   "outputs": [],
   "source": [
    "df = pd.concat(lista_dfs)"
   ]
  },
  {
   "cell_type": "code",
   "execution_count": 29,
   "metadata": {},
   "outputs": [
    {
     "data": {
      "text/html": [
       "<div>\n",
       "<style scoped>\n",
       "    .dataframe tbody tr th:only-of-type {\n",
       "        vertical-align: middle;\n",
       "    }\n",
       "\n",
       "    .dataframe tbody tr th {\n",
       "        vertical-align: top;\n",
       "    }\n",
       "\n",
       "    .dataframe thead th {\n",
       "        text-align: right;\n",
       "    }\n",
       "</style>\n",
       "<table border=\"1\" class=\"dataframe\">\n",
       "  <thead>\n",
       "    <tr style=\"text-align: right;\">\n",
       "      <th></th>\n",
       "      <th>zona</th>\n",
       "      <th>area_quartos</th>\n",
       "      <th>enderecos_lista</th>\n",
       "      <th>aluguel</th>\n",
       "    </tr>\n",
       "  </thead>\n",
       "  <tbody>\n",
       "    <tr>\n",
       "      <th>0</th>\n",
       "      <td>zona-norte</td>\n",
       "      <td>60 m² construídos2 quartos</td>\n",
       "      <td>Av Maestro Villa Lobos, Vila Gustavo, São Paul...</td>\n",
       "      <td>1.600</td>\n",
       "    </tr>\n",
       "    <tr>\n",
       "      <th>1</th>\n",
       "      <td>zona-norte</td>\n",
       "      <td>30 m² construídos1 quarto</td>\n",
       "      <td>R Das Tâmaras, Vila Paulista, São Paulo Zona N...</td>\n",
       "      <td>900</td>\n",
       "    </tr>\n",
       "    <tr>\n",
       "      <th>2</th>\n",
       "      <td>zona-norte</td>\n",
       "      <td>51 m² construídos2 quartos</td>\n",
       "      <td>Rua José Timotheo Da Silva, Jardim Peri, São P...</td>\n",
       "      <td>950</td>\n",
       "    </tr>\n",
       "    <tr>\n",
       "      <th>3</th>\n",
       "      <td>zona-norte</td>\n",
       "      <td>126 m² construídos3 quartos</td>\n",
       "      <td>Rua Plinio Colás, Lauzane Paulista, São Paulo ...</td>\n",
       "      <td>2.500</td>\n",
       "    </tr>\n",
       "    <tr>\n",
       "      <th>4</th>\n",
       "      <td>zona-norte</td>\n",
       "      <td>55 m² construídos1 quarto</td>\n",
       "      <td>Rua Doutor Gabriel Covelli, Parque Peruche, Sã...</td>\n",
       "      <td>900</td>\n",
       "    </tr>\n",
       "  </tbody>\n",
       "</table>\n",
       "</div>"
      ],
      "text/plain": [
       "         zona                 area_quartos  \\\n",
       "0  zona-norte   60 m² construídos2 quartos   \n",
       "1  zona-norte    30 m² construídos1 quarto   \n",
       "2  zona-norte   51 m² construídos2 quartos   \n",
       "3  zona-norte  126 m² construídos3 quartos   \n",
       "4  zona-norte    55 m² construídos1 quarto   \n",
       "\n",
       "                                     enderecos_lista aluguel  \n",
       "0  Av Maestro Villa Lobos, Vila Gustavo, São Paul...   1.600  \n",
       "1  R Das Tâmaras, Vila Paulista, São Paulo Zona N...     900  \n",
       "2  Rua José Timotheo Da Silva, Jardim Peri, São P...     950  \n",
       "3  Rua Plinio Colás, Lauzane Paulista, São Paulo ...   2.500  \n",
       "4  Rua Doutor Gabriel Covelli, Parque Peruche, Sã...     900  "
      ]
     },
     "execution_count": 29,
     "metadata": {},
     "output_type": "execute_result"
    }
   ],
   "source": [
    "df.head()"
   ]
  },
  {
   "cell_type": "code",
   "execution_count": 30,
   "metadata": {},
   "outputs": [
    {
     "ename": "UnicodeEncodeError",
     "evalue": "'latin-1' codec can't encode character '\\u2019' in position 66: ordinal not in range(256)",
     "output_type": "error",
     "traceback": [
      "\u001b[1;31m---------------------------------------------------------------------------\u001b[0m",
      "\u001b[1;31mUnicodeEncodeError\u001b[0m                        Traceback (most recent call last)",
      "\u001b[1;32m<ipython-input-30-516901ff9f94>\u001b[0m in \u001b[0;36m<module>\u001b[1;34m\u001b[0m\n\u001b[1;32m----> 1\u001b[1;33m \u001b[0mdf\u001b[0m\u001b[1;33m.\u001b[0m\u001b[0mto_csv\u001b[0m\u001b[1;33m(\u001b[0m\u001b[1;34m'dados_aluguels_imoveis_ml_sao_paulo.csv'\u001b[0m\u001b[1;33m,\u001b[0m \u001b[0mindex\u001b[0m \u001b[1;33m=\u001b[0m\u001b[1;32mFalse\u001b[0m \u001b[1;33m,\u001b[0m \u001b[0mencoding\u001b[0m \u001b[1;33m=\u001b[0m \u001b[1;34m'latin-1'\u001b[0m\u001b[1;33m)\u001b[0m\u001b[1;33m\u001b[0m\u001b[1;33m\u001b[0m\u001b[0m\n\u001b[0m",
      "\u001b[1;32m~\\anaconda3\\lib\\site-packages\\pandas\\core\\generic.py\u001b[0m in \u001b[0;36mto_csv\u001b[1;34m(self, path_or_buf, sep, na_rep, float_format, columns, header, index, index_label, mode, encoding, compression, quoting, quotechar, line_terminator, chunksize, date_format, doublequote, escapechar, decimal)\u001b[0m\n\u001b[0;32m   3202\u001b[0m             \u001b[0mdecimal\u001b[0m\u001b[1;33m=\u001b[0m\u001b[0mdecimal\u001b[0m\u001b[1;33m,\u001b[0m\u001b[1;33m\u001b[0m\u001b[1;33m\u001b[0m\u001b[0m\n\u001b[0;32m   3203\u001b[0m         )\n\u001b[1;32m-> 3204\u001b[1;33m         \u001b[0mformatter\u001b[0m\u001b[1;33m.\u001b[0m\u001b[0msave\u001b[0m\u001b[1;33m(\u001b[0m\u001b[1;33m)\u001b[0m\u001b[1;33m\u001b[0m\u001b[1;33m\u001b[0m\u001b[0m\n\u001b[0m\u001b[0;32m   3205\u001b[0m \u001b[1;33m\u001b[0m\u001b[0m\n\u001b[0;32m   3206\u001b[0m         \u001b[1;32mif\u001b[0m \u001b[0mpath_or_buf\u001b[0m \u001b[1;32mis\u001b[0m \u001b[1;32mNone\u001b[0m\u001b[1;33m:\u001b[0m\u001b[1;33m\u001b[0m\u001b[1;33m\u001b[0m\u001b[0m\n",
      "\u001b[1;32m~\\anaconda3\\lib\\site-packages\\pandas\\io\\formats\\csvs.py\u001b[0m in \u001b[0;36msave\u001b[1;34m(self)\u001b[0m\n\u001b[0;32m    202\u001b[0m             )\n\u001b[0;32m    203\u001b[0m \u001b[1;33m\u001b[0m\u001b[0m\n\u001b[1;32m--> 204\u001b[1;33m             \u001b[0mself\u001b[0m\u001b[1;33m.\u001b[0m\u001b[0m_save\u001b[0m\u001b[1;33m(\u001b[0m\u001b[1;33m)\u001b[0m\u001b[1;33m\u001b[0m\u001b[1;33m\u001b[0m\u001b[0m\n\u001b[0m\u001b[0;32m    205\u001b[0m \u001b[1;33m\u001b[0m\u001b[0m\n\u001b[0;32m    206\u001b[0m         \u001b[1;32mfinally\u001b[0m\u001b[1;33m:\u001b[0m\u001b[1;33m\u001b[0m\u001b[1;33m\u001b[0m\u001b[0m\n",
      "\u001b[1;32m~\\anaconda3\\lib\\site-packages\\pandas\\io\\formats\\csvs.py\u001b[0m in \u001b[0;36m_save\u001b[1;34m(self)\u001b[0m\n\u001b[0;32m    323\u001b[0m                 \u001b[1;32mbreak\u001b[0m\u001b[1;33m\u001b[0m\u001b[1;33m\u001b[0m\u001b[0m\n\u001b[0;32m    324\u001b[0m \u001b[1;33m\u001b[0m\u001b[0m\n\u001b[1;32m--> 325\u001b[1;33m             \u001b[0mself\u001b[0m\u001b[1;33m.\u001b[0m\u001b[0m_save_chunk\u001b[0m\u001b[1;33m(\u001b[0m\u001b[0mstart_i\u001b[0m\u001b[1;33m,\u001b[0m \u001b[0mend_i\u001b[0m\u001b[1;33m)\u001b[0m\u001b[1;33m\u001b[0m\u001b[1;33m\u001b[0m\u001b[0m\n\u001b[0m\u001b[0;32m    326\u001b[0m \u001b[1;33m\u001b[0m\u001b[0m\n\u001b[0;32m    327\u001b[0m     \u001b[1;32mdef\u001b[0m \u001b[0m_save_chunk\u001b[0m\u001b[1;33m(\u001b[0m\u001b[0mself\u001b[0m\u001b[1;33m,\u001b[0m \u001b[0mstart_i\u001b[0m\u001b[1;33m:\u001b[0m \u001b[0mint\u001b[0m\u001b[1;33m,\u001b[0m \u001b[0mend_i\u001b[0m\u001b[1;33m:\u001b[0m \u001b[0mint\u001b[0m\u001b[1;33m)\u001b[0m \u001b[1;33m->\u001b[0m \u001b[1;32mNone\u001b[0m\u001b[1;33m:\u001b[0m\u001b[1;33m\u001b[0m\u001b[1;33m\u001b[0m\u001b[0m\n",
      "\u001b[1;32m~\\anaconda3\\lib\\site-packages\\pandas\\io\\formats\\csvs.py\u001b[0m in \u001b[0;36m_save_chunk\u001b[1;34m(self, start_i, end_i)\u001b[0m\n\u001b[0;32m    354\u001b[0m         )\n\u001b[0;32m    355\u001b[0m \u001b[1;33m\u001b[0m\u001b[0m\n\u001b[1;32m--> 356\u001b[1;33m         \u001b[0mlibwriters\u001b[0m\u001b[1;33m.\u001b[0m\u001b[0mwrite_csv_rows\u001b[0m\u001b[1;33m(\u001b[0m\u001b[0mself\u001b[0m\u001b[1;33m.\u001b[0m\u001b[0mdata\u001b[0m\u001b[1;33m,\u001b[0m \u001b[0mix\u001b[0m\u001b[1;33m,\u001b[0m \u001b[0mself\u001b[0m\u001b[1;33m.\u001b[0m\u001b[0mnlevels\u001b[0m\u001b[1;33m,\u001b[0m \u001b[0mself\u001b[0m\u001b[1;33m.\u001b[0m\u001b[0mcols\u001b[0m\u001b[1;33m,\u001b[0m \u001b[0mself\u001b[0m\u001b[1;33m.\u001b[0m\u001b[0mwriter\u001b[0m\u001b[1;33m)\u001b[0m\u001b[1;33m\u001b[0m\u001b[1;33m\u001b[0m\u001b[0m\n\u001b[0m",
      "\u001b[1;32mpandas\\_libs\\writers.pyx\u001b[0m in \u001b[0;36mpandas._libs.writers.write_csv_rows\u001b[1;34m()\u001b[0m\n",
      "\u001b[1;31mUnicodeEncodeError\u001b[0m: 'latin-1' codec can't encode character '\\u2019' in position 66: ordinal not in range(256)"
     ]
    }
   ],
   "source": [
    "df.to_csv('dados_aluguels_imoveis_ml_sao_paulo.csv', index =False , encoding = 'latin-1')"
   ]
  },
  {
   "cell_type": "code",
   "execution_count": null,
   "metadata": {},
   "outputs": [],
   "source": []
  }
 ],
 "metadata": {
  "kernelspec": {
   "display_name": "Python 3",
   "language": "python",
   "name": "python3"
  },
  "language_info": {
   "codemirror_mode": {
    "name": "ipython",
    "version": 3
   },
   "file_extension": ".py",
   "mimetype": "text/x-python",
   "name": "python",
   "nbconvert_exporter": "python",
   "pygments_lexer": "ipython3",
   "version": "3.8.3"
  },
  "widgets": {
   "application/vnd.jupyter.widget-state+json": {
    "state": {},
    "version_major": 2,
    "version_minor": 0
   }
  }
 },
 "nbformat": 4,
 "nbformat_minor": 4
}
