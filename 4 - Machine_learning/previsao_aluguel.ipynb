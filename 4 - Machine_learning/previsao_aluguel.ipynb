{
 "cells": [
  {
   "cell_type": "markdown",
   "metadata": {},
   "source": [
    "## 1. Importando bibliotecas"
   ]
  },
  {
   "cell_type": "code",
   "execution_count": 7,
   "metadata": {
    "executionInfo": {
     "elapsed": 1871,
     "status": "ok",
     "timestamp": 1615483217880,
     "user": {
      "displayName": "Sara Malvar",
      "photoUrl": "https://lh3.googleusercontent.com/a-/AOh14GgxTkSI2iE_GXu9t05RJ3OjnDFBKADlycq_jvhc=s64",
      "userId": "12181001413475496115"
     },
     "user_tz": 180
    },
    "id": "PLIctO3EpCOH"
   },
   "outputs": [],
   "source": [
    "import pandas as pd\n",
    "import matplotlib.pyplot as plt\n",
    "import seaborn as sns\n",
    "import numpy as np"
   ]
  },
  {
   "cell_type": "markdown",
   "metadata": {},
   "source": [
    "## 2. Preparando dados"
   ]
  },
  {
   "cell_type": "code",
   "execution_count": 8,
   "metadata": {
    "executionInfo": {
     "elapsed": 1864,
     "status": "ok",
     "timestamp": 1615483217882,
     "user": {
      "displayName": "Sara Malvar",
      "photoUrl": "https://lh3.googleusercontent.com/a-/AOh14GgxTkSI2iE_GXu9t05RJ3OjnDFBKADlycq_jvhc=s64",
      "userId": "12181001413475496115"
     },
     "user_tz": 180
    },
    "id": "vVciMNHfoZ2y"
   },
   "outputs": [],
   "source": [
    "url = 'https://raw.githubusercontent.com/robertferro/calculadora-aluguel-ml/main/3%20-%20%20EDA/dados_filtrados.csv'"
   ]
  },
  {
   "cell_type": "code",
   "execution_count": 9,
   "metadata": {
    "colab": {
     "base_uri": "https://localhost:8080/",
     "height": 206
    },
    "executionInfo": {
     "elapsed": 1854,
     "status": "ok",
     "timestamp": 1615483217884,
     "user": {
      "displayName": "Sara Malvar",
      "photoUrl": "https://lh3.googleusercontent.com/a-/AOh14GgxTkSI2iE_GXu9t05RJ3OjnDFBKADlycq_jvhc=s64",
      "userId": "12181001413475496115"
     },
     "user_tz": 180
    },
    "id": "bns8xjIWpRxL",
    "outputId": "c333a30f-8d2b-461d-8091-3ba8c70ff386"
   },
   "outputs": [],
   "source": [
    "dados = pd.read_csv(url, encoding='utf-8')"
   ]
  },
  {
   "cell_type": "code",
   "execution_count": 10,
   "metadata": {},
   "outputs": [
    {
     "data": {
      "text/html": [
       "<div>\n",
       "<style scoped>\n",
       "    .dataframe tbody tr th:only-of-type {\n",
       "        vertical-align: middle;\n",
       "    }\n",
       "\n",
       "    .dataframe tbody tr th {\n",
       "        vertical-align: top;\n",
       "    }\n",
       "\n",
       "    .dataframe thead th {\n",
       "        text-align: right;\n",
       "    }\n",
       "</style>\n",
       "<table border=\"1\" class=\"dataframe\">\n",
       "  <thead>\n",
       "    <tr style=\"text-align: right;\">\n",
       "      <th></th>\n",
       "      <th>bairro</th>\n",
       "      <th>zona</th>\n",
       "      <th>area</th>\n",
       "      <th>quartos</th>\n",
       "      <th>aluguel</th>\n",
       "    </tr>\n",
       "  </thead>\n",
       "  <tbody>\n",
       "    <tr>\n",
       "      <th>0</th>\n",
       "      <td>Bela Vista</td>\n",
       "      <td>centro</td>\n",
       "      <td>86.0</td>\n",
       "      <td>2.0</td>\n",
       "      <td>2200</td>\n",
       "    </tr>\n",
       "    <tr>\n",
       "      <th>1</th>\n",
       "      <td>Bela Vista</td>\n",
       "      <td>centro</td>\n",
       "      <td>35.0</td>\n",
       "      <td>1.0</td>\n",
       "      <td>3200</td>\n",
       "    </tr>\n",
       "    <tr>\n",
       "      <th>2</th>\n",
       "      <td>Bela Vista</td>\n",
       "      <td>centro</td>\n",
       "      <td>35.0</td>\n",
       "      <td>1.0</td>\n",
       "      <td>3700</td>\n",
       "    </tr>\n",
       "    <tr>\n",
       "      <th>3</th>\n",
       "      <td>Bela Vista</td>\n",
       "      <td>centro</td>\n",
       "      <td>35.0</td>\n",
       "      <td>1.0</td>\n",
       "      <td>3700</td>\n",
       "    </tr>\n",
       "    <tr>\n",
       "      <th>4</th>\n",
       "      <td>Bela Vista</td>\n",
       "      <td>centro</td>\n",
       "      <td>25.0</td>\n",
       "      <td>1.0</td>\n",
       "      <td>1800</td>\n",
       "    </tr>\n",
       "  </tbody>\n",
       "</table>\n",
       "</div>"
      ],
      "text/plain": [
       "       bairro    zona  area  quartos  aluguel\n",
       "0  Bela Vista  centro  86.0      2.0     2200\n",
       "1  Bela Vista  centro  35.0      1.0     3200\n",
       "2  Bela Vista  centro  35.0      1.0     3700\n",
       "3  Bela Vista  centro  35.0      1.0     3700\n",
       "4  Bela Vista  centro  25.0      1.0     1800"
      ]
     },
     "execution_count": 10,
     "metadata": {},
     "output_type": "execute_result"
    }
   ],
   "source": [
    "dados.head()"
   ]
  },
  {
   "cell_type": "code",
   "execution_count": 11,
   "metadata": {
    "colab": {
     "base_uri": "https://localhost:8080/",
     "height": 143
    },
    "executionInfo": {
     "elapsed": 916,
     "status": "ok",
     "timestamp": 1615483219006,
     "user": {
      "displayName": "Sara Malvar",
      "photoUrl": "https://lh3.googleusercontent.com/a-/AOh14GgxTkSI2iE_GXu9t05RJ3OjnDFBKADlycq_jvhc=s64",
      "userId": "12181001413475496115"
     },
     "user_tz": 180
    },
    "id": "NpMybVXKqavI",
    "outputId": "38cae7b4-bac7-4436-b3b0-921cbd13355d"
   },
   "outputs": [
    {
     "data": {
      "text/html": [
       "<div>\n",
       "<style scoped>\n",
       "    .dataframe tbody tr th:only-of-type {\n",
       "        vertical-align: middle;\n",
       "    }\n",
       "\n",
       "    .dataframe tbody tr th {\n",
       "        vertical-align: top;\n",
       "    }\n",
       "\n",
       "    .dataframe thead th {\n",
       "        text-align: right;\n",
       "    }\n",
       "</style>\n",
       "<table border=\"1\" class=\"dataframe\">\n",
       "  <thead>\n",
       "    <tr style=\"text-align: right;\">\n",
       "      <th></th>\n",
       "      <th>count</th>\n",
       "      <th>mean</th>\n",
       "      <th>std</th>\n",
       "      <th>min</th>\n",
       "      <th>25%</th>\n",
       "      <th>50%</th>\n",
       "      <th>75%</th>\n",
       "      <th>max</th>\n",
       "    </tr>\n",
       "  </thead>\n",
       "  <tbody>\n",
       "    <tr>\n",
       "      <th>area</th>\n",
       "      <td>1791.0</td>\n",
       "      <td>155.426019</td>\n",
       "      <td>104.096512</td>\n",
       "      <td>1.0</td>\n",
       "      <td>70.0</td>\n",
       "      <td>138.0</td>\n",
       "      <td>220.0</td>\n",
       "      <td>450.0</td>\n",
       "    </tr>\n",
       "    <tr>\n",
       "      <th>quartos</th>\n",
       "      <td>1791.0</td>\n",
       "      <td>2.600223</td>\n",
       "      <td>1.373281</td>\n",
       "      <td>1.0</td>\n",
       "      <td>2.0</td>\n",
       "      <td>3.0</td>\n",
       "      <td>3.0</td>\n",
       "      <td>12.0</td>\n",
       "    </tr>\n",
       "    <tr>\n",
       "      <th>aluguel</th>\n",
       "      <td>1791.0</td>\n",
       "      <td>4118.659408</td>\n",
       "      <td>3381.757181</td>\n",
       "      <td>450.0</td>\n",
       "      <td>1700.0</td>\n",
       "      <td>3000.0</td>\n",
       "      <td>5100.0</td>\n",
       "      <td>20000.0</td>\n",
       "    </tr>\n",
       "  </tbody>\n",
       "</table>\n",
       "</div>"
      ],
      "text/plain": [
       "          count         mean          std    min     25%     50%     75%  \\\n",
       "area     1791.0   155.426019   104.096512    1.0    70.0   138.0   220.0   \n",
       "quartos  1791.0     2.600223     1.373281    1.0     2.0     3.0     3.0   \n",
       "aluguel  1791.0  4118.659408  3381.757181  450.0  1700.0  3000.0  5100.0   \n",
       "\n",
       "             max  \n",
       "area       450.0  \n",
       "quartos     12.0  \n",
       "aluguel  20000.0  "
      ]
     },
     "execution_count": 11,
     "metadata": {},
     "output_type": "execute_result"
    }
   ],
   "source": [
    "dados.describe().T"
   ]
  },
  {
   "cell_type": "code",
   "execution_count": 12,
   "metadata": {
    "colab": {
     "base_uri": "https://localhost:8080/"
    },
    "executionInfo": {
     "elapsed": 697,
     "status": "ok",
     "timestamp": 1615483220149,
     "user": {
      "displayName": "Sara Malvar",
      "photoUrl": "https://lh3.googleusercontent.com/a-/AOh14GgxTkSI2iE_GXu9t05RJ3OjnDFBKADlycq_jvhc=s64",
      "userId": "12181001413475496115"
     },
     "user_tz": 180
    },
    "id": "iQzcTPxpqgCQ",
    "outputId": "bb5959ad-5d30-47c5-e862-7ca4eae89fdd"
   },
   "outputs": [
    {
     "name": "stdout",
     "output_type": "stream",
     "text": [
      "<class 'pandas.core.frame.DataFrame'>\n",
      "RangeIndex: 1791 entries, 0 to 1790\n",
      "Data columns (total 5 columns):\n",
      " #   Column   Non-Null Count  Dtype  \n",
      "---  ------   --------------  -----  \n",
      " 0   bairro   1791 non-null   object \n",
      " 1   zona     1791 non-null   object \n",
      " 2   area     1791 non-null   float64\n",
      " 3   quartos  1791 non-null   float64\n",
      " 4   aluguel  1791 non-null   int64  \n",
      "dtypes: float64(2), int64(1), object(2)\n",
      "memory usage: 70.1+ KB\n"
     ]
    }
   ],
   "source": [
    "dados.info()"
   ]
  },
  {
   "cell_type": "markdown",
   "metadata": {},
   "source": [
    " - Tratando variáveis categóricas."
   ]
  },
  {
   "cell_type": "code",
   "execution_count": 13,
   "metadata": {},
   "outputs": [],
   "source": [
    "from sklearn.preprocessing import LabelEncoder"
   ]
  },
  {
   "cell_type": "code",
   "execution_count": 14,
   "metadata": {},
   "outputs": [],
   "source": [
    "enconder = LabelEncoder()"
   ]
  },
  {
   "cell_type": "code",
   "execution_count": 15,
   "metadata": {},
   "outputs": [],
   "source": [
    "dados['bairro'] = enconder.fit_transform(dados['bairro'])\n",
    "dados['zona'] = enconder.fit_transform(dados['zona'])"
   ]
  },
  {
   "cell_type": "code",
   "execution_count": 17,
   "metadata": {},
   "outputs": [
    {
     "data": {
      "text/plain": [
       "<AxesSubplot:>"
      ]
     },
     "execution_count": 17,
     "metadata": {},
     "output_type": "execute_result"
    },
    {
     "data": {
      "image/png": "[encoded data removed]",
      "text/plain": [
       "<Figure size 1008x720 with 2 Axes>"
      ]
     },
     "metadata": {
      "needs_background": "light"
     },
     "output_type": "display_data"
    }
   ],
   "source": [
    "plt.figure(figsize=(14,10))\n",
    "\n",
    "corr = dados.corr().abs()\n",
    "mask = np.triu(np.ones_like(corr, dtype=np.bool))\n",
    "\n",
    "\n",
    "sns.heatmap(corr, mask=mask, annot=True, center=0, cmap=\"YlGnBu\")"
   ]
  },
  {
   "cell_type": "code",
   "execution_count": 18,
   "metadata": {},
   "outputs": [
    {
     "data": {
      "text/plain": [
       "array([[<AxesSubplot:title={'center':'aluguel'}>,\n",
       "        <AxesSubplot:title={'center':'area'}>],\n",
       "       [<AxesSubplot:title={'center':'bairro'}>,\n",
       "        <AxesSubplot:title={'center':'quartos'}>],\n",
       "       [<AxesSubplot:title={'center':'zona'}>, <AxesSubplot:>]],\n",
       "      dtype=object)"
      ]
     },
     "execution_count": 18,
     "metadata": {},
     "output_type": "execute_result"
    },
    {
     "data": {
      "image/png": "[encoded data removed]",
      "text/plain": [
       "<Figure size 1440x864 with 6 Axes>"
      ]
     },
     "metadata": {
      "needs_background": "light"
     },
     "output_type": "display_data"
    }
   ],
   "source": [
    "dados.hist(bins=50, figsize=(20,12))"
   ]
  },
  {
   "cell_type": "markdown",
   "metadata": {},
   "source": [
    " - Normalizando os dados."
   ]
  },
  {
   "cell_type": "code",
   "execution_count": 19,
   "metadata": {},
   "outputs": [],
   "source": [
    "dados['aluguel'] = dados['aluguel'].apply(np.log1p)\n",
    "dados['area'] = dados['area'].apply(np.log1p)"
   ]
  },
  {
   "cell_type": "markdown",
   "metadata": {},
   "source": [
    " - Separando em treino e teste."
   ]
  },
  {
   "cell_type": "code",
   "execution_count": 20,
   "metadata": {},
   "outputs": [
    {
     "data": {
      "text/plain": [
       "Index(['bairro', 'zona', 'area', 'quartos', 'aluguel'], dtype='object')"
      ]
     },
     "execution_count": 20,
     "metadata": {},
     "output_type": "execute_result"
    }
   ],
   "source": [
    "dados.columns"
   ]
  },
  {
   "cell_type": "code",
   "execution_count": 74,
   "metadata": {},
   "outputs": [],
   "source": [
    "X = dados.drop('aluguel', axis=1)\n",
    "Y = dados['aluguel']"
   ]
  },
  {
   "cell_type": "code",
   "execution_count": 75,
   "metadata": {
    "executionInfo": {
     "elapsed": 748,
     "status": "ok",
     "timestamp": 1615483222571,
     "user": {
      "displayName": "Sara Malvar",
      "photoUrl": "https://lh3.googleusercontent.com/a-/AOh14GgxTkSI2iE_GXu9t05RJ3OjnDFBKADlycq_jvhc=s64",
      "userId": "12181001413475496115"
     },
     "user_tz": 180
    },
    "id": "S2k5atEirRi9"
   },
   "outputs": [],
   "source": [
    "from sklearn.model_selection import train_test_split"
   ]
  },
  {
   "cell_type": "code",
   "execution_count": 76,
   "metadata": {
    "executionInfo": {
     "elapsed": 805,
     "status": "ok",
     "timestamp": 1615483446052,
     "user": {
      "displayName": "Sara Malvar",
      "photoUrl": "https://lh3.googleusercontent.com/a-/AOh14GgxTkSI2iE_GXu9t05RJ3OjnDFBKADlycq_jvhc=s64",
      "userId": "12181001413475496115"
     },
     "user_tz": 180
    },
    "id": "0OmfqIDlrkDd"
   },
   "outputs": [],
   "source": [
    "X_treino, X_teste, Y_treino, Y_teste = train_test_split(X,Y, test_size=0.25, random_state=123, stratify=dados['bairro'])"
   ]
  },
  {
   "cell_type": "markdown",
   "metadata": {
    "id": "QcRo6LAkxPS-"
   },
   "source": [
    "## 2. Machine Learning\n",
    "### 2.1 Definição de Métrica\n",
    "Métricas para regressão:\n",
    "- Mean Absolute Error\n",
    "- Mean Squared Error\n",
    "- R2 Score\n",
    "- Root Mean Squared Error\n",
    "\n",
    "\n",
    "\n",
    "### 2.2 Modelo Base"
   ]
  },
  {
   "cell_type": "code",
   "execution_count": 77,
   "metadata": {
    "colab": {
     "base_uri": "https://localhost:8080/"
    },
    "executionInfo": {
     "elapsed": 1728,
     "status": "ok",
     "timestamp": 1615483303425,
     "user": {
      "displayName": "Sara Malvar",
      "photoUrl": "https://lh3.googleusercontent.com/a-/AOh14GgxTkSI2iE_GXu9t05RJ3OjnDFBKADlycq_jvhc=s64",
      "userId": "12181001413475496115"
     },
     "user_tz": 180
    },
    "id": "0rDSw0i6xMrZ",
    "outputId": "c36f115c-975d-4a46-968e-dd0b6822f11d"
   },
   "outputs": [
    {
     "data": {
      "text/plain": [
       "KNeighborsRegressor()"
      ]
     },
     "execution_count": 77,
     "metadata": {},
     "output_type": "execute_result"
    }
   ],
   "source": [
    "from sklearn.neighbors import KNeighborsRegressor\n",
    "neigh = KNeighborsRegressor()\n",
    "neigh.fit(X_treino, Y_treino)"
   ]
  },
  {
   "cell_type": "code",
   "execution_count": 78,
   "metadata": {
    "executionInfo": {
     "elapsed": 1089,
     "status": "ok",
     "timestamp": 1615483306320,
     "user": {
      "displayName": "Sara Malvar",
      "photoUrl": "https://lh3.googleusercontent.com/a-/AOh14GgxTkSI2iE_GXu9t05RJ3OjnDFBKADlycq_jvhc=s64",
      "userId": "12181001413475496115"
     },
     "user_tz": 180
    },
    "id": "zUGJI2Eeyk-_"
   },
   "outputs": [],
   "source": [
    "y_pred = neigh.predict(X_teste)"
   ]
  },
  {
   "cell_type": "code",
   "execution_count": 79,
   "metadata": {
    "colab": {
     "base_uri": "https://localhost:8080/"
    },
    "executionInfo": {
     "elapsed": 624,
     "status": "ok",
     "timestamp": 1615483308420,
     "user": {
      "displayName": "Sara Malvar",
      "photoUrl": "https://lh3.googleusercontent.com/a-/AOh14GgxTkSI2iE_GXu9t05RJ3OjnDFBKADlycq_jvhc=s64",
      "userId": "12181001413475496115"
     },
     "user_tz": 180
    },
    "id": "WRi-wbbLzRNz",
    "outputId": "73158aea-0cc8-44f6-cd2e-3827bb1cb533"
   },
   "outputs": [
    {
     "data": {
      "text/plain": [
       "0.3962071194801512"
      ]
     },
     "execution_count": 79,
     "metadata": {},
     "output_type": "execute_result"
    }
   ],
   "source": [
    "# Root Mean Squared Error\n",
    "np.sqrt(np.mean((y_pred-Y_teste.values)**2))"
   ]
  },
  {
   "cell_type": "code",
   "execution_count": 80,
   "metadata": {
    "colab": {
     "base_uri": "https://localhost:8080/"
    },
    "executionInfo": {
     "elapsed": 827,
     "status": "ok",
     "timestamp": 1608244268008,
     "user": {
      "displayName": "Fernando Wittmann",
      "photoUrl": "https://lh3.googleusercontent.com/a-/AOh14GhNorYBXS94RhQoZfDlpCZQpyZF7VKfQ8Jra6kU3hsvY5q8QtEXe0YoxTQJvd1t1cP1TXf5nWjp_MDg5d5FMld-Hj2HMEuM2YeoPkELBH72cY5HI5KxSIPGKGGuU1V51FJvnroVy4ykg0yIegxtYNk3cHx0uLYcThENRex52QQBTlJhndcejpvKCPWMfJrNgsvrmWB3gDUZcrsiJFsoTpRrI8ysAM8-9FVE4h92p_i18-H1zkAkjFpxvV8JKuEDDN6OriReItkoasRPv9NVKARyG4apWuwodPnPpRMb7ZvJeB-52DXZuzsN56MQcxG_lQibwSGftaYEs-S8-2b_9cJwsSDPv_NWcqwRIxgeB8TDntdpGhEm_PXVXGhNLQ8RnXZfqEvU_K75bpr_H1dZWtWwbjDqQqqxCNqvwvHk7CI3DSduKrG0hIkm6frSrpuGteYuguRJ2ZAd4PfaVWwvKKT94i4EZi8J_9uVe1Lbw61ezsqr7R4y9lsDkkP4-t-1D3amrQr3hONmDDqvwTnAkkWMdUqPNhc4iKbh29CStMZkIo-F4sNJ6rfisD7xaEvQvQWHgpLShqHUl8qeYe6Oq3VORNzCSsmAt7LyUDMg9XQCDSgdzCw2Rv6UFvG0V22Np4Jk0WoI85QzgvCjjfkaIME0B4fEt_s8EH6jhx2d1kQvWY3i6xxcTB9TwHSIBvP0Sv0aRGSF_e9_SpKjSwRvCfin4UEsKvKfJC1XjMmyaGGsuyz1Vzfok4YgQZP-gNzi-HnN1Q=s64",
      "userId": "04384401167989785014"
     },
     "user_tz": 180
    },
    "id": "ajm4T-Ajyxxe",
    "outputId": "eb0b5102-ba13-4dbb-d052-278269311ae0"
   },
   "outputs": [
    {
     "data": {
      "text/plain": [
       "0.15698008152675882"
      ]
     },
     "execution_count": 80,
     "metadata": {},
     "output_type": "execute_result"
    }
   ],
   "source": [
    "# Mean Squared Error\n",
    "np.mean((y_pred - Y_teste.values)**2)"
   ]
  },
  {
   "cell_type": "code",
   "execution_count": 81,
   "metadata": {
    "colab": {
     "base_uri": "https://localhost:8080/"
    },
    "executionInfo": {
     "elapsed": 737,
     "status": "ok",
     "timestamp": 1608244270039,
     "user": {
      "displayName": "Fernando Wittmann",
      "photoUrl": "https://lh3.googleusercontent.com/a-/AOh14GhNorYBXS94RhQoZfDlpCZQpyZF7VKfQ8Jra6kU3hsvY5q8QtEXe0YoxTQJvd1t1cP1TXf5nWjp_MDg5d5FMld-Hj2HMEuM2YeoPkELBH72cY5HI5KxSIPGKGGuU1V51FJvnroVy4ykg0yIegxtYNk3cHx0uLYcThENRex52QQBTlJhndcejpvKCPWMfJrNgsvrmWB3gDUZcrsiJFsoTpRrI8ysAM8-9FVE4h92p_i18-H1zkAkjFpxvV8JKuEDDN6OriReItkoasRPv9NVKARyG4apWuwodPnPpRMb7ZvJeB-52DXZuzsN56MQcxG_lQibwSGftaYEs-S8-2b_9cJwsSDPv_NWcqwRIxgeB8TDntdpGhEm_PXVXGhNLQ8RnXZfqEvU_K75bpr_H1dZWtWwbjDqQqqxCNqvwvHk7CI3DSduKrG0hIkm6frSrpuGteYuguRJ2ZAd4PfaVWwvKKT94i4EZi8J_9uVe1Lbw61ezsqr7R4y9lsDkkP4-t-1D3amrQr3hONmDDqvwTnAkkWMdUqPNhc4iKbh29CStMZkIo-F4sNJ6rfisD7xaEvQvQWHgpLShqHUl8qeYe6Oq3VORNzCSsmAt7LyUDMg9XQCDSgdzCw2Rv6UFvG0V22Np4Jk0WoI85QzgvCjjfkaIME0B4fEt_s8EH6jhx2d1kQvWY3i6xxcTB9TwHSIBvP0Sv0aRGSF_e9_SpKjSwRvCfin4UEsKvKfJC1XjMmyaGGsuyz1Vzfok4YgQZP-gNzi-HnN1Q=s64",
      "userId": "04384401167989785014"
     },
     "user_tz": 180
    },
    "id": "G_YZEZPUyhJ9",
    "outputId": "accdca08-3f6b-48f1-b9f6-578a07bdecc9"
   },
   "outputs": [
    {
     "data": {
      "text/plain": [
       "0.2847944737634833"
      ]
     },
     "execution_count": 81,
     "metadata": {},
     "output_type": "execute_result"
    }
   ],
   "source": [
    "# Mean Absolute Error\n",
    "np.mean(np.abs(y_pred - Y_teste.values))"
   ]
  },
  {
   "cell_type": "code",
   "execution_count": 82,
   "metadata": {
    "colab": {
     "base_uri": "https://localhost:8080/"
    },
    "executionInfo": {
     "elapsed": 707,
     "status": "ok",
     "timestamp": 1615483311883,
     "user": {
      "displayName": "Sara Malvar",
      "photoUrl": "https://lh3.googleusercontent.com/a-/AOh14GgxTkSI2iE_GXu9t05RJ3OjnDFBKADlycq_jvhc=s64",
      "userId": "12181001413475496115"
     },
     "user_tz": 180
    },
    "id": "-d1AcRE3zcjH",
    "outputId": "293066c0-6114-42a1-d9e3-7cbf3f20d73f"
   },
   "outputs": [
    {
     "data": {
      "text/plain": [
       "0.723979548063019"
      ]
     },
     "execution_count": 82,
     "metadata": {},
     "output_type": "execute_result"
    }
   ],
   "source": [
    "# R2 Score\n",
    "from sklearn.metrics import r2_score\n",
    "r2_score(Y_teste, y_pred)"
   ]
  },
  {
   "cell_type": "markdown",
   "metadata": {
    "id": "33qA7PaX1egL"
   },
   "source": [
    "## 3. Triagem com Outros Modelos"
   ]
  },
  {
   "cell_type": "code",
   "execution_count": 83,
   "metadata": {
    "colab": {
     "base_uri": "https://localhost:8080/"
    },
    "executionInfo": {
     "elapsed": 795,
     "status": "ok",
     "timestamp": 1608244495906,
     "user": {
      "displayName": "Fernando Wittmann",
      "photoUrl": "https://lh3.googleusercontent.com/a-/AOh14GhNorYBXS94RhQoZfDlpCZQpyZF7VKfQ8Jra6kU3hsvY5q8QtEXe0YoxTQJvd1t1cP1TXf5nWjp_MDg5d5FMld-Hj2HMEuM2YeoPkELBH72cY5HI5KxSIPGKGGuU1V51FJvnroVy4ykg0yIegxtYNk3cHx0uLYcThENRex52QQBTlJhndcejpvKCPWMfJrNgsvrmWB3gDUZcrsiJFsoTpRrI8ysAM8-9FVE4h92p_i18-H1zkAkjFpxvV8JKuEDDN6OriReItkoasRPv9NVKARyG4apWuwodPnPpRMb7ZvJeB-52DXZuzsN56MQcxG_lQibwSGftaYEs-S8-2b_9cJwsSDPv_NWcqwRIxgeB8TDntdpGhEm_PXVXGhNLQ8RnXZfqEvU_K75bpr_H1dZWtWwbjDqQqqxCNqvwvHk7CI3DSduKrG0hIkm6frSrpuGteYuguRJ2ZAd4PfaVWwvKKT94i4EZi8J_9uVe1Lbw61ezsqr7R4y9lsDkkP4-t-1D3amrQr3hONmDDqvwTnAkkWMdUqPNhc4iKbh29CStMZkIo-F4sNJ6rfisD7xaEvQvQWHgpLShqHUl8qeYe6Oq3VORNzCSsmAt7LyUDMg9XQCDSgdzCw2Rv6UFvG0V22Np4Jk0WoI85QzgvCjjfkaIME0B4fEt_s8EH6jhx2d1kQvWY3i6xxcTB9TwHSIBvP0Sv0aRGSF_e9_SpKjSwRvCfin4UEsKvKfJC1XjMmyaGGsuyz1Vzfok4YgQZP-gNzi-HnN1Q=s64",
      "userId": "04384401167989785014"
     },
     "user_tz": 180
    },
    "id": "FuZbmao8x68i",
    "outputId": "50973549-b647-471e-aef5-c5f3e58f9e05"
   },
   "outputs": [
    {
     "data": {
      "text/plain": [
       "0.6571808223214645"
      ]
     },
     "execution_count": 83,
     "metadata": {},
     "output_type": "execute_result"
    }
   ],
   "source": [
    "from sklearn.linear_model import LinearRegression\n",
    "reg = LinearRegression()\n",
    "reg.fit(X_treino, Y_treino)\n",
    "\n",
    "reg.score(X_teste, Y_teste)"
   ]
  },
  {
   "cell_type": "code",
   "execution_count": 84,
   "metadata": {
    "colab": {
     "base_uri": "https://localhost:8080/"
    },
    "executionInfo": {
     "elapsed": 2176,
     "status": "ok",
     "timestamp": 1608244855754,
     "user": {
      "displayName": "Fernando Wittmann",
      "photoUrl": "https://lh3.googleusercontent.com/a-/AOh14GhNorYBXS94RhQoZfDlpCZQpyZF7VKfQ8Jra6kU3hsvY5q8QtEXe0YoxTQJvd1t1cP1TXf5nWjp_MDg5d5FMld-Hj2HMEuM2YeoPkELBH72cY5HI5KxSIPGKGGuU1V51FJvnroVy4ykg0yIegxtYNk3cHx0uLYcThENRex52QQBTlJhndcejpvKCPWMfJrNgsvrmWB3gDUZcrsiJFsoTpRrI8ysAM8-9FVE4h92p_i18-H1zkAkjFpxvV8JKuEDDN6OriReItkoasRPv9NVKARyG4apWuwodPnPpRMb7ZvJeB-52DXZuzsN56MQcxG_lQibwSGftaYEs-S8-2b_9cJwsSDPv_NWcqwRIxgeB8TDntdpGhEm_PXVXGhNLQ8RnXZfqEvU_K75bpr_H1dZWtWwbjDqQqqxCNqvwvHk7CI3DSduKrG0hIkm6frSrpuGteYuguRJ2ZAd4PfaVWwvKKT94i4EZi8J_9uVe1Lbw61ezsqr7R4y9lsDkkP4-t-1D3amrQr3hONmDDqvwTnAkkWMdUqPNhc4iKbh29CStMZkIo-F4sNJ6rfisD7xaEvQvQWHgpLShqHUl8qeYe6Oq3VORNzCSsmAt7LyUDMg9XQCDSgdzCw2Rv6UFvG0V22Np4Jk0WoI85QzgvCjjfkaIME0B4fEt_s8EH6jhx2d1kQvWY3i6xxcTB9TwHSIBvP0Sv0aRGSF_e9_SpKjSwRvCfin4UEsKvKfJC1XjMmyaGGsuyz1Vzfok4YgQZP-gNzi-HnN1Q=s64",
      "userId": "04384401167989785014"
     },
     "user_tz": 180
    },
    "id": "6UfiC4Kc14Cd",
    "outputId": "550a1656-590b-4829-8ce2-bf85f4aed941"
   },
   "outputs": [
    {
     "name": "stdout",
     "output_type": "stream",
     "text": [
      "Treinando DecisionTreeRegressor\n",
      "Train score 0.9887588505996993\n",
      "Test score 0.5816055800004316\n",
      "================================================================================\n",
      "Treinando RandomForestRegressor\n",
      "Train score 0.9559676349755833\n",
      "Test score 0.7512685495870131\n",
      "================================================================================\n",
      "Treinando MLPRegressor\n",
      "Train score 0.6539597377631586\n",
      "Test score 0.7078760211647153\n",
      "================================================================================\n",
      "Treinando XGBRegressor\n",
      "Train score 0.9666795696122312\n",
      "Test score 0.7873534333758393\n",
      "================================================================================\n"
     ]
    }
   ],
   "source": [
    "from sklearn.tree import DecisionTreeRegressor\n",
    "from sklearn.ensemble import RandomForestRegressor\n",
    "from sklearn.neural_network import MLPRegressor\n",
    "from xgboost import XGBRegressor\n",
    "\n",
    "regressor_list = [DecisionTreeRegressor(),\n",
    "                  RandomForestRegressor(),\n",
    "                  MLPRegressor(),\n",
    "                  XGBRegressor(),\n",
    "                  ]\n",
    "\n",
    "for reg in regressor_list:\n",
    "  print('Treinando', reg.__class__.__name__)\n",
    "  reg.fit(X_treino, Y_treino)\n",
    "  train_score = reg.score(X_treino, Y_treino)\n",
    "  test_score = reg.score(X_teste, Y_teste)\n",
    "  print('Train score', train_score)\n",
    "  print('Test score', test_score)\n",
    "  print('='*80)"
   ]
  },
  {
   "cell_type": "code",
   "execution_count": 85,
   "metadata": {
    "colab": {
     "base_uri": "https://localhost:8080/"
    },
    "executionInfo": {
     "elapsed": 4937,
     "status": "ok",
     "timestamp": 1608245316015,
     "user": {
      "displayName": "Fernando Wittmann",
      "photoUrl": "https://lh3.googleusercontent.com/a-/AOh14GhNorYBXS94RhQoZfDlpCZQpyZF7VKfQ8Jra6kU3hsvY5q8QtEXe0YoxTQJvd1t1cP1TXf5nWjp_MDg5d5FMld-Hj2HMEuM2YeoPkELBH72cY5HI5KxSIPGKGGuU1V51FJvnroVy4ykg0yIegxtYNk3cHx0uLYcThENRex52QQBTlJhndcejpvKCPWMfJrNgsvrmWB3gDUZcrsiJFsoTpRrI8ysAM8-9FVE4h92p_i18-H1zkAkjFpxvV8JKuEDDN6OriReItkoasRPv9NVKARyG4apWuwodPnPpRMb7ZvJeB-52DXZuzsN56MQcxG_lQibwSGftaYEs-S8-2b_9cJwsSDPv_NWcqwRIxgeB8TDntdpGhEm_PXVXGhNLQ8RnXZfqEvU_K75bpr_H1dZWtWwbjDqQqqxCNqvwvHk7CI3DSduKrG0hIkm6frSrpuGteYuguRJ2ZAd4PfaVWwvKKT94i4EZi8J_9uVe1Lbw61ezsqr7R4y9lsDkkP4-t-1D3amrQr3hONmDDqvwTnAkkWMdUqPNhc4iKbh29CStMZkIo-F4sNJ6rfisD7xaEvQvQWHgpLShqHUl8qeYe6Oq3VORNzCSsmAt7LyUDMg9XQCDSgdzCw2Rv6UFvG0V22Np4Jk0WoI85QzgvCjjfkaIME0B4fEt_s8EH6jhx2d1kQvWY3i6xxcTB9TwHSIBvP0Sv0aRGSF_e9_SpKjSwRvCfin4UEsKvKfJC1XjMmyaGGsuyz1Vzfok4YgQZP-gNzi-HnN1Q=s64",
      "userId": "04384401167989785014"
     },
     "user_tz": 180
    },
    "id": "crCgGxhr37gG",
    "outputId": "fd22db2a-1109-4999-9870-baa1db925107"
   },
   "outputs": [
    {
     "name": "stdout",
     "output_type": "stream",
     "text": [
      "Treinando DecisionTreeRegressor\n",
      "Train score 0.9887588505996993\n",
      "Validation score 0.5499362894066727\n",
      "Test score 0.5943265409680605\n",
      "================================================================================\n",
      "Treinando RandomForestRegressor\n",
      "Train score 0.9539570221618643\n",
      "Validation score 0.7122387923319105\n",
      "Test score 0.7565146346131076\n",
      "================================================================================\n",
      "Treinando MLPRegressor\n",
      "Train score 0.5997817956170197\n",
      "Validation score 0.5546493243144743\n",
      "Test score 0.6739920705374194\n",
      "================================================================================\n",
      "Treinando XGBRegressor\n",
      "Train score 0.9666795696122312\n",
      "Validation score 0.7206217975054097\n",
      "Test score 0.7873534333758393\n",
      "================================================================================\n"
     ]
    }
   ],
   "source": [
    "# Repetindo com validação cruzada\n",
    "import warnings\n",
    "warnings.filterwarnings(\"ignore\")\n",
    "from sklearn.tree import DecisionTreeRegressor\n",
    "from sklearn.ensemble import RandomForestRegressor\n",
    "from sklearn.neural_network import MLPRegressor\n",
    "from xgboost import XGBRegressor\n",
    "from sklearn.model_selection import cross_val_score\n",
    "\n",
    "\n",
    "regressor_list = [DecisionTreeRegressor(),\n",
    "                  RandomForestRegressor(),\n",
    "                  MLPRegressor(),\n",
    "                  XGBRegressor(),\n",
    "                  ]\n",
    "\n",
    "for reg in regressor_list:\n",
    "  print('Treinando', reg.__class__.__name__)\n",
    "  reg.fit(X_treino, Y_treino)\n",
    "  train_score = reg.score(X_treino, Y_treino)\n",
    "  val_score = cross_val_score(reg, X_treino, Y_treino, cv=3)\n",
    "  test_score = reg.score(X_teste, Y_teste)\n",
    "  print('Train score', train_score)\n",
    "  print('Validation score', val_score.mean())\n",
    "  print('Test score', test_score)\n",
    "  print('='*80)"
   ]
  },
  {
   "cell_type": "code",
   "execution_count": 86,
   "metadata": {
    "colab": {
     "base_uri": "https://localhost:8080/"
    },
    "executionInfo": {
     "elapsed": 11540,
     "status": "ok",
     "timestamp": 1608245887167,
     "user": {
      "displayName": "Fernando Wittmann",
      "photoUrl": "https://lh3.googleusercontent.com/a-/AOh14GhNorYBXS94RhQoZfDlpCZQpyZF7VKfQ8Jra6kU3hsvY5q8QtEXe0YoxTQJvd1t1cP1TXf5nWjp_MDg5d5FMld-Hj2HMEuM2YeoPkELBH72cY5HI5KxSIPGKGGuU1V51FJvnroVy4ykg0yIegxtYNk3cHx0uLYcThENRex52QQBTlJhndcejpvKCPWMfJrNgsvrmWB3gDUZcrsiJFsoTpRrI8ysAM8-9FVE4h92p_i18-H1zkAkjFpxvV8JKuEDDN6OriReItkoasRPv9NVKARyG4apWuwodPnPpRMb7ZvJeB-52DXZuzsN56MQcxG_lQibwSGftaYEs-S8-2b_9cJwsSDPv_NWcqwRIxgeB8TDntdpGhEm_PXVXGhNLQ8RnXZfqEvU_K75bpr_H1dZWtWwbjDqQqqxCNqvwvHk7CI3DSduKrG0hIkm6frSrpuGteYuguRJ2ZAd4PfaVWwvKKT94i4EZi8J_9uVe1Lbw61ezsqr7R4y9lsDkkP4-t-1D3amrQr3hONmDDqvwTnAkkWMdUqPNhc4iKbh29CStMZkIo-F4sNJ6rfisD7xaEvQvQWHgpLShqHUl8qeYe6Oq3VORNzCSsmAt7LyUDMg9XQCDSgdzCw2Rv6UFvG0V22Np4Jk0WoI85QzgvCjjfkaIME0B4fEt_s8EH6jhx2d1kQvWY3i6xxcTB9TwHSIBvP0Sv0aRGSF_e9_SpKjSwRvCfin4UEsKvKfJC1XjMmyaGGsuyz1Vzfok4YgQZP-gNzi-HnN1Q=s64",
      "userId": "04384401167989785014"
     },
     "user_tz": 180
    },
    "id": "Gko6R35j4z0P",
    "outputId": "925bb5f7-bb3f-4755-efe1-a0898386333e"
   },
   "outputs": [
    {
     "data": {
      "text/plain": [
       "GridSearchCV(cv=3,\n",
       "             estimator=XGBRegressor(base_score=None, booster=None,\n",
       "                                    colsample_bylevel=None,\n",
       "                                    colsample_bynode=None,\n",
       "                                    colsample_bytree=None, gamma=None,\n",
       "                                    gpu_id=None, importance_type='gain',\n",
       "                                    interaction_constraints=None,\n",
       "                                    learning_rate=None, max_delta_step=None,\n",
       "                                    max_depth=1, min_child_weight=None,\n",
       "                                    missing=nan, monotone_constraints=None,\n",
       "                                    n_estimators=100, n_jobs=None,\n",
       "                                    num_parallel_tree=None, random_state=None,\n",
       "                                    reg_alpha=None, reg_lambda=None,\n",
       "                                    scale_pos_weight=None, subsample=None,\n",
       "                                    tree_method=None, validate_parameters=None,\n",
       "                                    verbosity=None),\n",
       "             n_jobs=-1,\n",
       "             param_grid=[{'learning_rate': [0.1, 0.2, 0.3, 0.4],\n",
       "                          'max_depth': [3, 4, 5, 6, 7, 8],\n",
       "                          'n_estimators': [50, 100, 200]}],\n",
       "             scoring='r2')"
      ]
     },
     "execution_count": 86,
     "metadata": {},
     "output_type": "execute_result"
    }
   ],
   "source": [
    "# TODO: Calibração de modelo\n",
    "from sklearn.model_selection import GridSearchCV\n",
    "parameters=[{'learning_rate':[0.1,0.2,0.3,0.4],\n",
    "             'max_depth':[3,4,5,6,7,8],\n",
    "             'n_estimators':[50, 100, 200]}]\n",
    "            \n",
    "xgb = XGBRegressor(n_estimators=100, max_depth=1)\n",
    "gs = GridSearchCV(xgb,parameters,scoring='r2',n_jobs=-1,cv=3)\n",
    "gs.fit(X_treino, Y_treino)"
   ]
  },
  {
   "cell_type": "code",
   "execution_count": 87,
   "metadata": {
    "colab": {
     "base_uri": "https://localhost:8080/"
    },
    "executionInfo": {
     "elapsed": 776,
     "status": "ok",
     "timestamp": 1608245893091,
     "user": {
      "displayName": "Fernando Wittmann",
      "photoUrl": "https://lh3.googleusercontent.com/a-/AOh14GhNorYBXS94RhQoZfDlpCZQpyZF7VKfQ8Jra6kU3hsvY5q8QtEXe0YoxTQJvd1t1cP1TXf5nWjp_MDg5d5FMld-Hj2HMEuM2YeoPkELBH72cY5HI5KxSIPGKGGuU1V51FJvnroVy4ykg0yIegxtYNk3cHx0uLYcThENRex52QQBTlJhndcejpvKCPWMfJrNgsvrmWB3gDUZcrsiJFsoTpRrI8ysAM8-9FVE4h92p_i18-H1zkAkjFpxvV8JKuEDDN6OriReItkoasRPv9NVKARyG4apWuwodPnPpRMb7ZvJeB-52DXZuzsN56MQcxG_lQibwSGftaYEs-S8-2b_9cJwsSDPv_NWcqwRIxgeB8TDntdpGhEm_PXVXGhNLQ8RnXZfqEvU_K75bpr_H1dZWtWwbjDqQqqxCNqvwvHk7CI3DSduKrG0hIkm6frSrpuGteYuguRJ2ZAd4PfaVWwvKKT94i4EZi8J_9uVe1Lbw61ezsqr7R4y9lsDkkP4-t-1D3amrQr3hONmDDqvwTnAkkWMdUqPNhc4iKbh29CStMZkIo-F4sNJ6rfisD7xaEvQvQWHgpLShqHUl8qeYe6Oq3VORNzCSsmAt7LyUDMg9XQCDSgdzCw2Rv6UFvG0V22Np4Jk0WoI85QzgvCjjfkaIME0B4fEt_s8EH6jhx2d1kQvWY3i6xxcTB9TwHSIBvP0Sv0aRGSF_e9_SpKjSwRvCfin4UEsKvKfJC1XjMmyaGGsuyz1Vzfok4YgQZP-gNzi-HnN1Q=s64",
      "userId": "04384401167989785014"
     },
     "user_tz": 180
    },
    "id": "xpBPXnlO7J0w",
    "outputId": "6372eb49-380d-43e9-b9b6-3c741c5dc4c8"
   },
   "outputs": [
    {
     "data": {
      "text/plain": [
       "{'learning_rate': 0.1, 'max_depth': 3, 'n_estimators': 200}"
      ]
     },
     "execution_count": 87,
     "metadata": {},
     "output_type": "execute_result"
    }
   ],
   "source": [
    "gs.best_params_"
   ]
  },
  {
   "cell_type": "code",
   "execution_count": 88,
   "metadata": {
    "id": "V4Ftl8qW7Ppe"
   },
   "outputs": [],
   "source": [
    "reg = gs.best_estimator_"
   ]
  },
  {
   "cell_type": "code",
   "execution_count": 89,
   "metadata": {
    "colab": {
     "base_uri": "https://localhost:8080/"
    },
    "executionInfo": {
     "elapsed": 721,
     "status": "ok",
     "timestamp": 1608245915683,
     "user": {
      "displayName": "Fernando Wittmann",
      "photoUrl": "https://lh3.googleusercontent.com/a-/AOh14GhNorYBXS94RhQoZfDlpCZQpyZF7VKfQ8Jra6kU3hsvY5q8QtEXe0YoxTQJvd1t1cP1TXf5nWjp_MDg5d5FMld-Hj2HMEuM2YeoPkELBH72cY5HI5KxSIPGKGGuU1V51FJvnroVy4ykg0yIegxtYNk3cHx0uLYcThENRex52QQBTlJhndcejpvKCPWMfJrNgsvrmWB3gDUZcrsiJFsoTpRrI8ysAM8-9FVE4h92p_i18-H1zkAkjFpxvV8JKuEDDN6OriReItkoasRPv9NVKARyG4apWuwodPnPpRMb7ZvJeB-52DXZuzsN56MQcxG_lQibwSGftaYEs-S8-2b_9cJwsSDPv_NWcqwRIxgeB8TDntdpGhEm_PXVXGhNLQ8RnXZfqEvU_K75bpr_H1dZWtWwbjDqQqqxCNqvwvHk7CI3DSduKrG0hIkm6frSrpuGteYuguRJ2ZAd4PfaVWwvKKT94i4EZi8J_9uVe1Lbw61ezsqr7R4y9lsDkkP4-t-1D3amrQr3hONmDDqvwTnAkkWMdUqPNhc4iKbh29CStMZkIo-F4sNJ6rfisD7xaEvQvQWHgpLShqHUl8qeYe6Oq3VORNzCSsmAt7LyUDMg9XQCDSgdzCw2Rv6UFvG0V22Np4Jk0WoI85QzgvCjjfkaIME0B4fEt_s8EH6jhx2d1kQvWY3i6xxcTB9TwHSIBvP0Sv0aRGSF_e9_SpKjSwRvCfin4UEsKvKfJC1XjMmyaGGsuyz1Vzfok4YgQZP-gNzi-HnN1Q=s64",
      "userId": "04384401167989785014"
     },
     "user_tz": 180
    },
    "id": "OZQ49V27556p",
    "outputId": "e837c1f4-78d7-4390-b64d-95b8417ad548"
   },
   "outputs": [
    {
     "name": "stdout",
     "output_type": "stream",
     "text": [
      "Train score 0.835218497363176\n",
      "Validation score 0.7533853089229039\n",
      "Test score 0.7902000765926479\n"
     ]
    }
   ],
   "source": [
    "train_score = reg.score(X_treino, Y_treino)\n",
    "val_score = cross_val_score(reg, X_treino, Y_treino, cv=3)\n",
    "test_score = reg.score(X_teste, Y_teste)\n",
    "print('Train score', train_score)\n",
    "print('Validation score', val_score.mean())\n",
    "print('Test score', test_score)"
   ]
  },
  {
   "cell_type": "code",
   "execution_count": 91,
   "metadata": {},
   "outputs": [
    {
     "data": {
      "text/html": [
       "<div>\n",
       "<style scoped>\n",
       "    .dataframe tbody tr th:only-of-type {\n",
       "        vertical-align: middle;\n",
       "    }\n",
       "\n",
       "    .dataframe tbody tr th {\n",
       "        vertical-align: top;\n",
       "    }\n",
       "\n",
       "    .dataframe thead th {\n",
       "        text-align: right;\n",
       "    }\n",
       "</style>\n",
       "<table border=\"1\" class=\"dataframe\">\n",
       "  <thead>\n",
       "    <tr style=\"text-align: right;\">\n",
       "      <th></th>\n",
       "      <th>bairro</th>\n",
       "      <th>zona</th>\n",
       "      <th>area</th>\n",
       "      <th>quartos</th>\n",
       "    </tr>\n",
       "  </thead>\n",
       "  <tbody>\n",
       "    <tr>\n",
       "      <th>1080</th>\n",
       "      <td>62</td>\n",
       "      <td>4</td>\n",
       "      <td>4.025352</td>\n",
       "      <td>1.0</td>\n",
       "    </tr>\n",
       "    <tr>\n",
       "      <th>804</th>\n",
       "      <td>74</td>\n",
       "      <td>1</td>\n",
       "      <td>3.931826</td>\n",
       "      <td>1.0</td>\n",
       "    </tr>\n",
       "    <tr>\n",
       "      <th>843</th>\n",
       "      <td>59</td>\n",
       "      <td>1</td>\n",
       "      <td>4.025352</td>\n",
       "      <td>1.0</td>\n",
       "    </tr>\n",
       "    <tr>\n",
       "      <th>513</th>\n",
       "      <td>113</td>\n",
       "      <td>1</td>\n",
       "      <td>5.198497</td>\n",
       "      <td>3.0</td>\n",
       "    </tr>\n",
       "    <tr>\n",
       "      <th>1642</th>\n",
       "      <td>20</td>\n",
       "      <td>2</td>\n",
       "      <td>4.025352</td>\n",
       "      <td>1.0</td>\n",
       "    </tr>\n",
       "    <tr>\n",
       "      <th>...</th>\n",
       "      <td>...</td>\n",
       "      <td>...</td>\n",
       "      <td>...</td>\n",
       "      <td>...</td>\n",
       "    </tr>\n",
       "    <tr>\n",
       "      <th>1717</th>\n",
       "      <td>98</td>\n",
       "      <td>2</td>\n",
       "      <td>3.931826</td>\n",
       "      <td>1.0</td>\n",
       "    </tr>\n",
       "    <tr>\n",
       "      <th>1775</th>\n",
       "      <td>54</td>\n",
       "      <td>2</td>\n",
       "      <td>5.252273</td>\n",
       "      <td>3.0</td>\n",
       "    </tr>\n",
       "    <tr>\n",
       "      <th>250</th>\n",
       "      <td>31</td>\n",
       "      <td>3</td>\n",
       "      <td>4.867534</td>\n",
       "      <td>3.0</td>\n",
       "    </tr>\n",
       "    <tr>\n",
       "      <th>1153</th>\n",
       "      <td>105</td>\n",
       "      <td>4</td>\n",
       "      <td>3.713572</td>\n",
       "      <td>1.0</td>\n",
       "    </tr>\n",
       "    <tr>\n",
       "      <th>1691</th>\n",
       "      <td>55</td>\n",
       "      <td>2</td>\n",
       "      <td>3.713572</td>\n",
       "      <td>1.0</td>\n",
       "    </tr>\n",
       "  </tbody>\n",
       "</table>\n",
       "<p>448 rows × 4 columns</p>\n",
       "</div>"
      ],
      "text/plain": [
       "      bairro  zona      area  quartos\n",
       "1080      62     4  4.025352      1.0\n",
       "804       74     1  3.931826      1.0\n",
       "843       59     1  4.025352      1.0\n",
       "513      113     1  5.198497      3.0\n",
       "1642      20     2  4.025352      1.0\n",
       "...      ...   ...       ...      ...\n",
       "1717      98     2  3.931826      1.0\n",
       "1775      54     2  5.252273      3.0\n",
       "250       31     3  4.867534      3.0\n",
       "1153     105     4  3.713572      1.0\n",
       "1691      55     2  3.713572      1.0\n",
       "\n",
       "[448 rows x 4 columns]"
      ]
     },
     "execution_count": 91,
     "metadata": {},
     "output_type": "execute_result"
    }
   ],
   "source": [
    "X_teste"
   ]
  },
  {
   "cell_type": "code",
   "execution_count": 101,
   "metadata": {},
   "outputs": [
    {
     "data": {
      "text/plain": [
       "651     6.478510\n",
       "652     6.552508\n",
       "837     6.552508\n",
       "1383    6.552508\n",
       "839     6.552508\n",
       "          ...   \n",
       "1052    9.680406\n",
       "926     9.741027\n",
       "1011    9.770013\n",
       "1244    9.798183\n",
       "1051    9.798183\n",
       "Name: aluguel, Length: 448, dtype: float64"
      ]
     },
     "execution_count": 101,
     "metadata": {},
     "output_type": "execute_result"
    }
   ],
   "source": [
    "Y_teste.sort_values()"
   ]
  },
  {
   "cell_type": "code",
   "execution_count": 97,
   "metadata": {},
   "outputs": [
    {
     "data": {
      "text/plain": [
       "Index(['bairro', 'zona', 'area', 'quartos'], dtype='object')"
      ]
     },
     "execution_count": 97,
     "metadata": {},
     "output_type": "execute_result"
    }
   ],
   "source": [
    "X_teste.columns"
   ]
  },
  {
   "cell_type": "code",
   "execution_count": 99,
   "metadata": {},
   "outputs": [
    {
     "data": {
      "text/plain": [
       "array([7.153167], dtype=float32)"
      ]
     },
     "execution_count": 99,
     "metadata": {},
     "output_type": "execute_result"
    }
   ],
   "source": [
    "colunas = ['bairro', 'zona', 'area', 'quartos']\n",
    "dados_entrada = [[62],[4],[4.025352],[1.0]]\n",
    "dados_entrada = dict(zip(colunas, dados_entrada))\n",
    "entrada = pd.DataFrame(dados_entrada)\n",
    "\n",
    "reg.predict(entrada)"
   ]
  },
  {
   "cell_type": "code",
   "execution_count": 109,
   "metadata": {
    "id": "P21NNI2n7S0B"
   },
   "outputs": [],
   "source": [
    "import pickle\n",
    "# now you can save it to a file\n",
    "with open('xgboost_regression.pkl', 'wb') as f:\n",
    "    pickle.dump(reg, f)\n",
    "\n",
    "## and later you can load it\n",
    "#with open('filename.pkl', 'rb') as f:\n",
    "#    clf = pickle.load(f)"
   ]
  },
  {
   "cell_type": "code",
   "execution_count": null,
   "metadata": {
    "id": "QDUGU_boJtTe"
   },
   "outputs": [],
   "source": []
  }
 ],
 "metadata": {
  "colab": {
   "collapsed_sections": [],
   "name": "aula-12-triagem-ML.ipynb",
   "provenance": []
  },
  "kernelspec": {
   "display_name": "Python 3",
   "language": "python",
   "name": "python3"
  },
  "language_info": {
   "codemirror_mode": {
    "name": "ipython",
    "version": 3
   },
   "file_extension": ".py",
   "mimetype": "text/x-python",
   "name": "python",
   "nbconvert_exporter": "python",
   "pygments_lexer": "ipython3",
   "version": "3.8.3"
  }
 },
 "nbformat": 4,
 "nbformat_minor": 1
}
